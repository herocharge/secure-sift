{
 "cells": [
  {
   "cell_type": "code",
   "execution_count": 1,
   "metadata": {},
   "outputs": [
    {
     "name": "stdout",
     "output_type": "stream",
     "text": [
      "Requirement already satisfied: tenseal in /home/ishwar.b/miniconda3/envs/precog_know_inf/lib/python3.12/site-packages (0.3.15)\n"
     ]
    }
   ],
   "source": [
    "!pip install tenseal"
   ]
  },
  {
   "cell_type": "code",
   "execution_count": 2,
   "metadata": {},
   "outputs": [],
   "source": [
    "# !pip install opencv-python\n",
    "# ! pip install matplotlib"
   ]
  },
  {
   "cell_type": "code",
   "execution_count": 3,
   "metadata": {},
   "outputs": [],
   "source": [
    "import cv2\n",
    "\n",
    "from secPysift import *\n",
    "\n",
    "IMG_NAME = 'uwu'\n",
    "img1 = cv2.imread('uwu.png', 0)\n",
    "# resize to 20 x 20\n",
    "img1 = cv2.resize(img1, (20, 20))"
   ]
  },
  {
   "cell_type": "code",
   "execution_count": 4,
   "metadata": {},
   "outputs": [
    {
     "data": {
      "text/plain": [
       "(20, 20)"
      ]
     },
     "execution_count": 4,
     "metadata": {},
     "output_type": "execute_result"
    }
   ],
   "source": [
    "img1.shape"
   ]
  },
  {
   "cell_type": "code",
   "execution_count": 5,
   "metadata": {},
   "outputs": [
    {
     "data": {
      "image/png": "[encoded data removed]",
      "text/plain": [
       "<Figure size 640x480 with 1 Axes>"
      ]
     },
     "metadata": {},
     "output_type": "display_data"
    },
    {
     "data": {
      "text/plain": [
       "<Figure size 1000x1000 with 0 Axes>"
      ]
     },
     "metadata": {},
     "output_type": "display_data"
    }
   ],
   "source": [
    "from matplotlib import pyplot as plt\n",
    "def plot_image(img, figure_size=(10, 10)):\n",
    "    plt.imshow(img, cmap='gray')\n",
    "    plt.figure(figsize=figure_size)\n",
    "    plt.show()\n",
    "\n",
    "plot_image(img1)"
   ]
  },
  {
   "cell_type": "code",
   "execution_count": 6,
   "metadata": {},
   "outputs": [
    {
     "data": {
      "text/plain": [
       "(20, 20)"
      ]
     },
     "execution_count": 6,
     "metadata": {},
     "output_type": "execute_result"
    }
   ],
   "source": [
    "img1.shape"
   ]
  },
  {
   "cell_type": "code",
   "execution_count": 7,
   "metadata": {},
   "outputs": [],
   "source": [
    "import numpy as np\n",
    "import tenseal as ts"
   ]
  },
  {
   "cell_type": "code",
   "execution_count": 8,
   "metadata": {},
   "outputs": [],
   "source": [
    "## Encryption Parameters\n",
    "\n",
    "# controls precision of the fractional part\n",
    "bits_scale = 26\n",
    "\n",
    "# Create TenSEAL context\n",
    "context = ts.context(\n",
    "    ts.SCHEME_TYPE.CKKS,\n",
    "    poly_modulus_degree=8192,\n",
    "    coeff_mod_bit_sizes=[31, bits_scale, bits_scale, bits_scale, bits_scale, bits_scale, bits_scale, 31]\n",
    ")\n",
    "\n",
    "# set the scale\n",
    "context.global_scale = pow(2, bits_scale)\n",
    "\n",
    "# galois keys are required to do ciphertext rotations\n",
    "context.generate_galois_keys()\n",
    "\n",
    "secret_key = context.secret_key()\n",
    "context.make_context_public()"
   ]
  },
  {
   "cell_type": "code",
   "execution_count": 9,
   "metadata": {},
   "outputs": [],
   "source": [
    "def enc(image):\n",
    "    enc_img = [[ts.ckks_vector(context=context, vector=[col]) for col in row] for row in image]\n",
    "    enc_img = np.array(enc_img, dtype=ts.CKKSVector)\n",
    "\n",
    "    return enc_img\n"
   ]
  },
  {
   "cell_type": "code",
   "execution_count": 10,
   "metadata": {},
   "outputs": [
    {
     "data": {
      "text/plain": [
       "array([[<tenseal.tensors.ckksvector.CKKSVector object at 0x7fda216ec320>,\n",
       "        <tenseal.tensors.ckksvector.CKKSVector object at 0x7fda21546cc0>,\n",
       "        <tenseal.tensors.ckksvector.CKKSVector object at 0x7fda21508c50>,\n",
       "        <tenseal.tensors.ckksvector.CKKSVector object at 0x7fda217232f0>,\n",
       "        <tenseal.tensors.ckksvector.CKKSVector object at 0x7fda215087d0>,\n",
       "        <tenseal.tensors.ckksvector.CKKSVector object at 0x7fda215082c0>,\n",
       "        <tenseal.tensors.ckksvector.CKKSVector object at 0x7fda21546b10>,\n",
       "        <tenseal.tensors.ckksvector.CKKSVector object at 0x7fda21544680>,\n",
       "        <tenseal.tensors.ckksvector.CKKSVector object at 0x7fda21508230>,\n",
       "        <tenseal.tensors.ckksvector.CKKSVector object at 0x7fda2150b860>,\n",
       "        <tenseal.tensors.ckksvector.CKKSVector object at 0x7fda215085c0>,\n",
       "        <tenseal.tensors.ckksvector.CKKSVector object at 0x7fda21522120>,\n",
       "        <tenseal.tensors.ckksvector.CKKSVector object at 0x7fda21521c70>,\n",
       "        <tenseal.tensors.ckksvector.CKKSVector object at 0x7fda21522690>,\n",
       "        <tenseal.tensors.ckksvector.CKKSVector object at 0x7fda21545310>,\n",
       "        <tenseal.tensors.ckksvector.CKKSVector object at 0x7fda21522ba0>,\n",
       "        <tenseal.tensors.ckksvector.CKKSVector object at 0x7fda217237d0>,\n",
       "        <tenseal.tensors.ckksvector.CKKSVector object at 0x7fda215226c0>,\n",
       "        <tenseal.tensors.ckksvector.CKKSVector object at 0x7fda21523e60>,\n",
       "        <tenseal.tensors.ckksvector.CKKSVector object at 0x7fda21547080>],\n",
       "       [<tenseal.tensors.ckksvector.CKKSVector object at 0x7fda215634d0>,\n",
       "        <tenseal.tensors.ckksvector.CKKSVector object at 0x7fda21563e00>,\n",
       "        <tenseal.tensors.ckksvector.CKKSVector object at 0x7fda21590050>,\n",
       "        <tenseal.tensors.ckksvector.CKKSVector object at 0x7fda22dd0320>,\n",
       "        <tenseal.tensors.ckksvector.CKKSVector object at 0x7fda21590410>,\n",
       "        <tenseal.tensors.ckksvector.CKKSVector object at 0x7fda215304a0>,\n",
       "        <tenseal.tensors.ckksvector.CKKSVector object at 0x7fda21590500>,\n",
       "        <tenseal.tensors.ckksvector.CKKSVector object at 0x7fda215905f0>,\n",
       "        <tenseal.tensors.ckksvector.CKKSVector object at 0x7fda215906e0>,\n",
       "        <tenseal.tensors.ckksvector.CKKSVector object at 0x7fda215455e0>,\n",
       "        <tenseal.tensors.ckksvector.CKKSVector object at 0x7fda215908f0>,\n",
       "        <tenseal.tensors.ckksvector.CKKSVector object at 0x7fda21530a10>,\n",
       "        <tenseal.tensors.ckksvector.CKKSVector object at 0x7fda21590ad0>,\n",
       "        <tenseal.tensors.ckksvector.CKKSVector object at 0x7fda21590bc0>,\n",
       "        <tenseal.tensors.ckksvector.CKKSVector object at 0x7fda21590d10>,\n",
       "        <tenseal.tensors.ckksvector.CKKSVector object at 0x7fda21590e00>,\n",
       "        <tenseal.tensors.ckksvector.CKKSVector object at 0x7fda21520e60>,\n",
       "        <tenseal.tensors.ckksvector.CKKSVector object at 0x7fda21590f50>,\n",
       "        <tenseal.tensors.ckksvector.CKKSVector object at 0x7fda21909010>,\n",
       "        <tenseal.tensors.ckksvector.CKKSVector object at 0x7fda21591130>],\n",
       "       [<tenseal.tensors.ckksvector.CKKSVector object at 0x7fda21591220>,\n",
       "        <tenseal.tensors.ckksvector.CKKSVector object at 0x7fda215912e0>,\n",
       "        <tenseal.tensors.ckksvector.CKKSVector object at 0x7fda21591340>,\n",
       "        <tenseal.tensors.ckksvector.CKKSVector object at 0x7fda215913d0>,\n",
       "        <tenseal.tensors.ckksvector.CKKSVector object at 0x7fda21591460>,\n",
       "        <tenseal.tensors.ckksvector.CKKSVector object at 0x7fda215914f0>,\n",
       "        <tenseal.tensors.ckksvector.CKKSVector object at 0x7fda21591190>,\n",
       "        <tenseal.tensors.ckksvector.CKKSVector object at 0x7fda215915e0>,\n",
       "        <tenseal.tensors.ckksvector.CKKSVector object at 0x7fda215916d0>,\n",
       "        <tenseal.tensors.ckksvector.CKKSVector object at 0x7fda21591760>,\n",
       "        <tenseal.tensors.ckksvector.CKKSVector object at 0x7fda21591850>,\n",
       "        <tenseal.tensors.ckksvector.CKKSVector object at 0x7fda21591940>,\n",
       "        <tenseal.tensors.ckksvector.CKKSVector object at 0x7fda21591a30>,\n",
       "        <tenseal.tensors.ckksvector.CKKSVector object at 0x7fda21591a90>,\n",
       "        <tenseal.tensors.ckksvector.CKKSVector object at 0x7fda21591af0>,\n",
       "        <tenseal.tensors.ckksvector.CKKSVector object at 0x7fda21591bb0>,\n",
       "        <tenseal.tensors.ckksvector.CKKSVector object at 0x7fda21591c70>,\n",
       "        <tenseal.tensors.ckksvector.CKKSVector object at 0x7fda21591d00>,\n",
       "        <tenseal.tensors.ckksvector.CKKSVector object at 0x7fda215477a0>,\n",
       "        <tenseal.tensors.ckksvector.CKKSVector object at 0x7fda21591e80>],\n",
       "       [<tenseal.tensors.ckksvector.CKKSVector object at 0x7fda21591f70>,\n",
       "        <tenseal.tensors.ckksvector.CKKSVector object at 0x7fda21592030>,\n",
       "        <tenseal.tensors.ckksvector.CKKSVector object at 0x7fda215220f0>,\n",
       "        <tenseal.tensors.ckksvector.CKKSVector object at 0x7fda21592180>,\n",
       "        <tenseal.tensors.ckksvector.CKKSVector object at 0x7fda21592270>,\n",
       "        <tenseal.tensors.ckksvector.CKKSVector object at 0x7fda21592330>,\n",
       "        <tenseal.tensors.ckksvector.CKKSVector object at 0x7fda21544980>,\n",
       "        <tenseal.tensors.ckksvector.CKKSVector object at 0x7fda215923f0>,\n",
       "        <tenseal.tensors.ckksvector.CKKSVector object at 0x7fda215924e0>,\n",
       "        <tenseal.tensors.ckksvector.CKKSVector object at 0x7fda215225a0>,\n",
       "        <tenseal.tensors.ckksvector.CKKSVector object at 0x7fda21522600>,\n",
       "        <tenseal.tensors.ckksvector.CKKSVector object at 0x7fda215926f0>,\n",
       "        <tenseal.tensors.ckksvector.CKKSVector object at 0x7fda21530470>,\n",
       "        <tenseal.tensors.ckksvector.CKKSVector object at 0x7fda21592840>,\n",
       "        <tenseal.tensors.ckksvector.CKKSVector object at 0x7fda21531100>,\n",
       "        <tenseal.tensors.ckksvector.CKKSVector object at 0x7fda215929c0>,\n",
       "        <tenseal.tensors.ckksvector.CKKSVector object at 0x7fda21522a20>,\n",
       "        <tenseal.tensors.ckksvector.CKKSVector object at 0x7fda21522ae0>,\n",
       "        <tenseal.tensors.ckksvector.CKKSVector object at 0x7fda21592ba0>,\n",
       "        <tenseal.tensors.ckksvector.CKKSVector object at 0x7fda21521490>],\n",
       "       [<tenseal.tensors.ckksvector.CKKSVector object at 0x7fda21592d20>,\n",
       "        <tenseal.tensors.ckksvector.CKKSVector object at 0x7fda21592e10>,\n",
       "        <tenseal.tensors.ckksvector.CKKSVector object at 0x7fda21592ea0>,\n",
       "        <tenseal.tensors.ckksvector.CKKSVector object at 0x7fda21592f90>,\n",
       "        <tenseal.tensors.ckksvector.CKKSVector object at 0x7fda21593080>,\n",
       "        <tenseal.tensors.ckksvector.CKKSVector object at 0x7fda21523140>,\n",
       "        <tenseal.tensors.ckksvector.CKKSVector object at 0x7fda21523170>,\n",
       "        <tenseal.tensors.ckksvector.CKKSVector object at 0x7fda2150b1a0>,\n",
       "        <tenseal.tensors.ckksvector.CKKSVector object at 0x7fda21545850>,\n",
       "        <tenseal.tensors.ckksvector.CKKSVector object at 0x7fda215932f0>,\n",
       "        <tenseal.tensors.ckksvector.CKKSVector object at 0x7fda21593350>,\n",
       "        <tenseal.tensors.ckksvector.CKKSVector object at 0x7fda21723380>,\n",
       "        <tenseal.tensors.ckksvector.CKKSVector object at 0x7fda21523440>,\n",
       "        <tenseal.tensors.ckksvector.CKKSVector object at 0x7fda215234d0>,\n",
       "        <tenseal.tensors.ckksvector.CKKSVector object at 0x7fda21593590>,\n",
       "        <tenseal.tensors.ckksvector.CKKSVector object at 0x7fda21523620>,\n",
       "        <tenseal.tensors.ckksvector.CKKSVector object at 0x7fda21563680>,\n",
       "        <tenseal.tensors.ckksvector.CKKSVector object at 0x7fda21593770>,\n",
       "        <tenseal.tensors.ckksvector.CKKSVector object at 0x7fda21545250>,\n",
       "        <tenseal.tensors.ckksvector.CKKSVector object at 0x7fda215938f0>],\n",
       "       [<tenseal.tensors.ckksvector.CKKSVector object at 0x7fda215939b0>,\n",
       "        <tenseal.tensors.ckksvector.CKKSVector object at 0x7fda215339e0>,\n",
       "        <tenseal.tensors.ckksvector.CKKSVector object at 0x7fda21593ad0>,\n",
       "        <tenseal.tensors.ckksvector.CKKSVector object at 0x7fda2150bb90>,\n",
       "        <tenseal.tensors.ckksvector.CKKSVector object at 0x7fda21545640>,\n",
       "        <tenseal.tensors.ckksvector.CKKSVector object at 0x7fda21593ce0>,\n",
       "        <tenseal.tensors.ckksvector.CKKSVector object at 0x7fda216ed1c0>,\n",
       "        <tenseal.tensors.ckksvector.CKKSVector object at 0x7fda21593e90>,\n",
       "        <tenseal.tensors.ckksvector.CKKSVector object at 0x7fda21593f50>,\n",
       "        <tenseal.tensors.ckksvector.CKKSVector object at 0x7fda21563f80>,\n",
       "        <tenseal.tensors.ckksvector.CKKSVector object at 0x7fda21593fe0>,\n",
       "        <tenseal.tensors.ckksvector.CKKSVector object at 0x7fda215980e0>,\n",
       "        <tenseal.tensors.ckksvector.CKKSVector object at 0x7fda215981a0>,\n",
       "        <tenseal.tensors.ckksvector.CKKSVector object at 0x7fda21598230>,\n",
       "        <tenseal.tensors.ckksvector.CKKSVector object at 0x7fda215602c0>,\n",
       "        <tenseal.tensors.ckksvector.CKKSVector object at 0x7fda215602f0>,\n",
       "        <tenseal.tensors.ckksvector.CKKSVector object at 0x7fda21590320>,\n",
       "        <tenseal.tensors.ckksvector.CKKSVector object at 0x7fda21590350>,\n",
       "        <tenseal.tensors.ckksvector.CKKSVector object at 0x7fda22de8380>,\n",
       "        <tenseal.tensors.ckksvector.CKKSVector object at 0x7fda215083b0>],\n",
       "       [<tenseal.tensors.ckksvector.CKKSVector object at 0x7fda215903e0>,\n",
       "        <tenseal.tensors.ckksvector.CKKSVector object at 0x7fda21508470>,\n",
       "        <tenseal.tensors.ckksvector.CKKSVector object at 0x7fda215904a0>,\n",
       "        <tenseal.tensors.ckksvector.CKKSVector object at 0x7fda21598500>,\n",
       "        <tenseal.tensors.ckksvector.CKKSVector object at 0x7fda21590530>,\n",
       "        <tenseal.tensors.ckksvector.CKKSVector object at 0x7fda21590560>,\n",
       "        <tenseal.tensors.ckksvector.CKKSVector object at 0x7fda215985c0>,\n",
       "        <tenseal.tensors.ckksvector.CKKSVector object at 0x7fda21590620>,\n",
       "        <tenseal.tensors.ckksvector.CKKSVector object at 0x7fda21598680>,\n",
       "        <tenseal.tensors.ckksvector.CKKSVector object at 0x7fda21ab0740>,\n",
       "        <tenseal.tensors.ckksvector.CKKSVector object at 0x7fda21530710>,\n",
       "        <tenseal.tensors.ckksvector.CKKSVector object at 0x7fda21598770>,\n",
       "        <tenseal.tensors.ckksvector.CKKSVector object at 0x7fda215907a0>,\n",
       "        <tenseal.tensors.ckksvector.CKKSVector object at 0x7fda21598800>,\n",
       "        <tenseal.tensors.ckksvector.CKKSVector object at 0x7fda21508830>,\n",
       "        <tenseal.tensors.ckksvector.CKKSVector object at 0x7fda21530890>,\n",
       "        <tenseal.tensors.ckksvector.CKKSVector object at 0x7fda21598950>,\n",
       "        <tenseal.tensors.ckksvector.CKKSVector object at 0x7fda215909e0>,\n",
       "        <tenseal.tensors.ckksvector.CKKSVector object at 0x7fda21598a40>,\n",
       "        <tenseal.tensors.ckksvector.CKKSVector object at 0x7fda21530a70>],\n",
       "       [<tenseal.tensors.ckksvector.CKKSVector object at 0x7fda22dd0aa0>,\n",
       "        <tenseal.tensors.ckksvector.CKKSVector object at 0x7fda21590b30>,\n",
       "        <tenseal.tensors.ckksvector.CKKSVector object at 0x7fda21508b60>,\n",
       "        <tenseal.tensors.ckksvector.CKKSVector object at 0x7fda21530230>,\n",
       "        <tenseal.tensors.ckksvector.CKKSVector object at 0x7fda21598bf0>,\n",
       "        <tenseal.tensors.ckksvector.CKKSVector object at 0x7fda21598c50>,\n",
       "        <tenseal.tensors.ckksvector.CKKSVector object at 0x7fda21598ce0>,\n",
       "        <tenseal.tensors.ckksvector.CKKSVector object at 0x7fda21530d40>,\n",
       "        <tenseal.tensors.ckksvector.CKKSVector object at 0x7fda21598da0>,\n",
       "        <tenseal.tensors.ckksvector.CKKSVector object at 0x7fda21598e00>,\n",
       "        <tenseal.tensors.ckksvector.CKKSVector object at 0x7fda21598e60>,\n",
       "        <tenseal.tensors.ckksvector.CKKSVector object at 0x7fda21590e90>,\n",
       "        <tenseal.tensors.ckksvector.CKKSVector object at 0x7fda21590f20>,\n",
       "        <tenseal.tensors.ckksvector.CKKSVector object at 0x7fda21530fb0>,\n",
       "        <tenseal.tensors.ckksvector.CKKSVector object at 0x7fda21599010>,\n",
       "        <tenseal.tensors.ckksvector.CKKSVector object at 0x7fda21591040>,\n",
       "        <tenseal.tensors.ckksvector.CKKSVector object at 0x7fda215910d0>,\n",
       "        <tenseal.tensors.ckksvector.CKKSVector object at 0x7fda21599130>,\n",
       "        <tenseal.tensors.ckksvector.CKKSVector object at 0x7fda21591160>,\n",
       "        <tenseal.tensors.ckksvector.CKKSVector object at 0x7fda215991f0>],\n",
       "       [<tenseal.tensors.ckksvector.CKKSVector object at 0x7fda21591250>,\n",
       "        <tenseal.tensors.ckksvector.CKKSVector object at 0x7fda215992b0>,\n",
       "        <tenseal.tensors.ckksvector.CKKSVector object at 0x7fda21721310>,\n",
       "        <tenseal.tensors.ckksvector.CKKSVector object at 0x7fda2150b050>,\n",
       "        <tenseal.tensors.ckksvector.CKKSVector object at 0x7fda215479b0>,\n",
       "        <tenseal.tensors.ckksvector.CKKSVector object at 0x7fda21521400>,\n",
       "        <tenseal.tensors.ckksvector.CKKSVector object at 0x7fda2150ac30>,\n",
       "        <tenseal.tensors.ckksvector.CKKSVector object at 0x7fda215994c0>,\n",
       "        <tenseal.tensors.ckksvector.CKKSVector object at 0x7fda21521520>,\n",
       "        <tenseal.tensors.ckksvector.CKKSVector object at 0x7fda21521550>,\n",
       "        <tenseal.tensors.ckksvector.CKKSVector object at 0x7fda215915b0>,\n",
       "        <tenseal.tensors.ckksvector.CKKSVector object at 0x7fda21591610>,\n",
       "        <tenseal.tensors.ckksvector.CKKSVector object at 0x7fda21591640>,\n",
       "        <tenseal.tensors.ckksvector.CKKSVector object at 0x7fda215916a0>,\n",
       "        <tenseal.tensors.ckksvector.CKKSVector object at 0x7fda21591700>,\n",
       "        <tenseal.tensors.ckksvector.CKKSVector object at 0x7fda21599760>,\n",
       "        <tenseal.tensors.ckksvector.CKKSVector object at 0x7fda215997f0>,\n",
       "        <tenseal.tensors.ckksvector.CKKSVector object at 0x7fda22de9820>,\n",
       "        <tenseal.tensors.ckksvector.CKKSVector object at 0x7fda21591880>,\n",
       "        <tenseal.tensors.ckksvector.CKKSVector object at 0x7fda215998e0>],\n",
       "       [<tenseal.tensors.ckksvector.CKKSVector object at 0x7fda21521940>,\n",
       "        <tenseal.tensors.ckksvector.CKKSVector object at 0x7fda215219a0>,\n",
       "        <tenseal.tensors.ckksvector.CKKSVector object at 0x7fda21591a00>,\n",
       "        <tenseal.tensors.ckksvector.CKKSVector object at 0x7fda21591a60>,\n",
       "        <tenseal.tensors.ckksvector.CKKSVector object at 0x7fda21591ac0>,\n",
       "        <tenseal.tensors.ckksvector.CKKSVector object at 0x7fda21591b20>,\n",
       "        <tenseal.tensors.ckksvector.CKKSVector object at 0x7fda21521b50>,\n",
       "        <tenseal.tensors.ckksvector.CKKSVector object at 0x7fda21599be0>,\n",
       "        <tenseal.tensors.ckksvector.CKKSVector object at 0x7fda21591c40>,\n",
       "        <tenseal.tensors.ckksvector.CKKSVector object at 0x7fda21591ca0>,\n",
       "        <tenseal.tensors.ckksvector.CKKSVector object at 0x7fda21599190>,\n",
       "        <tenseal.tensors.ckksvector.CKKSVector object at 0x7fda21599d30>,\n",
       "        <tenseal.tensors.ckksvector.CKKSVector object at 0x7fda21599dc0>,\n",
       "        <tenseal.tensors.ckksvector.CKKSVector object at 0x7fda21591e50>,\n",
       "        <tenseal.tensors.ckksvector.CKKSVector object at 0x7fda21591f10>,\n",
       "        <tenseal.tensors.ckksvector.CKKSVector object at 0x7fda21591fa0>,\n",
       "        <tenseal.tensors.ckksvector.CKKSVector object at 0x7fda21591fd0>,\n",
       "        <tenseal.tensors.ckksvector.CKKSVector object at 0x7fda21592060>,\n",
       "        <tenseal.tensors.ckksvector.CKKSVector object at 0x7fda215920c0>,\n",
       "        <tenseal.tensors.ckksvector.CKKSVector object at 0x7fda21599e80>],\n",
       "       [<tenseal.tensors.ckksvector.CKKSVector object at 0x7fda21522150>,\n",
       "        <tenseal.tensors.ckksvector.CKKSVector object at 0x7fda2159a1b0>,\n",
       "        <tenseal.tensors.ckksvector.CKKSVector object at 0x7fda2159a240>,\n",
       "        <tenseal.tensors.ckksvector.CKKSVector object at 0x7fda2159a2a0>,\n",
       "        <tenseal.tensors.ckksvector.CKKSVector object at 0x7fda2159a300>,\n",
       "        <tenseal.tensors.ckksvector.CKKSVector object at 0x7fda2159a360>,\n",
       "        <tenseal.tensors.ckksvector.CKKSVector object at 0x7fda215223f0>,\n",
       "        <tenseal.tensors.ckksvector.CKKSVector object at 0x7fda21592480>,\n",
       "        <tenseal.tensors.ckksvector.CKKSVector object at 0x7fda215224b0>,\n",
       "        <tenseal.tensors.ckksvector.CKKSVector object at 0x7fda21592570>,\n",
       "        <tenseal.tensors.ckksvector.CKKSVector object at 0x7fda2159a5d0>,\n",
       "        <tenseal.tensors.ckksvector.CKKSVector object at 0x7fda2159a630>,\n",
       "        <tenseal.tensors.ckksvector.CKKSVector object at 0x7fda2159a6c0>,\n",
       "        <tenseal.tensors.ckksvector.CKKSVector object at 0x7fda2159a720>,\n",
       "        <tenseal.tensors.ckksvector.CKKSVector object at 0x7fda21592750>,\n",
       "        <tenseal.tensors.ckksvector.CKKSVector object at 0x7fda215927e0>,\n",
       "        <tenseal.tensors.ckksvector.CKKSVector object at 0x7fda21592870>,\n",
       "        <tenseal.tensors.ckksvector.CKKSVector object at 0x7fda2159a8d0>,\n",
       "        <tenseal.tensors.ckksvector.CKKSVector object at 0x7fda21592960>,\n",
       "        <tenseal.tensors.ckksvector.CKKSVector object at 0x7fda21522990>],\n",
       "       [<tenseal.tensors.ckksvector.CKKSVector object at 0x7fda217229f0>,\n",
       "        <tenseal.tensors.ckksvector.CKKSVector object at 0x7fda21592a20>,\n",
       "        <tenseal.tensors.ckksvector.CKKSVector object at 0x7fda2159aa80>,\n",
       "        <tenseal.tensors.ckksvector.CKKSVector object at 0x7fda22732ab0>,\n",
       "        <tenseal.tensors.ckksvector.CKKSVector object at 0x7fda2159ab10>,\n",
       "        <tenseal.tensors.ckksvector.CKKSVector object at 0x7fda21522b40>,\n",
       "        <tenseal.tensors.ckksvector.CKKSVector object at 0x7fda21592bd0>,\n",
       "        <tenseal.tensors.ckksvector.CKKSVector object at 0x7fda2159ac30>,\n",
       "        <tenseal.tensors.ckksvector.CKKSVector object at 0x7fda21592cc0>,\n",
       "        <tenseal.tensors.ckksvector.CKKSVector object at 0x7fda22dd2cf0>,\n",
       "        <tenseal.tensors.ckksvector.CKKSVector object at 0x7fda2159ad50>,\n",
       "        <tenseal.tensors.ckksvector.CKKSVector object at 0x7fda2159ade0>,\n",
       "        <tenseal.tensors.ckksvector.CKKSVector object at 0x7fda21522ea0>,\n",
       "        <tenseal.tensors.ckksvector.CKKSVector object at 0x7fda21592f30>,\n",
       "        <tenseal.tensors.ckksvector.CKKSVector object at 0x7fda21592fc0>,\n",
       "        <tenseal.tensors.ckksvector.CKKSVector object at 0x7fda2159b050>,\n",
       "        <tenseal.tensors.ckksvector.CKKSVector object at 0x7fda217230b0>,\n",
       "        <tenseal.tensors.ckksvector.CKKSVector object at 0x7fda2159b140>,\n",
       "        <tenseal.tensors.ckksvector.CKKSVector object at 0x7fda21533170>,\n",
       "        <tenseal.tensors.ckksvector.CKKSVector object at 0x7fda217231a0>],\n",
       "       [<tenseal.tensors.ckksvector.CKKSVector object at 0x7fda2159b200>,\n",
       "        <tenseal.tensors.ckksvector.CKKSVector object at 0x7fda2159b260>,\n",
       "        <tenseal.tensors.ckksvector.CKKSVector object at 0x7fda2150b290>,\n",
       "        <tenseal.tensors.ckksvector.CKKSVector object at 0x7fda21593320>,\n",
       "        <tenseal.tensors.ckksvector.CKKSVector object at 0x7fda2159b380>,\n",
       "        <tenseal.tensors.ckksvector.CKKSVector object at 0x7fda2159b410>,\n",
       "        <tenseal.tensors.ckksvector.CKKSVector object at 0x7fda2159b470>,\n",
       "        <tenseal.tensors.ckksvector.CKKSVector object at 0x7fda2159b500>,\n",
       "        <tenseal.tensors.ckksvector.CKKSVector object at 0x7fda2159b560>,\n",
       "        <tenseal.tensors.ckksvector.CKKSVector object at 0x7fda21593620>,\n",
       "        <tenseal.tensors.ckksvector.CKKSVector object at 0x7fda2159b680>,\n",
       "        <tenseal.tensors.ckksvector.CKKSVector object at 0x7fda21593710>,\n",
       "        <tenseal.tensors.ckksvector.CKKSVector object at 0x7fda2159b7a0>,\n",
       "        <tenseal.tensors.ckksvector.CKKSVector object at 0x7fda2159b830>,\n",
       "        <tenseal.tensors.ckksvector.CKKSVector object at 0x7fda21723860>,\n",
       "        <tenseal.tensors.ckksvector.CKKSVector object at 0x7fda2159b8c0>,\n",
       "        <tenseal.tensors.ckksvector.CKKSVector object at 0x7fda2159b920>,\n",
       "        <tenseal.tensors.ckksvector.CKKSVector object at 0x7fda2159b980>,\n",
       "        <tenseal.tensors.ckksvector.CKKSVector object at 0x7fda215239e0>,\n",
       "        <tenseal.tensors.ckksvector.CKKSVector object at 0x7fda21593a70>],\n",
       "       [<tenseal.tensors.ckksvector.CKKSVector object at 0x7fda21593b00>,\n",
       "        <tenseal.tensors.ckksvector.CKKSVector object at 0x7fda2159bb90>,\n",
       "        <tenseal.tensors.ckksvector.CKKSVector object at 0x7fda2159bbf0>,\n",
       "        <tenseal.tensors.ckksvector.CKKSVector object at 0x7fda22debc20>,\n",
       "        <tenseal.tensors.ckksvector.CKKSVector object at 0x7fda2159bc80>,\n",
       "        <tenseal.tensors.ckksvector.CKKSVector object at 0x7fda21593d10>,\n",
       "        <tenseal.tensors.ckksvector.CKKSVector object at 0x7fda2159bda0>,\n",
       "        <tenseal.tensors.ckksvector.CKKSVector object at 0x7fda21593e30>,\n",
       "        <tenseal.tensors.ckksvector.CKKSVector object at 0x7fda21593ec0>,\n",
       "        <tenseal.tensors.ckksvector.CKKSVector object at 0x7fda2159bf20>,\n",
       "        <tenseal.tensors.ckksvector.CKKSVector object at 0x7fda2159bf80>,\n",
       "        <tenseal.tensors.ckksvector.CKKSVector object at 0x7fda21563fb0>,\n",
       "        <tenseal.tensors.ckksvector.CKKSVector object at 0x7fda21533fe0>,\n",
       "        <tenseal.tensors.ckksvector.CKKSVector object at 0x7fda2159c110>,\n",
       "        <tenseal.tensors.ckksvector.CKKSVector object at 0x7fda2159c200>,\n",
       "        <tenseal.tensors.ckksvector.CKKSVector object at 0x7fda215228a0>,\n",
       "        <tenseal.tensors.ckksvector.CKKSVector object at 0x7fda2159a930>,\n",
       "        <tenseal.tensors.ckksvector.CKKSVector object at 0x7fda2159c410>,\n",
       "        <tenseal.tensors.ckksvector.CKKSVector object at 0x7fda2159c500>,\n",
       "        <tenseal.tensors.ckksvector.CKKSVector object at 0x7fda2159c5f0>],\n",
       "       [<tenseal.tensors.ckksvector.CKKSVector object at 0x7fda2159ac60>,\n",
       "        <tenseal.tensors.ckksvector.CKKSVector object at 0x7fda21522d20>,\n",
       "        <tenseal.tensors.ckksvector.CKKSVector object at 0x7fda21522de0>,\n",
       "        <tenseal.tensors.ckksvector.CKKSVector object at 0x7fda215448c0>,\n",
       "        <tenseal.tensors.ckksvector.CKKSVector object at 0x7fda2159a330>,\n",
       "        <tenseal.tensors.ckksvector.CKKSVector object at 0x7fda2159ca10>,\n",
       "        <tenseal.tensors.ckksvector.CKKSVector object at 0x7fda2159cb00>,\n",
       "        <tenseal.tensors.ckksvector.CKKSVector object at 0x7fda2159cb60>,\n",
       "        <tenseal.tensors.ckksvector.CKKSVector object at 0x7fda2159cc50>,\n",
       "        <tenseal.tensors.ckksvector.CKKSVector object at 0x7fda21592660>,\n",
       "        <tenseal.tensors.ckksvector.CKKSVector object at 0x7fda2159a6f0>,\n",
       "        <tenseal.tensors.ckksvector.CKKSVector object at 0x7fda2159cdd0>,\n",
       "        <tenseal.tensors.ckksvector.CKKSVector object at 0x7fda21522480>,\n",
       "        <tenseal.tensors.ckksvector.CKKSVector object at 0x7fda21592510>,\n",
       "        <tenseal.tensors.ckksvector.CKKSVector object at 0x7fda2159cfe0>,\n",
       "        <tenseal.tensors.ckksvector.CKKSVector object at 0x7fda2159d0d0>,\n",
       "        <tenseal.tensors.ckksvector.CKKSVector object at 0x7fda2159d1c0>,\n",
       "        <tenseal.tensors.ckksvector.CKKSVector object at 0x7fda2159d280>,\n",
       "        <tenseal.tensors.ckksvector.CKKSVector object at 0x7fda2159d370>,\n",
       "        <tenseal.tensors.ckksvector.CKKSVector object at 0x7fda2159d460>],\n",
       "       [<tenseal.tensors.ckksvector.CKKSVector object at 0x7fda2159d550>,\n",
       "        <tenseal.tensors.ckksvector.CKKSVector object at 0x7fda2159d610>,\n",
       "        <tenseal.tensors.ckksvector.CKKSVector object at 0x7fda21593c20>,\n",
       "        <tenseal.tensors.ckksvector.CKKSVector object at 0x7fda2159bcb0>,\n",
       "        <tenseal.tensors.ckksvector.CKKSVector object at 0x7fda2159d790>,\n",
       "        <tenseal.tensors.ckksvector.CKKSVector object at 0x7fda2159d850>,\n",
       "        <tenseal.tensors.ckksvector.CKKSVector object at 0x7fda2159d940>,\n",
       "        <tenseal.tensors.ckksvector.CKKSVector object at 0x7fda21545a00>,\n",
       "        <tenseal.tensors.ckksvector.CKKSVector object at 0x7fda2159dac0>,\n",
       "        <tenseal.tensors.ckksvector.CKKSVector object at 0x7fda2159dbb0>,\n",
       "        <tenseal.tensors.ckksvector.CKKSVector object at 0x7fda2159dc40>,\n",
       "        <tenseal.tensors.ckksvector.CKKSVector object at 0x7fda2159dcd0>,\n",
       "        <tenseal.tensors.ckksvector.CKKSVector object at 0x7fda215936e0>,\n",
       "        <tenseal.tensors.ckksvector.CKKSVector object at 0x7fda2159dd90>,\n",
       "        <tenseal.tensors.ckksvector.CKKSVector object at 0x7fda21545df0>,\n",
       "        <tenseal.tensors.ckksvector.CKKSVector object at 0x7fda21545eb0>,\n",
       "        <tenseal.tensors.ckksvector.CKKSVector object at 0x7fda2159df70>,\n",
       "        <tenseal.tensors.ckksvector.CKKSVector object at 0x7fda2159b5c0>,\n",
       "        <tenseal.tensors.ckksvector.CKKSVector object at 0x7fda2159e090>,\n",
       "        <tenseal.tensors.ckksvector.CKKSVector object at 0x7fda2159e150>],\n",
       "       [<tenseal.tensors.ckksvector.CKKSVector object at 0x7fda21590b60>,\n",
       "        <tenseal.tensors.ckksvector.CKKSVector object at 0x7fda21590bf0>,\n",
       "        <tenseal.tensors.ckksvector.CKKSVector object at 0x7fda215308c0>,\n",
       "        <tenseal.tensors.ckksvector.CKKSVector object at 0x7fda2159c050>,\n",
       "        <tenseal.tensors.ckksvector.CKKSVector object at 0x7fda2159e3f0>,\n",
       "        <tenseal.tensors.ckksvector.CKKSVector object at 0x7fda2159e4b0>,\n",
       "        <tenseal.tensors.ckksvector.CKKSVector object at 0x7fda2159e540>,\n",
       "        <tenseal.tensors.ckksvector.CKKSVector object at 0x7fda2159e5d0>,\n",
       "        <tenseal.tensors.ckksvector.CKKSVector object at 0x7fda21590fe0>,\n",
       "        <tenseal.tensors.ckksvector.CKKSVector object at 0x7fda21598c80>,\n",
       "        <tenseal.tensors.ckksvector.CKKSVector object at 0x7fda21598d10>,\n",
       "        <tenseal.tensors.ckksvector.CKKSVector object at 0x7fda2159e7b0>,\n",
       "        <tenseal.tensors.ckksvector.CKKSVector object at 0x7fda2159e870>,\n",
       "        <tenseal.tensors.ckksvector.CKKSVector object at 0x7fda2159e960>,\n",
       "        <tenseal.tensors.ckksvector.CKKSVector object at 0x7fda2159e9c0>,\n",
       "        <tenseal.tensors.ckksvector.CKKSVector object at 0x7fda2159ea50>,\n",
       "        <tenseal.tensors.ckksvector.CKKSVector object at 0x7fda2159eae0>,\n",
       "        <tenseal.tensors.ckksvector.CKKSVector object at 0x7fda2159eb40>,\n",
       "        <tenseal.tensors.ckksvector.CKKSVector object at 0x7fda2159eba0>,\n",
       "        <tenseal.tensors.ckksvector.CKKSVector object at 0x7fda2159ec30>],\n",
       "       [<tenseal.tensors.ckksvector.CKKSVector object at 0x7fda2159ecc0>,\n",
       "        <tenseal.tensors.ckksvector.CKKSVector object at 0x7fdab26aecf0>,\n",
       "        <tenseal.tensors.ckksvector.CKKSVector object at 0x7fda21598740>,\n",
       "        <tenseal.tensors.ckksvector.CKKSVector object at 0x7fda2159edb0>,\n",
       "        <tenseal.tensors.ckksvector.CKKSVector object at 0x7fda2159ee40>,\n",
       "        <tenseal.tensors.ckksvector.CKKSVector object at 0x7fda2159eed0>,\n",
       "        <tenseal.tensors.ckksvector.CKKSVector object at 0x7fda2159ef60>,\n",
       "        <tenseal.tensors.ckksvector.CKKSVector object at 0x7fda2159eff0>,\n",
       "        <tenseal.tensors.ckksvector.CKKSVector object at 0x7fda2159f080>,\n",
       "        <tenseal.tensors.ckksvector.CKKSVector object at 0x7fdab26af0b0>,\n",
       "        <tenseal.tensors.ckksvector.CKKSVector object at 0x7fda2159f140>,\n",
       "        <tenseal.tensors.ckksvector.CKKSVector object at 0x7fda2159f1d0>,\n",
       "        <tenseal.tensors.ckksvector.CKKSVector object at 0x7fda21547200>,\n",
       "        <tenseal.tensors.ckksvector.CKKSVector object at 0x7fda21521880>,\n",
       "        <tenseal.tensors.ckksvector.CKKSVector object at 0x7fda2159f2f0>,\n",
       "        <tenseal.tensors.ckksvector.CKKSVector object at 0x7fda2159f380>,\n",
       "        <tenseal.tensors.ckksvector.CKKSVector object at 0x7fda2159f3e0>,\n",
       "        <tenseal.tensors.ckksvector.CKKSVector object at 0x7fda21521e20>,\n",
       "        <tenseal.tensors.ckksvector.CKKSVector object at 0x7fda2159f4d0>,\n",
       "        <tenseal.tensors.ckksvector.CKKSVector object at 0x7fda2159f560>],\n",
       "       [<tenseal.tensors.ckksvector.CKKSVector object at 0x7fda2159f5c0>,\n",
       "        <tenseal.tensors.ckksvector.CKKSVector object at 0x7fda21521c40>,\n",
       "        <tenseal.tensors.ckksvector.CKKSVector object at 0x7fda2159f6b0>,\n",
       "        <tenseal.tensors.ckksvector.CKKSVector object at 0x7fda2159f740>,\n",
       "        <tenseal.tensors.ckksvector.CKKSVector object at 0x7fda2159f7a0>,\n",
       "        <tenseal.tensors.ckksvector.CKKSVector object at 0x7fda2159f830>,\n",
       "        <tenseal.tensors.ckksvector.CKKSVector object at 0x7fda2159f890>,\n",
       "        <tenseal.tensors.ckksvector.CKKSVector object at 0x7fda216ef8f0>,\n",
       "        <tenseal.tensors.ckksvector.CKKSVector object at 0x7fda2159f950>,\n",
       "        <tenseal.tensors.ckksvector.CKKSVector object at 0x7fda2159f9e0>,\n",
       "        <tenseal.tensors.ckksvector.CKKSVector object at 0x7fda2159fa70>,\n",
       "        <tenseal.tensors.ckksvector.CKKSVector object at 0x7fda2159fb00>,\n",
       "        <tenseal.tensors.ckksvector.CKKSVector object at 0x7fda2159fb90>,\n",
       "        <tenseal.tensors.ckksvector.CKKSVector object at 0x7fda2159fc20>,\n",
       "        <tenseal.tensors.ckksvector.CKKSVector object at 0x7fda2159e930>,\n",
       "        <tenseal.tensors.ckksvector.CKKSVector object at 0x7fda21599700>,\n",
       "        <tenseal.tensors.ckksvector.CKKSVector object at 0x7fda21591790>,\n",
       "        <tenseal.tensors.ckksvector.CKKSVector object at 0x7fda215917c0>,\n",
       "        <tenseal.tensors.ckksvector.CKKSVector object at 0x7fda2159fe90>,\n",
       "        <tenseal.tensors.ckksvector.CKKSVector object at 0x7fda2159ff80>],\n",
       "       [<tenseal.tensors.ckksvector.CKKSVector object at 0x7fda215a4050>,\n",
       "        <tenseal.tensors.ckksvector.CKKSVector object at 0x7fda215a40e0>,\n",
       "        <tenseal.tensors.ckksvector.CKKSVector object at 0x7fda215a4140>,\n",
       "        <tenseal.tensors.ckksvector.CKKSVector object at 0x7fda215a41d0>,\n",
       "        <tenseal.tensors.ckksvector.CKKSVector object at 0x7fda2159c290>,\n",
       "        <tenseal.tensors.ckksvector.CKKSVector object at 0x7fda215a42f0>,\n",
       "        <tenseal.tensors.ckksvector.CKKSVector object at 0x7fda215a4380>,\n",
       "        <tenseal.tensors.ckksvector.CKKSVector object at 0x7fda215a43e0>,\n",
       "        <tenseal.tensors.ckksvector.CKKSVector object at 0x7fda2159a9f0>,\n",
       "        <tenseal.tensors.ckksvector.CKKSVector object at 0x7fda2159c4a0>,\n",
       "        <tenseal.tensors.ckksvector.CKKSVector object at 0x7fda2159c530>,\n",
       "        <tenseal.tensors.ckksvector.CKKSVector object at 0x7fda21544590>,\n",
       "        <tenseal.tensors.ckksvector.CKKSVector object at 0x7fda2159c620>,\n",
       "        <tenseal.tensors.ckksvector.CKKSVector object at 0x7fda215a4680>,\n",
       "        <tenseal.tensors.ckksvector.CKKSVector object at 0x7fda2159c710>,\n",
       "        <tenseal.tensors.ckksvector.CKKSVector object at 0x7fda21544740>,\n",
       "        <tenseal.tensors.ckksvector.CKKSVector object at 0x7fda21544770>,\n",
       "        <tenseal.tensors.ckksvector.CKKSVector object at 0x7fda215a4800>,\n",
       "        <tenseal.tensors.ckksvector.CKKSVector object at 0x7fda2159c890>,\n",
       "        <tenseal.tensors.ckksvector.CKKSVector object at 0x7fda215a48f0>]],\n",
       "      dtype=object)"
      ]
     },
     "execution_count": 10,
     "metadata": {},
     "output_type": "execute_result"
    }
   ],
   "source": [
    "enc_img = [[ts.ckks_vector(context=context, vector=[col]) for col in row] for row in img1]\n",
    "enc_img = np.array(enc_img, dtype=ts.CKKSVector)\n",
    "enc_img"
   ]
  },
  {
   "cell_type": "code",
   "execution_count": 11,
   "metadata": {},
   "outputs": [],
   "source": [
    "enc_img = enc(img1)"
   ]
  },
  {
   "cell_type": "code",
   "execution_count": 12,
   "metadata": {},
   "outputs": [
    {
     "name": "stdout",
     "output_type": "stream",
     "text": [
      "Resize done\n"
     ]
    }
   ],
   "source": [
    "base_image = secGenerateBaseImage(enc_img, 1.6, 0.5, kernel_size=3)"
   ]
  },
  {
   "cell_type": "code",
   "execution_count": 13,
   "metadata": {},
   "outputs": [],
   "source": [
    "# base_image.shape"
   ]
  },
  {
   "cell_type": "code",
   "execution_count": 14,
   "metadata": {},
   "outputs": [],
   "source": [
    "def dec(image):\n",
    "    return np.array([[x.decrypt(secret_key) for x in row] for row in image])"
   ]
  },
  {
   "cell_type": "code",
   "execution_count": 15,
   "metadata": {},
   "outputs": [],
   "source": [
    "# temp = dec(base_image)"
   ]
  },
  {
   "cell_type": "code",
   "execution_count": 16,
   "metadata": {},
   "outputs": [
    {
     "data": {
      "image/png": "[encoded data removed]",
      "text/plain": [
       "<Figure size 640x480 with 1 Axes>"
      ]
     },
     "metadata": {},
     "output_type": "display_data"
    },
    {
     "data": {
      "text/plain": [
       "<Figure size 1000x1000 with 0 Axes>"
      ]
     },
     "metadata": {},
     "output_type": "display_data"
    }
   ],
   "source": [
    "plot_image(dec(base_image))"
   ]
  },
  {
   "cell_type": "code",
   "execution_count": 17,
   "metadata": {},
   "outputs": [],
   "source": [
    "num_octaves = secComputeNumberOfOctaves(img1.shape)"
   ]
  },
  {
   "cell_type": "code",
   "execution_count": 18,
   "metadata": {},
   "outputs": [
    {
     "data": {
      "text/plain": [
       "3"
      ]
     },
     "execution_count": 18,
     "metadata": {},
     "output_type": "execute_result"
    }
   ],
   "source": [
    "num_octaves"
   ]
  },
  {
   "cell_type": "code",
   "execution_count": 19,
   "metadata": {},
   "outputs": [],
   "source": [
    "gaussian_kernels = secGenerateGaussianKernels(1.6, 3)"
   ]
  },
  {
   "cell_type": "code",
   "execution_count": 20,
   "metadata": {},
   "outputs": [
    {
     "data": {
      "text/plain": [
       "array([1.6       , 1.2262735 , 1.54500779, 1.94658784, 2.452547  ,\n",
       "       3.09001559])"
      ]
     },
     "execution_count": 20,
     "metadata": {},
     "output_type": "execute_result"
    }
   ],
   "source": [
    "gaussian_kernels"
   ]
  },
  {
   "cell_type": "code",
   "execution_count": 21,
   "metadata": {},
   "outputs": [
    {
     "name": "stderr",
     "output_type": "stream",
     "text": [
      " 33%|███▎      | 1/3 [05:45<11:30, 345.04s/it]"
     ]
    },
    {
     "name": "stdout",
     "output_type": "stream",
     "text": [
      "Image shape:  (20, 20)\n"
     ]
    },
    {
     "name": "stderr",
     "output_type": "stream",
     "text": [
      " 67%|██████▋   | 2/3 [06:49<02:59, 180.00s/it]"
     ]
    },
    {
     "name": "stdout",
     "output_type": "stream",
     "text": [
      "Image shape:  (10, 10)\n"
     ]
    },
    {
     "name": "stderr",
     "output_type": "stream",
     "text": [
      "100%|██████████| 3/3 [06:57<00:00, 139.08s/it]"
     ]
    },
    {
     "name": "stdout",
     "output_type": "stream",
     "text": [
      "Image shape:  (5, 5)\n"
     ]
    },
    {
     "name": "stderr",
     "output_type": "stream",
     "text": [
      "\n"
     ]
    }
   ],
   "source": [
    "gaussian_images = secGenerateGaussianImages(base_image, num_octaves, gaussian_kernels)"
   ]
  },
  {
   "cell_type": "code",
   "execution_count": 22,
   "metadata": {},
   "outputs": [
    {
     "data": {
      "text/plain": [
       "(20, 20)"
      ]
     },
     "execution_count": 22,
     "metadata": {},
     "output_type": "execute_result"
    }
   ],
   "source": [
    "gaussian_images[0][0].shape"
   ]
  },
  {
   "cell_type": "code",
   "execution_count": 23,
   "metadata": {},
   "outputs": [],
   "source": [
    "for oct in range(num_octaves):\n",
    "    for i in range(len(gaussian_images[oct])):\n",
    "        cv2.imwrite(f'{IMG_NAME}-{oct}-{i}.png',dec(gaussian_images[oct][i]))"
   ]
  },
  {
   "cell_type": "code",
   "execution_count": 24,
   "metadata": {},
   "outputs": [],
   "source": [
    "gaussian_images = [[cv2.imread(f'{IMG_NAME}-{oct}-{i}.png', 0) for i in range(6)] for oct in range(num_octaves) ]"
   ]
  },
  {
   "cell_type": "code",
   "execution_count": 25,
   "metadata": {},
   "outputs": [
    {
     "data": {
      "text/plain": [
       "(20, 20)"
      ]
     },
     "execution_count": 25,
     "metadata": {},
     "output_type": "execute_result"
    }
   ],
   "source": [
    "gaussian_images[0][0].shape"
   ]
  },
  {
   "cell_type": "code",
   "execution_count": 26,
   "metadata": {},
   "outputs": [
    {
     "name": "stdout",
     "output_type": "stream",
     "text": [
      "Octave 1\n"
     ]
    },
    {
     "data": {
      "image/png": "[encoded data removed]",
      "text/plain": [
       "<Figure size 640x480 with 1 Axes>"
      ]
     },
     "metadata": {},
     "output_type": "display_data"
    },
    {
     "data": {
      "text/plain": [
       "<Figure size 500x500 with 0 Axes>"
      ]
     },
     "metadata": {},
     "output_type": "display_data"
    },
    {
     "data": {
      "image/png": "[encoded data removed]",
      "text/plain": [
       "<Figure size 640x480 with 1 Axes>"
      ]
     },
     "metadata": {},
     "output_type": "display_data"
    },
    {
     "data": {
      "text/plain": [
       "<Figure size 500x500 with 0 Axes>"
      ]
     },
     "metadata": {},
     "output_type": "display_data"
    },
    {
     "data": {
      "image/png": "[encoded data removed]",
      "text/plain": [
       "<Figure size 640x480 with 1 Axes>"
      ]
     },
     "metadata": {},
     "output_type": "display_data"
    },
    {
     "data": {
      "text/plain": [
       "<Figure size 500x500 with 0 Axes>"
      ]
     },
     "metadata": {},
     "output_type": "display_data"
    },
    {
     "data": {
      "image/png": "[encoded data removed]",
      "text/plain": [
       "<Figure size 640x480 with 1 Axes>"
      ]
     },
     "metadata": {},
     "output_type": "display_data"
    },
    {
     "data": {
      "text/plain": [
       "<Figure size 500x500 with 0 Axes>"
      ]
     },
     "metadata": {},
     "output_type": "display_data"
    },
    {
     "data": {
      "image/png": "[encoded data removed]",
      "text/plain": [
       "<Figure size 640x480 with 1 Axes>"
      ]
     },
     "metadata": {},
     "output_type": "display_data"
    },
    {
     "data": {
      "text/plain": [
       "<Figure size 500x500 with 0 Axes>"
      ]
     },
     "metadata": {},
     "output_type": "display_data"
    },
    {
     "data": {
      "image/png": "[encoded data removed]",
      "text/plain": [
       "<Figure size 640x480 with 1 Axes>"
      ]
     },
     "metadata": {},
     "output_type": "display_data"
    },
    {
     "data": {
      "text/plain": [
       "<Figure size 500x500 with 0 Axes>"
      ]
     },
     "metadata": {},
     "output_type": "display_data"
    },
    {
     "name": "stdout",
     "output_type": "stream",
     "text": [
      "Octave 2\n"
     ]
    },
    {
     "data": {
      "image/png": "[encoded data removed]",
      "text/plain": [
       "<Figure size 640x480 with 1 Axes>"
      ]
     },
     "metadata": {},
     "output_type": "display_data"
    },
    {
     "data": {
      "text/plain": [
       "<Figure size 500x500 with 0 Axes>"
      ]
     },
     "metadata": {},
     "output_type": "display_data"
    },
    {
     "data": {
      "image/png": "[encoded data removed]",
      "text/plain": [
       "<Figure size 640x480 with 1 Axes>"
      ]
     },
     "metadata": {},
     "output_type": "display_data"
    },
    {
     "data": {
      "text/plain": [
       "<Figure size 500x500 with 0 Axes>"
      ]
     },
     "metadata": {},
     "output_type": "display_data"
    },
    {
     "data": {
      "image/png": "[encoded data removed]",
      "text/plain": [
       "<Figure size 640x480 with 1 Axes>"
      ]
     },
     "metadata": {},
     "output_type": "display_data"
    },
    {
     "data": {
      "text/plain": [
       "<Figure size 500x500 with 0 Axes>"
      ]
     },
     "metadata": {},
     "output_type": "display_data"
    },
    {
     "data": {
      "image/png": "[encoded data removed]",
      "text/plain": [
       "<Figure size 640x480 with 1 Axes>"
      ]
     },
     "metadata": {},
     "output_type": "display_data"
    },
    {
     "data": {
      "text/plain": [
       "<Figure size 500x500 with 0 Axes>"
      ]
     },
     "metadata": {},
     "output_type": "display_data"
    },
    {
     "data": {
      "image/png": "[encoded data removed]",
      "text/plain": [
       "<Figure size 640x480 with 1 Axes>"
      ]
     },
     "metadata": {},
     "output_type": "display_data"
    },
    {
     "data": {
      "text/plain": [
       "<Figure size 500x500 with 0 Axes>"
      ]
     },
     "metadata": {},
     "output_type": "display_data"
    },
    {
     "data": {
      "image/png": "[encoded data removed]",
      "text/plain": [
       "<Figure size 640x480 with 1 Axes>"
      ]
     },
     "metadata": {},
     "output_type": "display_data"
    },
    {
     "data": {
      "text/plain": [
       "<Figure size 500x500 with 0 Axes>"
      ]
     },
     "metadata": {},
     "output_type": "display_data"
    },
    {
     "name": "stdout",
     "output_type": "stream",
     "text": [
      "Octave 3\n"
     ]
    },
    {
     "data": {
      "image/png": "[encoded data removed]",
      "text/plain": [
       "<Figure size 640x480 with 1 Axes>"
      ]
     },
     "metadata": {},
     "output_type": "display_data"
    },
    {
     "data": {
      "text/plain": [
       "<Figure size 500x500 with 0 Axes>"
      ]
     },
     "metadata": {},
     "output_type": "display_data"
    },
    {
     "data": {
      "image/png": "[encoded data removed]",
      "text/plain": [
       "<Figure size 640x480 with 1 Axes>"
      ]
     },
     "metadata": {},
     "output_type": "display_data"
    },
    {
     "data": {
      "text/plain": [
       "<Figure size 500x500 with 0 Axes>"
      ]
     },
     "metadata": {},
     "output_type": "display_data"
    },
    {
     "data": {
      "image/png": "[encoded data removed]",
      "text/plain": [
       "<Figure size 640x480 with 1 Axes>"
      ]
     },
     "metadata": {},
     "output_type": "display_data"
    },
    {
     "data": {
      "text/plain": [
       "<Figure size 500x500 with 0 Axes>"
      ]
     },
     "metadata": {},
     "output_type": "display_data"
    },
    {
     "data": {
      "image/png": "[encoded data removed]",
      "text/plain": [
       "<Figure size 640x480 with 1 Axes>"
      ]
     },
     "metadata": {},
     "output_type": "display_data"
    },
    {
     "data": {
      "text/plain": [
       "<Figure size 500x500 with 0 Axes>"
      ]
     },
     "metadata": {},
     "output_type": "display_data"
    },
    {
     "data": {
      "image/png": "[encoded data removed]",
      "text/plain": [
       "<Figure size 640x480 with 1 Axes>"
      ]
     },
     "metadata": {},
     "output_type": "display_data"
    },
    {
     "data": {
      "text/plain": [
       "<Figure size 500x500 with 0 Axes>"
      ]
     },
     "metadata": {},
     "output_type": "display_data"
    },
    {
     "data": {
      "image/png": "[encoded data removed]",
      "text/plain": [
       "<Figure size 640x480 with 1 Axes>"
      ]
     },
     "metadata": {},
     "output_type": "display_data"
    },
    {
     "data": {
      "text/plain": [
       "<Figure size 500x500 with 0 Axes>"
      ]
     },
     "metadata": {},
     "output_type": "display_data"
    }
   ],
   "source": [
    "for octave in range(num_octaves):\n",
    "    print(f'Octave {octave + 1}')\n",
    "    for image in gaussian_images[octave]:\n",
    "        plot_image(image, figure_size=(5, 5))"
   ]
  },
  {
   "cell_type": "markdown",
   "metadata": {},
   "source": []
  },
  {
   "cell_type": "code",
   "execution_count": 27,
   "metadata": {},
   "outputs": [
    {
     "name": "stdout",
     "output_type": "stream",
     "text": [
      "Octave 1\n",
      "Octave 2\n",
      "Octave 3\n"
     ]
    }
   ],
   "source": [
    "for octave in range(num_octaves):\n",
    "    print(f'Octave {octave + 1}')\n",
    "    for i in range(len(gaussian_images[octave])):\n",
    "        gaussian_images[octave][i] = enc(gaussian_images[octave][i])"
   ]
  },
  {
   "cell_type": "code",
   "execution_count": 28,
   "metadata": {},
   "outputs": [],
   "source": [
    "dog_images = secGenerateDoGImages(gaussian_images)"
   ]
  },
  {
   "cell_type": "code",
   "execution_count": 29,
   "metadata": {},
   "outputs": [
    {
     "data": {
      "text/plain": [
       "(20, 20)"
      ]
     },
     "execution_count": 29,
     "metadata": {},
     "output_type": "execute_result"
    }
   ],
   "source": [
    "dog_images[0][0].shape"
   ]
  },
  {
   "cell_type": "code",
   "execution_count": 30,
   "metadata": {},
   "outputs": [
    {
     "name": "stdout",
     "output_type": "stream",
     "text": [
      "Octave 1\n"
     ]
    },
    {
     "data": {
      "image/png": "[encoded data removed]",
      "text/plain": [
       "<Figure size 640x480 with 1 Axes>"
      ]
     },
     "metadata": {},
     "output_type": "display_data"
    },
    {
     "data": {
      "text/plain": [
       "<Figure size 500x500 with 0 Axes>"
      ]
     },
     "metadata": {},
     "output_type": "display_data"
    },
    {
     "data": {
      "image/png": "[encoded data removed]",
      "text/plain": [
       "<Figure size 640x480 with 1 Axes>"
      ]
     },
     "metadata": {},
     "output_type": "display_data"
    },
    {
     "data": {
      "text/plain": [
       "<Figure size 500x500 with 0 Axes>"
      ]
     },
     "metadata": {},
     "output_type": "display_data"
    },
    {
     "data": {
      "image/png": "[encoded data removed]",
      "text/plain": [
       "<Figure size 640x480 with 1 Axes>"
      ]
     },
     "metadata": {},
     "output_type": "display_data"
    },
    {
     "data": {
      "text/plain": [
       "<Figure size 500x500 with 0 Axes>"
      ]
     },
     "metadata": {},
     "output_type": "display_data"
    },
    {
     "data": {
      "image/png": "[encoded data removed]",
      "text/plain": [
       "<Figure size 640x480 with 1 Axes>"
      ]
     },
     "metadata": {},
     "output_type": "display_data"
    },
    {
     "data": {
      "text/plain": [
       "<Figure size 500x500 with 0 Axes>"
      ]
     },
     "metadata": {},
     "output_type": "display_data"
    },
    {
     "data": {
      "image/png": "[encoded data removed]",
      "text/plain": [
       "<Figure size 640x480 with 1 Axes>"
      ]
     },
     "metadata": {},
     "output_type": "display_data"
    },
    {
     "data": {
      "text/plain": [
       "<Figure size 500x500 with 0 Axes>"
      ]
     },
     "metadata": {},
     "output_type": "display_data"
    },
    {
     "name": "stdout",
     "output_type": "stream",
     "text": [
      "Octave 2\n"
     ]
    },
    {
     "data": {
      "image/png": "[encoded data removed]",
      "text/plain": [
       "<Figure size 640x480 with 1 Axes>"
      ]
     },
     "metadata": {},
     "output_type": "display_data"
    },
    {
     "data": {
      "text/plain": [
       "<Figure size 500x500 with 0 Axes>"
      ]
     },
     "metadata": {},
     "output_type": "display_data"
    },
    {
     "data": {
      "image/png": "[encoded data removed]",
      "text/plain": [
       "<Figure size 640x480 with 1 Axes>"
      ]
     },
     "metadata": {},
     "output_type": "display_data"
    },
    {
     "data": {
      "text/plain": [
       "<Figure size 500x500 with 0 Axes>"
      ]
     },
     "metadata": {},
     "output_type": "display_data"
    },
    {
     "data": {
      "image/png": "[encoded data removed]",
      "text/plain": [
       "<Figure size 640x480 with 1 Axes>"
      ]
     },
     "metadata": {},
     "output_type": "display_data"
    },
    {
     "data": {
      "text/plain": [
       "<Figure size 500x500 with 0 Axes>"
      ]
     },
     "metadata": {},
     "output_type": "display_data"
    },
    {
     "data": {
      "image/png": "[encoded data removed]",
      "text/plain": [
       "<Figure size 640x480 with 1 Axes>"
      ]
     },
     "metadata": {},
     "output_type": "display_data"
    },
    {
     "data": {
      "text/plain": [
       "<Figure size 500x500 with 0 Axes>"
      ]
     },
     "metadata": {},
     "output_type": "display_data"
    },
    {
     "data": {
      "image/png": "[encoded data removed]",
      "text/plain": [
       "<Figure size 640x480 with 1 Axes>"
      ]
     },
     "metadata": {},
     "output_type": "display_data"
    },
    {
     "data": {
      "text/plain": [
       "<Figure size 500x500 with 0 Axes>"
      ]
     },
     "metadata": {},
     "output_type": "display_data"
    },
    {
     "name": "stdout",
     "output_type": "stream",
     "text": [
      "Octave 3\n"
     ]
    },
    {
     "data": {
      "image/png": "[encoded data removed]",
      "text/plain": [
       "<Figure size 640x480 with 1 Axes>"
      ]
     },
     "metadata": {},
     "output_type": "display_data"
    },
    {
     "data": {
      "text/plain": [
       "<Figure size 500x500 with 0 Axes>"
      ]
     },
     "metadata": {},
     "output_type": "display_data"
    },
    {
     "data": {
      "image/png": "[encoded data removed]",
      "text/plain": [
       "<Figure size 640x480 with 1 Axes>"
      ]
     },
     "metadata": {},
     "output_type": "display_data"
    },
    {
     "data": {
      "text/plain": [
       "<Figure size 500x500 with 0 Axes>"
      ]
     },
     "metadata": {},
     "output_type": "display_data"
    },
    {
     "data": {
      "image/png": "[encoded data removed]",
      "text/plain": [
       "<Figure size 640x480 with 1 Axes>"
      ]
     },
     "metadata": {},
     "output_type": "display_data"
    },
    {
     "data": {
      "text/plain": [
       "<Figure size 500x500 with 0 Axes>"
      ]
     },
     "metadata": {},
     "output_type": "display_data"
    },
    {
     "data": {
      "image/png": "[encoded data removed]",
      "text/plain": [
       "<Figure size 640x480 with 1 Axes>"
      ]
     },
     "metadata": {},
     "output_type": "display_data"
    },
    {
     "data": {
      "text/plain": [
       "<Figure size 500x500 with 0 Axes>"
      ]
     },
     "metadata": {},
     "output_type": "display_data"
    },
    {
     "data": {
      "image/png": "[encoded data removed]",
      "text/plain": [
       "<Figure size 640x480 with 1 Axes>"
      ]
     },
     "metadata": {},
     "output_type": "display_data"
    },
    {
     "data": {
      "text/plain": [
       "<Figure size 500x500 with 0 Axes>"
      ]
     },
     "metadata": {},
     "output_type": "display_data"
    }
   ],
   "source": [
    "for octave in range(num_octaves):\n",
    "    print(f'Octave {octave + 1}')\n",
    "    for image in dog_images[octave]:\n",
    "        plot_image(dec(image), figure_size=(5, 5))"
   ]
  },
  {
   "cell_type": "code",
   "execution_count": 31,
   "metadata": {},
   "outputs": [],
   "source": [
    "for oct in range(num_octaves):\n",
    "    for i in range(len(dog_images[oct])):\n",
    "        cv2.imwrite(f'dog-{IMG_NAME}-{oct}-{i}.png',dec(dog_images[oct][i]))"
   ]
  },
  {
   "cell_type": "code",
   "execution_count": 32,
   "metadata": {},
   "outputs": [],
   "source": [
    "dog_images = [[cv2.imread(f'dog-{IMG_NAME}-{oct}-{i}.png', 0) for i in range(5)] for oct in range(num_octaves) ]"
   ]
  },
  {
   "cell_type": "code",
   "execution_count": 33,
   "metadata": {},
   "outputs": [
    {
     "data": {
      "text/plain": [
       "array([[ 5, 11, 11,  7,  5,  4,  4,  4,  4,  4,  4,  4,  4,  4,  4,  4,\n",
       "         6, 10, 11,  5],\n",
       "       [11, 24, 23, 18, 16, 15, 15, 15, 15, 15, 15, 15, 15, 15, 15, 15,\n",
       "        19, 23, 24, 12],\n",
       "       [12, 24, 23, 17, 14, 14, 13, 14, 13, 14, 14, 13, 14, 13, 13, 14,\n",
       "        18, 24, 25, 12],\n",
       "       [ 8, 21, 18, 12,  9,  8,  7,  6,  7,  9,  9,  7,  6,  7,  8,  9,\n",
       "        13, 18, 20,  8],\n",
       "       [ 7, 17, 16, 11,  8,  5,  1,  0,  2,  5,  5,  2,  0,  2,  6,  9,\n",
       "        11, 14, 13,  4],\n",
       "       [ 4, 13, 13, 12, 10,  5,  0,  0,  0,  5,  5,  0,  0,  0,  7, 12,\n",
       "        10,  7,  6,  0],\n",
       "       [ 0,  6,  9, 12, 12,  2,  0,  0,  0,  5,  5,  0,  0,  0,  7, 11,\n",
       "         5,  1,  0,  0],\n",
       "       [ 0,  1,  1,  5,  5,  0,  0,  0,  0,  8,  6,  0,  0,  0,  0,  2,\n",
       "         0,  0,  0,  0],\n",
       "       [ 0,  0,  0,  0,  0,  0,  0,  0,  1,  9,  7,  0,  0,  0,  0,  0,\n",
       "         0,  0,  5,  3],\n",
       "       [ 3,  5,  0,  0,  0,  0,  0,  0,  5,  9,  8,  1,  0,  0,  0,  0,\n",
       "         0,  3, 13,  9],\n",
       "       [ 8, 14,  7,  0,  0,  0,  0,  3,  7,  9,  8,  6,  2,  0,  0,  0,\n",
       "         2, 12, 19,  9],\n",
       "       [ 8, 19, 15,  8,  5,  5,  6,  8,  9,  9,  9,  8,  7,  5,  5,  5,\n",
       "         9, 17, 19,  8],\n",
       "       [ 7, 19, 17, 10,  8,  8,  7,  7,  7,  7,  6,  6,  7,  7,  7,  7,\n",
       "         9, 16, 17,  6],\n",
       "       [ 5, 16, 15,  8,  6,  5,  3,  0,  0,  0,  0,  0,  2,  4,  5,  5,\n",
       "         7, 13, 15,  4],\n",
       "       [ 4, 16, 12,  7,  5,  2,  0,  0,  0,  0,  0,  0,  0,  2,  3,  3,\n",
       "         5, 12, 15,  4],\n",
       "       [ 4, 15, 12,  7,  5,  2,  0,  0,  0,  0,  0,  0,  0,  2,  4,  3,\n",
       "         6, 13, 15,  4],\n",
       "       [ 6, 18, 16, 10,  8,  7,  4,  0,  0,  0,  0,  0,  4,  7,  7,  6,\n",
       "         9, 15, 17,  6],\n",
       "       [10, 22, 22, 17, 14, 15, 14, 14, 14, 14, 14, 14, 14, 15, 13, 12,\n",
       "        15, 21, 22, 10],\n",
       "       [11, 23, 22, 18, 16, 16, 17, 19, 20, 20, 20, 19, 17, 16, 15, 15,\n",
       "        17, 22, 23, 11],\n",
       "       [ 5, 11, 10,  6,  5,  5,  5,  6,  6,  7,  6,  6,  5,  4,  4,  4,\n",
       "         6, 10, 11,  4]], dtype=uint8)"
      ]
     },
     "execution_count": 33,
     "metadata": {},
     "output_type": "execute_result"
    }
   ],
   "source": [
    "dog_images[0][0]"
   ]
  },
  {
   "cell_type": "code",
   "execution_count": 34,
   "metadata": {},
   "outputs": [
    {
     "name": "stdout",
     "output_type": "stream",
     "text": [
      "Octave 1\n"
     ]
    },
    {
     "data": {
      "image/png": "[encoded data removed]",
      "text/plain": [
       "<Figure size 640x480 with 1 Axes>"
      ]
     },
     "metadata": {},
     "output_type": "display_data"
    },
    {
     "data": {
      "text/plain": [
       "<Figure size 500x500 with 0 Axes>"
      ]
     },
     "metadata": {},
     "output_type": "display_data"
    },
    {
     "data": {
      "image/png": "[encoded data removed]",
      "text/plain": [
       "<Figure size 640x480 with 1 Axes>"
      ]
     },
     "metadata": {},
     "output_type": "display_data"
    },
    {
     "data": {
      "text/plain": [
       "<Figure size 500x500 with 0 Axes>"
      ]
     },
     "metadata": {},
     "output_type": "display_data"
    },
    {
     "data": {
      "image/png": "[encoded data removed]",
      "text/plain": [
       "<Figure size 640x480 with 1 Axes>"
      ]
     },
     "metadata": {},
     "output_type": "display_data"
    },
    {
     "data": {
      "text/plain": [
       "<Figure size 500x500 with 0 Axes>"
      ]
     },
     "metadata": {},
     "output_type": "display_data"
    },
    {
     "data": {
      "image/png": "[encoded data removed]",
      "text/plain": [
       "<Figure size 640x480 with 1 Axes>"
      ]
     },
     "metadata": {},
     "output_type": "display_data"
    },
    {
     "data": {
      "text/plain": [
       "<Figure size 500x500 with 0 Axes>"
      ]
     },
     "metadata": {},
     "output_type": "display_data"
    },
    {
     "data": {
      "image/png": "[encoded data removed]",
      "text/plain": [
       "<Figure size 640x480 with 1 Axes>"
      ]
     },
     "metadata": {},
     "output_type": "display_data"
    },
    {
     "data": {
      "text/plain": [
       "<Figure size 500x500 with 0 Axes>"
      ]
     },
     "metadata": {},
     "output_type": "display_data"
    },
    {
     "name": "stdout",
     "output_type": "stream",
     "text": [
      "Octave 2\n"
     ]
    },
    {
     "data": {
      "image/png": "[encoded data removed]",
      "text/plain": [
       "<Figure size 640x480 with 1 Axes>"
      ]
     },
     "metadata": {},
     "output_type": "display_data"
    },
    {
     "data": {
      "text/plain": [
       "<Figure size 500x500 with 0 Axes>"
      ]
     },
     "metadata": {},
     "output_type": "display_data"
    },
    {
     "data": {
      "image/png": "[encoded data removed]",
      "text/plain": [
       "<Figure size 640x480 with 1 Axes>"
      ]
     },
     "metadata": {},
     "output_type": "display_data"
    },
    {
     "data": {
      "text/plain": [
       "<Figure size 500x500 with 0 Axes>"
      ]
     },
     "metadata": {},
     "output_type": "display_data"
    },
    {
     "data": {
      "image/png": "[encoded data removed]",
      "text/plain": [
       "<Figure size 640x480 with 1 Axes>"
      ]
     },
     "metadata": {},
     "output_type": "display_data"
    },
    {
     "data": {
      "text/plain": [
       "<Figure size 500x500 with 0 Axes>"
      ]
     },
     "metadata": {},
     "output_type": "display_data"
    },
    {
     "data": {
      "image/png": "[encoded data removed]",
      "text/plain": [
       "<Figure size 640x480 with 1 Axes>"
      ]
     },
     "metadata": {},
     "output_type": "display_data"
    },
    {
     "data": {
      "text/plain": [
       "<Figure size 500x500 with 0 Axes>"
      ]
     },
     "metadata": {},
     "output_type": "display_data"
    },
    {
     "data": {
      "image/png": "[encoded data removed]",
      "text/plain": [
       "<Figure size 640x480 with 1 Axes>"
      ]
     },
     "metadata": {},
     "output_type": "display_data"
    },
    {
     "data": {
      "text/plain": [
       "<Figure size 500x500 with 0 Axes>"
      ]
     },
     "metadata": {},
     "output_type": "display_data"
    },
    {
     "name": "stdout",
     "output_type": "stream",
     "text": [
      "Octave 3\n"
     ]
    },
    {
     "data": {
      "image/png": "[encoded data removed]",
      "text/plain": [
       "<Figure size 640x480 with 1 Axes>"
      ]
     },
     "metadata": {},
     "output_type": "display_data"
    },
    {
     "data": {
      "text/plain": [
       "<Figure size 500x500 with 0 Axes>"
      ]
     },
     "metadata": {},
     "output_type": "display_data"
    },
    {
     "data": {
      "image/png": "[encoded data removed]",
      "text/plain": [
       "<Figure size 640x480 with 1 Axes>"
      ]
     },
     "metadata": {},
     "output_type": "display_data"
    },
    {
     "data": {
      "text/plain": [
       "<Figure size 500x500 with 0 Axes>"
      ]
     },
     "metadata": {},
     "output_type": "display_data"
    },
    {
     "data": {
      "image/png": "[encoded data removed]",
      "text/plain": [
       "<Figure size 640x480 with 1 Axes>"
      ]
     },
     "metadata": {},
     "output_type": "display_data"
    },
    {
     "data": {
      "text/plain": [
       "<Figure size 500x500 with 0 Axes>"
      ]
     },
     "metadata": {},
     "output_type": "display_data"
    },
    {
     "data": {
      "image/png": "[encoded data removed]",
      "text/plain": [
       "<Figure size 640x480 with 1 Axes>"
      ]
     },
     "metadata": {},
     "output_type": "display_data"
    },
    {
     "data": {
      "text/plain": [
       "<Figure size 500x500 with 0 Axes>"
      ]
     },
     "metadata": {},
     "output_type": "display_data"
    },
    {
     "data": {
      "image/png": "[encoded data removed]",
      "text/plain": [
       "<Figure size 640x480 with 1 Axes>"
      ]
     },
     "metadata": {},
     "output_type": "display_data"
    },
    {
     "data": {
      "text/plain": [
       "<Figure size 500x500 with 0 Axes>"
      ]
     },
     "metadata": {},
     "output_type": "display_data"
    }
   ],
   "source": [
    "for octave in range(num_octaves):\n",
    "    print(f'Octave {octave + 1}')\n",
    "    for image in dog_images[octave]:\n",
    "        plot_image(image, figure_size=(5, 5))"
   ]
  },
  {
   "cell_type": "code",
   "execution_count": 35,
   "metadata": {},
   "outputs": [],
   "source": [
    "def cmp(x, a, b):\n",
    "    if isinstance(x, ts.CKKSVector):\n",
    "        x = x.decrypt(secret_key)[0]\n",
    "    if isinstance(a, ts.CKKSVector):\n",
    "        a = a.decrypt(secret_key)[0]\n",
    "    if isinstance(b, ts.CKKSVector):\n",
    "        b = b.decrypt(secret_key)[0]\n",
    "    return ts.ckks_vector(context=context, vector=[int(a < x < b)])\n",
    "    "
   ]
  },
  {
   "cell_type": "code",
   "execution_count": 36,
   "metadata": {},
   "outputs": [],
   "source": [
    "sigma=1.6\n",
    "num_intervals=3\n",
    "assumed_blur=0.5\n",
    "image_border_width=5"
   ]
  },
  {
   "cell_type": "code",
   "execution_count": 37,
   "metadata": {},
   "outputs": [],
   "source": [
    "for octave in range(num_octaves):\n",
    "    for i in range(len(dog_images[octave])):\n",
    "        dog_images[octave][i] = enc(dog_images[octave][i])"
   ]
  },
  {
   "cell_type": "code",
   "execution_count": 38,
   "metadata": {},
   "outputs": [
    {
     "data": {
      "text/plain": [
       "[[array([[<tenseal.tensors.ckksvector.CKKSVector object at 0x7fda21496780>,\n",
       "          <tenseal.tensors.ckksvector.CKKSVector object at 0x7fda214961b0>,\n",
       "          <tenseal.tensors.ckksvector.CKKSVector object at 0x7fd9a820b890>,\n",
       "          <tenseal.tensors.ckksvector.CKKSVector object at 0x7fd9a821d130>,\n",
       "          <tenseal.tensors.ckksvector.CKKSVector object at 0x7fda21494a10>,\n",
       "          <tenseal.tensors.ckksvector.CKKSVector object at 0x7fda214973b0>,\n",
       "          <tenseal.tensors.ckksvector.CKKSVector object at 0x7fd9a821fda0>,\n",
       "          <tenseal.tensors.ckksvector.CKKSVector object at 0x7fda21495d60>,\n",
       "          <tenseal.tensors.ckksvector.CKKSVector object at 0x7fd9a81473e0>,\n",
       "          <tenseal.tensors.ckksvector.CKKSVector object at 0x7fd9a81b37a0>,\n",
       "          <tenseal.tensors.ckksvector.CKKSVector object at 0x7fda21497020>,\n",
       "          <tenseal.tensors.ckksvector.CKKSVector object at 0x7fd9a82086b0>,\n",
       "          <tenseal.tensors.ckksvector.CKKSVector object at 0x7fda214963c0>,\n",
       "          <tenseal.tensors.ckksvector.CKKSVector object at 0x7fd91f8ba480>,\n",
       "          <tenseal.tensors.ckksvector.CKKSVector object at 0x7fda214650d0>,\n",
       "          <tenseal.tensors.ckksvector.CKKSVector object at 0x7fd9a8216c90>,\n",
       "          <tenseal.tensors.ckksvector.CKKSVector object at 0x7fd9a8217da0>,\n",
       "          <tenseal.tensors.ckksvector.CKKSVector object at 0x7fd9a82179b0>,\n",
       "          <tenseal.tensors.ckksvector.CKKSVector object at 0x7fd9a8217650>,\n",
       "          <tenseal.tensors.ckksvector.CKKSVector object at 0x7fd9a8217ce0>],\n",
       "         [<tenseal.tensors.ckksvector.CKKSVector object at 0x7fd9a8217c20>,\n",
       "          <tenseal.tensors.ckksvector.CKKSVector object at 0x7fda21456f90>,\n",
       "          <tenseal.tensors.ckksvector.CKKSVector object at 0x7fda21456b10>,\n",
       "          <tenseal.tensors.ckksvector.CKKSVector object at 0x7fda214552b0>,\n",
       "          <tenseal.tensors.ckksvector.CKKSVector object at 0x7fda21455220>,\n",
       "          <tenseal.tensors.ckksvector.CKKSVector object at 0x7fda21454e90>,\n",
       "          <tenseal.tensors.ckksvector.CKKSVector object at 0x7fd91f8e2000>,\n",
       "          <tenseal.tensors.ckksvector.CKKSVector object at 0x7fd91f8e0fe0>,\n",
       "          <tenseal.tensors.ckksvector.CKKSVector object at 0x7fd91f8e3dd0>,\n",
       "          <tenseal.tensors.ckksvector.CKKSVector object at 0x7fd91f8e0050>,\n",
       "          <tenseal.tensors.ckksvector.CKKSVector object at 0x7fd91f8e2240>,\n",
       "          <tenseal.tensors.ckksvector.CKKSVector object at 0x7fd91f8e3380>,\n",
       "          <tenseal.tensors.ckksvector.CKKSVector object at 0x7fd91f8e3bf0>,\n",
       "          <tenseal.tensors.ckksvector.CKKSVector object at 0x7fd9a8328fe0>,\n",
       "          <tenseal.tensors.ckksvector.CKKSVector object at 0x7fd9a8328110>,\n",
       "          <tenseal.tensors.ckksvector.CKKSVector object at 0x7fd9a83293d0>,\n",
       "          <tenseal.tensors.ckksvector.CKKSVector object at 0x7fd9a8381a60>,\n",
       "          <tenseal.tensors.ckksvector.CKKSVector object at 0x7fd9a832bf80>,\n",
       "          <tenseal.tensors.ckksvector.CKKSVector object at 0x7fd9a8193440>,\n",
       "          <tenseal.tensors.ckksvector.CKKSVector object at 0x7fd9a81b1f40>],\n",
       "         [<tenseal.tensors.ckksvector.CKKSVector object at 0x7fda21478290>,\n",
       "          <tenseal.tensors.ckksvector.CKKSVector object at 0x7fd91f8ff4d0>,\n",
       "          <tenseal.tensors.ckksvector.CKKSVector object at 0x7fd9a832a690>,\n",
       "          <tenseal.tensors.ckksvector.CKKSVector object at 0x7fd9a8328d10>,\n",
       "          <tenseal.tensors.ckksvector.CKKSVector object at 0x7fd9a832a6c0>,\n",
       "          <tenseal.tensors.ckksvector.CKKSVector object at 0x7fd9a832a120>,\n",
       "          <tenseal.tensors.ckksvector.CKKSVector object at 0x7fd9a8329d00>,\n",
       "          <tenseal.tensors.ckksvector.CKKSVector object at 0x7fda21454a10>,\n",
       "          <tenseal.tensors.ckksvector.CKKSVector object at 0x7fd9a832b230>,\n",
       "          <tenseal.tensors.ckksvector.CKKSVector object at 0x7fd9a82728a0>,\n",
       "          <tenseal.tensors.ckksvector.CKKSVector object at 0x7fd9a81b1100>,\n",
       "          <tenseal.tensors.ckksvector.CKKSVector object at 0x7fd9a832b740>,\n",
       "          <tenseal.tensors.ckksvector.CKKSVector object at 0x7fd91f8e0da0>,\n",
       "          <tenseal.tensors.ckksvector.CKKSVector object at 0x7fd9a832acc0>,\n",
       "          <tenseal.tensors.ckksvector.CKKSVector object at 0x7fd9a832b920>,\n",
       "          <tenseal.tensors.ckksvector.CKKSVector object at 0x7fd9a8147c20>,\n",
       "          <tenseal.tensors.ckksvector.CKKSVector object at 0x7fd9a8328ec0>,\n",
       "          <tenseal.tensors.ckksvector.CKKSVector object at 0x7fd9a829b530>,\n",
       "          <tenseal.tensors.ckksvector.CKKSVector object at 0x7fd9a81934d0>,\n",
       "          <tenseal.tensors.ckksvector.CKKSVector object at 0x7fd9a832b350>],\n",
       "         [<tenseal.tensors.ckksvector.CKKSVector object at 0x7fd91f8e3440>,\n",
       "          <tenseal.tensors.ckksvector.CKKSVector object at 0x7fd9a832b3e0>,\n",
       "          <tenseal.tensors.ckksvector.CKKSVector object at 0x7fd9a832b290>,\n",
       "          <tenseal.tensors.ckksvector.CKKSVector object at 0x7fd9a8329e80>,\n",
       "          <tenseal.tensors.ckksvector.CKKSVector object at 0x7fd9a8329580>,\n",
       "          <tenseal.tensors.ckksvector.CKKSVector object at 0x7fd9a832bef0>,\n",
       "          <tenseal.tensors.ckksvector.CKKSVector object at 0x7fd9a832a180>,\n",
       "          <tenseal.tensors.ckksvector.CKKSVector object at 0x7fd91f8e2270>,\n",
       "          <tenseal.tensors.ckksvector.CKKSVector object at 0x7fd9a832a510>,\n",
       "          <tenseal.tensors.ckksvector.CKKSVector object at 0x7fd9a8328bc0>,\n",
       "          <tenseal.tensors.ckksvector.CKKSVector object at 0x7fd9a8328500>,\n",
       "          <tenseal.tensors.ckksvector.CKKSVector object at 0x7fd9a832b050>,\n",
       "          <tenseal.tensors.ckksvector.CKKSVector object at 0x7fd9a8329520>,\n",
       "          <tenseal.tensors.ckksvector.CKKSVector object at 0x7fd9a832b6b0>,\n",
       "          <tenseal.tensors.ckksvector.CKKSVector object at 0x7fd9a832be60>,\n",
       "          <tenseal.tensors.ckksvector.CKKSVector object at 0x7fd9a832adb0>,\n",
       "          <tenseal.tensors.ckksvector.CKKSVector object at 0x7fd9a832ad50>,\n",
       "          <tenseal.tensors.ckksvector.CKKSVector object at 0x7fd9a832ab10>,\n",
       "          <tenseal.tensors.ckksvector.CKKSVector object at 0x7fd91f8e2a50>,\n",
       "          <tenseal.tensors.ckksvector.CKKSVector object at 0x7fd7e21d0920>],\n",
       "         [<tenseal.tensors.ckksvector.CKKSVector object at 0x7fd9a8192870>,\n",
       "          <tenseal.tensors.ckksvector.CKKSVector object at 0x7fd9a832a1e0>,\n",
       "          <tenseal.tensors.ckksvector.CKKSVector object at 0x7fd91f8e1160>,\n",
       "          <tenseal.tensors.ckksvector.CKKSVector object at 0x7fd9a832a540>,\n",
       "          <tenseal.tensors.ckksvector.CKKSVector object at 0x7fd9a832a2d0>,\n",
       "          <tenseal.tensors.ckksvector.CKKSVector object at 0x7fd9a83280b0>,\n",
       "          <tenseal.tensors.ckksvector.CKKSVector object at 0x7fd9a83282f0>,\n",
       "          <tenseal.tensors.ckksvector.CKKSVector object at 0x7fd91f8e0770>,\n",
       "          <tenseal.tensors.ckksvector.CKKSVector object at 0x7fd9a81f79e0>,\n",
       "          <tenseal.tensors.ckksvector.CKKSVector object at 0x7fd9a8328440>,\n",
       "          <tenseal.tensors.ckksvector.CKKSVector object at 0x7fd91f8e0260>,\n",
       "          <tenseal.tensors.ckksvector.CKKSVector object at 0x7fd9a832bce0>,\n",
       "          <tenseal.tensors.ckksvector.CKKSVector object at 0x7fd9a832bb90>,\n",
       "          <tenseal.tensors.ckksvector.CKKSVector object at 0x7fd9a8209e20>,\n",
       "          <tenseal.tensors.ckksvector.CKKSVector object at 0x7fd9a832bbf0>,\n",
       "          <tenseal.tensors.ckksvector.CKKSVector object at 0x7fda21457110>,\n",
       "          <tenseal.tensors.ckksvector.CKKSVector object at 0x7fda214b9a60>,\n",
       "          <tenseal.tensors.ckksvector.CKKSVector object at 0x7fd9a832a0f0>,\n",
       "          <tenseal.tensors.ckksvector.CKKSVector object at 0x7fd9a832b9e0>,\n",
       "          <tenseal.tensors.ckksvector.CKKSVector object at 0x7fda21456180>],\n",
       "         [<tenseal.tensors.ckksvector.CKKSVector object at 0x7fd9a8216ae0>,\n",
       "          <tenseal.tensors.ckksvector.CKKSVector object at 0x7fd91f92ade0>,\n",
       "          <tenseal.tensors.ckksvector.CKKSVector object at 0x7fd91f8e0e00>,\n",
       "          <tenseal.tensors.ckksvector.CKKSVector object at 0x7fd91f8ba300>,\n",
       "          <tenseal.tensors.ckksvector.CKKSVector object at 0x7fd91f8e1790>,\n",
       "          <tenseal.tensors.ckksvector.CKKSVector object at 0x7fd9a8329e50>,\n",
       "          <tenseal.tensors.ckksvector.CKKSVector object at 0x7fda221f8ef0>,\n",
       "          <tenseal.tensors.ckksvector.CKKSVector object at 0x7fd9a8329190>,\n",
       "          <tenseal.tensors.ckksvector.CKKSVector object at 0x7fd9a8192720>,\n",
       "          <tenseal.tensors.ckksvector.CKKSVector object at 0x7fda21508cb0>,\n",
       "          <tenseal.tensors.ckksvector.CKKSVector object at 0x7fd9a8328da0>,\n",
       "          <tenseal.tensors.ckksvector.CKKSVector object at 0x7fda21496480>,\n",
       "          <tenseal.tensors.ckksvector.CKKSVector object at 0x7fd9a832a4b0>,\n",
       "          <tenseal.tensors.ckksvector.CKKSVector object at 0x7fd9a82081d0>,\n",
       "          <tenseal.tensors.ckksvector.CKKSVector object at 0x7fd91f8ba1b0>,\n",
       "          <tenseal.tensors.ckksvector.CKKSVector object at 0x7fd9a832b500>,\n",
       "          <tenseal.tensors.ckksvector.CKKSVector object at 0x7fd9a83e97c0>,\n",
       "          <tenseal.tensors.ckksvector.CKKSVector object at 0x7fda214948c0>,\n",
       "          <tenseal.tensors.ckksvector.CKKSVector object at 0x7fd91f89de20>,\n",
       "          <tenseal.tensors.ckksvector.CKKSVector object at 0x7fd91f89dd60>],\n",
       "         [<tenseal.tensors.ckksvector.CKKSVector object at 0x7fd91f89c140>,\n",
       "          <tenseal.tensors.ckksvector.CKKSVector object at 0x7fd91f89c6b0>,\n",
       "          <tenseal.tensors.ckksvector.CKKSVector object at 0x7fd9a832ad20>,\n",
       "          <tenseal.tensors.ckksvector.CKKSVector object at 0x7fd91f89e960>,\n",
       "          <tenseal.tensors.ckksvector.CKKSVector object at 0x7fd91f89ee70>,\n",
       "          <tenseal.tensors.ckksvector.CKKSVector object at 0x7fd91f89e7b0>,\n",
       "          <tenseal.tensors.ckksvector.CKKSVector object at 0x7fd91f89ddc0>,\n",
       "          <tenseal.tensors.ckksvector.CKKSVector object at 0x7fda214558b0>,\n",
       "          <tenseal.tensors.ckksvector.CKKSVector object at 0x7fd91f89d880>,\n",
       "          <tenseal.tensors.ckksvector.CKKSVector object at 0x7fd91f89cc20>,\n",
       "          <tenseal.tensors.ckksvector.CKKSVector object at 0x7fd9a821f2f0>,\n",
       "          <tenseal.tensors.ckksvector.CKKSVector object at 0x7fd91f89f440>,\n",
       "          <tenseal.tensors.ckksvector.CKKSVector object at 0x7fd91f89ee40>,\n",
       "          <tenseal.tensors.ckksvector.CKKSVector object at 0x7fd91f89c2f0>,\n",
       "          <tenseal.tensors.ckksvector.CKKSVector object at 0x7fd91f89e870>,\n",
       "          <tenseal.tensors.ckksvector.CKKSVector object at 0x7fd91f89f7d0>,\n",
       "          <tenseal.tensors.ckksvector.CKKSVector object at 0x7fd91f89ff80>,\n",
       "          <tenseal.tensors.ckksvector.CKKSVector object at 0x7fd91f89df70>,\n",
       "          <tenseal.tensors.ckksvector.CKKSVector object at 0x7fd91f928950>,\n",
       "          <tenseal.tensors.ckksvector.CKKSVector object at 0x7fd91f89f710>],\n",
       "         [<tenseal.tensors.ckksvector.CKKSVector object at 0x7fd91f94f710>,\n",
       "          <tenseal.tensors.ckksvector.CKKSVector object at 0x7fd91f89e9f0>,\n",
       "          <tenseal.tensors.ckksvector.CKKSVector object at 0x7fda215adeb0>,\n",
       "          <tenseal.tensors.ckksvector.CKKSVector object at 0x7fd91f89d250>,\n",
       "          <tenseal.tensors.ckksvector.CKKSVector object at 0x7fd91f89f530>,\n",
       "          <tenseal.tensors.ckksvector.CKKSVector object at 0x7fd91f89ff50>,\n",
       "          <tenseal.tensors.ckksvector.CKKSVector object at 0x7fd91f89e090>,\n",
       "          <tenseal.tensors.ckksvector.CKKSVector object at 0x7fd91f89f0b0>,\n",
       "          <tenseal.tensors.ckksvector.CKKSVector object at 0x7fda21456420>,\n",
       "          <tenseal.tensors.ckksvector.CKKSVector object at 0x7fd9a8328b60>,\n",
       "          <tenseal.tensors.ckksvector.CKKSVector object at 0x7fd91f89cdd0>,\n",
       "          <tenseal.tensors.ckksvector.CKKSVector object at 0x7fd91f89d160>,\n",
       "          <tenseal.tensors.ckksvector.CKKSVector object at 0x7fd91f89c0e0>,\n",
       "          <tenseal.tensors.ckksvector.CKKSVector object at 0x7fd91f89d2b0>,\n",
       "          <tenseal.tensors.ckksvector.CKKSVector object at 0x7fd91f89c890>,\n",
       "          <tenseal.tensors.ckksvector.CKKSVector object at 0x7fd91f94c470>,\n",
       "          <tenseal.tensors.ckksvector.CKKSVector object at 0x7fd91f89c380>,\n",
       "          <tenseal.tensors.ckksvector.CKKSVector object at 0x7fd9a8244fb0>,\n",
       "          <tenseal.tensors.ckksvector.CKKSVector object at 0x7fda21592360>,\n",
       "          <tenseal.tensors.ckksvector.CKKSVector object at 0x7fd91f89c290>],\n",
       "         [<tenseal.tensors.ckksvector.CKKSVector object at 0x7fda2159c830>,\n",
       "          <tenseal.tensors.ckksvector.CKKSVector object at 0x7fd91f89de50>,\n",
       "          <tenseal.tensors.ckksvector.CKKSVector object at 0x7fd91f89c680>,\n",
       "          <tenseal.tensors.ckksvector.CKKSVector object at 0x7fd91f89cda0>,\n",
       "          <tenseal.tensors.ckksvector.CKKSVector object at 0x7fda2159cd70>,\n",
       "          <tenseal.tensors.ckksvector.CKKSVector object at 0x7fd9a81f4c80>,\n",
       "          <tenseal.tensors.ckksvector.CKKSVector object at 0x7fda21456c00>,\n",
       "          <tenseal.tensors.ckksvector.CKKSVector object at 0x7fda215acd10>,\n",
       "          <tenseal.tensors.ckksvector.CKKSVector object at 0x7fd91f89d9d0>,\n",
       "          <tenseal.tensors.ckksvector.CKKSVector object at 0x7fd91f89d2e0>,\n",
       "          <tenseal.tensors.ckksvector.CKKSVector object at 0x7fda21495b20>,\n",
       "          <tenseal.tensors.ckksvector.CKKSVector object at 0x7fd91f89da30>,\n",
       "          <tenseal.tensors.ckksvector.CKKSVector object at 0x7fd91f89d190>,\n",
       "          <tenseal.tensors.ckksvector.CKKSVector object at 0x7fd91f89cad0>,\n",
       "          <tenseal.tensors.ckksvector.CKKSVector object at 0x7fd91f89d0a0>,\n",
       "          <tenseal.tensors.ckksvector.CKKSVector object at 0x7fd91f89c8c0>,\n",
       "          <tenseal.tensors.ckksvector.CKKSVector object at 0x7fd91f89d220>,\n",
       "          <tenseal.tensors.ckksvector.CKKSVector object at 0x7fd91f89d5b0>,\n",
       "          <tenseal.tensors.ckksvector.CKKSVector object at 0x7fd91f89d6d0>,\n",
       "          <tenseal.tensors.ckksvector.CKKSVector object at 0x7fd91f94d100>],\n",
       "         [<tenseal.tensors.ckksvector.CKKSVector object at 0x7fd91f89db50>,\n",
       "          <tenseal.tensors.ckksvector.CKKSVector object at 0x7fd91f8fd4f0>,\n",
       "          <tenseal.tensors.ckksvector.CKKSVector object at 0x7fd9a8215820>,\n",
       "          <tenseal.tensors.ckksvector.CKKSVector object at 0x7fd91f89cf20>,\n",
       "          <tenseal.tensors.ckksvector.CKKSVector object at 0x7fd91f8bb320>,\n",
       "          <tenseal.tensors.ckksvector.CKKSVector object at 0x7fd91f89d910>,\n",
       "          <tenseal.tensors.ckksvector.CKKSVector object at 0x7fd91f89d3a0>,\n",
       "          <tenseal.tensors.ckksvector.CKKSVector object at 0x7fd91f89d1c0>,\n",
       "          <tenseal.tensors.ckksvector.CKKSVector object at 0x7fd91f94e540>,\n",
       "          <tenseal.tensors.ckksvector.CKKSVector object at 0x7fd9a8216750>,\n",
       "          <tenseal.tensors.ckksvector.CKKSVector object at 0x7fda21457b30>,\n",
       "          <tenseal.tensors.ckksvector.CKKSVector object at 0x7fda214957c0>,\n",
       "          <tenseal.tensors.ckksvector.CKKSVector object at 0x7fd91f89fd10>,\n",
       "          <tenseal.tensors.ckksvector.CKKSVector object at 0x7fd91f94f4d0>,\n",
       "          <tenseal.tensors.ckksvector.CKKSVector object at 0x7fda21497c50>,\n",
       "          <tenseal.tensors.ckksvector.CKKSVector object at 0x7fd91f89f590>,\n",
       "          <tenseal.tensors.ckksvector.CKKSVector object at 0x7fda21497950>,\n",
       "          <tenseal.tensors.ckksvector.CKKSVector object at 0x7fd91f89ed50>,\n",
       "          <tenseal.tensors.ckksvector.CKKSVector object at 0x7fd91f89d490>,\n",
       "          <tenseal.tensors.ckksvector.CKKSVector object at 0x7fd91f94f050>],\n",
       "         [<tenseal.tensors.ckksvector.CKKSVector object at 0x7fd91f89e0f0>,\n",
       "          <tenseal.tensors.ckksvector.CKKSVector object at 0x7fd91f89f230>,\n",
       "          <tenseal.tensors.ckksvector.CKKSVector object at 0x7fda21455970>,\n",
       "          <tenseal.tensors.ckksvector.CKKSVector object at 0x7fd91f89e360>,\n",
       "          <tenseal.tensors.ckksvector.CKKSVector object at 0x7fd9a82878f0>,\n",
       "          <tenseal.tensors.ckksvector.CKKSVector object at 0x7fd91f89fb60>,\n",
       "          <tenseal.tensors.ckksvector.CKKSVector object at 0x7fd9a8247680>,\n",
       "          <tenseal.tensors.ckksvector.CKKSVector object at 0x7fd9a8287860>,\n",
       "          <tenseal.tensors.ckksvector.CKKSVector object at 0x7fda21495460>,\n",
       "          <tenseal.tensors.ckksvector.CKKSVector object at 0x7fd91f89f0e0>,\n",
       "          <tenseal.tensors.ckksvector.CKKSVector object at 0x7fd91f89f800>,\n",
       "          <tenseal.tensors.ckksvector.CKKSVector object at 0x7fd91f89e060>,\n",
       "          <tenseal.tensors.ckksvector.CKKSVector object at 0x7fda21467e30>,\n",
       "          <tenseal.tensors.ckksvector.CKKSVector object at 0x7fd91f89e4b0>,\n",
       "          <tenseal.tensors.ckksvector.CKKSVector object at 0x7fd9a82174a0>,\n",
       "          <tenseal.tensors.ckksvector.CKKSVector object at 0x7fda21496fc0>,\n",
       "          <tenseal.tensors.ckksvector.CKKSVector object at 0x7fd9a8329250>,\n",
       "          <tenseal.tensors.ckksvector.CKKSVector object at 0x7fd91f94f920>,\n",
       "          <tenseal.tensors.ckksvector.CKKSVector object at 0x7fda21496bd0>,\n",
       "          <tenseal.tensors.ckksvector.CKKSVector object at 0x7fd91f89faa0>],\n",
       "         [<tenseal.tensors.ckksvector.CKKSVector object at 0x7fd91f89e2a0>,\n",
       "          <tenseal.tensors.ckksvector.CKKSVector object at 0x7fda214977a0>,\n",
       "          <tenseal.tensors.ckksvector.CKKSVector object at 0x7fd91f89eea0>,\n",
       "          <tenseal.tensors.ckksvector.CKKSVector object at 0x7fda215af560>,\n",
       "          <tenseal.tensors.ckksvector.CKKSVector object at 0x7fd91f89fb90>,\n",
       "          <tenseal.tensors.ckksvector.CKKSVector object at 0x7fd91f89ca10>,\n",
       "          <tenseal.tensors.ckksvector.CKKSVector object at 0x7fd9a8329d90>,\n",
       "          <tenseal.tensors.ckksvector.CKKSVector object at 0x7fd91f89f200>,\n",
       "          <tenseal.tensors.ckksvector.CKKSVector object at 0x7fd91f89eb40>,\n",
       "          <tenseal.tensors.ckksvector.CKKSVector object at 0x7fd91f89e450>,\n",
       "          <tenseal.tensors.ckksvector.CKKSVector object at 0x7fd91f89d730>,\n",
       "          <tenseal.tensors.ckksvector.CKKSVector object at 0x7fd91f89dfa0>,\n",
       "          <tenseal.tensors.ckksvector.CKKSVector object at 0x7fda21467140>,\n",
       "          <tenseal.tensors.ckksvector.CKKSVector object at 0x7fd9a8217500>,\n",
       "          <tenseal.tensors.ckksvector.CKKSVector object at 0x7fd91f89c4d0>,\n",
       "          <tenseal.tensors.ckksvector.CKKSVector object at 0x7fd91f89f650>,\n",
       "          <tenseal.tensors.ckksvector.CKKSVector object at 0x7fd91f89cc50>,\n",
       "          <tenseal.tensors.ckksvector.CKKSVector object at 0x7fd91f89fb30>,\n",
       "          <tenseal.tensors.ckksvector.CKKSVector object at 0x7fda21466cf0>,\n",
       "          <tenseal.tensors.ckksvector.CKKSVector object at 0x7fda21494fe0>],\n",
       "         [<tenseal.tensors.ckksvector.CKKSVector object at 0x7fd9a8247710>,\n",
       "          <tenseal.tensors.ckksvector.CKKSVector object at 0x7fd91f89e630>,\n",
       "          <tenseal.tensors.ckksvector.CKKSVector object at 0x7fd9a832a7e0>,\n",
       "          <tenseal.tensors.ckksvector.CKKSVector object at 0x7fd91f89e0c0>,\n",
       "          <tenseal.tensors.ckksvector.CKKSVector object at 0x7fd91f89e7e0>,\n",
       "          <tenseal.tensors.ckksvector.CKKSVector object at 0x7fd91f89fbc0>,\n",
       "          <tenseal.tensors.ckksvector.CKKSVector object at 0x7fd9a811ef30>,\n",
       "          <tenseal.tensors.ckksvector.CKKSVector object at 0x7fd9a8217c80>,\n",
       "          <tenseal.tensors.ckksvector.CKKSVector object at 0x7fda2149c530>,\n",
       "          <tenseal.tensors.ckksvector.CKKSVector object at 0x7fd91f94cad0>,\n",
       "          <tenseal.tensors.ckksvector.CKKSVector object at 0x7fda2149ef60>,\n",
       "          <tenseal.tensors.ckksvector.CKKSVector object at 0x7fd91f89d130>,\n",
       "          <tenseal.tensors.ckksvector.CKKSVector object at 0x7fda2149fd10>,\n",
       "          <tenseal.tensors.ckksvector.CKKSVector object at 0x7fd9a8217d70>,\n",
       "          <tenseal.tensors.ckksvector.CKKSVector object at 0x7fd91f89cbc0>,\n",
       "          <tenseal.tensors.ckksvector.CKKSVector object at 0x7fd9a8145e20>,\n",
       "          <tenseal.tensors.ckksvector.CKKSVector object at 0x7fd91f89e300>,\n",
       "          <tenseal.tensors.ckksvector.CKKSVector object at 0x7fda21457230>,\n",
       "          <tenseal.tensors.ckksvector.CKKSVector object at 0x7fd91f89ec90>,\n",
       "          <tenseal.tensors.ckksvector.CKKSVector object at 0x7fd91f8fe900>],\n",
       "         [<tenseal.tensors.ckksvector.CKKSVector object at 0x7fd9a8246ae0>,\n",
       "          <tenseal.tensors.ckksvector.CKKSVector object at 0x7fd91f89db80>,\n",
       "          <tenseal.tensors.ckksvector.CKKSVector object at 0x7fda21494da0>,\n",
       "          <tenseal.tensors.ckksvector.CKKSVector object at 0x7fda2149f800>,\n",
       "          <tenseal.tensors.ckksvector.CKKSVector object at 0x7fda2149c500>,\n",
       "          <tenseal.tensors.ckksvector.CKKSVector object at 0x7fd91f89dbb0>,\n",
       "          <tenseal.tensors.ckksvector.CKKSVector object at 0x7fd91f89f170>,\n",
       "          <tenseal.tensors.ckksvector.CKKSVector object at 0x7fd91f89df10>,\n",
       "          <tenseal.tensors.ckksvector.CKKSVector object at 0x7fd91f89fef0>,\n",
       "          <tenseal.tensors.ckksvector.CKKSVector object at 0x7fda214541d0>,\n",
       "          <tenseal.tensors.ckksvector.CKKSVector object at 0x7fd91f89f9e0>,\n",
       "          <tenseal.tensors.ckksvector.CKKSVector object at 0x7fda2149daf0>,\n",
       "          <tenseal.tensors.ckksvector.CKKSVector object at 0x7fd91f89db20>,\n",
       "          <tenseal.tensors.ckksvector.CKKSVector object at 0x7fd91f89d5e0>,\n",
       "          <tenseal.tensors.ckksvector.CKKSVector object at 0x7fd91f89e3c0>,\n",
       "          <tenseal.tensors.ckksvector.CKKSVector object at 0x7fda2149fe00>,\n",
       "          <tenseal.tensors.ckksvector.CKKSVector object at 0x7fd91f89fd40>,\n",
       "          <tenseal.tensors.ckksvector.CKKSVector object at 0x7fda21495970>,\n",
       "          <tenseal.tensors.ckksvector.CKKSVector object at 0x7fda2149e4b0>,\n",
       "          <tenseal.tensors.ckksvector.CKKSVector object at 0x7fd91f8e1c40>],\n",
       "         [<tenseal.tensors.ckksvector.CKKSVector object at 0x7fd91f89f6e0>,\n",
       "          <tenseal.tensors.ckksvector.CKKSVector object at 0x7fd91f89e210>,\n",
       "          <tenseal.tensors.ckksvector.CKKSVector object at 0x7fda2149f650>,\n",
       "          <tenseal.tensors.ckksvector.CKKSVector object at 0x7fd91f89e510>,\n",
       "          <tenseal.tensors.ckksvector.CKKSVector object at 0x7fda2149ea20>,\n",
       "          <tenseal.tensors.ckksvector.CKKSVector object at 0x7fda21457800>,\n",
       "          <tenseal.tensors.ckksvector.CKKSVector object at 0x7fd9a838ff80>,\n",
       "          <tenseal.tensors.ckksvector.CKKSVector object at 0x7fd9a83eb9e0>,\n",
       "          <tenseal.tensors.ckksvector.CKKSVector object at 0x7fd9a83e88f0>,\n",
       "          <tenseal.tensors.ckksvector.CKKSVector object at 0x7fd9a83ea9f0>,\n",
       "          <tenseal.tensors.ckksvector.CKKSVector object at 0x7fd9a83e9a60>,\n",
       "          <tenseal.tensors.ckksvector.CKKSVector object at 0x7fd9a83ea900>,\n",
       "          <tenseal.tensors.ckksvector.CKKSVector object at 0x7fda21465b20>,\n",
       "          <tenseal.tensors.ckksvector.CKKSVector object at 0x7fda21466ae0>,\n",
       "          <tenseal.tensors.ckksvector.CKKSVector object at 0x7fda21454c20>,\n",
       "          <tenseal.tensors.ckksvector.CKKSVector object at 0x7fda215203e0>,\n",
       "          <tenseal.tensors.ckksvector.CKKSVector object at 0x7fd9a8246750>,\n",
       "          <tenseal.tensors.ckksvector.CKKSVector object at 0x7fd9a82478f0>,\n",
       "          <tenseal.tensors.ckksvector.CKKSVector object at 0x7fd9a8247f20>,\n",
       "          <tenseal.tensors.ckksvector.CKKSVector object at 0x7fd9a82474d0>],\n",
       "         [<tenseal.tensors.ckksvector.CKKSVector object at 0x7fd9a8244590>,\n",
       "          <tenseal.tensors.ckksvector.CKKSVector object at 0x7fd9a82454f0>,\n",
       "          <tenseal.tensors.ckksvector.CKKSVector object at 0x7fd9a821e0c0>,\n",
       "          <tenseal.tensors.ckksvector.CKKSVector object at 0x7fd9a821d2e0>,\n",
       "          <tenseal.tensors.ckksvector.CKKSVector object at 0x7fd9a821dca0>,\n",
       "          <tenseal.tensors.ckksvector.CKKSVector object at 0x7fd9a821c740>,\n",
       "          <tenseal.tensors.ckksvector.CKKSVector object at 0x7fd9a821d940>,\n",
       "          <tenseal.tensors.ckksvector.CKKSVector object at 0x7fd9a821d310>,\n",
       "          <tenseal.tensors.ckksvector.CKKSVector object at 0x7fda21464c20>,\n",
       "          <tenseal.tensors.ckksvector.CKKSVector object at 0x7fd9a821ef90>,\n",
       "          <tenseal.tensors.ckksvector.CKKSVector object at 0x7fd9a821e1b0>,\n",
       "          <tenseal.tensors.ckksvector.CKKSVector object at 0x7fd9a821ebd0>,\n",
       "          <tenseal.tensors.ckksvector.CKKSVector object at 0x7fd9a811fad0>,\n",
       "          <tenseal.tensors.ckksvector.CKKSVector object at 0x7fd9a811dd00>,\n",
       "          <tenseal.tensors.ckksvector.CKKSVector object at 0x7fda21456990>,\n",
       "          <tenseal.tensors.ckksvector.CKKSVector object at 0x7fd9a82713d0>,\n",
       "          <tenseal.tensors.ckksvector.CKKSVector object at 0x7fd9a83ea600>,\n",
       "          <tenseal.tensors.ckksvector.CKKSVector object at 0x7fd9a8271610>,\n",
       "          <tenseal.tensors.ckksvector.CKKSVector object at 0x7fd9a8271190>,\n",
       "          <tenseal.tensors.ckksvector.CKKSVector object at 0x7fd9a8273650>],\n",
       "         [<tenseal.tensors.ckksvector.CKKSVector object at 0x7fd91f967b30>,\n",
       "          <tenseal.tensors.ckksvector.CKKSVector object at 0x7fd91f964980>,\n",
       "          <tenseal.tensors.ckksvector.CKKSVector object at 0x7fd91f965b20>,\n",
       "          <tenseal.tensors.ckksvector.CKKSVector object at 0x7fd91f964200>,\n",
       "          <tenseal.tensors.ckksvector.CKKSVector object at 0x7fd9a8244260>,\n",
       "          <tenseal.tensors.ckksvector.CKKSVector object at 0x7fd91f9667b0>,\n",
       "          <tenseal.tensors.ckksvector.CKKSVector object at 0x7fd9a838fb60>,\n",
       "          <tenseal.tensors.ckksvector.CKKSVector object at 0x7fd9a8246db0>,\n",
       "          <tenseal.tensors.ckksvector.CKKSVector object at 0x7fda214548f0>,\n",
       "          <tenseal.tensors.ckksvector.CKKSVector object at 0x7fd91f965640>,\n",
       "          <tenseal.tensors.ckksvector.CKKSVector object at 0x7fd91f967260>,\n",
       "          <tenseal.tensors.ckksvector.CKKSVector object at 0x7fd91f9664e0>,\n",
       "          <tenseal.tensors.ckksvector.CKKSVector object at 0x7fda21467f20>,\n",
       "          <tenseal.tensors.ckksvector.CKKSVector object at 0x7fd91f967ef0>,\n",
       "          <tenseal.tensors.ckksvector.CKKSVector object at 0x7fd9a8247a70>,\n",
       "          <tenseal.tensors.ckksvector.CKKSVector object at 0x7fd91f967f50>,\n",
       "          <tenseal.tensors.ckksvector.CKKSVector object at 0x7fd9a821d9a0>,\n",
       "          <tenseal.tensors.ckksvector.CKKSVector object at 0x7fd91f967d40>,\n",
       "          <tenseal.tensors.ckksvector.CKKSVector object at 0x7fd91f965d90>,\n",
       "          <tenseal.tensors.ckksvector.CKKSVector object at 0x7fda21466c60>],\n",
       "         [<tenseal.tensors.ckksvector.CKKSVector object at 0x7fd91f9646e0>,\n",
       "          <tenseal.tensors.ckksvector.CKKSVector object at 0x7fda21454e60>,\n",
       "          <tenseal.tensors.ckksvector.CKKSVector object at 0x7fd9a811f9e0>,\n",
       "          <tenseal.tensors.ckksvector.CKKSVector object at 0x7fd9a838dfa0>,\n",
       "          <tenseal.tensors.ckksvector.CKKSVector object at 0x7fda215a47a0>,\n",
       "          <tenseal.tensors.ckksvector.CKKSVector object at 0x7fd91f965ca0>,\n",
       "          <tenseal.tensors.ckksvector.CKKSVector object at 0x7fd91f9658e0>,\n",
       "          <tenseal.tensors.ckksvector.CKKSVector object at 0x7fd91f9648c0>,\n",
       "          <tenseal.tensors.ckksvector.CKKSVector object at 0x7fd91f9654f0>,\n",
       "          <tenseal.tensors.ckksvector.CKKSVector object at 0x7fda215ad400>,\n",
       "          <tenseal.tensors.ckksvector.CKKSVector object at 0x7fd91f9643e0>,\n",
       "          <tenseal.tensors.ckksvector.CKKSVector object at 0x7fd91f9668a0>,\n",
       "          <tenseal.tensors.ckksvector.CKKSVector object at 0x7fd91f966f00>,\n",
       "          <tenseal.tensors.ckksvector.CKKSVector object at 0x7fd91f964050>,\n",
       "          <tenseal.tensors.ckksvector.CKKSVector object at 0x7fd91f964890>,\n",
       "          <tenseal.tensors.ckksvector.CKKSVector object at 0x7fd91f964290>,\n",
       "          <tenseal.tensors.ckksvector.CKKSVector object at 0x7fd91f9644a0>,\n",
       "          <tenseal.tensors.ckksvector.CKKSVector object at 0x7fd9a821cb60>,\n",
       "          <tenseal.tensors.ckksvector.CKKSVector object at 0x7fd91f966ff0>,\n",
       "          <tenseal.tensors.ckksvector.CKKSVector object at 0x7fd9a838dd60>],\n",
       "         [<tenseal.tensors.ckksvector.CKKSVector object at 0x7fd91f9657c0>,\n",
       "          <tenseal.tensors.ckksvector.CKKSVector object at 0x7fd91f9664b0>,\n",
       "          <tenseal.tensors.ckksvector.CKKSVector object at 0x7fd91f964470>,\n",
       "          <tenseal.tensors.ckksvector.CKKSVector object at 0x7fd91f9677a0>,\n",
       "          <tenseal.tensors.ckksvector.CKKSVector object at 0x7fd91f967410>,\n",
       "          <tenseal.tensors.ckksvector.CKKSVector object at 0x7fd91f967860>,\n",
       "          <tenseal.tensors.ckksvector.CKKSVector object at 0x7fd91f9670b0>,\n",
       "          <tenseal.tensors.ckksvector.CKKSVector object at 0x7fda214672f0>,\n",
       "          <tenseal.tensors.ckksvector.CKKSVector object at 0x7fd91f967770>,\n",
       "          <tenseal.tensors.ckksvector.CKKSVector object at 0x7fd91f9671a0>,\n",
       "          <tenseal.tensors.ckksvector.CKKSVector object at 0x7fd9a8246c00>,\n",
       "          <tenseal.tensors.ckksvector.CKKSVector object at 0x7fd91f966120>,\n",
       "          <tenseal.tensors.ckksvector.CKKSVector object at 0x7fda214667e0>,\n",
       "          <tenseal.tensors.ckksvector.CKKSVector object at 0x7fda21467170>,\n",
       "          <tenseal.tensors.ckksvector.CKKSVector object at 0x7fd91f965a00>,\n",
       "          <tenseal.tensors.ckksvector.CKKSVector object at 0x7fd9a821f4d0>,\n",
       "          <tenseal.tensors.ckksvector.CKKSVector object at 0x7fda21466f60>,\n",
       "          <tenseal.tensors.ckksvector.CKKSVector object at 0x7fd9a8246f30>,\n",
       "          <tenseal.tensors.ckksvector.CKKSVector object at 0x7fd91f964e90>,\n",
       "          <tenseal.tensors.ckksvector.CKKSVector object at 0x7fd91f9658b0>],\n",
       "         [<tenseal.tensors.ckksvector.CKKSVector object at 0x7fd91f9290d0>,\n",
       "          <tenseal.tensors.ckksvector.CKKSVector object at 0x7fd9a8190170>,\n",
       "          <tenseal.tensors.ckksvector.CKKSVector object at 0x7fd9a8273680>,\n",
       "          <tenseal.tensors.ckksvector.CKKSVector object at 0x7fd9a8192840>,\n",
       "          <tenseal.tensors.ckksvector.CKKSVector object at 0x7fd9a8190a10>,\n",
       "          <tenseal.tensors.ckksvector.CKKSVector object at 0x7fd9a8190d40>,\n",
       "          <tenseal.tensors.ckksvector.CKKSVector object at 0x7fd9a8193770>,\n",
       "          <tenseal.tensors.ckksvector.CKKSVector object at 0x7fd9a8191010>,\n",
       "          <tenseal.tensors.ckksvector.CKKSVector object at 0x7fd9a8193c50>,\n",
       "          <tenseal.tensors.ckksvector.CKKSVector object at 0x7fd9a8193a10>,\n",
       "          <tenseal.tensors.ckksvector.CKKSVector object at 0x7fd9a8192600>,\n",
       "          <tenseal.tensors.ckksvector.CKKSVector object at 0x7fd9a8190e00>,\n",
       "          <tenseal.tensors.ckksvector.CKKSVector object at 0x7fd9a8190f50>,\n",
       "          <tenseal.tensors.ckksvector.CKKSVector object at 0x7fd9a8190080>,\n",
       "          <tenseal.tensors.ckksvector.CKKSVector object at 0x7fd9a8190140>,\n",
       "          <tenseal.tensors.ckksvector.CKKSVector object at 0x7fd9a8192630>,\n",
       "          <tenseal.tensors.ckksvector.CKKSVector object at 0x7fd9a8192e40>,\n",
       "          <tenseal.tensors.ckksvector.CKKSVector object at 0x7fd9a81923c0>,\n",
       "          <tenseal.tensors.ckksvector.CKKSVector object at 0x7fd9a8192fc0>,\n",
       "          <tenseal.tensors.ckksvector.CKKSVector object at 0x7fd9a8193020>]],\n",
       "        dtype=object),\n",
       "  array([[<tenseal.tensors.ckksvector.CKKSVector object at 0x7fd9a82476b0>,\n",
       "          <tenseal.tensors.ckksvector.CKKSVector object at 0x7fd9a821f920>,\n",
       "          <tenseal.tensors.ckksvector.CKKSVector object at 0x7fd9a81913d0>,\n",
       "          <tenseal.tensors.ckksvector.CKKSVector object at 0x7fd9a8191910>,\n",
       "          <tenseal.tensors.ckksvector.CKKSVector object at 0x7fd9a81924b0>,\n",
       "          <tenseal.tensors.ckksvector.CKKSVector object at 0x7fd9a8191850>,\n",
       "          <tenseal.tensors.ckksvector.CKKSVector object at 0x7fd9a81904a0>,\n",
       "          <tenseal.tensors.ckksvector.CKKSVector object at 0x7fd9a8191100>,\n",
       "          <tenseal.tensors.ckksvector.CKKSVector object at 0x7fd9a81913a0>,\n",
       "          <tenseal.tensors.ckksvector.CKKSVector object at 0x7fd9a8191520>,\n",
       "          <tenseal.tensors.ckksvector.CKKSVector object at 0x7fd9a8192b40>,\n",
       "          <tenseal.tensors.ckksvector.CKKSVector object at 0x7fd9a81903e0>,\n",
       "          <tenseal.tensors.ckksvector.CKKSVector object at 0x7fd9a8192060>,\n",
       "          <tenseal.tensors.ckksvector.CKKSVector object at 0x7fd9a8191130>,\n",
       "          <tenseal.tensors.ckksvector.CKKSVector object at 0x7fd9a8190920>,\n",
       "          <tenseal.tensors.ckksvector.CKKSVector object at 0x7fd9a8191d00>,\n",
       "          <tenseal.tensors.ckksvector.CKKSVector object at 0x7fd9a8101760>,\n",
       "          <tenseal.tensors.ckksvector.CKKSVector object at 0x7fd9a81938f0>,\n",
       "          <tenseal.tensors.ckksvector.CKKSVector object at 0x7fd9a81928d0>,\n",
       "          <tenseal.tensors.ckksvector.CKKSVector object at 0x7fd9a8190050>],\n",
       "         [<tenseal.tensors.ckksvector.CKKSVector object at 0x7fd9a81931d0>,\n",
       "          <tenseal.tensors.ckksvector.CKKSVector object at 0x7fd9a81936b0>,\n",
       "          <tenseal.tensors.ckksvector.CKKSVector object at 0x7fd9a8190440>,\n",
       "          <tenseal.tensors.ckksvector.CKKSVector object at 0x7fd9a8193e60>,\n",
       "          <tenseal.tensors.ckksvector.CKKSVector object at 0x7fd9a8193b60>,\n",
       "          <tenseal.tensors.ckksvector.CKKSVector object at 0x7fda21455a00>,\n",
       "          <tenseal.tensors.ckksvector.CKKSVector object at 0x7fd9a8193140>,\n",
       "          <tenseal.tensors.ckksvector.CKKSVector object at 0x7fd9a8192750>,\n",
       "          <tenseal.tensors.ckksvector.CKKSVector object at 0x7fd9a8193a40>,\n",
       "          <tenseal.tensors.ckksvector.CKKSVector object at 0x7fd9a83eac30>,\n",
       "          <tenseal.tensors.ckksvector.CKKSVector object at 0x7fd9a8192210>,\n",
       "          <tenseal.tensors.ckksvector.CKKSVector object at 0x7fd9a8192de0>,\n",
       "          <tenseal.tensors.ckksvector.CKKSVector object at 0x7fd9a81914f0>,\n",
       "          <tenseal.tensors.ckksvector.CKKSVector object at 0x7fd9a8190710>,\n",
       "          <tenseal.tensors.ckksvector.CKKSVector object at 0x7fda21520560>,\n",
       "          <tenseal.tensors.ckksvector.CKKSVector object at 0x7fda21521b20>,\n",
       "          <tenseal.tensors.ckksvector.CKKSVector object at 0x7fd9a81905c0>,\n",
       "          <tenseal.tensors.ckksvector.CKKSVector object at 0x7fd9a8190f80>,\n",
       "          <tenseal.tensors.ckksvector.CKKSVector object at 0x7fd9a8190e30>,\n",
       "          <tenseal.tensors.ckksvector.CKKSVector object at 0x7fd9a83ea000>],\n",
       "         [<tenseal.tensors.ckksvector.CKKSVector object at 0x7fd9a8191670>,\n",
       "          <tenseal.tensors.ckksvector.CKKSVector object at 0x7fd9a8192b70>,\n",
       "          <tenseal.tensors.ckksvector.CKKSVector object at 0x7fd9a81932c0>,\n",
       "          <tenseal.tensors.ckksvector.CKKSVector object at 0x7fd9a81908c0>,\n",
       "          <tenseal.tensors.ckksvector.CKKSVector object at 0x7fd9a8193ec0>,\n",
       "          <tenseal.tensors.ckksvector.CKKSVector object at 0x7fd9a83eaba0>,\n",
       "          <tenseal.tensors.ckksvector.CKKSVector object at 0x7fd9a8193f80>,\n",
       "          <tenseal.tensors.ckksvector.CKKSVector object at 0x7fd9a8193650>,\n",
       "          <tenseal.tensors.ckksvector.CKKSVector object at 0x7fd9a81937a0>,\n",
       "          <tenseal.tensors.ckksvector.CKKSVector object at 0x7fd9a81933b0>,\n",
       "          <tenseal.tensors.ckksvector.CKKSVector object at 0x7fd9a81918e0>,\n",
       "          <tenseal.tensors.ckksvector.CKKSVector object at 0x7fd9a81900e0>,\n",
       "          <tenseal.tensors.ckksvector.CKKSVector object at 0x7fd9a8191310>,\n",
       "          <tenseal.tensors.ckksvector.CKKSVector object at 0x7fd9a8193830>,\n",
       "          <tenseal.tensors.ckksvector.CKKSVector object at 0x7fd9a8191fd0>,\n",
       "          <tenseal.tensors.ckksvector.CKKSVector object at 0x7fd9a8193860>,\n",
       "          <tenseal.tensors.ckksvector.CKKSVector object at 0x7fd9a81920f0>,\n",
       "          <tenseal.tensors.ckksvector.CKKSVector object at 0x7fd9a8190290>,\n",
       "          <tenseal.tensors.ckksvector.CKKSVector object at 0x7fd9a8190fb0>,\n",
       "          <tenseal.tensors.ckksvector.CKKSVector object at 0x7fd9a8191af0>],\n",
       "         [<tenseal.tensors.ckksvector.CKKSVector object at 0x7fd9a8193e30>,\n",
       "          <tenseal.tensors.ckksvector.CKKSVector object at 0x7fd9a81921e0>,\n",
       "          <tenseal.tensors.ckksvector.CKKSVector object at 0x7fd9a81925d0>,\n",
       "          <tenseal.tensors.ckksvector.CKKSVector object at 0x7fd9a8270830>,\n",
       "          <tenseal.tensors.ckksvector.CKKSVector object at 0x7fd9a81932f0>,\n",
       "          <tenseal.tensors.ckksvector.CKKSVector object at 0x7fd9a8192270>,\n",
       "          <tenseal.tensors.ckksvector.CKKSVector object at 0x7fd9a8192150>,\n",
       "          <tenseal.tensors.ckksvector.CKKSVector object at 0x7fd9a8191d90>,\n",
       "          <tenseal.tensors.ckksvector.CKKSVector object at 0x7fd9a8192f00>,\n",
       "          <tenseal.tensors.ckksvector.CKKSVector object at 0x7fd9a83eaa50>,\n",
       "          <tenseal.tensors.ckksvector.CKKSVector object at 0x7fd9a8190bf0>,\n",
       "          <tenseal.tensors.ckksvector.CKKSVector object at 0x7fd9a81919a0>,\n",
       "          <tenseal.tensors.ckksvector.CKKSVector object at 0x7fd9a8190860>,\n",
       "          <tenseal.tensors.ckksvector.CKKSVector object at 0x7fd9a8190590>,\n",
       "          <tenseal.tensors.ckksvector.CKKSVector object at 0x7fd9a8190ce0>,\n",
       "          <tenseal.tensors.ckksvector.CKKSVector object at 0x7fd9a8193980>,\n",
       "          <tenseal.tensors.ckksvector.CKKSVector object at 0x7fd9a81b1be0>,\n",
       "          <tenseal.tensors.ckksvector.CKKSVector object at 0x7fd9a81b3c20>,\n",
       "          <tenseal.tensors.ckksvector.CKKSVector object at 0x7fd9a81b10a0>,\n",
       "          <tenseal.tensors.ckksvector.CKKSVector object at 0x7fd9a8193bf0>],\n",
       "         [<tenseal.tensors.ckksvector.CKKSVector object at 0x7fd9a81b25d0>,\n",
       "          <tenseal.tensors.ckksvector.CKKSVector object at 0x7fd9a81b3830>,\n",
       "          <tenseal.tensors.ckksvector.CKKSVector object at 0x7fd9a81b1fd0>,\n",
       "          <tenseal.tensors.ckksvector.CKKSVector object at 0x7fd9a81b2690>,\n",
       "          <tenseal.tensors.ckksvector.CKKSVector object at 0x7fd9a8271520>,\n",
       "          <tenseal.tensors.ckksvector.CKKSVector object at 0x7fd9a81b3620>,\n",
       "          <tenseal.tensors.ckksvector.CKKSVector object at 0x7fd9a81b2000>,\n",
       "          <tenseal.tensors.ckksvector.CKKSVector object at 0x7fd9a81b1dc0>,\n",
       "          <tenseal.tensors.ckksvector.CKKSVector object at 0x7fd9a8191ac0>,\n",
       "          <tenseal.tensors.ckksvector.CKKSVector object at 0x7fd9a81b2780>,\n",
       "          <tenseal.tensors.ckksvector.CKKSVector object at 0x7fd9a81b3c80>,\n",
       "          <tenseal.tensors.ckksvector.CKKSVector object at 0x7fd9a81b1160>,\n",
       "          <tenseal.tensors.ckksvector.CKKSVector object at 0x7fd9a81b2420>,\n",
       "          <tenseal.tensors.ckksvector.CKKSVector object at 0x7fd9a81b0230>,\n",
       "          <tenseal.tensors.ckksvector.CKKSVector object at 0x7fd9a81b1970>,\n",
       "          <tenseal.tensors.ckksvector.CKKSVector object at 0x7fd9a81b18b0>,\n",
       "          <tenseal.tensors.ckksvector.CKKSVector object at 0x7fd9a83e8bf0>,\n",
       "          <tenseal.tensors.ckksvector.CKKSVector object at 0x7fd9a8208b60>,\n",
       "          <tenseal.tensors.ckksvector.CKKSVector object at 0x7fd9a820a7e0>,\n",
       "          <tenseal.tensors.ckksvector.CKKSVector object at 0x7fd9a8192f30>],\n",
       "         [<tenseal.tensors.ckksvector.CKKSVector object at 0x7fd9a820ad80>,\n",
       "          <tenseal.tensors.ckksvector.CKKSVector object at 0x7fd9a8209760>,\n",
       "          <tenseal.tensors.ckksvector.CKKSVector object at 0x7fd9a820a900>,\n",
       "          <tenseal.tensors.ckksvector.CKKSVector object at 0x7fd9a8209280>,\n",
       "          <tenseal.tensors.ckksvector.CKKSVector object at 0x7fd9a8209700>,\n",
       "          <tenseal.tensors.ckksvector.CKKSVector object at 0x7fd9a8209730>,\n",
       "          <tenseal.tensors.ckksvector.CKKSVector object at 0x7fd9a8193410>,\n",
       "          <tenseal.tensors.ckksvector.CKKSVector object at 0x7fd9a83e8050>,\n",
       "          <tenseal.tensors.ckksvector.CKKSVector object at 0x7fd9a820acc0>,\n",
       "          <tenseal.tensors.ckksvector.CKKSVector object at 0x7fd9a820a2a0>,\n",
       "          <tenseal.tensors.ckksvector.CKKSVector object at 0x7fd9a8209f70>,\n",
       "          <tenseal.tensors.ckksvector.CKKSVector object at 0x7fd9a8190980>,\n",
       "          <tenseal.tensors.ckksvector.CKKSVector object at 0x7fd9a8190770>,\n",
       "          <tenseal.tensors.ckksvector.CKKSVector object at 0x7fd9a8191430>,\n",
       "          <tenseal.tensors.ckksvector.CKKSVector object at 0x7fd9a8209e80>,\n",
       "          <tenseal.tensors.ckksvector.CKKSVector object at 0x7fd9a820ab10>,\n",
       "          <tenseal.tensors.ckksvector.CKKSVector object at 0x7fd9a820bd40>,\n",
       "          <tenseal.tensors.ckksvector.CKKSVector object at 0x7fd9a82725d0>,\n",
       "          <tenseal.tensors.ckksvector.CKKSVector object at 0x7fd9a820a0c0>,\n",
       "          <tenseal.tensors.ckksvector.CKKSVector object at 0x7fd9a820a240>],\n",
       "         [<tenseal.tensors.ckksvector.CKKSVector object at 0x7fd9a820b5f0>,\n",
       "          <tenseal.tensors.ckksvector.CKKSVector object at 0x7fd9a83eb7a0>,\n",
       "          <tenseal.tensors.ckksvector.CKKSVector object at 0x7fd9a8191eb0>,\n",
       "          <tenseal.tensors.ckksvector.CKKSVector object at 0x7fd9a820ad20>,\n",
       "          <tenseal.tensors.ckksvector.CKKSVector object at 0x7fd9a8208aa0>,\n",
       "          <tenseal.tensors.ckksvector.CKKSVector object at 0x7fd9a8209fa0>,\n",
       "          <tenseal.tensors.ckksvector.CKKSVector object at 0x7fd9a8191370>,\n",
       "          <tenseal.tensors.ckksvector.CKKSVector object at 0x7fd9a8208530>,\n",
       "          <tenseal.tensors.ckksvector.CKKSVector object at 0x7fd9a8209220>,\n",
       "          <tenseal.tensors.ckksvector.CKKSVector object at 0x7fd9a820abd0>,\n",
       "          <tenseal.tensors.ckksvector.CKKSVector object at 0x7fd9a82090a0>,\n",
       "          <tenseal.tensors.ckksvector.CKKSVector object at 0x7fd9a8209fd0>,\n",
       "          <tenseal.tensors.ckksvector.CKKSVector object at 0x7fd9a820aba0>,\n",
       "          <tenseal.tensors.ckksvector.CKKSVector object at 0x7fd9a820b0e0>,\n",
       "          <tenseal.tensors.ckksvector.CKKSVector object at 0x7fd9a8208ad0>,\n",
       "          <tenseal.tensors.ckksvector.CKKSVector object at 0x7fd9a82096d0>,\n",
       "          <tenseal.tensors.ckksvector.CKKSVector object at 0x7fd9a81912e0>,\n",
       "          <tenseal.tensors.ckksvector.CKKSVector object at 0x7fd9a820ba10>,\n",
       "          <tenseal.tensors.ckksvector.CKKSVector object at 0x7fd9a82094c0>,\n",
       "          <tenseal.tensors.ckksvector.CKKSVector object at 0x7fd9a820bf50>],\n",
       "         [<tenseal.tensors.ckksvector.CKKSVector object at 0x7fd9a821ef30>,\n",
       "          <tenseal.tensors.ckksvector.CKKSVector object at 0x7fd9a8381790>,\n",
       "          <tenseal.tensors.ckksvector.CKKSVector object at 0x7fd9a8190bc0>,\n",
       "          <tenseal.tensors.ckksvector.CKKSVector object at 0x7fd9a8383b60>,\n",
       "          <tenseal.tensors.ckksvector.CKKSVector object at 0x7fd9a83801a0>,\n",
       "          <tenseal.tensors.ckksvector.CKKSVector object at 0x7fd9a83811f0>,\n",
       "          <tenseal.tensors.ckksvector.CKKSVector object at 0x7fd9a8380530>,\n",
       "          <tenseal.tensors.ckksvector.CKKSVector object at 0x7fd9a83814f0>,\n",
       "          <tenseal.tensors.ckksvector.CKKSVector object at 0x7fd9a8383b30>,\n",
       "          <tenseal.tensors.ckksvector.CKKSVector object at 0x7fd9a8193080>,\n",
       "          <tenseal.tensors.ckksvector.CKKSVector object at 0x7fd9a8383170>,\n",
       "          <tenseal.tensors.ckksvector.CKKSVector object at 0x7fd9a8382630>,\n",
       "          <tenseal.tensors.ckksvector.CKKSVector object at 0x7fd9a83801d0>,\n",
       "          <tenseal.tensors.ckksvector.CKKSVector object at 0x7fd9a83800b0>,\n",
       "          <tenseal.tensors.ckksvector.CKKSVector object at 0x7fd9a83eb740>,\n",
       "          <tenseal.tensors.ckksvector.CKKSVector object at 0x7fd9a8382330>,\n",
       "          <tenseal.tensors.ckksvector.CKKSVector object at 0x7fd9a8192420>,\n",
       "          <tenseal.tensors.ckksvector.CKKSVector object at 0x7fd9a8380320>,\n",
       "          <tenseal.tensors.ckksvector.CKKSVector object at 0x7fd9a83813a0>,\n",
       "          <tenseal.tensors.ckksvector.CKKSVector object at 0x7fd9a8381610>],\n",
       "         [<tenseal.tensors.ckksvector.CKKSVector object at 0x7fd9a8381160>,\n",
       "          <tenseal.tensors.ckksvector.CKKSVector object at 0x7fd9a8380410>,\n",
       "          <tenseal.tensors.ckksvector.CKKSVector object at 0x7fd9a8380bf0>,\n",
       "          <tenseal.tensors.ckksvector.CKKSVector object at 0x7fd9a83eb050>,\n",
       "          <tenseal.tensors.ckksvector.CKKSVector object at 0x7fd91f9295e0>,\n",
       "          <tenseal.tensors.ckksvector.CKKSVector object at 0x7fda21478530>,\n",
       "          <tenseal.tensors.ckksvector.CKKSVector object at 0x7fd9a8191220>,\n",
       "          <tenseal.tensors.ckksvector.CKKSVector object at 0x7fd9a8191bb0>,\n",
       "          <tenseal.tensors.ckksvector.CKKSVector object at 0x7fd9a81907a0>,\n",
       "          <tenseal.tensors.ckksvector.CKKSVector object at 0x7fd9a81b3440>,\n",
       "          <tenseal.tensors.ckksvector.CKKSVector object at 0x7fd91f8bb9e0>,\n",
       "          <tenseal.tensors.ckksvector.CKKSVector object at 0x7fd9a820a030>,\n",
       "          <tenseal.tensors.ckksvector.CKKSVector object at 0x7fd91f8b9d90>,\n",
       "          <tenseal.tensors.ckksvector.CKKSVector object at 0x7fd9a81b1ac0>,\n",
       "          <tenseal.tensors.ckksvector.CKKSVector object at 0x7fd9a81902f0>,\n",
       "          <tenseal.tensors.ckksvector.CKKSVector object at 0x7fd91f8ba330>,\n",
       "          <tenseal.tensors.ckksvector.CKKSVector object at 0x7fd91f8bb020>,\n",
       "          <tenseal.tensors.ckksvector.CKKSVector object at 0x7fd9a8191c70>,\n",
       "          <tenseal.tensors.ckksvector.CKKSVector object at 0x7fd91f8b89b0>,\n",
       "          <tenseal.tensors.ckksvector.CKKSVector object at 0x7fd9a82086e0>],\n",
       "         [<tenseal.tensors.ckksvector.CKKSVector object at 0x7fd91f8ba840>,\n",
       "          <tenseal.tensors.ckksvector.CKKSVector object at 0x7fd9a83818e0>,\n",
       "          <tenseal.tensors.ckksvector.CKKSVector object at 0x7fd9a8192000>,\n",
       "          <tenseal.tensors.ckksvector.CKKSVector object at 0x7fd91f8bb770>,\n",
       "          <tenseal.tensors.ckksvector.CKKSVector object at 0x7fd9a82860f0>,\n",
       "          <tenseal.tensors.ckksvector.CKKSVector object at 0x7fd9a811f260>,\n",
       "          <tenseal.tensors.ckksvector.CKKSVector object at 0x7fd91f965220>,\n",
       "          <tenseal.tensors.ckksvector.CKKSVector object at 0x7fda214644a0>,\n",
       "          <tenseal.tensors.ckksvector.CKKSVector object at 0x7fd91f967cb0>,\n",
       "          <tenseal.tensors.ckksvector.CKKSVector object at 0x7fd91f965ee0>,\n",
       "          <tenseal.tensors.ckksvector.CKKSVector object at 0x7fd91f967e30>,\n",
       "          <tenseal.tensors.ckksvector.CKKSVector object at 0x7fd91f966ab0>,\n",
       "          <tenseal.tensors.ckksvector.CKKSVector object at 0x7fd9a8285430>,\n",
       "          <tenseal.tensors.ckksvector.CKKSVector object at 0x7fd91f966780>,\n",
       "          <tenseal.tensors.ckksvector.CKKSVector object at 0x7fd9a82877a0>,\n",
       "          <tenseal.tensors.ckksvector.CKKSVector object at 0x7fd9a8246d50>,\n",
       "          <tenseal.tensors.ckksvector.CKKSVector object at 0x7fd9a8287b30>,\n",
       "          <tenseal.tensors.ckksvector.CKKSVector object at 0x7fd9a8285dc0>,\n",
       "          <tenseal.tensors.ckksvector.CKKSVector object at 0x7fd9a8246b70>,\n",
       "          <tenseal.tensors.ckksvector.CKKSVector object at 0x7fd91f967440>],\n",
       "         [<tenseal.tensors.ckksvector.CKKSVector object at 0x7fd91f967140>,\n",
       "          <tenseal.tensors.ckksvector.CKKSVector object at 0x7fd91f965310>,\n",
       "          <tenseal.tensors.ckksvector.CKKSVector object at 0x7fd91f9663f0>,\n",
       "          <tenseal.tensors.ckksvector.CKKSVector object at 0x7fd91f965700>,\n",
       "          <tenseal.tensors.ckksvector.CKKSVector object at 0x7fd91f967f80>,\n",
       "          <tenseal.tensors.ckksvector.CKKSVector object at 0x7fd91f967a10>,\n",
       "          <tenseal.tensors.ckksvector.CKKSVector object at 0x7fd91f967bf0>,\n",
       "          <tenseal.tensors.ckksvector.CKKSVector object at 0x7fda21496570>,\n",
       "          <tenseal.tensors.ckksvector.CKKSVector object at 0x7fd91f967ec0>,\n",
       "          <tenseal.tensors.ckksvector.CKKSVector object at 0x7fd91f965760>,\n",
       "          <tenseal.tensors.ckksvector.CKKSVector object at 0x7fda21464c80>,\n",
       "          <tenseal.tensors.ckksvector.CKKSVector object at 0x7fd9a821f740>,\n",
       "          <tenseal.tensors.ckksvector.CKKSVector object at 0x7fda214979b0>,\n",
       "          <tenseal.tensors.ckksvector.CKKSVector object at 0x7fda21495e80>,\n",
       "          <tenseal.tensors.ckksvector.CKKSVector object at 0x7fda214966f0>,\n",
       "          <tenseal.tensors.ckksvector.CKKSVector object at 0x7fda21497770>,\n",
       "          <tenseal.tensors.ckksvector.CKKSVector object at 0x7fda21496000>,\n",
       "          <tenseal.tensors.ckksvector.CKKSVector object at 0x7fda21495910>,\n",
       "          <tenseal.tensors.ckksvector.CKKSVector object at 0x7fda21495a60>,\n",
       "          <tenseal.tensors.ckksvector.CKKSVector object at 0x7fda214978c0>],\n",
       "         [<tenseal.tensors.ckksvector.CKKSVector object at 0x7fda21495640>,\n",
       "          <tenseal.tensors.ckksvector.CKKSVector object at 0x7fda21495bb0>,\n",
       "          <tenseal.tensors.ckksvector.CKKSVector object at 0x7fda214972f0>,\n",
       "          <tenseal.tensors.ckksvector.CKKSVector object at 0x7fda214946e0>,\n",
       "          <tenseal.tensors.ckksvector.CKKSVector object at 0x7fda21496090>,\n",
       "          <tenseal.tensors.ckksvector.CKKSVector object at 0x7fda21497500>,\n",
       "          <tenseal.tensors.ckksvector.CKKSVector object at 0x7fda214964b0>,\n",
       "          <tenseal.tensors.ckksvector.CKKSVector object at 0x7fda214954c0>,\n",
       "          <tenseal.tensors.ckksvector.CKKSVector object at 0x7fda21496720>,\n",
       "          <tenseal.tensors.ckksvector.CKKSVector object at 0x7fda21495790>,\n",
       "          <tenseal.tensors.ckksvector.CKKSVector object at 0x7fda21497230>,\n",
       "          <tenseal.tensors.ckksvector.CKKSVector object at 0x7fda21496240>,\n",
       "          <tenseal.tensors.ckksvector.CKKSVector object at 0x7fda21495e20>,\n",
       "          <tenseal.tensors.ckksvector.CKKSVector object at 0x7fda21494c20>,\n",
       "          <tenseal.tensors.ckksvector.CKKSVector object at 0x7fda214976e0>,\n",
       "          <tenseal.tensors.ckksvector.CKKSVector object at 0x7fda214977d0>,\n",
       "          <tenseal.tensors.ckksvector.CKKSVector object at 0x7fda214958e0>,\n",
       "          <tenseal.tensors.ckksvector.CKKSVector object at 0x7fda21495370>,\n",
       "          <tenseal.tensors.ckksvector.CKKSVector object at 0x7fda21494170>,\n",
       "          <tenseal.tensors.ckksvector.CKKSVector object at 0x7fda214958b0>],\n",
       "         [<tenseal.tensors.ckksvector.CKKSVector object at 0x7fda21496ff0>,\n",
       "          <tenseal.tensors.ckksvector.CKKSVector object at 0x7fda21496900>,\n",
       "          <tenseal.tensors.ckksvector.CKKSVector object at 0x7fda21494b00>,\n",
       "          <tenseal.tensors.ckksvector.CKKSVector object at 0x7fda21497620>,\n",
       "          <tenseal.tensors.ckksvector.CKKSVector object at 0x7fda21497ce0>,\n",
       "          <tenseal.tensors.ckksvector.CKKSVector object at 0x7fda21495c10>,\n",
       "          <tenseal.tensors.ckksvector.CKKSVector object at 0x7fda21495f40>,\n",
       "          <tenseal.tensors.ckksvector.CKKSVector object at 0x7fda21497e00>,\n",
       "          <tenseal.tensors.ckksvector.CKKSVector object at 0x7fda21496360>,\n",
       "          <tenseal.tensors.ckksvector.CKKSVector object at 0x7fda21497b60>,\n",
       "          <tenseal.tensors.ckksvector.CKKSVector object at 0x7fda21496c30>,\n",
       "          <tenseal.tensors.ckksvector.CKKSVector object at 0x7fda214971d0>,\n",
       "          <tenseal.tensors.ckksvector.CKKSVector object at 0x7fda21494080>,\n",
       "          <tenseal.tensors.ckksvector.CKKSVector object at 0x7fda21496ab0>,\n",
       "          <tenseal.tensors.ckksvector.CKKSVector object at 0x7fda21495e50>,\n",
       "          <tenseal.tensors.ckksvector.CKKSVector object at 0x7fda21497260>,\n",
       "          <tenseal.tensors.ckksvector.CKKSVector object at 0x7fda214940e0>,\n",
       "          <tenseal.tensors.ckksvector.CKKSVector object at 0x7fda21495550>,\n",
       "          <tenseal.tensors.ckksvector.CKKSVector object at 0x7fda214945c0>,\n",
       "          <tenseal.tensors.ckksvector.CKKSVector object at 0x7fda21494f80>],\n",
       "         [<tenseal.tensors.ckksvector.CKKSVector object at 0x7fda21497800>,\n",
       "          <tenseal.tensors.ckksvector.CKKSVector object at 0x7fda214948f0>,\n",
       "          <tenseal.tensors.ckksvector.CKKSVector object at 0x7fda21495ac0>,\n",
       "          <tenseal.tensors.ckksvector.CKKSVector object at 0x7fda21495b80>,\n",
       "          <tenseal.tensors.ckksvector.CKKSVector object at 0x7fda21497bc0>,\n",
       "          <tenseal.tensors.ckksvector.CKKSVector object at 0x7fda21497cb0>,\n",
       "          <tenseal.tensors.ckksvector.CKKSVector object at 0x7fda21494a40>,\n",
       "          <tenseal.tensors.ckksvector.CKKSVector object at 0x7fda21496d50>,\n",
       "          <tenseal.tensors.ckksvector.CKKSVector object at 0x7fda21496630>,\n",
       "          <tenseal.tensors.ckksvector.CKKSVector object at 0x7fda21497fe0>,\n",
       "          <tenseal.tensors.ckksvector.CKKSVector object at 0x7fda21496510>,\n",
       "          <tenseal.tensors.ckksvector.CKKSVector object at 0x7fda21497b30>,\n",
       "          <tenseal.tensors.ckksvector.CKKSVector object at 0x7fda214951f0>,\n",
       "          <tenseal.tensors.ckksvector.CKKSVector object at 0x7fda21497d70>,\n",
       "          <tenseal.tensors.ckksvector.CKKSVector object at 0x7fda214942f0>,\n",
       "          <tenseal.tensors.ckksvector.CKKSVector object at 0x7fda214965d0>,\n",
       "          <tenseal.tensors.ckksvector.CKKSVector object at 0x7fda21497050>,\n",
       "          <tenseal.tensors.ckksvector.CKKSVector object at 0x7fda21496f00>,\n",
       "          <tenseal.tensors.ckksvector.CKKSVector object at 0x7fda21496c00>,\n",
       "          <tenseal.tensors.ckksvector.CKKSVector object at 0x7fda21494bc0>],\n",
       "         [<tenseal.tensors.ckksvector.CKKSVector object at 0x7fda21496450>,\n",
       "          <tenseal.tensors.ckksvector.CKKSVector object at 0x7fda214972c0>,\n",
       "          <tenseal.tensors.ckksvector.CKKSVector object at 0x7fda21495010>,\n",
       "          <tenseal.tensors.ckksvector.CKKSVector object at 0x7fda21496120>,\n",
       "          <tenseal.tensors.ckksvector.CKKSVector object at 0x7fda21497890>,\n",
       "          <tenseal.tensors.ckksvector.CKKSVector object at 0x7fda214956a0>,\n",
       "          <tenseal.tensors.ckksvector.CKKSVector object at 0x7fda21496db0>,\n",
       "          <tenseal.tensors.ckksvector.CKKSVector object at 0x7fda21495ca0>,\n",
       "          <tenseal.tensors.ckksvector.CKKSVector object at 0x7fda21496f60>,\n",
       "          <tenseal.tensors.ckksvector.CKKSVector object at 0x7fda21495c70>,\n",
       "          <tenseal.tensors.ckksvector.CKKSVector object at 0x7fda21497290>,\n",
       "          <tenseal.tensors.ckksvector.CKKSVector object at 0x7fda214949e0>,\n",
       "          <tenseal.tensors.ckksvector.CKKSVector object at 0x7fda21497680>,\n",
       "          <tenseal.tensors.ckksvector.CKKSVector object at 0x7fda21495880>,\n",
       "          <tenseal.tensors.ckksvector.CKKSVector object at 0x7fda21494200>,\n",
       "          <tenseal.tensors.ckksvector.CKKSVector object at 0x7fda214955e0>,\n",
       "          <tenseal.tensors.ckksvector.CKKSVector object at 0x7fda214965a0>,\n",
       "          <tenseal.tensors.ckksvector.CKKSVector object at 0x7fda21494e90>,\n",
       "          <tenseal.tensors.ckksvector.CKKSVector object at 0x7fda21494920>,\n",
       "          <tenseal.tensors.ckksvector.CKKSVector object at 0x7fda21495940>],\n",
       "         [<tenseal.tensors.ckksvector.CKKSVector object at 0x7fda21496d20>,\n",
       "          <tenseal.tensors.ckksvector.CKKSVector object at 0x7fda21495730>,\n",
       "          <tenseal.tensors.ckksvector.CKKSVector object at 0x7fda21497c20>,\n",
       "          <tenseal.tensors.ckksvector.CKKSVector object at 0x7fda21496d80>,\n",
       "          <tenseal.tensors.ckksvector.CKKSVector object at 0x7fda21495820>,\n",
       "          <tenseal.tensors.ckksvector.CKKSVector object at 0x7fda21495a00>,\n",
       "          <tenseal.tensors.ckksvector.CKKSVector object at 0x7fda21496210>,\n",
       "          <tenseal.tensors.ckksvector.CKKSVector object at 0x7fda21497e60>,\n",
       "          <tenseal.tensors.ckksvector.CKKSVector object at 0x7fda21497e90>,\n",
       "          <tenseal.tensors.ckksvector.CKKSVector object at 0x7fda21495d90>,\n",
       "          <tenseal.tensors.ckksvector.CKKSVector object at 0x7fda21496e10>,\n",
       "          <tenseal.tensors.ckksvector.CKKSVector object at 0x7fda21496300>,\n",
       "          <tenseal.tensors.ckksvector.CKKSVector object at 0x7fda21495340>,\n",
       "          <tenseal.tensors.ckksvector.CKKSVector object at 0x7fda21496a20>,\n",
       "          <tenseal.tensors.ckksvector.CKKSVector object at 0x7fda21494650>,\n",
       "          <tenseal.tensors.ckksvector.CKKSVector object at 0x7fda214973e0>,\n",
       "          <tenseal.tensors.ckksvector.CKKSVector object at 0x7fda214944d0>,\n",
       "          <tenseal.tensors.ckksvector.CKKSVector object at 0x7fda21494140>,\n",
       "          <tenseal.tensors.ckksvector.CKKSVector object at 0x7fda21494320>,\n",
       "          <tenseal.tensors.ckksvector.CKKSVector object at 0x7fda21497200>],\n",
       "         [<tenseal.tensors.ckksvector.CKKSVector object at 0x7fda21494950>,\n",
       "          <tenseal.tensors.ckksvector.CKKSVector object at 0x7fda21496a50>,\n",
       "          <tenseal.tensors.ckksvector.CKKSVector object at 0x7fda21496690>,\n",
       "          <tenseal.tensors.ckksvector.CKKSVector object at 0x7fda21496cc0>,\n",
       "          <tenseal.tensors.ckksvector.CKKSVector object at 0x7fda21495f70>,\n",
       "          <tenseal.tensors.ckksvector.CKKSVector object at 0x7fda214960c0>,\n",
       "          <tenseal.tensors.ckksvector.CKKSVector object at 0x7fda21495220>,\n",
       "          <tenseal.tensors.ckksvector.CKKSVector object at 0x7fda21497d10>,\n",
       "          <tenseal.tensors.ckksvector.CKKSVector object at 0x7fda21496990>,\n",
       "          <tenseal.tensors.ckksvector.CKKSVector object at 0x7fda21497080>,\n",
       "          <tenseal.tensors.ckksvector.CKKSVector object at 0x7fda21496270>,\n",
       "          <tenseal.tensors.ckksvector.CKKSVector object at 0x7fd9a8246330>,\n",
       "          <tenseal.tensors.ckksvector.CKKSVector object at 0x7fda214975c0>,\n",
       "          <tenseal.tensors.ckksvector.CKKSVector object at 0x7fda21494380>,\n",
       "          <tenseal.tensors.ckksvector.CKKSVector object at 0x7fda21495070>,\n",
       "          <tenseal.tensors.ckksvector.CKKSVector object at 0x7fda21496330>,\n",
       "          <tenseal.tensors.ckksvector.CKKSVector object at 0x7fda21495f10>,\n",
       "          <tenseal.tensors.ckksvector.CKKSVector object at 0x7fda214942c0>,\n",
       "          <tenseal.tensors.ckksvector.CKKSVector object at 0x7fda21497c80>,\n",
       "          <tenseal.tensors.ckksvector.CKKSVector object at 0x7fda21496ba0>],\n",
       "         [<tenseal.tensors.ckksvector.CKKSVector object at 0x7fda214969f0>,\n",
       "          <tenseal.tensors.ckksvector.CKKSVector object at 0x7fda21497e30>,\n",
       "          <tenseal.tensors.ckksvector.CKKSVector object at 0x7fda21494b30>,\n",
       "          <tenseal.tensors.ckksvector.CKKSVector object at 0x7fda21494aa0>,\n",
       "          <tenseal.tensors.ckksvector.CKKSVector object at 0x7fda21495df0>,\n",
       "          <tenseal.tensors.ckksvector.CKKSVector object at 0x7fda21497170>,\n",
       "          <tenseal.tensors.ckksvector.CKKSVector object at 0x7fda214953d0>,\n",
       "          <tenseal.tensors.ckksvector.CKKSVector object at 0x7fda21497b90>,\n",
       "          <tenseal.tensors.ckksvector.CKKSVector object at 0x7fda21497fb0>,\n",
       "          <tenseal.tensors.ckksvector.CKKSVector object at 0x7fda21495b50>,\n",
       "          <tenseal.tensors.ckksvector.CKKSVector object at 0x7fda21497ad0>,\n",
       "          <tenseal.tensors.ckksvector.CKKSVector object at 0x7fda21494b90>,\n",
       "          <tenseal.tensors.ckksvector.CKKSVector object at 0x7fda21495520>,\n",
       "          <tenseal.tensors.ckksvector.CKKSVector object at 0x7fda214962d0>,\n",
       "          <tenseal.tensors.ckksvector.CKKSVector object at 0x7fda21497920>,\n",
       "          <tenseal.tensors.ckksvector.CKKSVector object at 0x7fda214941d0>,\n",
       "          <tenseal.tensors.ckksvector.CKKSVector object at 0x7fda21494350>,\n",
       "          <tenseal.tensors.ckksvector.CKKSVector object at 0x7fda21494d40>,\n",
       "          <tenseal.tensors.ckksvector.CKKSVector object at 0x7fda21494c50>,\n",
       "          <tenseal.tensors.ckksvector.CKKSVector object at 0x7fda214954f0>],\n",
       "         [<tenseal.tensors.ckksvector.CKKSVector object at 0x7fda21497980>,\n",
       "          <tenseal.tensors.ckksvector.CKKSVector object at 0x7fda21497a70>,\n",
       "          <tenseal.tensors.ckksvector.CKKSVector object at 0x7fda21494800>,\n",
       "          <tenseal.tensors.ckksvector.CKKSVector object at 0x7fda21496600>,\n",
       "          <tenseal.tensors.ckksvector.CKKSVector object at 0x7fda214950a0>,\n",
       "          <tenseal.tensors.ckksvector.CKKSVector object at 0x7fda21496060>,\n",
       "          <tenseal.tensors.ckksvector.CKKSVector object at 0x7fda21494ec0>,\n",
       "          <tenseal.tensors.ckksvector.CKKSVector object at 0x7fda214956d0>,\n",
       "          <tenseal.tensors.ckksvector.CKKSVector object at 0x7fda214966c0>,\n",
       "          <tenseal.tensors.ckksvector.CKKSVector object at 0x7fda21495c40>,\n",
       "          <tenseal.tensors.ckksvector.CKKSVector object at 0x7fda21496ea0>,\n",
       "          <tenseal.tensors.ckksvector.CKKSVector object at 0x7fda21497860>,\n",
       "          <tenseal.tensors.ckksvector.CKKSVector object at 0x7fda21497da0>,\n",
       "          <tenseal.tensors.ckksvector.CKKSVector object at 0x7fda21495610>,\n",
       "          <tenseal.tensors.ckksvector.CKKSVector object at 0x7fda214957f0>,\n",
       "          <tenseal.tensors.ckksvector.CKKSVector object at 0x7fda21497830>,\n",
       "          <tenseal.tensors.ckksvector.CKKSVector object at 0x7fd91f8fe960>,\n",
       "          <tenseal.tensors.ckksvector.CKKSVector object at 0x7fd91f8ff020>,\n",
       "          <tenseal.tensors.ckksvector.CKKSVector object at 0x7fd91f8fe750>,\n",
       "          <tenseal.tensors.ckksvector.CKKSVector object at 0x7fd91f8fddc0>],\n",
       "         [<tenseal.tensors.ckksvector.CKKSVector object at 0x7fd91f8fd430>,\n",
       "          <tenseal.tensors.ckksvector.CKKSVector object at 0x7fd91f8fe330>,\n",
       "          <tenseal.tensors.ckksvector.CKKSVector object at 0x7fd91f8fef00>,\n",
       "          <tenseal.tensors.ckksvector.CKKSVector object at 0x7fd91f8ff740>,\n",
       "          <tenseal.tensors.ckksvector.CKKSVector object at 0x7fda214ba270>,\n",
       "          <tenseal.tensors.ckksvector.CKKSVector object at 0x7fda214bad20>,\n",
       "          <tenseal.tensors.ckksvector.CKKSVector object at 0x7fda214b96d0>,\n",
       "          <tenseal.tensors.ckksvector.CKKSVector object at 0x7fda214b9d90>,\n",
       "          <tenseal.tensors.ckksvector.CKKSVector object at 0x7fda214ba4b0>,\n",
       "          <tenseal.tensors.ckksvector.CKKSVector object at 0x7fda214b8aa0>,\n",
       "          <tenseal.tensors.ckksvector.CKKSVector object at 0x7fda214bade0>,\n",
       "          <tenseal.tensors.ckksvector.CKKSVector object at 0x7fda214bbe00>,\n",
       "          <tenseal.tensors.ckksvector.CKKSVector object at 0x7fda214bbb30>,\n",
       "          <tenseal.tensors.ckksvector.CKKSVector object at 0x7fda214bb530>,\n",
       "          <tenseal.tensors.ckksvector.CKKSVector object at 0x7fda214ba2a0>,\n",
       "          <tenseal.tensors.ckksvector.CKKSVector object at 0x7fda214b81d0>,\n",
       "          <tenseal.tensors.ckksvector.CKKSVector object at 0x7fda214b8a40>,\n",
       "          <tenseal.tensors.ckksvector.CKKSVector object at 0x7fda214b8770>,\n",
       "          <tenseal.tensors.ckksvector.CKKSVector object at 0x7fda214bb680>,\n",
       "          <tenseal.tensors.ckksvector.CKKSVector object at 0x7fda214ba0f0>]],\n",
       "        dtype=object),\n",
       "  array([[<tenseal.tensors.ckksvector.CKKSVector object at 0x7fd9a8247260>,\n",
       "          <tenseal.tensors.ckksvector.CKKSVector object at 0x7fda214bbb90>,\n",
       "          <tenseal.tensors.ckksvector.CKKSVector object at 0x7fda214b8d10>,\n",
       "          <tenseal.tensors.ckksvector.CKKSVector object at 0x7fda214b9370>,\n",
       "          <tenseal.tensors.ckksvector.CKKSVector object at 0x7fd9a829ac00>,\n",
       "          <tenseal.tensors.ckksvector.CKKSVector object at 0x7fd9a8299670>,\n",
       "          <tenseal.tensors.ckksvector.CKKSVector object at 0x7fd9a8299d00>,\n",
       "          <tenseal.tensors.ckksvector.CKKSVector object at 0x7fda21590b90>,\n",
       "          <tenseal.tensors.ckksvector.CKKSVector object at 0x7fda21591730>,\n",
       "          <tenseal.tensors.ckksvector.CKKSVector object at 0x7fda21590830>,\n",
       "          <tenseal.tensors.ckksvector.CKKSVector object at 0x7fda215928d0>,\n",
       "          <tenseal.tensors.ckksvector.CKKSVector object at 0x7fda21593050>,\n",
       "          <tenseal.tensors.ckksvector.CKKSVector object at 0x7fda215917f0>,\n",
       "          <tenseal.tensors.ckksvector.CKKSVector object at 0x7fda21591be0>,\n",
       "          <tenseal.tensors.ckksvector.CKKSVector object at 0x7fda21592390>,\n",
       "          <tenseal.tensors.ckksvector.CKKSVector object at 0x7fda21592cf0>,\n",
       "          <tenseal.tensors.ckksvector.CKKSVector object at 0x7fda21593920>,\n",
       "          <tenseal.tensors.ckksvector.CKKSVector object at 0x7fda215931a0>,\n",
       "          <tenseal.tensors.ckksvector.CKKSVector object at 0x7fda215929f0>,\n",
       "          <tenseal.tensors.ckksvector.CKKSVector object at 0x7fda21593170>],\n",
       "         [<tenseal.tensors.ckksvector.CKKSVector object at 0x7fd9a83cade0>,\n",
       "          <tenseal.tensors.ckksvector.CKKSVector object at 0x7fd9a83c9520>,\n",
       "          <tenseal.tensors.ckksvector.CKKSVector object at 0x7fd9a83c82f0>,\n",
       "          <tenseal.tensors.ckksvector.CKKSVector object at 0x7fd9a83cbe60>,\n",
       "          <tenseal.tensors.ckksvector.CKKSVector object at 0x7fd9a83cad20>,\n",
       "          <tenseal.tensors.ckksvector.CKKSVector object at 0x7fd9a83c8b30>,\n",
       "          <tenseal.tensors.ckksvector.CKKSVector object at 0x7fd9a83ca1b0>,\n",
       "          <tenseal.tensors.ckksvector.CKKSVector object at 0x7fd9a83c9370>,\n",
       "          <tenseal.tensors.ckksvector.CKKSVector object at 0x7fd9a83c8d10>,\n",
       "          <tenseal.tensors.ckksvector.CKKSVector object at 0x7fd9a83cbe00>,\n",
       "          <tenseal.tensors.ckksvector.CKKSVector object at 0x7fd9a83cbe30>,\n",
       "          <tenseal.tensors.ckksvector.CKKSVector object at 0x7fd9a83c9640>,\n",
       "          <tenseal.tensors.ckksvector.CKKSVector object at 0x7fd9a83c93d0>,\n",
       "          <tenseal.tensors.ckksvector.CKKSVector object at 0x7fd9a83c81d0>,\n",
       "          <tenseal.tensors.ckksvector.CKKSVector object at 0x7fd9a83cbc80>,\n",
       "          <tenseal.tensors.ckksvector.CKKSVector object at 0x7fd9a83cb6e0>,\n",
       "          <tenseal.tensors.ckksvector.CKKSVector object at 0x7fd9a83cbcb0>,\n",
       "          <tenseal.tensors.ckksvector.CKKSVector object at 0x7fd9a83ca720>,\n",
       "          <tenseal.tensors.ckksvector.CKKSVector object at 0x7fd9a83cb2f0>,\n",
       "          <tenseal.tensors.ckksvector.CKKSVector object at 0x7fd9a83caae0>],\n",
       "         [<tenseal.tensors.ckksvector.CKKSVector object at 0x7fd9a83c9610>,\n",
       "          <tenseal.tensors.ckksvector.CKKSVector object at 0x7fd9a83c9130>,\n",
       "          <tenseal.tensors.ckksvector.CKKSVector object at 0x7fd9a83cbbf0>,\n",
       "          <tenseal.tensors.ckksvector.CKKSVector object at 0x7fd9a83ca0c0>,\n",
       "          <tenseal.tensors.ckksvector.CKKSVector object at 0x7fd9a83c93a0>,\n",
       "          <tenseal.tensors.ckksvector.CKKSVector object at 0x7fd9a83c8110>,\n",
       "          <tenseal.tensors.ckksvector.CKKSVector object at 0x7fd9a83c9f70>,\n",
       "          <tenseal.tensors.ckksvector.CKKSVector object at 0x7fd9a83cbf80>,\n",
       "          <tenseal.tensors.ckksvector.CKKSVector object at 0x7fd9a83c9a60>,\n",
       "          <tenseal.tensors.ckksvector.CKKSVector object at 0x7fd9a83c8380>,\n",
       "          <tenseal.tensors.ckksvector.CKKSVector object at 0x7fd9a83c8500>,\n",
       "          <tenseal.tensors.ckksvector.CKKSVector object at 0x7fd9a83caea0>,\n",
       "          <tenseal.tensors.ckksvector.CKKSVector object at 0x7fd9a83cb6b0>,\n",
       "          <tenseal.tensors.ckksvector.CKKSVector object at 0x7fd9a83cb920>,\n",
       "          <tenseal.tensors.ckksvector.CKKSVector object at 0x7fd9a8146390>,\n",
       "          <tenseal.tensors.ckksvector.CKKSVector object at 0x7fd9a8145880>,\n",
       "          <tenseal.tensors.ckksvector.CKKSVector object at 0x7fd9a81462a0>,\n",
       "          <tenseal.tensors.ckksvector.CKKSVector object at 0x7fd9a8145340>,\n",
       "          <tenseal.tensors.ckksvector.CKKSVector object at 0x7fd9a81463c0>,\n",
       "          <tenseal.tensors.ckksvector.CKKSVector object at 0x7fd9a81479e0>],\n",
       "         [<tenseal.tensors.ckksvector.CKKSVector object at 0x7fd9a81448c0>,\n",
       "          <tenseal.tensors.ckksvector.CKKSVector object at 0x7fd9a81468a0>,\n",
       "          <tenseal.tensors.ckksvector.CKKSVector object at 0x7fd9a8145250>,\n",
       "          <tenseal.tensors.ckksvector.CKKSVector object at 0x7fd9a8144050>,\n",
       "          <tenseal.tensors.ckksvector.CKKSVector object at 0x7fd9a8144800>,\n",
       "          <tenseal.tensors.ckksvector.CKKSVector object at 0x7fd9a8144a10>,\n",
       "          <tenseal.tensors.ckksvector.CKKSVector object at 0x7fd9a8147d70>,\n",
       "          <tenseal.tensors.ckksvector.CKKSVector object at 0x7fd9a8147ec0>,\n",
       "          <tenseal.tensors.ckksvector.CKKSVector object at 0x7fd9a81458e0>,\n",
       "          <tenseal.tensors.ckksvector.CKKSVector object at 0x7fd9a8145a60>,\n",
       "          <tenseal.tensors.ckksvector.CKKSVector object at 0x7fd9a8145850>,\n",
       "          <tenseal.tensors.ckksvector.CKKSVector object at 0x7fd9a8145970>,\n",
       "          <tenseal.tensors.ckksvector.CKKSVector object at 0x7fd9a81448f0>,\n",
       "          <tenseal.tensors.ckksvector.CKKSVector object at 0x7fd9a8146db0>,\n",
       "          <tenseal.tensors.ckksvector.CKKSVector object at 0x7fd9a8145040>,\n",
       "          <tenseal.tensors.ckksvector.CKKSVector object at 0x7fd9a8144530>,\n",
       "          <tenseal.tensors.ckksvector.CKKSVector object at 0x7fd9a8144aa0>,\n",
       "          <tenseal.tensors.ckksvector.CKKSVector object at 0x7fd9a8144770>,\n",
       "          <tenseal.tensors.ckksvector.CKKSVector object at 0x7fd9a8144e30>,\n",
       "          <tenseal.tensors.ckksvector.CKKSVector object at 0x7fd9a8145a00>],\n",
       "         [<tenseal.tensors.ckksvector.CKKSVector object at 0x7fd9a8145730>,\n",
       "          <tenseal.tensors.ckksvector.CKKSVector object at 0x7fd9a8144ad0>,\n",
       "          <tenseal.tensors.ckksvector.CKKSVector object at 0x7fd9a8146e70>,\n",
       "          <tenseal.tensors.ckksvector.CKKSVector object at 0x7fd9a81475f0>,\n",
       "          <tenseal.tensors.ckksvector.CKKSVector object at 0x7fd9a8147c50>,\n",
       "          <tenseal.tensors.ckksvector.CKKSVector object at 0x7fd9a8147650>,\n",
       "          <tenseal.tensors.ckksvector.CKKSVector object at 0x7fd9a8336630>,\n",
       "          <tenseal.tensors.ckksvector.CKKSVector object at 0x7fd9a8335f70>,\n",
       "          <tenseal.tensors.ckksvector.CKKSVector object at 0x7fd9a83372f0>,\n",
       "          <tenseal.tensors.ckksvector.CKKSVector object at 0x7fd9a8336cc0>,\n",
       "          <tenseal.tensors.ckksvector.CKKSVector object at 0x7fd9a8337260>,\n",
       "          <tenseal.tensors.ckksvector.CKKSVector object at 0x7fd9a8337140>,\n",
       "          <tenseal.tensors.ckksvector.CKKSVector object at 0x7fd9a8336f90>,\n",
       "          <tenseal.tensors.ckksvector.CKKSVector object at 0x7fd9a8337e30>,\n",
       "          <tenseal.tensors.ckksvector.CKKSVector object at 0x7fd9a8335310>,\n",
       "          <tenseal.tensors.ckksvector.CKKSVector object at 0x7fd9a83371d0>,\n",
       "          <tenseal.tensors.ckksvector.CKKSVector object at 0x7fd9a83353a0>,\n",
       "          <tenseal.tensors.ckksvector.CKKSVector object at 0x7fd9a8334ef0>,\n",
       "          <tenseal.tensors.ckksvector.CKKSVector object at 0x7fd9a8336000>,\n",
       "          <tenseal.tensors.ckksvector.CKKSVector object at 0x7fd9a83343b0>],\n",
       "         [<tenseal.tensors.ckksvector.CKKSVector object at 0x7fd9a8336a80>,\n",
       "          <tenseal.tensors.ckksvector.CKKSVector object at 0x7fd9a8335eb0>,\n",
       "          <tenseal.tensors.ckksvector.CKKSVector object at 0x7fd9a83364b0>,\n",
       "          <tenseal.tensors.ckksvector.CKKSVector object at 0x7fd9a8335bb0>,\n",
       "          <tenseal.tensors.ckksvector.CKKSVector object at 0x7fd9a8336990>,\n",
       "          <tenseal.tensors.ckksvector.CKKSVector object at 0x7fd9a8336810>,\n",
       "          <tenseal.tensors.ckksvector.CKKSVector object at 0x7fd9a83340b0>,\n",
       "          <tenseal.tensors.ckksvector.CKKSVector object at 0x7fd9a83361b0>,\n",
       "          <tenseal.tensors.ckksvector.CKKSVector object at 0x7fd9a81f5100>,\n",
       "          <tenseal.tensors.ckksvector.CKKSVector object at 0x7fd9a81f70e0>,\n",
       "          <tenseal.tensors.ckksvector.CKKSVector object at 0x7fd9a81f44a0>,\n",
       "          <tenseal.tensors.ckksvector.CKKSVector object at 0x7fd9a81f4560>,\n",
       "          <tenseal.tensors.ckksvector.CKKSVector object at 0x7fd9a81f5940>,\n",
       "          <tenseal.tensors.ckksvector.CKKSVector object at 0x7fd9a81f5d30>,\n",
       "          <tenseal.tensors.ckksvector.CKKSVector object at 0x7fd9a81f6f00>,\n",
       "          <tenseal.tensors.ckksvector.CKKSVector object at 0x7fd9a81f6570>,\n",
       "          <tenseal.tensors.ckksvector.CKKSVector object at 0x7fd9a81f49e0>,\n",
       "          <tenseal.tensors.ckksvector.CKKSVector object at 0x7fd9a81f6c90>,\n",
       "          <tenseal.tensors.ckksvector.CKKSVector object at 0x7fd9a81f5c70>,\n",
       "          <tenseal.tensors.ckksvector.CKKSVector object at 0x7fd9a81f5c40>],\n",
       "         [<tenseal.tensors.ckksvector.CKKSVector object at 0x7fd9a81f5880>,\n",
       "          <tenseal.tensors.ckksvector.CKKSVector object at 0x7fd9a81f64e0>,\n",
       "          <tenseal.tensors.ckksvector.CKKSVector object at 0x7fd9a81f6390>,\n",
       "          <tenseal.tensors.ckksvector.CKKSVector object at 0x7fd9a81f7230>,\n",
       "          <tenseal.tensors.ckksvector.CKKSVector object at 0x7fd9a81f56a0>,\n",
       "          <tenseal.tensors.ckksvector.CKKSVector object at 0x7fd9a81f4e90>,\n",
       "          <tenseal.tensors.ckksvector.CKKSVector object at 0x7fd9a81f49b0>,\n",
       "          <tenseal.tensors.ckksvector.CKKSVector object at 0x7fda21521d90>,\n",
       "          <tenseal.tensors.ckksvector.CKKSVector object at 0x7fd9a82465d0>,\n",
       "          <tenseal.tensors.ckksvector.CKKSVector object at 0x7fd9a8382f30>,\n",
       "          <tenseal.tensors.ckksvector.CKKSVector object at 0x7fd9a81f6840>,\n",
       "          <tenseal.tensors.ckksvector.CKKSVector object at 0x7fd9a81f4bf0>,\n",
       "          <tenseal.tensors.ckksvector.CKKSVector object at 0x7fd9a81f6de0>,\n",
       "          <tenseal.tensors.ckksvector.CKKSVector object at 0x7fd9a81f7a40>,\n",
       "          <tenseal.tensors.ckksvector.CKKSVector object at 0x7fd9a81f5fa0>,\n",
       "          <tenseal.tensors.ckksvector.CKKSVector object at 0x7fd9a81f5610>,\n",
       "          <tenseal.tensors.ckksvector.CKKSVector object at 0x7fd9a81f5a00>,\n",
       "          <tenseal.tensors.ckksvector.CKKSVector object at 0x7fd9a81f5700>,\n",
       "          <tenseal.tensors.ckksvector.CKKSVector object at 0x7fd9a81f68d0>,\n",
       "          <tenseal.tensors.ckksvector.CKKSVector object at 0x7fd9a81f58e0>],\n",
       "         [<tenseal.tensors.ckksvector.CKKSVector object at 0x7fd9a81f52e0>,\n",
       "          <tenseal.tensors.ckksvector.CKKSVector object at 0x7fd9a81f6630>,\n",
       "          <tenseal.tensors.ckksvector.CKKSVector object at 0x7fd9a81f57f0>,\n",
       "          <tenseal.tensors.ckksvector.CKKSVector object at 0x7fd9a81f42f0>,\n",
       "          <tenseal.tensors.ckksvector.CKKSVector object at 0x7fd9a81f5e50>,\n",
       "          <tenseal.tensors.ckksvector.CKKSVector object at 0x7fda2159db80>,\n",
       "          <tenseal.tensors.ckksvector.CKKSVector object at 0x7fda2159ffb0>,\n",
       "          <tenseal.tensors.ckksvector.CKKSVector object at 0x7fd91f94e4b0>,\n",
       "          <tenseal.tensors.ckksvector.CKKSVector object at 0x7fd91f94d550>,\n",
       "          <tenseal.tensors.ckksvector.CKKSVector object at 0x7fd91f94dbb0>,\n",
       "          <tenseal.tensors.ckksvector.CKKSVector object at 0x7fd91f94dac0>,\n",
       "          <tenseal.tensors.ckksvector.CKKSVector object at 0x7fd91f94da00>,\n",
       "          <tenseal.tensors.ckksvector.CKKSVector object at 0x7fd91f94e270>,\n",
       "          <tenseal.tensors.ckksvector.CKKSVector object at 0x7fd91f94d1f0>,\n",
       "          <tenseal.tensors.ckksvector.CKKSVector object at 0x7fd91f94fa40>,\n",
       "          <tenseal.tensors.ckksvector.CKKSVector object at 0x7fd91f94c140>,\n",
       "          <tenseal.tensors.ckksvector.CKKSVector object at 0x7fd91f94c890>,\n",
       "          <tenseal.tensors.ckksvector.CKKSVector object at 0x7fd91f94e6c0>,\n",
       "          <tenseal.tensors.ckksvector.CKKSVector object at 0x7fd91f94e420>,\n",
       "          <tenseal.tensors.ckksvector.CKKSVector object at 0x7fd91f94e1b0>],\n",
       "         [<tenseal.tensors.ckksvector.CKKSVector object at 0x7fd91f94c740>,\n",
       "          <tenseal.tensors.ckksvector.CKKSVector object at 0x7fd91f94ed80>,\n",
       "          <tenseal.tensors.ckksvector.CKKSVector object at 0x7fd91f94f950>,\n",
       "          <tenseal.tensors.ckksvector.CKKSVector object at 0x7fd91f94d2e0>,\n",
       "          <tenseal.tensors.ckksvector.CKKSVector object at 0x7fd91f94f140>,\n",
       "          <tenseal.tensors.ckksvector.CKKSVector object at 0x7fd91f94f8f0>,\n",
       "          <tenseal.tensors.ckksvector.CKKSVector object at 0x7fd91f94dc70>,\n",
       "          <tenseal.tensors.ckksvector.CKKSVector object at 0x7fd91f94eff0>,\n",
       "          <tenseal.tensors.ckksvector.CKKSVector object at 0x7fd91f94db50>,\n",
       "          <tenseal.tensors.ckksvector.CKKSVector object at 0x7fd91f94f2c0>,\n",
       "          <tenseal.tensors.ckksvector.CKKSVector object at 0x7fd91f94e8a0>,\n",
       "          <tenseal.tensors.ckksvector.CKKSVector object at 0x7fd91f94c980>,\n",
       "          <tenseal.tensors.ckksvector.CKKSVector object at 0x7fd91f94e990>,\n",
       "          <tenseal.tensors.ckksvector.CKKSVector object at 0x7fd91f94c290>,\n",
       "          <tenseal.tensors.ckksvector.CKKSVector object at 0x7fd91f94cf80>,\n",
       "          <tenseal.tensors.ckksvector.CKKSVector object at 0x7fd91f94dca0>,\n",
       "          <tenseal.tensors.ckksvector.CKKSVector object at 0x7fd91f94ccb0>,\n",
       "          <tenseal.tensors.ckksvector.CKKSVector object at 0x7fd91f94f260>,\n",
       "          <tenseal.tensors.ckksvector.CKKSVector object at 0x7fd91f94e030>,\n",
       "          <tenseal.tensors.ckksvector.CKKSVector object at 0x7fd91f94f380>],\n",
       "         [<tenseal.tensors.ckksvector.CKKSVector object at 0x7fd91f94f1a0>,\n",
       "          <tenseal.tensors.ckksvector.CKKSVector object at 0x7fd91f94f6b0>,\n",
       "          <tenseal.tensors.ckksvector.CKKSVector object at 0x7fd91f94c5f0>,\n",
       "          <tenseal.tensors.ckksvector.CKKSVector object at 0x7fd91f94cbf0>,\n",
       "          <tenseal.tensors.ckksvector.CKKSVector object at 0x7fd91f94e810>,\n",
       "          <tenseal.tensors.ckksvector.CKKSVector object at 0x7fd91f94fce0>,\n",
       "          <tenseal.tensors.ckksvector.CKKSVector object at 0x7fd91f94f500>,\n",
       "          <tenseal.tensors.ckksvector.CKKSVector object at 0x7fd91f94da90>,\n",
       "          <tenseal.tensors.ckksvector.CKKSVector object at 0x7fd91f94cc50>,\n",
       "          <tenseal.tensors.ckksvector.CKKSVector object at 0x7fd91f94ec30>,\n",
       "          <tenseal.tensors.ckksvector.CKKSVector object at 0x7fd91f94d010>,\n",
       "          <tenseal.tensors.ckksvector.CKKSVector object at 0x7fd91f94e7e0>,\n",
       "          <tenseal.tensors.ckksvector.CKKSVector object at 0x7fd91f94f8c0>,\n",
       "          <tenseal.tensors.ckksvector.CKKSVector object at 0x7fd91f94f830>,\n",
       "          <tenseal.tensors.ckksvector.CKKSVector object at 0x7fd91f94cec0>,\n",
       "          <tenseal.tensors.ckksvector.CKKSVector object at 0x7fd91f94e900>,\n",
       "          <tenseal.tensors.ckksvector.CKKSVector object at 0x7fd91f94cce0>,\n",
       "          <tenseal.tensors.ckksvector.CKKSVector object at 0x7fd91f94dbe0>,\n",
       "          <tenseal.tensors.ckksvector.CKKSVector object at 0x7fd91f94c650>,\n",
       "          <tenseal.tensors.ckksvector.CKKSVector object at 0x7fd91f94ffe0>],\n",
       "         [<tenseal.tensors.ckksvector.CKKSVector object at 0x7fd9a81b0ef0>,\n",
       "          <tenseal.tensors.ckksvector.CKKSVector object at 0x7fd9a81929c0>,\n",
       "          <tenseal.tensors.ckksvector.CKKSVector object at 0x7fd9a8192c00>,\n",
       "          <tenseal.tensors.ckksvector.CKKSVector object at 0x7fd91f94c4a0>,\n",
       "          <tenseal.tensors.ckksvector.CKKSVector object at 0x7fd91f94ede0>,\n",
       "          <tenseal.tensors.ckksvector.CKKSVector object at 0x7fd91f94dfd0>,\n",
       "          <tenseal.tensors.ckksvector.CKKSVector object at 0x7fd91f94d640>,\n",
       "          <tenseal.tensors.ckksvector.CKKSVector object at 0x7fd9a83296d0>,\n",
       "          <tenseal.tensors.ckksvector.CKKSVector object at 0x7fd9a832aa80>,\n",
       "          <tenseal.tensors.ckksvector.CKKSVector object at 0x7fd9a832bfe0>,\n",
       "          <tenseal.tensors.ckksvector.CKKSVector object at 0x7fd9a8328a70>,\n",
       "          <tenseal.tensors.ckksvector.CKKSVector object at 0x7fd9a8328080>,\n",
       "          <tenseal.tensors.ckksvector.CKKSVector object at 0x7fd9a832bfb0>,\n",
       "          <tenseal.tensors.ckksvector.CKKSVector object at 0x7fd9a8329880>,\n",
       "          <tenseal.tensors.ckksvector.CKKSVector object at 0x7fd9a832a150>,\n",
       "          <tenseal.tensors.ckksvector.CKKSVector object at 0x7fd9a8328590>,\n",
       "          <tenseal.tensors.ckksvector.CKKSVector object at 0x7fd9a832a060>,\n",
       "          <tenseal.tensors.ckksvector.CKKSVector object at 0x7fd9a83288f0>,\n",
       "          <tenseal.tensors.ckksvector.CKKSVector object at 0x7fd9a832b380>,\n",
       "          <tenseal.tensors.ckksvector.CKKSVector object at 0x7fd9a832a600>],\n",
       "         [<tenseal.tensors.ckksvector.CKKSVector object at 0x7fd9a83298e0>,\n",
       "          <tenseal.tensors.ckksvector.CKKSVector object at 0x7fd9a8328e00>,\n",
       "          <tenseal.tensors.ckksvector.CKKSVector object at 0x7fd9a8328950>,\n",
       "          <tenseal.tensors.ckksvector.CKKSVector object at 0x7fd9a8328860>,\n",
       "          <tenseal.tensors.ckksvector.CKKSVector object at 0x7fd9a832bc50>,\n",
       "          <tenseal.tensors.ckksvector.CKKSVector object at 0x7fd9a8329a30>,\n",
       "          <tenseal.tensors.ckksvector.CKKSVector object at 0x7fd9a832ae70>,\n",
       "          <tenseal.tensors.ckksvector.CKKSVector object at 0x7fd9a8328b30>,\n",
       "          <tenseal.tensors.ckksvector.CKKSVector object at 0x7fd9a8329640>,\n",
       "          <tenseal.tensors.ckksvector.CKKSVector object at 0x7fd9a832bda0>,\n",
       "          <tenseal.tensors.ckksvector.CKKSVector object at 0x7fd9a832a030>,\n",
       "          <tenseal.tensors.ckksvector.CKKSVector object at 0x7fd9a83299a0>,\n",
       "          <tenseal.tensors.ckksvector.CKKSVector object at 0x7fd9a832bdd0>,\n",
       "          <tenseal.tensors.ckksvector.CKKSVector object at 0x7fd9a8329670>,\n",
       "          <tenseal.tensors.ckksvector.CKKSVector object at 0x7fd9a83297c0>,\n",
       "          <tenseal.tensors.ckksvector.CKKSVector object at 0x7fd9a832bd10>,\n",
       "          <tenseal.tensors.ckksvector.CKKSVector object at 0x7fd9a832a660>,\n",
       "          <tenseal.tensors.ckksvector.CKKSVector object at 0x7fd9a832b170>,\n",
       "          <tenseal.tensors.ckksvector.CKKSVector object at 0x7fd9a8329550>,\n",
       "          <tenseal.tensors.ckksvector.CKKSVector object at 0x7fd9a832a3f0>],\n",
       "         [<tenseal.tensors.ckksvector.CKKSVector object at 0x7fd9a8328800>,\n",
       "          <tenseal.tensors.ckksvector.CKKSVector object at 0x7fd9a83290d0>,\n",
       "          <tenseal.tensors.ckksvector.CKKSVector object at 0x7fd9a8329d30>,\n",
       "          <tenseal.tensors.ckksvector.CKKSVector object at 0x7fd9a83280e0>,\n",
       "          <tenseal.tensors.ckksvector.CKKSVector object at 0x7fd9a8329820>,\n",
       "          <tenseal.tensors.ckksvector.CKKSVector object at 0x7fd9a8329f70>,\n",
       "          <tenseal.tensors.ckksvector.CKKSVector object at 0x7fd9a8328470>,\n",
       "          <tenseal.tensors.ckksvector.CKKSVector object at 0x7fd9a8329df0>,\n",
       "          <tenseal.tensors.ckksvector.CKKSVector object at 0x7fd9a8329490>,\n",
       "          <tenseal.tensors.ckksvector.CKKSVector object at 0x7fd9a8329610>,\n",
       "          <tenseal.tensors.ckksvector.CKKSVector object at 0x7fd9a8329ac0>,\n",
       "          <tenseal.tensors.ckksvector.CKKSVector object at 0x7fd9a832b320>,\n",
       "          <tenseal.tensors.ckksvector.CKKSVector object at 0x7fd9a8328530>,\n",
       "          <tenseal.tensors.ckksvector.CKKSVector object at 0x7fd9a8329c70>,\n",
       "          <tenseal.tensors.ckksvector.CKKSVector object at 0x7fd9a832a7b0>,\n",
       "          <tenseal.tensors.ckksvector.CKKSVector object at 0x7fd9a832aff0>,\n",
       "          <tenseal.tensors.ckksvector.CKKSVector object at 0x7fd9a832ad80>,\n",
       "          <tenseal.tensors.ckksvector.CKKSVector object at 0x7fd9a832b8c0>,\n",
       "          <tenseal.tensors.ckksvector.CKKSVector object at 0x7fd9a832a780>,\n",
       "          <tenseal.tensors.ckksvector.CKKSVector object at 0x7fd9a8329970>],\n",
       "         [<tenseal.tensors.ckksvector.CKKSVector object at 0x7fd9a832ac60>,\n",
       "          <tenseal.tensors.ckksvector.CKKSVector object at 0x7fd9a8328380>,\n",
       "          <tenseal.tensors.ckksvector.CKKSVector object at 0x7fd9a832b560>,\n",
       "          <tenseal.tensors.ckksvector.CKKSVector object at 0x7fd9a832b620>,\n",
       "          <tenseal.tensors.ckksvector.CKKSVector object at 0x7fd9a8329be0>,\n",
       "          <tenseal.tensors.ckksvector.CKKSVector object at 0x7fd9a8329dc0>,\n",
       "          <tenseal.tensors.ckksvector.CKKSVector object at 0x7fd9a8329b80>,\n",
       "          <tenseal.tensors.ckksvector.CKKSVector object at 0x7fd9a8328740>,\n",
       "          <tenseal.tensors.ckksvector.CKKSVector object at 0x7fd9a832a900>,\n",
       "          <tenseal.tensors.ckksvector.CKKSVector object at 0x7fd9a832baa0>,\n",
       "          <tenseal.tensors.ckksvector.CKKSVector object at 0x7fd9a832b9b0>,\n",
       "          <tenseal.tensors.ckksvector.CKKSVector object at 0x7fd9a832af60>,\n",
       "          <tenseal.tensors.ckksvector.CKKSVector object at 0x7fd9a832b800>,\n",
       "          <tenseal.tensors.ckksvector.CKKSVector object at 0x7fd9a832a390>,\n",
       "          <tenseal.tensors.ckksvector.CKKSVector object at 0x7fd9a83291c0>,\n",
       "          <tenseal.tensors.ckksvector.CKKSVector object at 0x7fd9a8328980>,\n",
       "          <tenseal.tensors.ckksvector.CKKSVector object at 0x7fd9a83286e0>,\n",
       "          <tenseal.tensors.ckksvector.CKKSVector object at 0x7fd9a832bc80>,\n",
       "          <tenseal.tensors.ckksvector.CKKSVector object at 0x7fd9a8328d70>,\n",
       "          <tenseal.tensors.ckksvector.CKKSVector object at 0x7fd9a83294c0>],\n",
       "         [<tenseal.tensors.ckksvector.CKKSVector object at 0x7fd9a8328dd0>,\n",
       "          <tenseal.tensors.ckksvector.CKKSVector object at 0x7fd9a8329400>,\n",
       "          <tenseal.tensors.ckksvector.CKKSVector object at 0x7fd9a832aab0>,\n",
       "          <tenseal.tensors.ckksvector.CKKSVector object at 0x7fd9a832b0e0>,\n",
       "          <tenseal.tensors.ckksvector.CKKSVector object at 0x7fd9a832b5f0>,\n",
       "          <tenseal.tensors.ckksvector.CKKSVector object at 0x7fd9a83281d0>,\n",
       "          <tenseal.tensors.ckksvector.CKKSVector object at 0x7fd9a83284d0>,\n",
       "          <tenseal.tensors.ckksvector.CKKSVector object at 0x7fd9a832a6f0>,\n",
       "          <tenseal.tensors.ckksvector.CKKSVector object at 0x7fd9a832a420>,\n",
       "          <tenseal.tensors.ckksvector.CKKSVector object at 0x7fd9a8329070>,\n",
       "          <tenseal.tensors.ckksvector.CKKSVector object at 0x7fd9a8329eb0>,\n",
       "          <tenseal.tensors.ckksvector.CKKSVector object at 0x7fd9a8329430>,\n",
       "          <tenseal.tensors.ckksvector.CKKSVector object at 0x7fd9a832a810>,\n",
       "          <tenseal.tensors.ckksvector.CKKSVector object at 0x7fd9a832b7d0>,\n",
       "          <tenseal.tensors.ckksvector.CKKSVector object at 0x7fd9a8328cb0>,\n",
       "          <tenseal.tensors.ckksvector.CKKSVector object at 0x7fd9a832b5c0>,\n",
       "          <tenseal.tensors.ckksvector.CKKSVector object at 0x7fd9a832b110>,\n",
       "          <tenseal.tensors.ckksvector.CKKSVector object at 0x7fd9a832b890>,\n",
       "          <tenseal.tensors.ckksvector.CKKSVector object at 0x7fd9a832a240>,\n",
       "          <tenseal.tensors.ckksvector.CKKSVector object at 0x7fd9a8329700>],\n",
       "         [<tenseal.tensors.ckksvector.CKKSVector object at 0x7fd9a832a480>,\n",
       "          <tenseal.tensors.ckksvector.CKKSVector object at 0x7fd9a832a9f0>,\n",
       "          <tenseal.tensors.ckksvector.CKKSVector object at 0x7fd9a832b080>,\n",
       "          <tenseal.tensors.ckksvector.CKKSVector object at 0x7fd9a83292e0>,\n",
       "          <tenseal.tensors.ckksvector.CKKSVector object at 0x7fd9a8328e60>,\n",
       "          <tenseal.tensors.ckksvector.CKKSVector object at 0x7fd9a8328260>,\n",
       "          <tenseal.tensors.ckksvector.CKKSVector object at 0x7fd9a832bad0>,\n",
       "          <tenseal.tensors.ckksvector.CKKSVector object at 0x7fd9a832af90>,\n",
       "          <tenseal.tensors.ckksvector.CKKSVector object at 0x7fd9a8328230>,\n",
       "          <tenseal.tensors.ckksvector.CKKSVector object at 0x7fd9a832be90>,\n",
       "          <tenseal.tensors.ckksvector.CKKSVector object at 0x7fd9a8328320>,\n",
       "          <tenseal.tensors.ckksvector.CKKSVector object at 0x7fd9a83295b0>,\n",
       "          <tenseal.tensors.ckksvector.CKKSVector object at 0x7fd9a832ac90>,\n",
       "          <tenseal.tensors.ckksvector.CKKSVector object at 0x7fd9a832a300>,\n",
       "          <tenseal.tensors.ckksvector.CKKSVector object at 0x7fd9a8328680>,\n",
       "          <tenseal.tensors.ckksvector.CKKSVector object at 0x7fd9a8329160>,\n",
       "          <tenseal.tensors.ckksvector.CKKSVector object at 0x7fd9a832a8a0>,\n",
       "          <tenseal.tensors.ckksvector.CKKSVector object at 0x7fd9a832a330>,\n",
       "          <tenseal.tensors.ckksvector.CKKSVector object at 0x7fd9a83298b0>,\n",
       "          <tenseal.tensors.ckksvector.CKKSVector object at 0x7fd9a8329a00>],\n",
       "         [<tenseal.tensors.ckksvector.CKKSVector object at 0x7fd9a832a450>,\n",
       "          <tenseal.tensors.ckksvector.CKKSVector object at 0x7fd9a832a750>,\n",
       "          <tenseal.tensors.ckksvector.CKKSVector object at 0x7fd9a8329ee0>,\n",
       "          <tenseal.tensors.ckksvector.CKKSVector object at 0x7fd9a832a9c0>,\n",
       "          <tenseal.tensors.ckksvector.CKKSVector object at 0x7fd9a832afc0>,\n",
       "          <tenseal.tensors.ckksvector.CKKSVector object at 0x7fd9a8328f20>,\n",
       "          <tenseal.tensors.ckksvector.CKKSVector object at 0x7fd9a832aae0>,\n",
       "          <tenseal.tensors.ckksvector.CKKSVector object at 0x7fd9a8328770>,\n",
       "          <tenseal.tensors.ckksvector.CKKSVector object at 0x7fd9a832ae10>,\n",
       "          <tenseal.tensors.ckksvector.CKKSVector object at 0x7fd9a832a2a0>,\n",
       "          <tenseal.tensors.ckksvector.CKKSVector object at 0x7fd9a83283b0>,\n",
       "          <tenseal.tensors.ckksvector.CKKSVector object at 0x7fd9a8328aa0>,\n",
       "          <tenseal.tensors.ckksvector.CKKSVector object at 0x7fd9a832b470>,\n",
       "          <tenseal.tensors.ckksvector.CKKSVector object at 0x7fd9a832b590>,\n",
       "          <tenseal.tensors.ckksvector.CKKSVector object at 0x7fd9a8328c20>,\n",
       "          <tenseal.tensors.ckksvector.CKKSVector object at 0x7fd9a832a1b0>,\n",
       "          <tenseal.tensors.ckksvector.CKKSVector object at 0x7fd9a832b6e0>,\n",
       "          <tenseal.tensors.ckksvector.CKKSVector object at 0x7fd9a832a5d0>,\n",
       "          <tenseal.tensors.ckksvector.CKKSVector object at 0x7fd9a8328f50>,\n",
       "          <tenseal.tensors.ckksvector.CKKSVector object at 0x7fd9a832b680>],\n",
       "         [<tenseal.tensors.ckksvector.CKKSVector object at 0x7fd9a832af00>,\n",
       "          <tenseal.tensors.ckksvector.CKKSVector object at 0x7fd9a832b020>,\n",
       "          <tenseal.tensors.ckksvector.CKKSVector object at 0x7fd9a8328ce0>,\n",
       "          <tenseal.tensors.ckksvector.CKKSVector object at 0x7fd9a8329e20>,\n",
       "          <tenseal.tensors.ckksvector.CKKSVector object at 0x7fd9a832b1a0>,\n",
       "          <tenseal.tensors.ckksvector.CKKSVector object at 0x7fd9a83295e0>,\n",
       "          <tenseal.tensors.ckksvector.CKKSVector object at 0x7fd9a83296a0>,\n",
       "          <tenseal.tensors.ckksvector.CKKSVector object at 0x7fd9a832bbc0>,\n",
       "          <tenseal.tensors.ckksvector.CKKSVector object at 0x7fd9a832abd0>,\n",
       "          <tenseal.tensors.ckksvector.CKKSVector object at 0x7fd9a83284a0>,\n",
       "          <tenseal.tensors.ckksvector.CKKSVector object at 0x7fd9a832bc20>,\n",
       "          <tenseal.tensors.ckksvector.CKKSVector object at 0x7fd9a8329b20>,\n",
       "          <tenseal.tensors.ckksvector.CKKSVector object at 0x7fd9a8328560>,\n",
       "          <tenseal.tensors.ckksvector.CKKSVector object at 0x7fd9a83281a0>,\n",
       "          <tenseal.tensors.ckksvector.CKKSVector object at 0x7fd9a83299d0>,\n",
       "          <tenseal.tensors.ckksvector.CKKSVector object at 0x7fd9a8329c10>,\n",
       "          <tenseal.tensors.ckksvector.CKKSVector object at 0x7fd9a83297f0>,\n",
       "          <tenseal.tensors.ckksvector.CKKSVector object at 0x7fd9a8328290>,\n",
       "          <tenseal.tensors.ckksvector.CKKSVector object at 0x7fd9a8328050>,\n",
       "          <tenseal.tensors.ckksvector.CKKSVector object at 0x7fd9a8329f40>],\n",
       "         [<tenseal.tensors.ckksvector.CKKSVector object at 0x7fd9a832aa50>,\n",
       "          <tenseal.tensors.ckksvector.CKKSVector object at 0x7fd9a832aba0>,\n",
       "          <tenseal.tensors.ckksvector.CKKSVector object at 0x7fd9a832a000>,\n",
       "          <tenseal.tensors.ckksvector.CKKSVector object at 0x7fd9a832b7a0>,\n",
       "          <tenseal.tensors.ckksvector.CKKSVector object at 0x7fd9a8329940>,\n",
       "          <tenseal.tensors.ckksvector.CKKSVector object at 0x7fd9a832bb60>,\n",
       "          <tenseal.tensors.ckksvector.CKKSVector object at 0x7fd9a832ac30>,\n",
       "          <tenseal.tensors.ckksvector.CKKSVector object at 0x7fd9a8328bf0>,\n",
       "          <tenseal.tensors.ckksvector.CKKSVector object at 0x7fd9a832b8f0>,\n",
       "          <tenseal.tensors.ckksvector.CKKSVector object at 0x7fd9a8328140>,\n",
       "          <tenseal.tensors.ckksvector.CKKSVector object at 0x7fd9a832ba10>,\n",
       "          <tenseal.tensors.ckksvector.CKKSVector object at 0x7fd9a832b260>,\n",
       "          <tenseal.tensors.ckksvector.CKKSVector object at 0x7fd9a83287a0>,\n",
       "          <tenseal.tensors.ckksvector.CKKSVector object at 0x7fd91f8e3e00>,\n",
       "          <tenseal.tensors.ckksvector.CKKSVector object at 0x7fd91f8e3530>,\n",
       "          <tenseal.tensors.ckksvector.CKKSVector object at 0x7fd91f8e1f40>,\n",
       "          <tenseal.tensors.ckksvector.CKKSVector object at 0x7fd91f8e3f20>,\n",
       "          <tenseal.tensors.ckksvector.CKKSVector object at 0x7fd91f8e00b0>,\n",
       "          <tenseal.tensors.ckksvector.CKKSVector object at 0x7fd91f8e2f00>,\n",
       "          <tenseal.tensors.ckksvector.CKKSVector object at 0x7fd91f8e33e0>],\n",
       "         [<tenseal.tensors.ckksvector.CKKSVector object at 0x7fd91f8e2f30>,\n",
       "          <tenseal.tensors.ckksvector.CKKSVector object at 0x7fd91f8e3620>,\n",
       "          <tenseal.tensors.ckksvector.CKKSVector object at 0x7fd91f8e05f0>,\n",
       "          <tenseal.tensors.ckksvector.CKKSVector object at 0x7fd91f8e20f0>,\n",
       "          <tenseal.tensors.ckksvector.CKKSVector object at 0x7fd91f8e3350>,\n",
       "          <tenseal.tensors.ckksvector.CKKSVector object at 0x7fd91f8e1fd0>,\n",
       "          <tenseal.tensors.ckksvector.CKKSVector object at 0x7fd91f8e19a0>,\n",
       "          <tenseal.tensors.ckksvector.CKKSVector object at 0x7fd91f8e14f0>,\n",
       "          <tenseal.tensors.ckksvector.CKKSVector object at 0x7fd91f8e0e30>,\n",
       "          <tenseal.tensors.ckksvector.CKKSVector object at 0x7fd91f8e1550>,\n",
       "          <tenseal.tensors.ckksvector.CKKSVector object at 0x7fd91f8e15b0>,\n",
       "          <tenseal.tensors.ckksvector.CKKSVector object at 0x7fd91f8e1610>,\n",
       "          <tenseal.tensors.ckksvector.CKKSVector object at 0x7fd91f8e1fa0>,\n",
       "          <tenseal.tensors.ckksvector.CKKSVector object at 0x7fd91f8e0dd0>,\n",
       "          <tenseal.tensors.ckksvector.CKKSVector object at 0x7fd91f8e1b80>,\n",
       "          <tenseal.tensors.ckksvector.CKKSVector object at 0x7fd91f8e2f60>,\n",
       "          <tenseal.tensors.ckksvector.CKKSVector object at 0x7fd91f8e2cf0>,\n",
       "          <tenseal.tensors.ckksvector.CKKSVector object at 0x7fd91f8e3b00>,\n",
       "          <tenseal.tensors.ckksvector.CKKSVector object at 0x7fd91f8e0170>,\n",
       "          <tenseal.tensors.ckksvector.CKKSVector object at 0x7fd91f8e0620>]],\n",
       "        dtype=object),\n",
       "  array([[<tenseal.tensors.ckksvector.CKKSVector object at 0x7fd91f8e0230>,\n",
       "          <tenseal.tensors.ckksvector.CKKSVector object at 0x7fd91f8e0350>,\n",
       "          <tenseal.tensors.ckksvector.CKKSVector object at 0x7fd91f8e0c20>,\n",
       "          <tenseal.tensors.ckksvector.CKKSVector object at 0x7fd91f8e0c80>,\n",
       "          <tenseal.tensors.ckksvector.CKKSVector object at 0x7fd91f8e0d10>,\n",
       "          <tenseal.tensors.ckksvector.CKKSVector object at 0x7fd91f8e0c50>,\n",
       "          <tenseal.tensors.ckksvector.CKKSVector object at 0x7fd91f8e0a10>,\n",
       "          <tenseal.tensors.ckksvector.CKKSVector object at 0x7fd91f8e0ad0>,\n",
       "          <tenseal.tensors.ckksvector.CKKSVector object at 0x7fd91f8e0560>,\n",
       "          <tenseal.tensors.ckksvector.CKKSVector object at 0x7fd91f8e17c0>,\n",
       "          <tenseal.tensors.ckksvector.CKKSVector object at 0x7fd91f8e1c70>,\n",
       "          <tenseal.tensors.ckksvector.CKKSVector object at 0x7fd91f8e1d00>,\n",
       "          <tenseal.tensors.ckksvector.CKKSVector object at 0x7fd91f8e1f70>,\n",
       "          <tenseal.tensors.ckksvector.CKKSVector object at 0x7fd91f8e1e80>,\n",
       "          <tenseal.tensors.ckksvector.CKKSVector object at 0x7fd91f8e0b00>,\n",
       "          <tenseal.tensors.ckksvector.CKKSVector object at 0x7fd91f8e1df0>,\n",
       "          <tenseal.tensors.ckksvector.CKKSVector object at 0x7fd91f8e2f90>,\n",
       "          <tenseal.tensors.ckksvector.CKKSVector object at 0x7fd91f8e3920>,\n",
       "          <tenseal.tensors.ckksvector.CKKSVector object at 0x7fd91f8e3cb0>,\n",
       "          <tenseal.tensors.ckksvector.CKKSVector object at 0x7fd91f8e3ce0>],\n",
       "         [<tenseal.tensors.ckksvector.CKKSVector object at 0x7fd91f8e3ec0>,\n",
       "          <tenseal.tensors.ckksvector.CKKSVector object at 0x7fd91f8e3da0>,\n",
       "          <tenseal.tensors.ckksvector.CKKSVector object at 0x7fd91f8e08f0>,\n",
       "          <tenseal.tensors.ckksvector.CKKSVector object at 0x7fd91f8e0890>,\n",
       "          <tenseal.tensors.ckksvector.CKKSVector object at 0x7fd91f8e2540>,\n",
       "          <tenseal.tensors.ckksvector.CKKSVector object at 0x7fd91f8e38f0>,\n",
       "          <tenseal.tensors.ckksvector.CKKSVector object at 0x7fd91f8e3ad0>,\n",
       "          <tenseal.tensors.ckksvector.CKKSVector object at 0x7fd91f8e2e10>,\n",
       "          <tenseal.tensors.ckksvector.CKKSVector object at 0x7fd91f8e26c0>,\n",
       "          <tenseal.tensors.ckksvector.CKKSVector object at 0x7fd91f8e3950>,\n",
       "          <tenseal.tensors.ckksvector.CKKSVector object at 0x7fd91f8e2630>,\n",
       "          <tenseal.tensors.ckksvector.CKKSVector object at 0x7fd91f8e25a0>,\n",
       "          <tenseal.tensors.ckksvector.CKKSVector object at 0x7fd91f8e3680>,\n",
       "          <tenseal.tensors.ckksvector.CKKSVector object at 0x7fd91f8e2c00>,\n",
       "          <tenseal.tensors.ckksvector.CKKSVector object at 0x7fd91f8e3d40>,\n",
       "          <tenseal.tensors.ckksvector.CKKSVector object at 0x7fd91f8e2300>,\n",
       "          <tenseal.tensors.ckksvector.CKKSVector object at 0x7fd91f8e2360>,\n",
       "          <tenseal.tensors.ckksvector.CKKSVector object at 0x7fd91f8e3050>,\n",
       "          <tenseal.tensors.ckksvector.CKKSVector object at 0x7fd91f8e39e0>,\n",
       "          <tenseal.tensors.ckksvector.CKKSVector object at 0x7fd91f8e3470>],\n",
       "         [<tenseal.tensors.ckksvector.CKKSVector object at 0x7fd91f8e3860>,\n",
       "          <tenseal.tensors.ckksvector.CKKSVector object at 0x7fd91f8e0530>,\n",
       "          <tenseal.tensors.ckksvector.CKKSVector object at 0x7fd91f8e2840>,\n",
       "          <tenseal.tensors.ckksvector.CKKSVector object at 0x7fd91f8e2390>,\n",
       "          <tenseal.tensors.ckksvector.CKKSVector object at 0x7fd91f8e3e30>,\n",
       "          <tenseal.tensors.ckksvector.CKKSVector object at 0x7fd91f8e04d0>,\n",
       "          <tenseal.tensors.ckksvector.CKKSVector object at 0x7fd91f8e1850>,\n",
       "          <tenseal.tensors.ckksvector.CKKSVector object at 0x7fd91f8e0440>,\n",
       "          <tenseal.tensors.ckksvector.CKKSVector object at 0x7fd91f8e0fb0>,\n",
       "          <tenseal.tensors.ckksvector.CKKSVector object at 0x7fd91f8e2990>,\n",
       "          <tenseal.tensors.ckksvector.CKKSVector object at 0x7fd91f8e36e0>,\n",
       "          <tenseal.tensors.ckksvector.CKKSVector object at 0x7fd91f8e0d40>,\n",
       "          <tenseal.tensors.ckksvector.CKKSVector object at 0x7fd91f8e2ab0>,\n",
       "          <tenseal.tensors.ckksvector.CKKSVector object at 0x7fd91f8e1970>,\n",
       "          <tenseal.tensors.ckksvector.CKKSVector object at 0x7fd91f8e25d0>,\n",
       "          <tenseal.tensors.ckksvector.CKKSVector object at 0x7fd91f8e0b60>,\n",
       "          <tenseal.tensors.ckksvector.CKKSVector object at 0x7fd91f8e34d0>,\n",
       "          <tenseal.tensors.ckksvector.CKKSVector object at 0x7fd91f8e2c30>,\n",
       "          <tenseal.tensors.ckksvector.CKKSVector object at 0x7fd91f8e0ec0>,\n",
       "          <tenseal.tensors.ckksvector.CKKSVector object at 0x7fd91f8e0f80>],\n",
       "         [<tenseal.tensors.ckksvector.CKKSVector object at 0x7fd91f8e22d0>,\n",
       "          <tenseal.tensors.ckksvector.CKKSVector object at 0x7fd91f8e04a0>,\n",
       "          <tenseal.tensors.ckksvector.CKKSVector object at 0x7fd91f8e3bc0>,\n",
       "          <tenseal.tensors.ckksvector.CKKSVector object at 0x7fd91f8e3fe0>,\n",
       "          <tenseal.tensors.ckksvector.CKKSVector object at 0x7fd91f8e27b0>,\n",
       "          <tenseal.tensors.ckksvector.CKKSVector object at 0x7fd91f8e03e0>,\n",
       "          <tenseal.tensors.ckksvector.CKKSVector object at 0x7fd91f8e38c0>,\n",
       "          <tenseal.tensors.ckksvector.CKKSVector object at 0x7fd91f8e01d0>,\n",
       "          <tenseal.tensors.ckksvector.CKKSVector object at 0x7fd91f8e1d60>,\n",
       "          <tenseal.tensors.ckksvector.CKKSVector object at 0x7fd91f8e2bd0>,\n",
       "          <tenseal.tensors.ckksvector.CKKSVector object at 0x7fd91f8e0200>,\n",
       "          <tenseal.tensors.ckksvector.CKKSVector object at 0x7fd91f8e02c0>,\n",
       "          <tenseal.tensors.ckksvector.CKKSVector object at 0x7fd91f8e02f0>,\n",
       "          <tenseal.tensors.ckksvector.CKKSVector object at 0x7fd91f8e3980>,\n",
       "          <tenseal.tensors.ckksvector.CKKSVector object at 0x7fd91f8e0b90>,\n",
       "          <tenseal.tensors.ckksvector.CKKSVector object at 0x7fd91f8e2d80>,\n",
       "          <tenseal.tensors.ckksvector.CKKSVector object at 0x7fd91f8e18b0>,\n",
       "          <tenseal.tensors.ckksvector.CKKSVector object at 0x7fd91f8e0320>,\n",
       "          <tenseal.tensors.ckksvector.CKKSVector object at 0x7fd91f8e2ed0>,\n",
       "          <tenseal.tensors.ckksvector.CKKSVector object at 0x7fd91f8e2690>],\n",
       "         [<tenseal.tensors.ckksvector.CKKSVector object at 0x7fd91f8e1d90>,\n",
       "          <tenseal.tensors.ckksvector.CKKSVector object at 0x7fd91f8e2c60>,\n",
       "          <tenseal.tensors.ckksvector.CKKSVector object at 0x7fd91f8e3500>,\n",
       "          <tenseal.tensors.ckksvector.CKKSVector object at 0x7fd91f8e09e0>,\n",
       "          <tenseal.tensors.ckksvector.CKKSVector object at 0x7fd91f8e1b20>,\n",
       "          <tenseal.tensors.ckksvector.CKKSVector object at 0x7fd91f8e3320>,\n",
       "          <tenseal.tensors.ckksvector.CKKSVector object at 0x7fd91f8e1a90>,\n",
       "          <tenseal.tensors.ckksvector.CKKSVector object at 0x7fd91f8e15e0>,\n",
       "          <tenseal.tensors.ckksvector.CKKSVector object at 0x7fd91f8e3ef0>,\n",
       "          <tenseal.tensors.ckksvector.CKKSVector object at 0x7fd91f8e3890>,\n",
       "          <tenseal.tensors.ckksvector.CKKSVector object at 0x7fd91f8e0110>,\n",
       "          <tenseal.tensors.ckksvector.CKKSVector object at 0x7fd91f8e2c90>,\n",
       "          <tenseal.tensors.ckksvector.CKKSVector object at 0x7fd91f8e3560>,\n",
       "          <tenseal.tensors.ckksvector.CKKSVector object at 0x7fd91f8e3800>,\n",
       "          <tenseal.tensors.ckksvector.CKKSVector object at 0x7fd91f8e23c0>,\n",
       "          <tenseal.tensors.ckksvector.CKKSVector object at 0x7fd91f8e2660>,\n",
       "          <tenseal.tensors.ckksvector.CKKSVector object at 0x7fd91f8e1940>,\n",
       "          <tenseal.tensors.ckksvector.CKKSVector object at 0x7fd91f8e0470>,\n",
       "          <tenseal.tensors.ckksvector.CKKSVector object at 0x7fd91f8e3d70>,\n",
       "          <tenseal.tensors.ckksvector.CKKSVector object at 0x7fd91f8e0290>],\n",
       "         [<tenseal.tensors.ckksvector.CKKSVector object at 0x7fd91f8e3410>,\n",
       "          <tenseal.tensors.ckksvector.CKKSVector object at 0x7fd91f8e3200>,\n",
       "          <tenseal.tensors.ckksvector.CKKSVector object at 0x7fd91f8e0380>,\n",
       "          <tenseal.tensors.ckksvector.CKKSVector object at 0x7fd91f8e05c0>,\n",
       "          <tenseal.tensors.ckksvector.CKKSVector object at 0x7fd91f8e37d0>,\n",
       "          <tenseal.tensors.ckksvector.CKKSVector object at 0x7fd91f8e1430>,\n",
       "          <tenseal.tensors.ckksvector.CKKSVector object at 0x7fd91f8e0f20>,\n",
       "          <tenseal.tensors.ckksvector.CKKSVector object at 0x7fd91f8e3fb0>,\n",
       "          <tenseal.tensors.ckksvector.CKKSVector object at 0x7fd91f8e3f80>,\n",
       "          <tenseal.tensors.ckksvector.CKKSVector object at 0x7fd91f8e3c80>,\n",
       "          <tenseal.tensors.ckksvector.CKKSVector object at 0x7fd91f8e23f0>,\n",
       "          <tenseal.tensors.ckksvector.CKKSVector object at 0x7fd91f8e2570>,\n",
       "          <tenseal.tensors.ckksvector.CKKSVector object at 0x7fd91f8e12b0>,\n",
       "          <tenseal.tensors.ckksvector.CKKSVector object at 0x7fd91f8e2780>,\n",
       "          <tenseal.tensors.ckksvector.CKKSVector object at 0x7fd91f8e31d0>,\n",
       "          <tenseal.tensors.ckksvector.CKKSVector object at 0x7fd91f8e2d50>,\n",
       "          <tenseal.tensors.ckksvector.CKKSVector object at 0x7fd91f8e1c10>,\n",
       "          <tenseal.tensors.ckksvector.CKKSVector object at 0x7fd91f8e3170>,\n",
       "          <tenseal.tensors.ckksvector.CKKSVector object at 0x7fd91f8e3b60>,\n",
       "          <tenseal.tensors.ckksvector.CKKSVector object at 0x7fd91f8e1670>],\n",
       "         [<tenseal.tensors.ckksvector.CKKSVector object at 0x7fd91f8e1e20>,\n",
       "          <tenseal.tensors.ckksvector.CKKSVector object at 0x7fd91f8e1460>,\n",
       "          <tenseal.tensors.ckksvector.CKKSVector object at 0x7fd91f8e1ac0>,\n",
       "          <tenseal.tensors.ckksvector.CKKSVector object at 0x7fd91f8e1280>,\n",
       "          <tenseal.tensors.ckksvector.CKKSVector object at 0x7fd91f8e1af0>,\n",
       "          <tenseal.tensors.ckksvector.CKKSVector object at 0x7fd91f8e1cd0>,\n",
       "          <tenseal.tensors.ckksvector.CKKSVector object at 0x7fd91f8e22a0>,\n",
       "          <tenseal.tensors.ckksvector.CKKSVector object at 0x7fd91f8e1a60>,\n",
       "          <tenseal.tensors.ckksvector.CKKSVector object at 0x7fd91f8e2090>,\n",
       "          <tenseal.tensors.ckksvector.CKKSVector object at 0x7fd91f8e1d30>,\n",
       "          <tenseal.tensors.ckksvector.CKKSVector object at 0x7fd91f8e1eb0>,\n",
       "          <tenseal.tensors.ckksvector.CKKSVector object at 0x7fd91f8e33b0>,\n",
       "          <tenseal.tensors.ckksvector.CKKSVector object at 0x7fd91f8e1580>,\n",
       "          <tenseal.tensors.ckksvector.CKKSVector object at 0x7fd91f8e1640>,\n",
       "          <tenseal.tensors.ckksvector.CKKSVector object at 0x7fd91f8e3290>,\n",
       "          <tenseal.tensors.ckksvector.CKKSVector object at 0x7fd91f8e1f10>,\n",
       "          <tenseal.tensors.ckksvector.CKKSVector object at 0x7fd91f8e3110>,\n",
       "          <tenseal.tensors.ckksvector.CKKSVector object at 0x7fd91f8e1490>,\n",
       "          <tenseal.tensors.ckksvector.CKKSVector object at 0x7fd91f8e1040>,\n",
       "          <tenseal.tensors.ckksvector.CKKSVector object at 0x7fd91f8e2030>],\n",
       "         [<tenseal.tensors.ckksvector.CKKSVector object at 0x7fd91f8e3a40>,\n",
       "          <tenseal.tensors.ckksvector.CKKSVector object at 0x7fd91f8e0500>,\n",
       "          <tenseal.tensors.ckksvector.CKKSVector object at 0x7fd91f8e1340>,\n",
       "          <tenseal.tensors.ckksvector.CKKSVector object at 0x7fd91f8e2ff0>,\n",
       "          <tenseal.tensors.ckksvector.CKKSVector object at 0x7fd91f8e0bf0>,\n",
       "          <tenseal.tensors.ckksvector.CKKSVector object at 0x7fd91f8e2b70>,\n",
       "          <tenseal.tensors.ckksvector.CKKSVector object at 0x7fd91f8e16d0>,\n",
       "          <tenseal.tensors.ckksvector.CKKSVector object at 0x7fd91f8e1730>,\n",
       "          <tenseal.tensors.ckksvector.CKKSVector object at 0x7fd91f8e31a0>,\n",
       "          <tenseal.tensors.ckksvector.CKKSVector object at 0x7fd91f8e0ce0>,\n",
       "          <tenseal.tensors.ckksvector.CKKSVector object at 0x7fd91f8e3650>,\n",
       "          <tenseal.tensors.ckksvector.CKKSVector object at 0x7fd91f8e2ea0>,\n",
       "          <tenseal.tensors.ckksvector.CKKSVector object at 0x7fd91f8e3260>,\n",
       "          <tenseal.tensors.ckksvector.CKKSVector object at 0x7fd91f8e3e60>,\n",
       "          <tenseal.tensors.ckksvector.CKKSVector object at 0x7fd91f8e13d0>,\n",
       "          <tenseal.tensors.ckksvector.CKKSVector object at 0x7fd91f8e12e0>,\n",
       "          <tenseal.tensors.ckksvector.CKKSVector object at 0x7fd91f8e0b30>,\n",
       "          <tenseal.tensors.ckksvector.CKKSVector object at 0x7fd91f8e0bc0>,\n",
       "          <tenseal.tensors.ckksvector.CKKSVector object at 0x7fd91f8e0800>,\n",
       "          <tenseal.tensors.ckksvector.CKKSVector object at 0x7fd91f8e0830>],\n",
       "         [<tenseal.tensors.ckksvector.CKKSVector object at 0x7fd91f8e2450>,\n",
       "          <tenseal.tensors.ckksvector.CKKSVector object at 0x7fd91f8e1700>,\n",
       "          <tenseal.tensors.ckksvector.CKKSVector object at 0x7fd91f8e3770>,\n",
       "          <tenseal.tensors.ckksvector.CKKSVector object at 0x7fd91f8e30e0>,\n",
       "          <tenseal.tensors.ckksvector.CKKSVector object at 0x7fd91f8e1dc0>,\n",
       "          <tenseal.tensors.ckksvector.CKKSVector object at 0x7fd91f8e2e70>,\n",
       "          <tenseal.tensors.ckksvector.CKKSVector object at 0x7fd91f8e2120>,\n",
       "          <tenseal.tensors.ckksvector.CKKSVector object at 0x7fd91f8e08c0>,\n",
       "          <tenseal.tensors.ckksvector.CKKSVector object at 0x7fd91f8e2060>,\n",
       "          <tenseal.tensors.ckksvector.CKKSVector object at 0x7fd91f8e1310>,\n",
       "          <tenseal.tensors.ckksvector.CKKSVector object at 0x7fd91f8e1e50>,\n",
       "          <tenseal.tensors.ckksvector.CKKSVector object at 0x7fd91f8e16a0>,\n",
       "          <tenseal.tensors.ckksvector.CKKSVector object at 0x7fd91f8e29c0>,\n",
       "          <tenseal.tensors.ckksvector.CKKSVector object at 0x7fd91f8e2a80>,\n",
       "          <tenseal.tensors.ckksvector.CKKSVector object at 0x7fd91f8e28d0>,\n",
       "          <tenseal.tensors.ckksvector.CKKSVector object at 0x7fd91f8e0d70>,\n",
       "          <tenseal.tensors.ckksvector.CKKSVector object at 0x7fd91f8e2750>,\n",
       "          <tenseal.tensors.ckksvector.CKKSVector object at 0x7fd91f8e32f0>,\n",
       "          <tenseal.tensors.ckksvector.CKKSVector object at 0x7fd91f8e3b90>,\n",
       "          <tenseal.tensors.ckksvector.CKKSVector object at 0x7fd91f8e14c0>],\n",
       "         [<tenseal.tensors.ckksvector.CKKSVector object at 0x7fd91f8e0ef0>,\n",
       "          <tenseal.tensors.ckksvector.CKKSVector object at 0x7fd9a8216b40>,\n",
       "          <tenseal.tensors.ckksvector.CKKSVector object at 0x7fd9a8216870>,\n",
       "          <tenseal.tensors.ckksvector.CKKSVector object at 0x7fd9a8216840>,\n",
       "          <tenseal.tensors.ckksvector.CKKSVector object at 0x7fd9a8214d40>,\n",
       "          <tenseal.tensors.ckksvector.CKKSVector object at 0x7fd9a8217e30>,\n",
       "          <tenseal.tensors.ckksvector.CKKSVector object at 0x7fd9a8217d10>,\n",
       "          <tenseal.tensors.ckksvector.CKKSVector object at 0x7fd9a82146b0>,\n",
       "          <tenseal.tensors.ckksvector.CKKSVector object at 0x7fd9a8217b30>,\n",
       "          <tenseal.tensors.ckksvector.CKKSVector object at 0x7fd9a8217560>,\n",
       "          <tenseal.tensors.ckksvector.CKKSVector object at 0x7fd9a8217cb0>,\n",
       "          <tenseal.tensors.ckksvector.CKKSVector object at 0x7fd9a8214710>,\n",
       "          <tenseal.tensors.ckksvector.CKKSVector object at 0x7fd9a8217b60>,\n",
       "          <tenseal.tensors.ckksvector.CKKSVector object at 0x7fd9a8214950>,\n",
       "          <tenseal.tensors.ckksvector.CKKSVector object at 0x7fd9a8217110>,\n",
       "          <tenseal.tensors.ckksvector.CKKSVector object at 0x7fd9a8217200>,\n",
       "          <tenseal.tensors.ckksvector.CKKSVector object at 0x7fd9a82155b0>,\n",
       "          <tenseal.tensors.ckksvector.CKKSVector object at 0x7fd9a8217e00>,\n",
       "          <tenseal.tensors.ckksvector.CKKSVector object at 0x7fd9a8215ca0>,\n",
       "          <tenseal.tensors.ckksvector.CKKSVector object at 0x7fd9a8217ec0>],\n",
       "         [<tenseal.tensors.ckksvector.CKKSVector object at 0x7fd9a8215460>,\n",
       "          <tenseal.tensors.ckksvector.CKKSVector object at 0x7fd9a8215d60>,\n",
       "          <tenseal.tensors.ckksvector.CKKSVector object at 0x7fd9a8215d30>,\n",
       "          <tenseal.tensors.ckksvector.CKKSVector object at 0x7fd9a8215a00>,\n",
       "          <tenseal.tensors.ckksvector.CKKSVector object at 0x7fd9a8214740>,\n",
       "          <tenseal.tensors.ckksvector.CKKSVector object at 0x7fd9a82140e0>,\n",
       "          <tenseal.tensors.ckksvector.CKKSVector object at 0x7fd9a8216780>,\n",
       "          <tenseal.tensors.ckksvector.CKKSVector object at 0x7fd9a82141a0>,\n",
       "          <tenseal.tensors.ckksvector.CKKSVector object at 0x7fd9a8215640>,\n",
       "          <tenseal.tensors.ckksvector.CKKSVector object at 0x7fd9a8215d90>,\n",
       "          <tenseal.tensors.ckksvector.CKKSVector object at 0x7fd9a8214a40>,\n",
       "          <tenseal.tensors.ckksvector.CKKSVector object at 0x7fd9a82143b0>,\n",
       "          <tenseal.tensors.ckksvector.CKKSVector object at 0x7fd9a8214e90>,\n",
       "          <tenseal.tensors.ckksvector.CKKSVector object at 0x7fd9a82167e0>,\n",
       "          <tenseal.tensors.ckksvector.CKKSVector object at 0x7fd9a8216810>,\n",
       "          <tenseal.tensors.ckksvector.CKKSVector object at 0x7fd9a8217e60>,\n",
       "          <tenseal.tensors.ckksvector.CKKSVector object at 0x7fd9a8215070>,\n",
       "          <tenseal.tensors.ckksvector.CKKSVector object at 0x7fd9a8214170>,\n",
       "          <tenseal.tensors.ckksvector.CKKSVector object at 0x7fd9a8217dd0>,\n",
       "          <tenseal.tensors.ckksvector.CKKSVector object at 0x7fd9a8217e90>],\n",
       "         [<tenseal.tensors.ckksvector.CKKSVector object at 0x7fd9a8216b10>,\n",
       "          <tenseal.tensors.ckksvector.CKKSVector object at 0x7fd9a8215040>,\n",
       "          <tenseal.tensors.ckksvector.CKKSVector object at 0x7fd9a8214500>,\n",
       "          <tenseal.tensors.ckksvector.CKKSVector object at 0x7fd9a8214a70>,\n",
       "          <tenseal.tensors.ckksvector.CKKSVector object at 0x7fd9a82143e0>,\n",
       "          <tenseal.tensors.ckksvector.CKKSVector object at 0x7fd9a82144d0>,\n",
       "          <tenseal.tensors.ckksvector.CKKSVector object at 0x7fd9a8214470>,\n",
       "          <tenseal.tensors.ckksvector.CKKSVector object at 0x7fd9a8215670>,\n",
       "          <tenseal.tensors.ckksvector.CKKSVector object at 0x7fd9a8215c70>,\n",
       "          <tenseal.tensors.ckksvector.CKKSVector object at 0x7fd9a82149b0>,\n",
       "          <tenseal.tensors.ckksvector.CKKSVector object at 0x7fd9a8215400>,\n",
       "          <tenseal.tensors.ckksvector.CKKSVector object at 0x7fd9a82158b0>,\n",
       "          <tenseal.tensors.ckksvector.CKKSVector object at 0x7fd9a8214da0>,\n",
       "          <tenseal.tensors.ckksvector.CKKSVector object at 0x7fd9a8216720>,\n",
       "          <tenseal.tensors.ckksvector.CKKSVector object at 0x7fd9a8216090>,\n",
       "          <tenseal.tensors.ckksvector.CKKSVector object at 0x7fd9a82144a0>,\n",
       "          <tenseal.tensors.ckksvector.CKKSVector object at 0x7fd9a82176b0>,\n",
       "          <tenseal.tensors.ckksvector.CKKSVector object at 0x7fd9a82175c0>,\n",
       "          <tenseal.tensors.ckksvector.CKKSVector object at 0x7fd9a82168a0>,\n",
       "          <tenseal.tensors.ckksvector.CKKSVector object at 0x7fd9a8216930>],\n",
       "         [<tenseal.tensors.ckksvector.CKKSVector object at 0x7fd9a8216330>,\n",
       "          <tenseal.tensors.ckksvector.CKKSVector object at 0x7fd9a8216db0>,\n",
       "          <tenseal.tensors.ckksvector.CKKSVector object at 0x7fd9a8214fb0>,\n",
       "          <tenseal.tensors.ckksvector.CKKSVector object at 0x7fd9a8214ce0>,\n",
       "          <tenseal.tensors.ckksvector.CKKSVector object at 0x7fd9a8216bd0>,\n",
       "          <tenseal.tensors.ckksvector.CKKSVector object at 0x7fd9a8216900>,\n",
       "          <tenseal.tensors.ckksvector.CKKSVector object at 0x7fd9a82166f0>,\n",
       "          <tenseal.tensors.ckksvector.CKKSVector object at 0x7fd9a82154f0>,\n",
       "          <tenseal.tensors.ckksvector.CKKSVector object at 0x7fd9a82147d0>,\n",
       "          <tenseal.tensors.ckksvector.CKKSVector object at 0x7fd9a82151f0>,\n",
       "          <tenseal.tensors.ckksvector.CKKSVector object at 0x7fd9a8215b20>,\n",
       "          <tenseal.tensors.ckksvector.CKKSVector object at 0x7fd9a8214620>,\n",
       "          <tenseal.tensors.ckksvector.CKKSVector object at 0x7fd9a8216d80>,\n",
       "          <tenseal.tensors.ckksvector.CKKSVector object at 0x7fd9a8215c10>,\n",
       "          <tenseal.tensors.ckksvector.CKKSVector object at 0x7fd9a8217f20>,\n",
       "          <tenseal.tensors.ckksvector.CKKSVector object at 0x7fd9a8216cf0>,\n",
       "          <tenseal.tensors.ckksvector.CKKSVector object at 0x7fd9a8214ef0>,\n",
       "          <tenseal.tensors.ckksvector.CKKSVector object at 0x7fd9a8215760>,\n",
       "          <tenseal.tensors.ckksvector.CKKSVector object at 0x7fd9a8214800>,\n",
       "          <tenseal.tensors.ckksvector.CKKSVector object at 0x7fd9a8216c00>],\n",
       "         [<tenseal.tensors.ckksvector.CKKSVector object at 0x7fd9a8214980>,\n",
       "          <tenseal.tensors.ckksvector.CKKSVector object at 0x7fd9a8214aa0>,\n",
       "          <tenseal.tensors.ckksvector.CKKSVector object at 0x7fd9a82175f0>,\n",
       "          <tenseal.tensors.ckksvector.CKKSVector object at 0x7fd9a82148c0>,\n",
       "          <tenseal.tensors.ckksvector.CKKSVector object at 0x7fd9a8216a50>,\n",
       "          <tenseal.tensors.ckksvector.CKKSVector object at 0x7fd9a8216c60>,\n",
       "          <tenseal.tensors.ckksvector.CKKSVector object at 0x7fd9a8216c30>,\n",
       "          <tenseal.tensors.ckksvector.CKKSVector object at 0x7fd9a8216d50>,\n",
       "          <tenseal.tensors.ckksvector.CKKSVector object at 0x7fd9a8216d20>,\n",
       "          <tenseal.tensors.ckksvector.CKKSVector object at 0x7fd9a82153a0>,\n",
       "          <tenseal.tensors.ckksvector.CKKSVector object at 0x7fd9a8215bb0>,\n",
       "          <tenseal.tensors.ckksvector.CKKSVector object at 0x7fd9a8215940>,\n",
       "          <tenseal.tensors.ckksvector.CKKSVector object at 0x7fd9a8214a10>,\n",
       "          <tenseal.tensors.ckksvector.CKKSVector object at 0x7fd9a8215be0>,\n",
       "          <tenseal.tensors.ckksvector.CKKSVector object at 0x7fd9a8216e40>,\n",
       "          <tenseal.tensors.ckksvector.CKKSVector object at 0x7fd9a8216f30>,\n",
       "          <tenseal.tensors.ckksvector.CKKSVector object at 0x7fd9a8216e10>,\n",
       "          <tenseal.tensors.ckksvector.CKKSVector object at 0x7fd9a82154c0>,\n",
       "          <tenseal.tensors.ckksvector.CKKSVector object at 0x7fd9a8216f90>,\n",
       "          <tenseal.tensors.ckksvector.CKKSVector object at 0x7fd9a8217020>],\n",
       "         [<tenseal.tensors.ckksvector.CKKSVector object at 0x7fd9a8216f00>,\n",
       "          <tenseal.tensors.ckksvector.CKKSVector object at 0x7fd9a8216660>,\n",
       "          <tenseal.tensors.ckksvector.CKKSVector object at 0x7fd9a8216ed0>,\n",
       "          <tenseal.tensors.ckksvector.CKKSVector object at 0x7fd9a8216ea0>,\n",
       "          <tenseal.tensors.ckksvector.CKKSVector object at 0x7fd9a8216e70>,\n",
       "          <tenseal.tensors.ckksvector.CKKSVector object at 0x7fd9a8216ff0>,\n",
       "          <tenseal.tensors.ckksvector.CKKSVector object at 0x7fd9a82170b0>,\n",
       "          <tenseal.tensors.ckksvector.CKKSVector object at 0x7fd9a8216f60>,\n",
       "          <tenseal.tensors.ckksvector.CKKSVector object at 0x7fd9a8216120>,\n",
       "          <tenseal.tensors.ckksvector.CKKSVector object at 0x7fd9a8216000>,\n",
       "          <tenseal.tensors.ckksvector.CKKSVector object at 0x7fd9a8216180>,\n",
       "          <tenseal.tensors.ckksvector.CKKSVector object at 0x7fd9a82160c0>,\n",
       "          <tenseal.tensors.ckksvector.CKKSVector object at 0x7fd9a8215f70>,\n",
       "          <tenseal.tensors.ckksvector.CKKSVector object at 0x7fd9a8215f40>,\n",
       "          <tenseal.tensors.ckksvector.CKKSVector object at 0x7fd9a8216de0>,\n",
       "          <tenseal.tensors.ckksvector.CKKSVector object at 0x7fd9a8216fc0>,\n",
       "          <tenseal.tensors.ckksvector.CKKSVector object at 0x7fd9a8217050>,\n",
       "          <tenseal.tensors.ckksvector.CKKSVector object at 0x7fd9a8217f80>,\n",
       "          <tenseal.tensors.ckksvector.CKKSVector object at 0x7fd9a8217fe0>,\n",
       "          <tenseal.tensors.ckksvector.CKKSVector object at 0x7fd9a8217fb0>],\n",
       "         [<tenseal.tensors.ckksvector.CKKSVector object at 0x7fd9a8217f50>,\n",
       "          <tenseal.tensors.ckksvector.CKKSVector object at 0x7fd9a8215b80>,\n",
       "          <tenseal.tensors.ckksvector.CKKSVector object at 0x7fd9a8217ef0>,\n",
       "          <tenseal.tensors.ckksvector.CKKSVector object at 0x7fd9a8214b00>,\n",
       "          <tenseal.tensors.ckksvector.CKKSVector object at 0x7fd9a8214bc0>,\n",
       "          <tenseal.tensors.ckksvector.CKKSVector object at 0x7fd9a8216450>,\n",
       "          <tenseal.tensors.ckksvector.CKKSVector object at 0x7fd9a8216420>,\n",
       "          <tenseal.tensors.ckksvector.CKKSVector object at 0x7fd9a82163f0>,\n",
       "          <tenseal.tensors.ckksvector.CKKSVector object at 0x7fd9a8216600>,\n",
       "          <tenseal.tensors.ckksvector.CKKSVector object at 0x7fd9a8217170>,\n",
       "          <tenseal.tensors.ckksvector.CKKSVector object at 0x7fd9a82177a0>,\n",
       "          <tenseal.tensors.ckksvector.CKKSVector object at 0x7fd9a8217800>,\n",
       "          <tenseal.tensors.ckksvector.CKKSVector object at 0x7fd9a82179e0>,\n",
       "          <tenseal.tensors.ckksvector.CKKSVector object at 0x7fd9a82169c0>,\n",
       "          <tenseal.tensors.ckksvector.CKKSVector object at 0x7fd9a8216690>,\n",
       "          <tenseal.tensors.ckksvector.CKKSVector object at 0x7fd9a8215e50>,\n",
       "          <tenseal.tensors.ckksvector.CKKSVector object at 0x7fd9a8215490>,\n",
       "          <tenseal.tensors.ckksvector.CKKSVector object at 0x7fd9a8215280>,\n",
       "          <tenseal.tensors.ckksvector.CKKSVector object at 0x7fd9a8215b50>,\n",
       "          <tenseal.tensors.ckksvector.CKKSVector object at 0x7fd9a8215850>],\n",
       "         [<tenseal.tensors.ckksvector.CKKSVector object at 0x7fd9a8214320>,\n",
       "          <tenseal.tensors.ckksvector.CKKSVector object at 0x7fd9a8214260>,\n",
       "          <tenseal.tensors.ckksvector.CKKSVector object at 0x7fd9a8214140>,\n",
       "          <tenseal.tensors.ckksvector.CKKSVector object at 0x7fd9a8214350>,\n",
       "          <tenseal.tensors.ckksvector.CKKSVector object at 0x7fd9a8217620>,\n",
       "          <tenseal.tensors.ckksvector.CKKSVector object at 0x7fd9a8214fe0>,\n",
       "          <tenseal.tensors.ckksvector.CKKSVector object at 0x7fd9a8217680>,\n",
       "          <tenseal.tensors.ckksvector.CKKSVector object at 0x7fd9a8215160>,\n",
       "          <tenseal.tensors.ckksvector.CKKSVector object at 0x7fd9a8215370>,\n",
       "          <tenseal.tensors.ckksvector.CKKSVector object at 0x7fd9a8214bf0>,\n",
       "          <tenseal.tensors.ckksvector.CKKSVector object at 0x7fd9a8214ec0>,\n",
       "          <tenseal.tensors.ckksvector.CKKSVector object at 0x7fd9a8215220>,\n",
       "          <tenseal.tensors.ckksvector.CKKSVector object at 0x7fd9a8214f20>,\n",
       "          <tenseal.tensors.ckksvector.CKKSVector object at 0x7fd9a8214e00>,\n",
       "          <tenseal.tensors.ckksvector.CKKSVector object at 0x7fd9a82145f0>,\n",
       "          <tenseal.tensors.ckksvector.CKKSVector object at 0x7fd9a8214b60>,\n",
       "          <tenseal.tensors.ckksvector.CKKSVector object at 0x7fd9a82162a0>,\n",
       "          <tenseal.tensors.ckksvector.CKKSVector object at 0x7fd9a8215730>,\n",
       "          <tenseal.tensors.ckksvector.CKKSVector object at 0x7fd9a8215f10>,\n",
       "          <tenseal.tensors.ckksvector.CKKSVector object at 0x7fd9a8214200>],\n",
       "         [<tenseal.tensors.ckksvector.CKKSVector object at 0x7fd9a82163c0>,\n",
       "          <tenseal.tensors.ckksvector.CKKSVector object at 0x7fd9a8216480>,\n",
       "          <tenseal.tensors.ckksvector.CKKSVector object at 0x7fd9a82177d0>,\n",
       "          <tenseal.tensors.ckksvector.CKKSVector object at 0x7fd9a8216570>,\n",
       "          <tenseal.tensors.ckksvector.CKKSVector object at 0x7fd9a82165d0>,\n",
       "          <tenseal.tensors.ckksvector.CKKSVector object at 0x7fd9a8216030>,\n",
       "          <tenseal.tensors.ckksvector.CKKSVector object at 0x7fd9a8215fa0>,\n",
       "          <tenseal.tensors.ckksvector.CKKSVector object at 0x7fd9a82174d0>,\n",
       "          <tenseal.tensors.ckksvector.CKKSVector object at 0x7fd9a82165a0>,\n",
       "          <tenseal.tensors.ckksvector.CKKSVector object at 0x7fd9a8215df0>,\n",
       "          <tenseal.tensors.ckksvector.CKKSVector object at 0x7fd9a8214c20>,\n",
       "          <tenseal.tensors.ckksvector.CKKSVector object at 0x7fd9a82161b0>,\n",
       "          <tenseal.tensors.ckksvector.CKKSVector object at 0x7fd9a82164b0>,\n",
       "          <tenseal.tensors.ckksvector.CKKSVector object at 0x7fd9a8216300>,\n",
       "          <tenseal.tensors.ckksvector.CKKSVector object at 0x7fd9a8217740>,\n",
       "          <tenseal.tensors.ckksvector.CKKSVector object at 0x7fd9a8217530>,\n",
       "          <tenseal.tensors.ckksvector.CKKSVector object at 0x7fd9a8215340>,\n",
       "          <tenseal.tensors.ckksvector.CKKSVector object at 0x7fd9a8214b30>,\n",
       "          <tenseal.tensors.ckksvector.CKKSVector object at 0x7fd9a8217950>,\n",
       "          <tenseal.tensors.ckksvector.CKKSVector object at 0x7fd9a8217980>],\n",
       "         [<tenseal.tensors.ckksvector.CKKSVector object at 0x7fd9a8215cd0>,\n",
       "          <tenseal.tensors.ckksvector.CKKSVector object at 0x7fd9a8215e20>,\n",
       "          <tenseal.tensors.ckksvector.CKKSVector object at 0x7fd9a8214110>,\n",
       "          <tenseal.tensors.ckksvector.CKKSVector object at 0x7fd9a8217a70>,\n",
       "          <tenseal.tensors.ckksvector.CKKSVector object at 0x7fd9a8215d00>,\n",
       "          <tenseal.tensors.ckksvector.CKKSVector object at 0x7fd9a8214b90>,\n",
       "          <tenseal.tensors.ckksvector.CKKSVector object at 0x7fd9a8217140>,\n",
       "          <tenseal.tensors.ckksvector.CKKSVector object at 0x7fd9a8217260>,\n",
       "          <tenseal.tensors.ckksvector.CKKSVector object at 0x7fd9a8217380>,\n",
       "          <tenseal.tensors.ckksvector.CKKSVector object at 0x7fd9a8216960>,\n",
       "          <tenseal.tensors.ckksvector.CKKSVector object at 0x7fd9a8215ee0>,\n",
       "          <tenseal.tensors.ckksvector.CKKSVector object at 0x7fd9a8215700>,\n",
       "          <tenseal.tensors.ckksvector.CKKSVector object at 0x7fd9a8217410>,\n",
       "          <tenseal.tensors.ckksvector.CKKSVector object at 0x7fd9a8217470>,\n",
       "          <tenseal.tensors.ckksvector.CKKSVector object at 0x7fd9a82152b0>,\n",
       "          <tenseal.tensors.ckksvector.CKKSVector object at 0x7fd9a8214680>,\n",
       "          <tenseal.tensors.ckksvector.CKKSVector object at 0x7fd9a8215dc0>,\n",
       "          <tenseal.tensors.ckksvector.CKKSVector object at 0x7fd9a82178c0>,\n",
       "          <tenseal.tensors.ckksvector.CKKSVector object at 0x7fd9a8216270>,\n",
       "          <tenseal.tensors.ckksvector.CKKSVector object at 0x7fd9a8214290>],\n",
       "         [<tenseal.tensors.ckksvector.CKKSVector object at 0x7fd9a8216b70>,\n",
       "          <tenseal.tensors.ckksvector.CKKSVector object at 0x7fd9a8215c40>,\n",
       "          <tenseal.tensors.ckksvector.CKKSVector object at 0x7fd9a82161e0>,\n",
       "          <tenseal.tensors.ckksvector.CKKSVector object at 0x7fd9a82173e0>,\n",
       "          <tenseal.tensors.ckksvector.CKKSVector object at 0x7fd9a82170e0>,\n",
       "          <tenseal.tensors.ckksvector.CKKSVector object at 0x7fd9a82140b0>,\n",
       "          <tenseal.tensors.ckksvector.CKKSVector object at 0x7fd9a8215010>,\n",
       "          <tenseal.tensors.ckksvector.CKKSVector object at 0x7fd9a8214c50>,\n",
       "          <tenseal.tensors.ckksvector.CKKSVector object at 0x7fd9a8214cb0>,\n",
       "          <tenseal.tensors.ckksvector.CKKSVector object at 0x7fd9a8214f80>,\n",
       "          <tenseal.tensors.ckksvector.CKKSVector object at 0x7fd9a82152e0>,\n",
       "          <tenseal.tensors.ckksvector.CKKSVector object at 0x7fd9a8215580>,\n",
       "          <tenseal.tensors.ckksvector.CKKSVector object at 0x7fd9a8215970>,\n",
       "          <tenseal.tensors.ckksvector.CKKSVector object at 0x7fd9a8217080>,\n",
       "          <tenseal.tensors.ckksvector.CKKSVector object at 0x7fd9a8215790>,\n",
       "          <tenseal.tensors.ckksvector.CKKSVector object at 0x7fd9a8214920>,\n",
       "          <tenseal.tensors.ckksvector.CKKSVector object at 0x7fd9a8215a30>,\n",
       "          <tenseal.tensors.ckksvector.CKKSVector object at 0x7fd9a82172c0>,\n",
       "          <tenseal.tensors.ckksvector.CKKSVector object at 0x7fd9a82171d0>,\n",
       "          <tenseal.tensors.ckksvector.CKKSVector object at 0x7fd9a8215250>]],\n",
       "        dtype=object),\n",
       "  array([[<tenseal.tensors.ckksvector.CKKSVector object at 0x7fd9a8214830>,\n",
       "          <tenseal.tensors.ckksvector.CKKSVector object at 0x7fd9a82150d0>,\n",
       "          <tenseal.tensors.ckksvector.CKKSVector object at 0x7fd9a8217290>,\n",
       "          <tenseal.tensors.ckksvector.CKKSVector object at 0x7fd9a8216ba0>,\n",
       "          <tenseal.tensors.ckksvector.CKKSVector object at 0x7fd9a82147a0>,\n",
       "          <tenseal.tensors.ckksvector.CKKSVector object at 0x7fd9a82156a0>,\n",
       "          <tenseal.tensors.ckksvector.CKKSVector object at 0x7fd9a82178f0>,\n",
       "          <tenseal.tensors.ckksvector.CKKSVector object at 0x7fd9a82153d0>,\n",
       "          <tenseal.tensors.ckksvector.CKKSVector object at 0x7fd9a82159d0>,\n",
       "          <tenseal.tensors.ckksvector.CKKSVector object at 0x7fd9a82171a0>,\n",
       "          <tenseal.tensors.ckksvector.CKKSVector object at 0x7fd9a82146e0>,\n",
       "          <tenseal.tensors.ckksvector.CKKSVector object at 0x7fd9a8217bc0>,\n",
       "          <tenseal.tensors.ckksvector.CKKSVector object at 0x7fd9a8217aa0>,\n",
       "          <tenseal.tensors.ckksvector.CKKSVector object at 0x7fd9a8214c80>,\n",
       "          <tenseal.tensors.ckksvector.CKKSVector object at 0x7fd9a8216540>,\n",
       "          <tenseal.tensors.ckksvector.CKKSVector object at 0x7fd9a8216630>,\n",
       "          <tenseal.tensors.ckksvector.CKKSVector object at 0x7fd9a8217890>,\n",
       "          <tenseal.tensors.ckksvector.CKKSVector object at 0x7fd9a82150a0>,\n",
       "          <tenseal.tensors.ckksvector.CKKSVector object at 0x7fd9a8217860>,\n",
       "          <tenseal.tensors.ckksvector.CKKSVector object at 0x7fd9a8215fd0>],\n",
       "         [<tenseal.tensors.ckksvector.CKKSVector object at 0x7fd9a8217ad0>,\n",
       "          <tenseal.tensors.ckksvector.CKKSVector object at 0x7fd9a8217a10>,\n",
       "          <tenseal.tensors.ckksvector.CKKSVector object at 0x7fd9a82172f0>,\n",
       "          <tenseal.tensors.ckksvector.CKKSVector object at 0x7fd9a8214230>,\n",
       "          <tenseal.tensors.ckksvector.CKKSVector object at 0x7fd9a82157f0>,\n",
       "          <tenseal.tensors.ckksvector.CKKSVector object at 0x7fd9a8216390>,\n",
       "          <tenseal.tensors.ckksvector.CKKSVector object at 0x7fd9a8217230>,\n",
       "          <tenseal.tensors.ckksvector.CKKSVector object at 0x7fd9a82168d0>,\n",
       "          <tenseal.tensors.ckksvector.CKKSVector object at 0x7fd9a8216a80>,\n",
       "          <tenseal.tensors.ckksvector.CKKSVector object at 0x7fd9a8216ab0>,\n",
       "          <tenseal.tensors.ckksvector.CKKSVector object at 0x7fd9a8216a20>,\n",
       "          <tenseal.tensors.ckksvector.CKKSVector object at 0x7fd9a82142f0>,\n",
       "          <tenseal.tensors.ckksvector.CKKSVector object at 0x7fd9a82167b0>,\n",
       "          <tenseal.tensors.ckksvector.CKKSVector object at 0x7fd91f89e750>,\n",
       "          <tenseal.tensors.ckksvector.CKKSVector object at 0x7fd91f89d340>,\n",
       "          <tenseal.tensors.ckksvector.CKKSVector object at 0x7fd91f89f860>,\n",
       "          <tenseal.tensors.ckksvector.CKKSVector object at 0x7fd91f89f5f0>,\n",
       "          <tenseal.tensors.ckksvector.CKKSVector object at 0x7fd91f89cbf0>,\n",
       "          <tenseal.tensors.ckksvector.CKKSVector object at 0x7fd91f89ecf0>,\n",
       "          <tenseal.tensors.ckksvector.CKKSVector object at 0x7fd91f89eba0>],\n",
       "         [<tenseal.tensors.ckksvector.CKKSVector object at 0x7fd91f89cd40>,\n",
       "          <tenseal.tensors.ckksvector.CKKSVector object at 0x7fd91f89e780>,\n",
       "          <tenseal.tensors.ckksvector.CKKSVector object at 0x7fd91f89f560>,\n",
       "          <tenseal.tensors.ckksvector.CKKSVector object at 0x7fd91f89e930>,\n",
       "          <tenseal.tensors.ckksvector.CKKSVector object at 0x7fd91f89f500>,\n",
       "          <tenseal.tensors.ckksvector.CKKSVector object at 0x7fd91f89f110>,\n",
       "          <tenseal.tensors.ckksvector.CKKSVector object at 0x7fd91f89f020>,\n",
       "          <tenseal.tensors.ckksvector.CKKSVector object at 0x7fd91f89f680>,\n",
       "          <tenseal.tensors.ckksvector.CKKSVector object at 0x7fd91f89eab0>,\n",
       "          <tenseal.tensors.ckksvector.CKKSVector object at 0x7fd91f89e030>,\n",
       "          <tenseal.tensors.ckksvector.CKKSVector object at 0x7fd91f89e150>,\n",
       "          <tenseal.tensors.ckksvector.CKKSVector object at 0x7fd91f89e6c0>,\n",
       "          <tenseal.tensors.ckksvector.CKKSVector object at 0x7fd91f89d580>,\n",
       "          <tenseal.tensors.ckksvector.CKKSVector object at 0x7fd91f89f830>,\n",
       "          <tenseal.tensors.ckksvector.CKKSVector object at 0x7fd91f89f890>,\n",
       "          <tenseal.tensors.ckksvector.CKKSVector object at 0x7fd91f89c5f0>,\n",
       "          <tenseal.tensors.ckksvector.CKKSVector object at 0x7fd91f89f3e0>,\n",
       "          <tenseal.tensors.ckksvector.CKKSVector object at 0x7fd91f89cb90>,\n",
       "          <tenseal.tensors.ckksvector.CKKSVector object at 0x7fd91f89d7f0>,\n",
       "          <tenseal.tensors.ckksvector.CKKSVector object at 0x7fd91f89ddf0>],\n",
       "         [<tenseal.tensors.ckksvector.CKKSVector object at 0x7fd91f89fe00>,\n",
       "          <tenseal.tensors.ckksvector.CKKSVector object at 0x7fd91f89d610>,\n",
       "          <tenseal.tensors.ckksvector.CKKSVector object at 0x7fd91f89c950>,\n",
       "          <tenseal.tensors.ckksvector.CKKSVector object at 0x7fd91f89cfe0>,\n",
       "          <tenseal.tensors.ckksvector.CKKSVector object at 0x7fd91f89d310>,\n",
       "          <tenseal.tensors.ckksvector.CKKSVector object at 0x7fd91f89c650>,\n",
       "          <tenseal.tensors.ckksvector.CKKSVector object at 0x7fd91f89d460>,\n",
       "          <tenseal.tensors.ckksvector.CKKSVector object at 0x7fd91f89c230>,\n",
       "          <tenseal.tensors.ckksvector.CKKSVector object at 0x7fd91f89dac0>,\n",
       "          <tenseal.tensors.ckksvector.CKKSVector object at 0x7fd91f89c500>,\n",
       "          <tenseal.tensors.ckksvector.CKKSVector object at 0x7fd91f89c710>,\n",
       "          <tenseal.tensors.ckksvector.CKKSVector object at 0x7fd91f89cd10>,\n",
       "          <tenseal.tensors.ckksvector.CKKSVector object at 0x7fd91f89c800>,\n",
       "          <tenseal.tensors.ckksvector.CKKSVector object at 0x7fd91f89efc0>,\n",
       "          <tenseal.tensors.ckksvector.CKKSVector object at 0x7fd91f89ed20>,\n",
       "          <tenseal.tensors.ckksvector.CKKSVector object at 0x7fd91f89ef90>,\n",
       "          <tenseal.tensors.ckksvector.CKKSVector object at 0x7fd91f89cd70>,\n",
       "          <tenseal.tensors.ckksvector.CKKSVector object at 0x7fd91f89de80>,\n",
       "          <tenseal.tensors.ckksvector.CKKSVector object at 0x7fd91f89d040>,\n",
       "          <tenseal.tensors.ckksvector.CKKSVector object at 0x7fd91f89d070>],\n",
       "         [<tenseal.tensors.ckksvector.CKKSVector object at 0x7fd91f89f470>,\n",
       "          <tenseal.tensors.ckksvector.CKKSVector object at 0x7fd91f89f3b0>,\n",
       "          <tenseal.tensors.ckksvector.CKKSVector object at 0x7fd91f89f320>,\n",
       "          <tenseal.tensors.ckksvector.CKKSVector object at 0x7fd91f89dc40>,\n",
       "          <tenseal.tensors.ckksvector.CKKSVector object at 0x7fd91f89fcb0>,\n",
       "          <tenseal.tensors.ckksvector.CKKSVector object at 0x7fd91f89fc50>,\n",
       "          <tenseal.tensors.ckksvector.CKKSVector object at 0x7fd91f89e180>,\n",
       "          <tenseal.tensors.ckksvector.CKKSVector object at 0x7fd91f89df40>,\n",
       "          <tenseal.tensors.ckksvector.CKKSVector object at 0x7fd91f89e690>,\n",
       "          <tenseal.tensors.ckksvector.CKKSVector object at 0x7fd91f89fc20>,\n",
       "          <tenseal.tensors.ckksvector.CKKSVector object at 0x7fd91f89d760>,\n",
       "          <tenseal.tensors.ckksvector.CKKSVector object at 0x7fd91f89d820>,\n",
       "          <tenseal.tensors.ckksvector.CKKSVector object at 0x7fd91f89da60>,\n",
       "          <tenseal.tensors.ckksvector.CKKSVector object at 0x7fd91f89d4c0>,\n",
       "          <tenseal.tensors.ckksvector.CKKSVector object at 0x7fd91f89deb0>,\n",
       "          <tenseal.tensors.ckksvector.CKKSVector object at 0x7fd91f89fe60>,\n",
       "          <tenseal.tensors.ckksvector.CKKSVector object at 0x7fd91f89c7d0>,\n",
       "          <tenseal.tensors.ckksvector.CKKSVector object at 0x7fd91f89ca70>,\n",
       "          <tenseal.tensors.ckksvector.CKKSVector object at 0x7fd91f89f4a0>,\n",
       "          <tenseal.tensors.ckksvector.CKKSVector object at 0x7fd91f89dd00>],\n",
       "         [<tenseal.tensors.ckksvector.CKKSVector object at 0x7fd91f89fec0>,\n",
       "          <tenseal.tensors.ckksvector.CKKSVector object at 0x7fd91f89da90>,\n",
       "          <tenseal.tensors.ckksvector.CKKSVector object at 0x7fd91f89ed80>,\n",
       "          <tenseal.tensors.ckksvector.CKKSVector object at 0x7fd91f89d370>,\n",
       "          <tenseal.tensors.ckksvector.CKKSVector object at 0x7fd91f89dca0>,\n",
       "          <tenseal.tensors.ckksvector.CKKSVector object at 0x7fd91f89c470>,\n",
       "          <tenseal.tensors.ckksvector.CKKSVector object at 0x7fd91f89edb0>,\n",
       "          <tenseal.tensors.ckksvector.CKKSVector object at 0x7fd91f89c9b0>,\n",
       "          <tenseal.tensors.ckksvector.CKKSVector object at 0x7fd91f89c260>,\n",
       "          <tenseal.tensors.ckksvector.CKKSVector object at 0x7fd91f89e720>,\n",
       "          <tenseal.tensors.ckksvector.CKKSVector object at 0x7fd91f89f1a0>,\n",
       "          <tenseal.tensors.ckksvector.CKKSVector object at 0x7fd91f89fce0>,\n",
       "          <tenseal.tensors.ckksvector.CKKSVector object at 0x7fd91f89f8f0>,\n",
       "          <tenseal.tensors.ckksvector.CKKSVector object at 0x7fd91f89d6a0>,\n",
       "          <tenseal.tensors.ckksvector.CKKSVector object at 0x7fd91f89f740>,\n",
       "          <tenseal.tensors.ckksvector.CKKSVector object at 0x7fd91f89d1f0>,\n",
       "          <tenseal.tensors.ckksvector.CKKSVector object at 0x7fd91f89ff20>,\n",
       "          <tenseal.tensors.ckksvector.CKKSVector object at 0x7fd91f89fa40>,\n",
       "          <tenseal.tensors.ckksvector.CKKSVector object at 0x7fd91f89c8f0>,\n",
       "          <tenseal.tensors.ckksvector.CKKSVector object at 0x7fd91f89e900>],\n",
       "         [<tenseal.tensors.ckksvector.CKKSVector object at 0x7fd91f89c920>,\n",
       "          <tenseal.tensors.ckksvector.CKKSVector object at 0x7fd91f89ec30>,\n",
       "          <tenseal.tensors.ckksvector.CKKSVector object at 0x7fd91f89d100>,\n",
       "          <tenseal.tensors.ckksvector.CKKSVector object at 0x7fd91f89c7a0>,\n",
       "          <tenseal.tensors.ckksvector.CKKSVector object at 0x7fd91f89c1a0>,\n",
       "          <tenseal.tensors.ckksvector.CKKSVector object at 0x7fd91f89f4d0>,\n",
       "          <tenseal.tensors.ckksvector.CKKSVector object at 0x7fd91f89f920>,\n",
       "          <tenseal.tensors.ckksvector.CKKSVector object at 0x7fd91f89e9c0>,\n",
       "          <tenseal.tensors.ckksvector.CKKSVector object at 0x7fd91f89ce30>,\n",
       "          <tenseal.tensors.ckksvector.CKKSVector object at 0x7fd91f89ce00>,\n",
       "          <tenseal.tensors.ckksvector.CKKSVector object at 0x7fd91f89ee10>,\n",
       "          <tenseal.tensors.ckksvector.CKKSVector object at 0x7fd91f89fbf0>,\n",
       "          <tenseal.tensors.ckksvector.CKKSVector object at 0x7fd91f89c9e0>,\n",
       "          <tenseal.tensors.ckksvector.CKKSVector object at 0x7fd91f89f7a0>,\n",
       "          <tenseal.tensors.ckksvector.CKKSVector object at 0x7fd91f89e1e0>,\n",
       "          <tenseal.tensors.ckksvector.CKKSVector object at 0x7fd91f89eb70>,\n",
       "          <tenseal.tensors.ckksvector.CKKSVector object at 0x7fd91f89c3e0>,\n",
       "          <tenseal.tensors.ckksvector.CKKSVector object at 0x7fd91f89f6b0>,\n",
       "          <tenseal.tensors.ckksvector.CKKSVector object at 0x7fd91f89f050>,\n",
       "          <tenseal.tensors.ckksvector.CKKSVector object at 0x7fd91f89ec60>],\n",
       "         [<tenseal.tensors.ckksvector.CKKSVector object at 0x7fd91f89caa0>,\n",
       "          <tenseal.tensors.ckksvector.CKKSVector object at 0x7fd91f89cb60>,\n",
       "          <tenseal.tensors.ckksvector.CKKSVector object at 0x7fd91f89fa70>,\n",
       "          <tenseal.tensors.ckksvector.CKKSVector object at 0x7fd91f89ef30>,\n",
       "          <tenseal.tensors.ckksvector.CKKSVector object at 0x7fd91f89ce60>,\n",
       "          <tenseal.tensors.ckksvector.CKKSVector object at 0x7fd91f89d7c0>,\n",
       "          <tenseal.tensors.ckksvector.CKKSVector object at 0x7fd91f89c4a0>,\n",
       "          <tenseal.tensors.ckksvector.CKKSVector object at 0x7fd91f89f2f0>,\n",
       "          <tenseal.tensors.ckksvector.CKKSVector object at 0x7fd91f89d9a0>,\n",
       "          <tenseal.tensors.ckksvector.CKKSVector object at 0x7fd91f89cc80>,\n",
       "          <tenseal.tensors.ckksvector.CKKSVector object at 0x7fd91f89ccb0>,\n",
       "          <tenseal.tensors.ckksvector.CKKSVector object at 0x7fd91f89e120>,\n",
       "          <tenseal.tensors.ckksvector.CKKSVector object at 0x7fd91f89e540>,\n",
       "          <tenseal.tensors.ckksvector.CKKSVector object at 0x7fd91f89c110>,\n",
       "          <tenseal.tensors.ckksvector.CKKSVector object at 0x7fd91f89cfb0>,\n",
       "          <tenseal.tensors.ckksvector.CKKSVector object at 0x7fd91f89cf50>,\n",
       "          <tenseal.tensors.ckksvector.CKKSVector object at 0x7fd91f89dbe0>,\n",
       "          <tenseal.tensors.ckksvector.CKKSVector object at 0x7fda2149eae0>,\n",
       "          <tenseal.tensors.ckksvector.CKKSVector object at 0x7fda2149fd40>,\n",
       "          <tenseal.tensors.ckksvector.CKKSVector object at 0x7fda2149e5a0>],\n",
       "         [<tenseal.tensors.ckksvector.CKKSVector object at 0x7fda2149f620>,\n",
       "          <tenseal.tensors.ckksvector.CKKSVector object at 0x7fda2149f230>,\n",
       "          <tenseal.tensors.ckksvector.CKKSVector object at 0x7fda2149e210>,\n",
       "          <tenseal.tensors.ckksvector.CKKSVector object at 0x7fda2149c1d0>,\n",
       "          <tenseal.tensors.ckksvector.CKKSVector object at 0x7fda2149e8d0>,\n",
       "          <tenseal.tensors.ckksvector.CKKSVector object at 0x7fda2149cbc0>,\n",
       "          <tenseal.tensors.ckksvector.CKKSVector object at 0x7fda2149c4d0>,\n",
       "          <tenseal.tensors.ckksvector.CKKSVector object at 0x7fda2149cda0>,\n",
       "          <tenseal.tensors.ckksvector.CKKSVector object at 0x7fda2149d970>,\n",
       "          <tenseal.tensors.ckksvector.CKKSVector object at 0x7fda2149ca10>,\n",
       "          <tenseal.tensors.ckksvector.CKKSVector object at 0x7fda2149db80>,\n",
       "          <tenseal.tensors.ckksvector.CKKSVector object at 0x7fda2149e900>,\n",
       "          <tenseal.tensors.ckksvector.CKKSVector object at 0x7fda2149d130>,\n",
       "          <tenseal.tensors.ckksvector.CKKSVector object at 0x7fda2149e510>,\n",
       "          <tenseal.tensors.ckksvector.CKKSVector object at 0x7fda2149f9e0>,\n",
       "          <tenseal.tensors.ckksvector.CKKSVector object at 0x7fda2149c2f0>,\n",
       "          <tenseal.tensors.ckksvector.CKKSVector object at 0x7fda2149f170>,\n",
       "          <tenseal.tensors.ckksvector.CKKSVector object at 0x7fda2149de80>,\n",
       "          <tenseal.tensors.ckksvector.CKKSVector object at 0x7fda2149fb90>,\n",
       "          <tenseal.tensors.ckksvector.CKKSVector object at 0x7fda2149fd70>],\n",
       "         [<tenseal.tensors.ckksvector.CKKSVector object at 0x7fda2149cb60>,\n",
       "          <tenseal.tensors.ckksvector.CKKSVector object at 0x7fda2149ff20>,\n",
       "          <tenseal.tensors.ckksvector.CKKSVector object at 0x7fda2149cdd0>,\n",
       "          <tenseal.tensors.ckksvector.CKKSVector object at 0x7fda2149d070>,\n",
       "          <tenseal.tensors.ckksvector.CKKSVector object at 0x7fda2149ca40>,\n",
       "          <tenseal.tensors.ckksvector.CKKSVector object at 0x7fda2149ea80>,\n",
       "          <tenseal.tensors.ckksvector.CKKSVector object at 0x7fda2149faa0>,\n",
       "          <tenseal.tensors.ckksvector.CKKSVector object at 0x7fda2149c350>,\n",
       "          <tenseal.tensors.ckksvector.CKKSVector object at 0x7fda2149f5f0>,\n",
       "          <tenseal.tensors.ckksvector.CKKSVector object at 0x7fda2149f290>,\n",
       "          <tenseal.tensors.ckksvector.CKKSVector object at 0x7fda2149e960>,\n",
       "          <tenseal.tensors.ckksvector.CKKSVector object at 0x7fda2149fe30>,\n",
       "          <tenseal.tensors.ckksvector.CKKSVector object at 0x7fda2149e7e0>,\n",
       "          <tenseal.tensors.ckksvector.CKKSVector object at 0x7fda2149e3f0>,\n",
       "          <tenseal.tensors.ckksvector.CKKSVector object at 0x7fda2149da60>,\n",
       "          <tenseal.tensors.ckksvector.CKKSVector object at 0x7fda2149dc70>,\n",
       "          <tenseal.tensors.ckksvector.CKKSVector object at 0x7fda2149dcd0>,\n",
       "          <tenseal.tensors.ckksvector.CKKSVector object at 0x7fda2149e750>,\n",
       "          <tenseal.tensors.ckksvector.CKKSVector object at 0x7fda2149d910>,\n",
       "          <tenseal.tensors.ckksvector.CKKSVector object at 0x7fda2149e030>],\n",
       "         [<tenseal.tensors.ckksvector.CKKSVector object at 0x7fda2149ebd0>,\n",
       "          <tenseal.tensors.ckksvector.CKKSVector object at 0x7fda2149c7a0>,\n",
       "          <tenseal.tensors.ckksvector.CKKSVector object at 0x7fda2149c5f0>,\n",
       "          <tenseal.tensors.ckksvector.CKKSVector object at 0x7fda2149d4f0>,\n",
       "          <tenseal.tensors.ckksvector.CKKSVector object at 0x7fda2149ed80>,\n",
       "          <tenseal.tensors.ckksvector.CKKSVector object at 0x7fda2149e420>,\n",
       "          <tenseal.tensors.ckksvector.CKKSVector object at 0x7fda2149ce30>,\n",
       "          <tenseal.tensors.ckksvector.CKKSVector object at 0x7fda2149ed50>,\n",
       "          <tenseal.tensors.ckksvector.CKKSVector object at 0x7fda2149f3e0>,\n",
       "          <tenseal.tensors.ckksvector.CKKSVector object at 0x7fda2149eea0>,\n",
       "          <tenseal.tensors.ckksvector.CKKSVector object at 0x7fda2149e450>,\n",
       "          <tenseal.tensors.ckksvector.CKKSVector object at 0x7fda2149f890>,\n",
       "          <tenseal.tensors.ckksvector.CKKSVector object at 0x7fda2149d2b0>,\n",
       "          <tenseal.tensors.ckksvector.CKKSVector object at 0x7fda2149d6a0>,\n",
       "          <tenseal.tensors.ckksvector.CKKSVector object at 0x7fda2149c0b0>,\n",
       "          <tenseal.tensors.ckksvector.CKKSVector object at 0x7fda2149ec00>,\n",
       "          <tenseal.tensors.ckksvector.CKKSVector object at 0x7fda2149cb30>,\n",
       "          <tenseal.tensors.ckksvector.CKKSVector object at 0x7fda2149d100>,\n",
       "          <tenseal.tensors.ckksvector.CKKSVector object at 0x7fda2149d550>,\n",
       "          <tenseal.tensors.ckksvector.CKKSVector object at 0x7fda2149ee70>],\n",
       "         [<tenseal.tensors.ckksvector.CKKSVector object at 0x7fda2149e5d0>,\n",
       "          <tenseal.tensors.ckksvector.CKKSVector object at 0x7fda2149e6f0>,\n",
       "          <tenseal.tensors.ckksvector.CKKSVector object at 0x7fda2149c770>,\n",
       "          <tenseal.tensors.ckksvector.CKKSVector object at 0x7fda2149ddf0>,\n",
       "          <tenseal.tensors.ckksvector.CKKSVector object at 0x7fda2149c620>,\n",
       "          <tenseal.tensors.ckksvector.CKKSVector object at 0x7fda2149d760>,\n",
       "          <tenseal.tensors.ckksvector.CKKSVector object at 0x7fda2149da30>,\n",
       "          <tenseal.tensors.ckksvector.CKKSVector object at 0x7fda2149dac0>,\n",
       "          <tenseal.tensors.ckksvector.CKKSVector object at 0x7fda2149d1c0>,\n",
       "          <tenseal.tensors.ckksvector.CKKSVector object at 0x7fda2149d310>,\n",
       "          <tenseal.tensors.ckksvector.CKKSVector object at 0x7fda2149f0b0>,\n",
       "          <tenseal.tensors.ckksvector.CKKSVector object at 0x7fda2149d790>,\n",
       "          <tenseal.tensors.ckksvector.CKKSVector object at 0x7fda2149c8f0>,\n",
       "          <tenseal.tensors.ckksvector.CKKSVector object at 0x7fda2149c380>,\n",
       "          <tenseal.tensors.ckksvector.CKKSVector object at 0x7fda2149e870>,\n",
       "          <tenseal.tensors.ckksvector.CKKSVector object at 0x7fda2149d0d0>,\n",
       "          <tenseal.tensors.ckksvector.CKKSVector object at 0x7fda2149e990>,\n",
       "          <tenseal.tensors.ckksvector.CKKSVector object at 0x7fda2149fc80>,\n",
       "          <tenseal.tensors.ckksvector.CKKSVector object at 0x7fda2149ec30>,\n",
       "          <tenseal.tensors.ckksvector.CKKSVector object at 0x7fda2149f110>],\n",
       "         [<tenseal.tensors.ckksvector.CKKSVector object at 0x7fda2149c3b0>,\n",
       "          <tenseal.tensors.ckksvector.CKKSVector object at 0x7fda2149fc20>,\n",
       "          <tenseal.tensors.ckksvector.CKKSVector object at 0x7fda2149fbf0>,\n",
       "          <tenseal.tensors.ckksvector.CKKSVector object at 0x7fda2149f980>,\n",
       "          <tenseal.tensors.ckksvector.CKKSVector object at 0x7fda2149e330>,\n",
       "          <tenseal.tensors.ckksvector.CKKSVector object at 0x7fda2149c410>,\n",
       "          <tenseal.tensors.ckksvector.CKKSVector object at 0x7fda2149f1d0>,\n",
       "          <tenseal.tensors.ckksvector.CKKSVector object at 0x7fda2149d370>,\n",
       "          <tenseal.tensors.ckksvector.CKKSVector object at 0x7fda2149f260>,\n",
       "          <tenseal.tensors.ckksvector.CKKSVector object at 0x7fda2149d280>,\n",
       "          <tenseal.tensors.ckksvector.CKKSVector object at 0x7fda2149c5c0>,\n",
       "          <tenseal.tensors.ckksvector.CKKSVector object at 0x7fda2149dd00>,\n",
       "          <tenseal.tensors.ckksvector.CKKSVector object at 0x7fda2149e570>,\n",
       "          <tenseal.tensors.ckksvector.CKKSVector object at 0x7fda2149ed20>,\n",
       "          <tenseal.tensors.ckksvector.CKKSVector object at 0x7fda2149e480>,\n",
       "          <tenseal.tensors.ckksvector.CKKSVector object at 0x7fda2149cb00>,\n",
       "          <tenseal.tensors.ckksvector.CKKSVector object at 0x7fda2149ec60>,\n",
       "          <tenseal.tensors.ckksvector.CKKSVector object at 0x7fda2149dee0>,\n",
       "          <tenseal.tensors.ckksvector.CKKSVector object at 0x7fda2149ffe0>,\n",
       "          <tenseal.tensors.ckksvector.CKKSVector object at 0x7fda2149f6b0>],\n",
       "         [<tenseal.tensors.ckksvector.CKKSVector object at 0x7fda2149d4c0>,\n",
       "          <tenseal.tensors.ckksvector.CKKSVector object at 0x7fda2149ca70>,\n",
       "          <tenseal.tensors.ckksvector.CKKSVector object at 0x7fda2149c7d0>,\n",
       "          <tenseal.tensors.ckksvector.CKKSVector object at 0x7fda2149d640>,\n",
       "          <tenseal.tensors.ckksvector.CKKSVector object at 0x7fda2149e0f0>,\n",
       "          <tenseal.tensors.ckksvector.CKKSVector object at 0x7fda2149fb60>,\n",
       "          <tenseal.tensors.ckksvector.CKKSVector object at 0x7fda2149d8b0>,\n",
       "          <tenseal.tensors.ckksvector.CKKSVector object at 0x7fda2149f4d0>,\n",
       "          <tenseal.tensors.ckksvector.CKKSVector object at 0x7fda2149d730>,\n",
       "          <tenseal.tensors.ckksvector.CKKSVector object at 0x7fda2149ede0>,\n",
       "          <tenseal.tensors.ckksvector.CKKSVector object at 0x7fda2149c650>,\n",
       "          <tenseal.tensors.ckksvector.CKKSVector object at 0x7fda2149f5c0>,\n",
       "          <tenseal.tensors.ckksvector.CKKSVector object at 0x7fda2149dfa0>,\n",
       "          <tenseal.tensors.ckksvector.CKKSVector object at 0x7fda2149c0e0>,\n",
       "          <tenseal.tensors.ckksvector.CKKSVector object at 0x7fda2149cec0>,\n",
       "          <tenseal.tensors.ckksvector.CKKSVector object at 0x7fda2149d670>,\n",
       "          <tenseal.tensors.ckksvector.CKKSVector object at 0x7fda2149d400>,\n",
       "          <tenseal.tensors.ckksvector.CKKSVector object at 0x7fda2149d040>,\n",
       "          <tenseal.tensors.ckksvector.CKKSVector object at 0x7fda2149f050>,\n",
       "          <tenseal.tensors.ckksvector.CKKSVector object at 0x7fda2149dca0>],\n",
       "         [<tenseal.tensors.ckksvector.CKKSVector object at 0x7fda2149f2f0>,\n",
       "          <tenseal.tensors.ckksvector.CKKSVector object at 0x7fda2149db50>,\n",
       "          <tenseal.tensors.ckksvector.CKKSVector object at 0x7fda2149f410>,\n",
       "          <tenseal.tensors.ckksvector.CKKSVector object at 0x7fda2149ef30>,\n",
       "          <tenseal.tensors.ckksvector.CKKSVector object at 0x7fda2149f0e0>,\n",
       "          <tenseal.tensors.ckksvector.CKKSVector object at 0x7fda2149e690>,\n",
       "          <tenseal.tensors.ckksvector.CKKSVector object at 0x7fda2149c830>,\n",
       "          <tenseal.tensors.ckksvector.CKKSVector object at 0x7fda2149e390>,\n",
       "          <tenseal.tensors.ckksvector.CKKSVector object at 0x7fda2149dc40>,\n",
       "          <tenseal.tensors.ckksvector.CKKSVector object at 0x7fda2149fbc0>,\n",
       "          <tenseal.tensors.ckksvector.CKKSVector object at 0x7fda2149d520>,\n",
       "          <tenseal.tensors.ckksvector.CKKSVector object at 0x7fda2149e540>,\n",
       "          <tenseal.tensors.ckksvector.CKKSVector object at 0x7fda2149ee40>,\n",
       "          <tenseal.tensors.ckksvector.CKKSVector object at 0x7fda2149cf20>,\n",
       "          <tenseal.tensors.ckksvector.CKKSVector object at 0x7fda2149dd30>,\n",
       "          <tenseal.tensors.ckksvector.CKKSVector object at 0x7fda2149eed0>,\n",
       "          <tenseal.tensors.ckksvector.CKKSVector object at 0x7fda2149da00>,\n",
       "          <tenseal.tensors.ckksvector.CKKSVector object at 0x7fda2149c200>,\n",
       "          <tenseal.tensors.ckksvector.CKKSVector object at 0x7fda2149caa0>,\n",
       "          <tenseal.tensors.ckksvector.CKKSVector object at 0x7fda2149c110>],\n",
       "         [<tenseal.tensors.ckksvector.CKKSVector object at 0x7fda2149d460>,\n",
       "          <tenseal.tensors.ckksvector.CKKSVector object at 0x7fda2149eba0>,\n",
       "          <tenseal.tensors.ckksvector.CKKSVector object at 0x7fda2149eb10>,\n",
       "          <tenseal.tensors.ckksvector.CKKSVector object at 0x7fda2149cbf0>,\n",
       "          <tenseal.tensors.ckksvector.CKKSVector object at 0x7fda2149e780>,\n",
       "          <tenseal.tensors.ckksvector.CKKSVector object at 0x7fda2149fa70>,\n",
       "          <tenseal.tensors.ckksvector.CKKSVector object at 0x7fda2149e810>,\n",
       "          <tenseal.tensors.ckksvector.CKKSVector object at 0x7fda2149d6d0>,\n",
       "          <tenseal.tensors.ckksvector.CKKSVector object at 0x7fda2149cc20>,\n",
       "          <tenseal.tensors.ckksvector.CKKSVector object at 0x7fda2149f7d0>,\n",
       "          <tenseal.tensors.ckksvector.CKKSVector object at 0x7fda2149cd70>,\n",
       "          <tenseal.tensors.ckksvector.CKKSVector object at 0x7fda2149d610>,\n",
       "          <tenseal.tensors.ckksvector.CKKSVector object at 0x7fda2149e000>,\n",
       "          <tenseal.tensors.ckksvector.CKKSVector object at 0x7fda2149ddc0>,\n",
       "          <tenseal.tensors.ckksvector.CKKSVector object at 0x7fda2149d490>,\n",
       "          <tenseal.tensors.ckksvector.CKKSVector object at 0x7fda2149e6c0>,\n",
       "          <tenseal.tensors.ckksvector.CKKSVector object at 0x7fda2149fe90>,\n",
       "          <tenseal.tensors.ckksvector.CKKSVector object at 0x7fda2149d9d0>,\n",
       "          <tenseal.tensors.ckksvector.CKKSVector object at 0x7fda2149f320>,\n",
       "          <tenseal.tensors.ckksvector.CKKSVector object at 0x7fda2149f140>],\n",
       "         [<tenseal.tensors.ckksvector.CKKSVector object at 0x7fda2149c680>,\n",
       "          <tenseal.tensors.ckksvector.CKKSVector object at 0x7fda2149c1a0>,\n",
       "          <tenseal.tensors.ckksvector.CKKSVector object at 0x7fda2149e4e0>,\n",
       "          <tenseal.tensors.ckksvector.CKKSVector object at 0x7fda2149d2e0>,\n",
       "          <tenseal.tensors.ckksvector.CKKSVector object at 0x7fda2149f1a0>,\n",
       "          <tenseal.tensors.ckksvector.CKKSVector object at 0x7fda2149cd10>,\n",
       "          <tenseal.tensors.ckksvector.CKKSVector object at 0x7fda2149e630>,\n",
       "          <tenseal.tensors.ckksvector.CKKSVector object at 0x7fda2149e720>,\n",
       "          <tenseal.tensors.ckksvector.CKKSVector object at 0x7fda2149f590>,\n",
       "          <tenseal.tensors.ckksvector.CKKSVector object at 0x7fda2149c590>,\n",
       "          <tenseal.tensors.ckksvector.CKKSVector object at 0x7fda2149deb0>,\n",
       "          <tenseal.tensors.ckksvector.CKKSVector object at 0x7fda2149cce0>,\n",
       "          <tenseal.tensors.ckksvector.CKKSVector object at 0x7fda2149dbe0>,\n",
       "          <tenseal.tensors.ckksvector.CKKSVector object at 0x7fda2149c4a0>,\n",
       "          <tenseal.tensors.ckksvector.CKKSVector object at 0x7fda2149e7b0>,\n",
       "          <tenseal.tensors.ckksvector.CKKSVector object at 0x7fda2149f500>,\n",
       "          <tenseal.tensors.ckksvector.CKKSVector object at 0x7fda2149cfb0>,\n",
       "          <tenseal.tensors.ckksvector.CKKSVector object at 0x7fda2149e180>,\n",
       "          <tenseal.tensors.ckksvector.CKKSVector object at 0x7fda2149cf50>,\n",
       "          <tenseal.tensors.ckksvector.CKKSVector object at 0x7fda2149d7f0>],\n",
       "         [<tenseal.tensors.ckksvector.CKKSVector object at 0x7fda2149cef0>,\n",
       "          <tenseal.tensors.ckksvector.CKKSVector object at 0x7fda2149fa40>,\n",
       "          <tenseal.tensors.ckksvector.CKKSVector object at 0x7fda2149f470>,\n",
       "          <tenseal.tensors.ckksvector.CKKSVector object at 0x7fda2149f950>,\n",
       "          <tenseal.tensors.ckksvector.CKKSVector object at 0x7fda2149e120>,\n",
       "          <tenseal.tensors.ckksvector.CKKSVector object at 0x7fda2149ef00>,\n",
       "          <tenseal.tensors.ckksvector.CKKSVector object at 0x7fda2149fce0>,\n",
       "          <tenseal.tensors.ckksvector.CKKSVector object at 0x7fda2149c980>,\n",
       "          <tenseal.tensors.ckksvector.CKKSVector object at 0x7fda2149c8c0>,\n",
       "          <tenseal.tensors.ckksvector.CKKSVector object at 0x7fda2149ea50>,\n",
       "          <tenseal.tensors.ckksvector.CKKSVector object at 0x7fda2149c440>,\n",
       "          <tenseal.tensors.ckksvector.CKKSVector object at 0x7fda2149de50>,\n",
       "          <tenseal.tensors.ckksvector.CKKSVector object at 0x7fda2149e2d0>,\n",
       "          <tenseal.tensors.ckksvector.CKKSVector object at 0x7fda2149e2a0>,\n",
       "          <tenseal.tensors.ckksvector.CKKSVector object at 0x7fda2149cd40>,\n",
       "          <tenseal.tensors.ckksvector.CKKSVector object at 0x7fda2149cfe0>,\n",
       "          <tenseal.tensors.ckksvector.CKKSVector object at 0x7fda2149e9c0>,\n",
       "          <tenseal.tensors.ckksvector.CKKSVector object at 0x7fda2149d3d0>,\n",
       "          <tenseal.tensors.ckksvector.CKKSVector object at 0x7fda2149df40>,\n",
       "          <tenseal.tensors.ckksvector.CKKSVector object at 0x7fda2149f530>],\n",
       "         [<tenseal.tensors.ckksvector.CKKSVector object at 0x7fda2149e660>,\n",
       "          <tenseal.tensors.ckksvector.CKKSVector object at 0x7fda2149c740>,\n",
       "          <tenseal.tensors.ckksvector.CKKSVector object at 0x7fda2149d880>,\n",
       "          <tenseal.tensors.ckksvector.CKKSVector object at 0x7fda2149e9f0>,\n",
       "          <tenseal.tensors.ckksvector.CKKSVector object at 0x7fda2149d220>,\n",
       "          <tenseal.tensors.ckksvector.CKKSVector object at 0x7fda2149ecf0>,\n",
       "          <tenseal.tensors.ckksvector.CKKSVector object at 0x7fda2149d940>,\n",
       "          <tenseal.tensors.ckksvector.CKKSVector object at 0x7fda2149f8c0>,\n",
       "          <tenseal.tensors.ckksvector.CKKSVector object at 0x7fda2149ee10>,\n",
       "          <tenseal.tensors.ckksvector.CKKSVector object at 0x7fda2149ce00>,\n",
       "          <tenseal.tensors.ckksvector.CKKSVector object at 0x7fda2149fcb0>,\n",
       "          <tenseal.tensors.ckksvector.CKKSVector object at 0x7fda2149ccb0>,\n",
       "          <tenseal.tensors.ckksvector.CKKSVector object at 0x7fda2149d820>,\n",
       "          <tenseal.tensors.ckksvector.CKKSVector object at 0x7fda2149ecc0>,\n",
       "          <tenseal.tensors.ckksvector.CKKSVector object at 0x7fda2149e8a0>,\n",
       "          <tenseal.tensors.ckksvector.CKKSVector object at 0x7fda2149c2c0>,\n",
       "          <tenseal.tensors.ckksvector.CKKSVector object at 0x7fda2149c950>,\n",
       "          <tenseal.tensors.ckksvector.CKKSVector object at 0x7fda2149f770>,\n",
       "          <tenseal.tensors.ckksvector.CKKSVector object at 0x7fda2149ef90>,\n",
       "          <tenseal.tensors.ckksvector.CKKSVector object at 0x7fda2149e840>],\n",
       "         [<tenseal.tensors.ckksvector.CKKSVector object at 0x7fda2149c140>,\n",
       "          <tenseal.tensors.ckksvector.CKKSVector object at 0x7fda2149d850>,\n",
       "          <tenseal.tensors.ckksvector.CKKSVector object at 0x7fda2149eff0>,\n",
       "          <tenseal.tensors.ckksvector.CKKSVector object at 0x7fda2149e0c0>,\n",
       "          <tenseal.tensors.ckksvector.CKKSVector object at 0x7fda2149f560>,\n",
       "          <tenseal.tensors.ckksvector.CKKSVector object at 0x7fda2149c3e0>,\n",
       "          <tenseal.tensors.ckksvector.CKKSVector object at 0x7fda2149dfd0>,\n",
       "          <tenseal.tensors.ckksvector.CKKSVector object at 0x7fda2149c290>,\n",
       "          <tenseal.tensors.ckksvector.CKKSVector object at 0x7fda2149c6b0>,\n",
       "          <tenseal.tensors.ckksvector.CKKSVector object at 0x7fda2149fc50>,\n",
       "          <tenseal.tensors.ckksvector.CKKSVector object at 0x7fda2149d7c0>,\n",
       "          <tenseal.tensors.ckksvector.CKKSVector object at 0x7fda2149ce90>,\n",
       "          <tenseal.tensors.ckksvector.CKKSVector object at 0x7fda2149e240>,\n",
       "          <tenseal.tensors.ckksvector.CKKSVector object at 0x7fda2149eb70>,\n",
       "          <tenseal.tensors.ckksvector.CKKSVector object at 0x7fda2149f920>,\n",
       "          <tenseal.tensors.ckksvector.CKKSVector object at 0x7fda2149f350>,\n",
       "          <tenseal.tensors.ckksvector.CKKSVector object at 0x7fda2149dd90>,\n",
       "          <tenseal.tensors.ckksvector.CKKSVector object at 0x7fda2149d1f0>,\n",
       "          <tenseal.tensors.ckksvector.CKKSVector object at 0x7fda2149d700>,\n",
       "          <tenseal.tensors.ckksvector.CKKSVector object at 0x7fda2149f7a0>]],\n",
       "        dtype=object)],\n",
       " [array([[<tenseal.tensors.ckksvector.CKKSVector object at 0x7fda2149d9a0>,\n",
       "          <tenseal.tensors.ckksvector.CKKSVector object at 0x7fda2149d250>,\n",
       "          <tenseal.tensors.ckksvector.CKKSVector object at 0x7fda2149d8e0>,\n",
       "          <tenseal.tensors.ckksvector.CKKSVector object at 0x7fda2149fe60>,\n",
       "          <tenseal.tensors.ckksvector.CKKSVector object at 0x7fda2149c6e0>,\n",
       "          <tenseal.tensors.ckksvector.CKKSVector object at 0x7fda2149fa10>,\n",
       "          <tenseal.tensors.ckksvector.CKKSVector object at 0x7fda2149eb40>,\n",
       "          <tenseal.tensors.ckksvector.CKKSVector object at 0x7fda2149eab0>,\n",
       "          <tenseal.tensors.ckksvector.CKKSVector object at 0x7fda2149c470>,\n",
       "          <tenseal.tensors.ckksvector.CKKSVector object at 0x7fda2149c320>],\n",
       "         [<tenseal.tensors.ckksvector.CKKSVector object at 0x7fda2149f860>,\n",
       "          <tenseal.tensors.ckksvector.CKKSVector object at 0x7fda2149f080>,\n",
       "          <tenseal.tensors.ckksvector.CKKSVector object at 0x7fda2149d3a0>,\n",
       "          <tenseal.tensors.ckksvector.CKKSVector object at 0x7fda2149f2c0>,\n",
       "          <tenseal.tensors.ckksvector.CKKSVector object at 0x7fda2149f680>,\n",
       "          <tenseal.tensors.ckksvector.CKKSVector object at 0x7fda2149c890>,\n",
       "          <tenseal.tensors.ckksvector.CKKSVector object at 0x7fda2149d430>,\n",
       "          <tenseal.tensors.ckksvector.CKKSVector object at 0x7fda2149c080>,\n",
       "          <tenseal.tensors.ckksvector.CKKSVector object at 0x7fda2149cb90>,\n",
       "          <tenseal.tensors.ckksvector.CKKSVector object at 0x7fda2149f020>],\n",
       "         [<tenseal.tensors.ckksvector.CKKSVector object at 0x7fda2149f710>,\n",
       "          <tenseal.tensors.ckksvector.CKKSVector object at 0x7fda2149c170>,\n",
       "          <tenseal.tensors.ckksvector.CKKSVector object at 0x7fda2149fec0>,\n",
       "          <tenseal.tensors.ckksvector.CKKSVector object at 0x7fda2149d0a0>,\n",
       "          <tenseal.tensors.ckksvector.CKKSVector object at 0x7fda2149c920>,\n",
       "          <tenseal.tensors.ckksvector.CKKSVector object at 0x7fda2149fb30>,\n",
       "          <tenseal.tensors.ckksvector.CKKSVector object at 0x7fd9a82d1ca0>,\n",
       "          <tenseal.tensors.ckksvector.CKKSVector object at 0x7fd9a82d27b0>,\n",
       "          <tenseal.tensors.ckksvector.CKKSVector object at 0x7fd9a82d1df0>,\n",
       "          <tenseal.tensors.ckksvector.CKKSVector object at 0x7fd9a82d2cc0>],\n",
       "         [<tenseal.tensors.ckksvector.CKKSVector object at 0x7fd9a82d26f0>,\n",
       "          <tenseal.tensors.ckksvector.CKKSVector object at 0x7fd9a82d3e00>,\n",
       "          <tenseal.tensors.ckksvector.CKKSVector object at 0x7fd9a82d2030>,\n",
       "          <tenseal.tensors.ckksvector.CKKSVector object at 0x7fd9a82d34d0>,\n",
       "          <tenseal.tensors.ckksvector.CKKSVector object at 0x7fd9a82d0ec0>,\n",
       "          <tenseal.tensors.ckksvector.CKKSVector object at 0x7fd9a82d2960>,\n",
       "          <tenseal.tensors.ckksvector.CKKSVector object at 0x7fd9a82d1310>,\n",
       "          <tenseal.tensors.ckksvector.CKKSVector object at 0x7fd9a82d1700>,\n",
       "          <tenseal.tensors.ckksvector.CKKSVector object at 0x7fd9a82d15b0>,\n",
       "          <tenseal.tensors.ckksvector.CKKSVector object at 0x7fd9a82d1220>],\n",
       "         [<tenseal.tensors.ckksvector.CKKSVector object at 0x7fd9a82d3140>,\n",
       "          <tenseal.tensors.ckksvector.CKKSVector object at 0x7fd9a82d2270>,\n",
       "          <tenseal.tensors.ckksvector.CKKSVector object at 0x7fd9a82d2ff0>,\n",
       "          <tenseal.tensors.ckksvector.CKKSVector object at 0x7fd9a82d0aa0>,\n",
       "          <tenseal.tensors.ckksvector.CKKSVector object at 0x7fd9a82d2180>,\n",
       "          <tenseal.tensors.ckksvector.CKKSVector object at 0x7fd9a82d16d0>,\n",
       "          <tenseal.tensors.ckksvector.CKKSVector object at 0x7fd9a82d03b0>,\n",
       "          <tenseal.tensors.ckksvector.CKKSVector object at 0x7fd9a82d1400>,\n",
       "          <tenseal.tensors.ckksvector.CKKSVector object at 0x7fd9a82d0d10>,\n",
       "          <tenseal.tensors.ckksvector.CKKSVector object at 0x7fd9a82d3680>],\n",
       "         [<tenseal.tensors.ckksvector.CKKSVector object at 0x7fd9a82d2ae0>,\n",
       "          <tenseal.tensors.ckksvector.CKKSVector object at 0x7fd9a82d3830>,\n",
       "          <tenseal.tensors.ckksvector.CKKSVector object at 0x7fd9a82d2450>,\n",
       "          <tenseal.tensors.ckksvector.CKKSVector object at 0x7fd9a82d0050>,\n",
       "          <tenseal.tensors.ckksvector.CKKSVector object at 0x7fd9a82d1340>,\n",
       "          <tenseal.tensors.ckksvector.CKKSVector object at 0x7fd9a82d0e60>,\n",
       "          <tenseal.tensors.ckksvector.CKKSVector object at 0x7fd9a82d03e0>,\n",
       "          <tenseal.tensors.ckksvector.CKKSVector object at 0x7fd9a82d1730>,\n",
       "          <tenseal.tensors.ckksvector.CKKSVector object at 0x7fd9a82d0d40>,\n",
       "          <tenseal.tensors.ckksvector.CKKSVector object at 0x7fd9a82d3b60>],\n",
       "         [<tenseal.tensors.ckksvector.CKKSVector object at 0x7fd9a82d3d10>,\n",
       "          <tenseal.tensors.ckksvector.CKKSVector object at 0x7fd9a82d26c0>,\n",
       "          <tenseal.tensors.ckksvector.CKKSVector object at 0x7fd9a82d1af0>,\n",
       "          <tenseal.tensors.ckksvector.CKKSVector object at 0x7fd9a82d2120>,\n",
       "          <tenseal.tensors.ckksvector.CKKSVector object at 0x7fd9a82d3dd0>,\n",
       "          <tenseal.tensors.ckksvector.CKKSVector object at 0x7fd9a82d3110>,\n",
       "          <tenseal.tensors.ckksvector.CKKSVector object at 0x7fd9a82d1280>,\n",
       "          <tenseal.tensors.ckksvector.CKKSVector object at 0x7fd9a82d05f0>,\n",
       "          <tenseal.tensors.ckksvector.CKKSVector object at 0x7fd9a82d0ef0>,\n",
       "          <tenseal.tensors.ckksvector.CKKSVector object at 0x7fd9a82d1610>],\n",
       "         [<tenseal.tensors.ckksvector.CKKSVector object at 0x7fd9a82d0110>,\n",
       "          <tenseal.tensors.ckksvector.CKKSVector object at 0x7fd9a82d19d0>,\n",
       "          <tenseal.tensors.ckksvector.CKKSVector object at 0x7fd9a82d37a0>,\n",
       "          <tenseal.tensors.ckksvector.CKKSVector object at 0x7fd9a82d19a0>,\n",
       "          <tenseal.tensors.ckksvector.CKKSVector object at 0x7fd9a82d0260>,\n",
       "          <tenseal.tensors.ckksvector.CKKSVector object at 0x7fd9a82d07d0>,\n",
       "          <tenseal.tensors.ckksvector.CKKSVector object at 0x7fd9a82d2690>,\n",
       "          <tenseal.tensors.ckksvector.CKKSVector object at 0x7fd9a82d1790>,\n",
       "          <tenseal.tensors.ckksvector.CKKSVector object at 0x7fd9a82d2930>,\n",
       "          <tenseal.tensors.ckksvector.CKKSVector object at 0x7fd9a82d32f0>],\n",
       "         [<tenseal.tensors.ckksvector.CKKSVector object at 0x7fd9a82d0770>,\n",
       "          <tenseal.tensors.ckksvector.CKKSVector object at 0x7fd9a82d38f0>,\n",
       "          <tenseal.tensors.ckksvector.CKKSVector object at 0x7fd9a82d25d0>,\n",
       "          <tenseal.tensors.ckksvector.CKKSVector object at 0x7fd9a82d0b30>,\n",
       "          <tenseal.tensors.ckksvector.CKKSVector object at 0x7fd9a82d3860>,\n",
       "          <tenseal.tensors.ckksvector.CKKSVector object at 0x7fd9a82d0a40>,\n",
       "          <tenseal.tensors.ckksvector.CKKSVector object at 0x7fd9a82d2f90>,\n",
       "          <tenseal.tensors.ckksvector.CKKSVector object at 0x7fd9a82d1250>,\n",
       "          <tenseal.tensors.ckksvector.CKKSVector object at 0x7fd9a82d1640>,\n",
       "          <tenseal.tensors.ckksvector.CKKSVector object at 0x7fd9a82d1cd0>],\n",
       "         [<tenseal.tensors.ckksvector.CKKSVector object at 0x7fd9a82d2ab0>,\n",
       "          <tenseal.tensors.ckksvector.CKKSVector object at 0x7fd9a82d2f30>,\n",
       "          <tenseal.tensors.ckksvector.CKKSVector object at 0x7fd9a82d1820>,\n",
       "          <tenseal.tensors.ckksvector.CKKSVector object at 0x7fd9a82d3fb0>,\n",
       "          <tenseal.tensors.ckksvector.CKKSVector object at 0x7fd9a82d1e80>,\n",
       "          <tenseal.tensors.ckksvector.CKKSVector object at 0x7fd9a82d0bf0>,\n",
       "          <tenseal.tensors.ckksvector.CKKSVector object at 0x7fd9a82d27e0>,\n",
       "          <tenseal.tensors.ckksvector.CKKSVector object at 0x7fd9a82d2900>,\n",
       "          <tenseal.tensors.ckksvector.CKKSVector object at 0x7fd9a82d10a0>,\n",
       "          <tenseal.tensors.ckksvector.CKKSVector object at 0x7fd9a82d3530>]],\n",
       "        dtype=object),\n",
       "  array([[<tenseal.tensors.ckksvector.CKKSVector object at 0x7fd9a82d1760>,\n",
       "          <tenseal.tensors.ckksvector.CKKSVector object at 0x7fd9a82d2060>,\n",
       "          <tenseal.tensors.ckksvector.CKKSVector object at 0x7fd9a82d0b90>,\n",
       "          <tenseal.tensors.ckksvector.CKKSVector object at 0x7fd9a82d1dc0>,\n",
       "          <tenseal.tensors.ckksvector.CKKSVector object at 0x7fd9a82d1bb0>,\n",
       "          <tenseal.tensors.ckksvector.CKKSVector object at 0x7fd9a82d0500>,\n",
       "          <tenseal.tensors.ckksvector.CKKSVector object at 0x7fd9a82d3d70>,\n",
       "          <tenseal.tensors.ckksvector.CKKSVector object at 0x7fd9a82d3e30>,\n",
       "          <tenseal.tensors.ckksvector.CKKSVector object at 0x7fd9a82d3e60>,\n",
       "          <tenseal.tensors.ckksvector.CKKSVector object at 0x7fd9a82d04d0>],\n",
       "         [<tenseal.tensors.ckksvector.CKKSVector object at 0x7fd9a82d2780>,\n",
       "          <tenseal.tensors.ckksvector.CKKSVector object at 0x7fd9a82d2630>,\n",
       "          <tenseal.tensors.ckksvector.CKKSVector object at 0x7fd9a82d3fe0>,\n",
       "          <tenseal.tensors.ckksvector.CKKSVector object at 0x7fd9a82d3cb0>,\n",
       "          <tenseal.tensors.ckksvector.CKKSVector object at 0x7fd9a82d21e0>,\n",
       "          <tenseal.tensors.ckksvector.CKKSVector object at 0x7fd9a82d0c20>,\n",
       "          <tenseal.tensors.ckksvector.CKKSVector object at 0x7fd9a82d3710>,\n",
       "          <tenseal.tensors.ckksvector.CKKSVector object at 0x7fd9a82d2810>,\n",
       "          <tenseal.tensors.ckksvector.CKKSVector object at 0x7fd9a82d2a80>,\n",
       "          <tenseal.tensors.ckksvector.CKKSVector object at 0x7fd9a82d3200>],\n",
       "         [<tenseal.tensors.ckksvector.CKKSVector object at 0x7fd9a82d1970>,\n",
       "          <tenseal.tensors.ckksvector.CKKSVector object at 0x7fd9a82d28d0>,\n",
       "          <tenseal.tensors.ckksvector.CKKSVector object at 0x7fd9a82d3da0>,\n",
       "          <tenseal.tensors.ckksvector.CKKSVector object at 0x7fd9a82d29c0>,\n",
       "          <tenseal.tensors.ckksvector.CKKSVector object at 0x7fd9a82d24b0>,\n",
       "          <tenseal.tensors.ckksvector.CKKSVector object at 0x7fd9a82d3050>,\n",
       "          <tenseal.tensors.ckksvector.CKKSVector object at 0x7fd9a82d2b10>,\n",
       "          <tenseal.tensors.ckksvector.CKKSVector object at 0x7fd9a82d2de0>,\n",
       "          <tenseal.tensors.ckksvector.CKKSVector object at 0x7fd9a82d2870>,\n",
       "          <tenseal.tensors.ckksvector.CKKSVector object at 0x7fd9a82d2990>],\n",
       "         [<tenseal.tensors.ckksvector.CKKSVector object at 0x7fd9a82d3020>,\n",
       "          <tenseal.tensors.ckksvector.CKKSVector object at 0x7fd9a82d21b0>,\n",
       "          <tenseal.tensors.ckksvector.CKKSVector object at 0x7fd9a82d0c80>,\n",
       "          <tenseal.tensors.ckksvector.CKKSVector object at 0x7fd9a82d1190>,\n",
       "          <tenseal.tensors.ckksvector.CKKSVector object at 0x7fd9a82d2bd0>,\n",
       "          <tenseal.tensors.ckksvector.CKKSVector object at 0x7fd9a82d3d40>,\n",
       "          <tenseal.tensors.ckksvector.CKKSVector object at 0x7fd9a82d1eb0>,\n",
       "          <tenseal.tensors.ckksvector.CKKSVector object at 0x7fd9a82d3560>,\n",
       "          <tenseal.tensors.ckksvector.CKKSVector object at 0x7fd9a82d3b90>,\n",
       "          <tenseal.tensors.ckksvector.CKKSVector object at 0x7fd9a82d3080>],\n",
       "         [<tenseal.tensors.ckksvector.CKKSVector object at 0x7fd9a82d1940>,\n",
       "          <tenseal.tensors.ckksvector.CKKSVector object at 0x7fd9a82d1c10>,\n",
       "          <tenseal.tensors.ckksvector.CKKSVector object at 0x7fd9a82d1e20>,\n",
       "          <tenseal.tensors.ckksvector.CKKSVector object at 0x7fd9a82d1ee0>,\n",
       "          <tenseal.tensors.ckksvector.CKKSVector object at 0x7fd9a82d0e00>,\n",
       "          <tenseal.tensors.ckksvector.CKKSVector object at 0x7fd9a82d13d0>,\n",
       "          <tenseal.tensors.ckksvector.CKKSVector object at 0x7fd9a82d2c60>,\n",
       "          <tenseal.tensors.ckksvector.CKKSVector object at 0x7fd9a82d2ed0>,\n",
       "          <tenseal.tensors.ckksvector.CKKSVector object at 0x7fd9a82d0200>,\n",
       "          <tenseal.tensors.ckksvector.CKKSVector object at 0x7fd9a82d2ba0>],\n",
       "         [<tenseal.tensors.ckksvector.CKKSVector object at 0x7fd9a82d3bc0>,\n",
       "          <tenseal.tensors.ckksvector.CKKSVector object at 0x7fd9a82d2000>,\n",
       "          <tenseal.tensors.ckksvector.CKKSVector object at 0x7fd9a82d2840>,\n",
       "          <tenseal.tensors.ckksvector.CKKSVector object at 0x7fd9a82d1d30>,\n",
       "          <tenseal.tensors.ckksvector.CKKSVector object at 0x7fd9a82d3ce0>,\n",
       "          <tenseal.tensors.ckksvector.CKKSVector object at 0x7fd9a82d0830>,\n",
       "          <tenseal.tensors.ckksvector.CKKSVector object at 0x7fd9a82d0170>,\n",
       "          <tenseal.tensors.ckksvector.CKKSVector object at 0x7fd9a82d2e10>,\n",
       "          <tenseal.tensors.ckksvector.CKKSVector object at 0x7fd9a82d08c0>,\n",
       "          <tenseal.tensors.ckksvector.CKKSVector object at 0x7fd9a82d0230>],\n",
       "         [<tenseal.tensors.ckksvector.CKKSVector object at 0x7fd9a82d0320>,\n",
       "          <tenseal.tensors.ckksvector.CKKSVector object at 0x7fd9a82d3260>,\n",
       "          <tenseal.tensors.ckksvector.CKKSVector object at 0x7fd9a82d33b0>,\n",
       "          <tenseal.tensors.ckksvector.CKKSVector object at 0x7fd9a82d3320>,\n",
       "          <tenseal.tensors.ckksvector.CKKSVector object at 0x7fd9a82d35c0>,\n",
       "          <tenseal.tensors.ckksvector.CKKSVector object at 0x7fd9a82d3380>,\n",
       "          <tenseal.tensors.ckksvector.CKKSVector object at 0x7fd9a82d37d0>,\n",
       "          <tenseal.tensors.ckksvector.CKKSVector object at 0x7fd91f964a40>,\n",
       "          <tenseal.tensors.ckksvector.CKKSVector object at 0x7fd9a82d2d50>,\n",
       "          <tenseal.tensors.ckksvector.CKKSVector object at 0x7fd9a82d35f0>],\n",
       "         [<tenseal.tensors.ckksvector.CKKSVector object at 0x7fd9a82d3a70>,\n",
       "          <tenseal.tensors.ckksvector.CKKSVector object at 0x7fd9a82d3f50>,\n",
       "          <tenseal.tensors.ckksvector.CKKSVector object at 0x7fd9a82d3bf0>,\n",
       "          <tenseal.tensors.ckksvector.CKKSVector object at 0x7fd9a82d3c50>,\n",
       "          <tenseal.tensors.ckksvector.CKKSVector object at 0x7fd9a82d2b70>,\n",
       "          <tenseal.tensors.ckksvector.CKKSVector object at 0x7fd9a82d3800>,\n",
       "          <tenseal.tensors.ckksvector.CKKSVector object at 0x7fd9a82d3650>,\n",
       "          <tenseal.tensors.ckksvector.CKKSVector object at 0x7fd9a82d1c70>,\n",
       "          <tenseal.tensors.ckksvector.CKKSVector object at 0x7fd9a82d2720>,\n",
       "          <tenseal.tensors.ckksvector.CKKSVector object at 0x7fd9a82d1ac0>],\n",
       "         [<tenseal.tensors.ckksvector.CKKSVector object at 0x7fd9a82d2420>,\n",
       "          <tenseal.tensors.ckksvector.CKKSVector object at 0x7fd9a82d32c0>,\n",
       "          <tenseal.tensors.ckksvector.CKKSVector object at 0x7fd9a82d33e0>,\n",
       "          <tenseal.tensors.ckksvector.CKKSVector object at 0x7fd9a82d3e90>,\n",
       "          <tenseal.tensors.ckksvector.CKKSVector object at 0x7fd9a82d06b0>,\n",
       "          <tenseal.tensors.ckksvector.CKKSVector object at 0x7fd9a82d0740>,\n",
       "          <tenseal.tensors.ckksvector.CKKSVector object at 0x7fd9a82d23c0>,\n",
       "          <tenseal.tensors.ckksvector.CKKSVector object at 0x7fd9a82d0950>,\n",
       "          <tenseal.tensors.ckksvector.CKKSVector object at 0x7fd9a82d24e0>,\n",
       "          <tenseal.tensors.ckksvector.CKKSVector object at 0x7fd9a82d08f0>],\n",
       "         [<tenseal.tensors.ckksvector.CKKSVector object at 0x7fd9a82d0890>,\n",
       "          <tenseal.tensors.ckksvector.CKKSVector object at 0x7fd9a82d1070>,\n",
       "          <tenseal.tensors.ckksvector.CKKSVector object at 0x7fd9a82d10d0>,\n",
       "          <tenseal.tensors.ckksvector.CKKSVector object at 0x7fd9a82d1130>,\n",
       "          <tenseal.tensors.ckksvector.CKKSVector object at 0x7fd9a82d0f20>,\n",
       "          <tenseal.tensors.ckksvector.CKKSVector object at 0x7fd9a82d0f80>,\n",
       "          <tenseal.tensors.ckksvector.CKKSVector object at 0x7fd9a82d0fe0>,\n",
       "          <tenseal.tensors.ckksvector.CKKSVector object at 0x7fd9a82d0cb0>,\n",
       "          <tenseal.tensors.ckksvector.CKKSVector object at 0x7fd9a82d0140>,\n",
       "          <tenseal.tensors.ckksvector.CKKSVector object at 0x7fd9a82d0e90>]],\n",
       "        dtype=object),\n",
       "  array([[<tenseal.tensors.ckksvector.CKKSVector object at 0x7fd9a82d07a0>,\n",
       "          <tenseal.tensors.ckksvector.CKKSVector object at 0x7fd9a82d1d90>,\n",
       "          <tenseal.tensors.ckksvector.CKKSVector object at 0x7fd9a82d0800>,\n",
       "          <tenseal.tensors.ckksvector.CKKSVector object at 0x7fd9a82d0470>,\n",
       "          <tenseal.tensors.ckksvector.CKKSVector object at 0x7fd9a82d2210>,\n",
       "          <tenseal.tensors.ckksvector.CKKSVector object at 0x7fd9a82d20f0>,\n",
       "          <tenseal.tensors.ckksvector.CKKSVector object at 0x7fd9a82d1580>,\n",
       "          <tenseal.tensors.ckksvector.CKKSVector object at 0x7fd9a82d1850>,\n",
       "          <tenseal.tensors.ckksvector.CKKSVector object at 0x7fd9a82d2f60>,\n",
       "          <tenseal.tensors.ckksvector.CKKSVector object at 0x7fd9a82d0b60>],\n",
       "         [<tenseal.tensors.ckksvector.CKKSVector object at 0x7fd9a82d0d70>,\n",
       "          <tenseal.tensors.ckksvector.CKKSVector object at 0x7fd9a82d12e0>,\n",
       "          <tenseal.tensors.ckksvector.CKKSVector object at 0x7fd9a82d1520>,\n",
       "          <tenseal.tensors.ckksvector.CKKSVector object at 0x7fd9a82d1be0>,\n",
       "          <tenseal.tensors.ckksvector.CKKSVector object at 0x7fd9a82d2e40>,\n",
       "          <tenseal.tensors.ckksvector.CKKSVector object at 0x7fd9a82d0b00>,\n",
       "          <tenseal.tensors.ckksvector.CKKSVector object at 0x7fd9a82d14c0>,\n",
       "          <tenseal.tensors.ckksvector.CKKSVector object at 0x7fd9a82d2a50>,\n",
       "          <tenseal.tensors.ckksvector.CKKSVector object at 0x7fd9a82d1100>,\n",
       "          <tenseal.tensors.ckksvector.CKKSVector object at 0x7fd9a82d11f0>],\n",
       "         [<tenseal.tensors.ckksvector.CKKSVector object at 0x7fd9a82d1fd0>,\n",
       "          <tenseal.tensors.ckksvector.CKKSVector object at 0x7fd9a82d1f40>,\n",
       "          <tenseal.tensors.ckksvector.CKKSVector object at 0x7fd9a82d2300>,\n",
       "          <tenseal.tensors.ckksvector.CKKSVector object at 0x7fd9a82d2a20>,\n",
       "          <tenseal.tensors.ckksvector.CKKSVector object at 0x7fd9a82d0dd0>,\n",
       "          <tenseal.tensors.ckksvector.CKKSVector object at 0x7fd9a82d17c0>,\n",
       "          <tenseal.tensors.ckksvector.CKKSVector object at 0x7fd9a82d2c30>,\n",
       "          <tenseal.tensors.ckksvector.CKKSVector object at 0x7fd9a82d00b0>,\n",
       "          <tenseal.tensors.ckksvector.CKKSVector object at 0x7fd9a82d3ec0>,\n",
       "          <tenseal.tensors.ckksvector.CKKSVector object at 0x7fd9a82d38c0>],\n",
       "         [<tenseal.tensors.ckksvector.CKKSVector object at 0x7fd9a82d14f0>,\n",
       "          <tenseal.tensors.ckksvector.CKKSVector object at 0x7fd9a82d3740>,\n",
       "          <tenseal.tensors.ckksvector.CKKSVector object at 0x7fd9a82d2150>,\n",
       "          <tenseal.tensors.ckksvector.CKKSVector object at 0x7fd9a82d3770>,\n",
       "          <tenseal.tensors.ckksvector.CKKSVector object at 0x7fd9a82d1010>,\n",
       "          <tenseal.tensors.ckksvector.CKKSVector object at 0x7fd9a82d02f0>,\n",
       "          <tenseal.tensors.ckksvector.CKKSVector object at 0x7fd9a82d0710>,\n",
       "          <tenseal.tensors.ckksvector.CKKSVector object at 0x7fd9a82d2660>,\n",
       "          <tenseal.tensors.ckksvector.CKKSVector object at 0x7fd9a82d17f0>,\n",
       "          <tenseal.tensors.ckksvector.CKKSVector object at 0x7fd9a82d22d0>],\n",
       "         [<tenseal.tensors.ckksvector.CKKSVector object at 0x7fd9a82d34a0>,\n",
       "          <tenseal.tensors.ckksvector.CKKSVector object at 0x7fd9a82d31d0>,\n",
       "          <tenseal.tensors.ckksvector.CKKSVector object at 0x7fd9a82d28a0>,\n",
       "          <tenseal.tensors.ckksvector.CKKSVector object at 0x7fd9a82d1b80>,\n",
       "          <tenseal.tensors.ckksvector.CKKSVector object at 0x7fd9a82d3620>,\n",
       "          <tenseal.tensors.ckksvector.CKKSVector object at 0x7fd9a82d3170>,\n",
       "          <tenseal.tensors.ckksvector.CKKSVector object at 0x7fd9a82d3ef0>,\n",
       "          <tenseal.tensors.ckksvector.CKKSVector object at 0x7fd9a82d3290>,\n",
       "          <tenseal.tensors.ckksvector.CKKSVector object at 0x7fd9a82d00e0>,\n",
       "          <tenseal.tensors.ckksvector.CKKSVector object at 0x7fd9a82d1670>],\n",
       "         [<tenseal.tensors.ckksvector.CKKSVector object at 0x7fd9a82d15e0>,\n",
       "          <tenseal.tensors.ckksvector.CKKSVector object at 0x7fd9a82d2d80>,\n",
       "          <tenseal.tensors.ckksvector.CKKSVector object at 0x7fd9a82d0da0>,\n",
       "          <tenseal.tensors.ckksvector.CKKSVector object at 0x7fd9a82d1160>,\n",
       "          <tenseal.tensors.ckksvector.CKKSVector object at 0x7fd9a82d3ad0>,\n",
       "          <tenseal.tensors.ckksvector.CKKSVector object at 0x7fd9a82d3470>,\n",
       "          <tenseal.tensors.ckksvector.CKKSVector object at 0x7fd9a82d0290>,\n",
       "          <tenseal.tensors.ckksvector.CKKSVector object at 0x7fd9a82d2c00>,\n",
       "          <tenseal.tensors.ckksvector.CKKSVector object at 0x7fd9a82d29f0>,\n",
       "          <tenseal.tensors.ckksvector.CKKSVector object at 0x7fd9a82d2cf0>],\n",
       "         [<tenseal.tensors.ckksvector.CKKSVector object at 0x7fd9a82d2c90>,\n",
       "          <tenseal.tensors.ckksvector.CKKSVector object at 0x7fd9a82d2330>,\n",
       "          <tenseal.tensors.ckksvector.CKKSVector object at 0x7fd9a82d0350>,\n",
       "          <tenseal.tensors.ckksvector.CKKSVector object at 0x7fd9a82d36b0>,\n",
       "          <tenseal.tensors.ckksvector.CKKSVector object at 0x7fd9a82d30e0>,\n",
       "          <tenseal.tensors.ckksvector.CKKSVector object at 0x7fd9a82d1f10>,\n",
       "          <tenseal.tensors.ckksvector.CKKSVector object at 0x7fd9a82d1a00>,\n",
       "          <tenseal.tensors.ckksvector.CKKSVector object at 0x7fd9a82d1a60>,\n",
       "          <tenseal.tensors.ckksvector.CKKSVector object at 0x7fd9a82d2360>,\n",
       "          <tenseal.tensors.ckksvector.CKKSVector object at 0x7fd9a82d0650>],\n",
       "         [<tenseal.tensors.ckksvector.CKKSVector object at 0x7fd9a82d2600>,\n",
       "          <tenseal.tensors.ckksvector.CKKSVector object at 0x7fd9a82d31a0>,\n",
       "          <tenseal.tensors.ckksvector.CKKSVector object at 0x7fd9a82d2750>,\n",
       "          <tenseal.tensors.ckksvector.CKKSVector object at 0x7fd9a82d02c0>,\n",
       "          <tenseal.tensors.ckksvector.CKKSVector object at 0x7fd9a82d0ad0>,\n",
       "          <tenseal.tensors.ckksvector.CKKSVector object at 0x7fd9a82d09b0>,\n",
       "          <tenseal.tensors.ckksvector.CKKSVector object at 0x7fd9a82d3410>,\n",
       "          <tenseal.tensors.ckksvector.CKKSVector object at 0x7fd9a82d0ce0>,\n",
       "          <tenseal.tensors.ckksvector.CKKSVector object at 0x7fd9a82d2510>,\n",
       "          <tenseal.tensors.ckksvector.CKKSVector object at 0x7fd9a82d1f70>],\n",
       "         [<tenseal.tensors.ckksvector.CKKSVector object at 0x7fd9a82d09e0>,\n",
       "          <tenseal.tensors.ckksvector.CKKSVector object at 0x7fd9a82d1430>,\n",
       "          <tenseal.tensors.ckksvector.CKKSVector object at 0x7fd9a82d1fa0>,\n",
       "          <tenseal.tensors.ckksvector.CKKSVector object at 0x7fd9a82d2fc0>,\n",
       "          <tenseal.tensors.ckksvector.CKKSVector object at 0x7fd9a82d0620>,\n",
       "          <tenseal.tensors.ckksvector.CKKSVector object at 0x7fd9a82d2db0>,\n",
       "          <tenseal.tensors.ckksvector.CKKSVector object at 0x7fd9a82d2b40>,\n",
       "          <tenseal.tensors.ckksvector.CKKSVector object at 0x7fd9a82d3350>,\n",
       "          <tenseal.tensors.ckksvector.CKKSVector object at 0x7fd9a82d3440>,\n",
       "          <tenseal.tensors.ckksvector.CKKSVector object at 0x7fd9a82d11c0>],\n",
       "         [<tenseal.tensors.ckksvector.CKKSVector object at 0x7fd9a82d3f20>,\n",
       "          <tenseal.tensors.ckksvector.CKKSVector object at 0x7fd9a82d3c20>,\n",
       "          <tenseal.tensors.ckksvector.CKKSVector object at 0x7fd9a82d0380>,\n",
       "          <tenseal.tensors.ckksvector.CKKSVector object at 0x7fd9a82d3980>,\n",
       "          <tenseal.tensors.ckksvector.CKKSVector object at 0x7fd9a82d3a40>,\n",
       "          <tenseal.tensors.ckksvector.CKKSVector object at 0x7fd9a82d0fb0>,\n",
       "          <tenseal.tensors.ckksvector.CKKSVector object at 0x7fd9a82d0560>,\n",
       "          <tenseal.tensors.ckksvector.CKKSVector object at 0x7fd9a82d06e0>,\n",
       "          <tenseal.tensors.ckksvector.CKKSVector object at 0x7fd9a82d0860>,\n",
       "          <tenseal.tensors.ckksvector.CKKSVector object at 0x7fd9a82d30b0>]],\n",
       "        dtype=object),\n",
       "  array([[<tenseal.tensors.ckksvector.CKKSVector object at 0x7fd9a82d25a0>,\n",
       "          <tenseal.tensors.ckksvector.CKKSVector object at 0x7fd9a82d1460>,\n",
       "          <tenseal.tensors.ckksvector.CKKSVector object at 0x7fd9a82d20c0>,\n",
       "          <tenseal.tensors.ckksvector.CKKSVector object at 0x7fd9a82d2e70>,\n",
       "          <tenseal.tensors.ckksvector.CKKSVector object at 0x7fd9a82d0590>,\n",
       "          <tenseal.tensors.ckksvector.CKKSVector object at 0x7fd9a82d2d20>,\n",
       "          <tenseal.tensors.ckksvector.CKKSVector object at 0x7fd9a82d22a0>,\n",
       "          <tenseal.tensors.ckksvector.CKKSVector object at 0x7fd9a82d2390>,\n",
       "          <tenseal.tensors.ckksvector.CKKSVector object at 0x7fd9a82d0c50>,\n",
       "          <tenseal.tensors.ckksvector.CKKSVector object at 0x7fd9a82d36e0>],\n",
       "         [<tenseal.tensors.ckksvector.CKKSVector object at 0x7fd9a82d2540>,\n",
       "          <tenseal.tensors.ckksvector.CKKSVector object at 0x7fd9a82d2570>,\n",
       "          <tenseal.tensors.ckksvector.CKKSVector object at 0x7fd9a82d0680>,\n",
       "          <tenseal.tensors.ckksvector.CKKSVector object at 0x7fd9a82d13a0>,\n",
       "          <tenseal.tensors.ckksvector.CKKSVector object at 0x7fd9a82d1370>,\n",
       "          <tenseal.tensors.ckksvector.CKKSVector object at 0x7fd9a82d1040>,\n",
       "          <tenseal.tensors.ckksvector.CKKSVector object at 0x7fd9a82d1490>,\n",
       "          <tenseal.tensors.ckksvector.CKKSVector object at 0x7fd9a82d16a0>,\n",
       "          <tenseal.tensors.ckksvector.CKKSVector object at 0x7fd9a82d12b0>,\n",
       "          <tenseal.tensors.ckksvector.CKKSVector object at 0x7fd9a82d2090>],\n",
       "         [<tenseal.tensors.ckksvector.CKKSVector object at 0x7fd9a82d1550>,\n",
       "          <tenseal.tensors.ckksvector.CKKSVector object at 0x7fd9a82d0a70>,\n",
       "          <tenseal.tensors.ckksvector.CKKSVector object at 0x7fd9a82d1880>,\n",
       "          <tenseal.tensors.ckksvector.CKKSVector object at 0x7fd9a82d3b30>,\n",
       "          <tenseal.tensors.ckksvector.CKKSVector object at 0x7fd9a82d2ea0>,\n",
       "          <tenseal.tensors.ckksvector.CKKSVector object at 0x7fd9a82d3920>,\n",
       "          <tenseal.tensors.ckksvector.CKKSVector object at 0x7fd9a82d3950>,\n",
       "          <tenseal.tensors.ckksvector.CKKSVector object at 0x7fd9a82d3c80>,\n",
       "          <tenseal.tensors.ckksvector.CKKSVector object at 0x7fd9a82d39b0>,\n",
       "          <tenseal.tensors.ckksvector.CKKSVector object at 0x7fd9a82d0bc0>],\n",
       "         [<tenseal.tensors.ckksvector.CKKSVector object at 0x7fd9a82d01a0>,\n",
       "          <tenseal.tensors.ckksvector.CKKSVector object at 0x7fd9a82d04a0>,\n",
       "          <tenseal.tensors.ckksvector.CKKSVector object at 0x7fd9a82d3a10>,\n",
       "          <tenseal.tensors.ckksvector.CKKSVector object at 0x7fd9a82d1c40>,\n",
       "          <tenseal.tensors.ckksvector.CKKSVector object at 0x7fd9a82d2f00>,\n",
       "          <tenseal.tensors.ckksvector.CKKSVector object at 0x7fd9a82d0410>,\n",
       "          <tenseal.tensors.ckksvector.CKKSVector object at 0x7fd9a82d39e0>,\n",
       "          <tenseal.tensors.ckksvector.CKKSVector object at 0x7fd9a82d2480>,\n",
       "          <tenseal.tensors.ckksvector.CKKSVector object at 0x7fd9a82d3500>,\n",
       "          <tenseal.tensors.ckksvector.CKKSVector object at 0x7fd9a82d3aa0>],\n",
       "         [<tenseal.tensors.ckksvector.CKKSVector object at 0x7fd9a82d3f80>,\n",
       "          <tenseal.tensors.ckksvector.CKKSVector object at 0x7fd9a82d3890>,\n",
       "          <tenseal.tensors.ckksvector.CKKSVector object at 0x7fd9a82d0f50>,\n",
       "          <tenseal.tensors.ckksvector.CKKSVector object at 0x7fd9a82d3230>,\n",
       "          <tenseal.tensors.ckksvector.CKKSVector object at 0x7fd9a82d01d0>,\n",
       "          <tenseal.tensors.ckksvector.CKKSVector object at 0x7fd9a82d18e0>,\n",
       "          <tenseal.tensors.ckksvector.CKKSVector object at 0x7fd9a82d3590>,\n",
       "          <tenseal.tensors.ckksvector.CKKSVector object at 0x7fd9a82d0e30>,\n",
       "          <tenseal.tensors.ckksvector.CKKSVector object at 0x7fd9a82d1e50>,\n",
       "          <tenseal.tensors.ckksvector.CKKSVector object at 0x7fd9a82d18b0>],\n",
       "         [<tenseal.tensors.ckksvector.CKKSVector object at 0x7fd9a82d1b50>,\n",
       "          <tenseal.tensors.ckksvector.CKKSVector object at 0x7fd9a81526f0>,\n",
       "          <tenseal.tensors.ckksvector.CKKSVector object at 0x7fd9a81519d0>,\n",
       "          <tenseal.tensors.ckksvector.CKKSVector object at 0x7fd9a8150170>,\n",
       "          <tenseal.tensors.ckksvector.CKKSVector object at 0x7fd9a8152660>,\n",
       "          <tenseal.tensors.ckksvector.CKKSVector object at 0x7fd9a8150cb0>,\n",
       "          <tenseal.tensors.ckksvector.CKKSVector object at 0x7fd9a81524e0>,\n",
       "          <tenseal.tensors.ckksvector.CKKSVector object at 0x7fd9a81536e0>,\n",
       "          <tenseal.tensors.ckksvector.CKKSVector object at 0x7fd9a81521b0>,\n",
       "          <tenseal.tensors.ckksvector.CKKSVector object at 0x7fd9a8153b90>],\n",
       "         [<tenseal.tensors.ckksvector.CKKSVector object at 0x7fd9a8153800>,\n",
       "          <tenseal.tensors.ckksvector.CKKSVector object at 0x7fd9a8150fb0>,\n",
       "          <tenseal.tensors.ckksvector.CKKSVector object at 0x7fd9a8153d40>,\n",
       "          <tenseal.tensors.ckksvector.CKKSVector object at 0x7fd9a8151100>,\n",
       "          <tenseal.tensors.ckksvector.CKKSVector object at 0x7fda214bb620>,\n",
       "          <tenseal.tensors.ckksvector.CKKSVector object at 0x7fd9a8151eb0>,\n",
       "          <tenseal.tensors.ckksvector.CKKSVector object at 0x7fd9a8150bf0>,\n",
       "          <tenseal.tensors.ckksvector.CKKSVector object at 0x7fd9a81506b0>,\n",
       "          <tenseal.tensors.ckksvector.CKKSVector object at 0x7fd9a8151010>,\n",
       "          <tenseal.tensors.ckksvector.CKKSVector object at 0x7fd9a81539e0>],\n",
       "         [<tenseal.tensors.ckksvector.CKKSVector object at 0x7fd9a8152780>,\n",
       "          <tenseal.tensors.ckksvector.CKKSVector object at 0x7fd9a81500e0>,\n",
       "          <tenseal.tensors.ckksvector.CKKSVector object at 0x7fd9a8150590>,\n",
       "          <tenseal.tensors.ckksvector.CKKSVector object at 0x7fd9a8150560>,\n",
       "          <tenseal.tensors.ckksvector.CKKSVector object at 0x7fd9a8151f10>,\n",
       "          <tenseal.tensors.ckksvector.CKKSVector object at 0x7fd9a8153710>,\n",
       "          <tenseal.tensors.ckksvector.CKKSVector object at 0x7fd9a81527e0>,\n",
       "          <tenseal.tensors.ckksvector.CKKSVector object at 0x7fd9a8152a50>,\n",
       "          <tenseal.tensors.ckksvector.CKKSVector object at 0x7fd9a8150ef0>,\n",
       "          <tenseal.tensors.ckksvector.CKKSVector object at 0x7fd9a8150ce0>],\n",
       "         [<tenseal.tensors.ckksvector.CKKSVector object at 0x7fd9a8152180>,\n",
       "          <tenseal.tensors.ckksvector.CKKSVector object at 0x7fd9a8152720>,\n",
       "          <tenseal.tensors.ckksvector.CKKSVector object at 0x7fd9a8151dc0>,\n",
       "          <tenseal.tensors.ckksvector.CKKSVector object at 0x7fd9a8152ea0>,\n",
       "          <tenseal.tensors.ckksvector.CKKSVector object at 0x7fd9a8153ec0>,\n",
       "          <tenseal.tensors.ckksvector.CKKSVector object at 0x7fd9a8151310>,\n",
       "          <tenseal.tensors.ckksvector.CKKSVector object at 0x7fd9a81537a0>,\n",
       "          <tenseal.tensors.ckksvector.CKKSVector object at 0x7fd9a8150dd0>,\n",
       "          <tenseal.tensors.ckksvector.CKKSVector object at 0x7fd9a8153650>,\n",
       "          <tenseal.tensors.ckksvector.CKKSVector object at 0x7fd9a8150260>],\n",
       "         [<tenseal.tensors.ckksvector.CKKSVector object at 0x7fd9a8150320>,\n",
       "          <tenseal.tensors.ckksvector.CKKSVector object at 0x7fd9a81536b0>,\n",
       "          <tenseal.tensors.ckksvector.CKKSVector object at 0x7fd9a81501d0>,\n",
       "          <tenseal.tensors.ckksvector.CKKSVector object at 0x7fd9a8153bc0>,\n",
       "          <tenseal.tensors.ckksvector.CKKSVector object at 0x7fd9a8150650>,\n",
       "          <tenseal.tensors.ckksvector.CKKSVector object at 0x7fd9a8152990>,\n",
       "          <tenseal.tensors.ckksvector.CKKSVector object at 0x7fd9a81526c0>,\n",
       "          <tenseal.tensors.ckksvector.CKKSVector object at 0x7fd9a81525d0>,\n",
       "          <tenseal.tensors.ckksvector.CKKSVector object at 0x7fd9a81511c0>,\n",
       "          <tenseal.tensors.ckksvector.CKKSVector object at 0x7fd9a8150740>]],\n",
       "        dtype=object),\n",
       "  array([[<tenseal.tensors.ckksvector.CKKSVector object at 0x7fd9a8153830>,\n",
       "          <tenseal.tensors.ckksvector.CKKSVector object at 0x7fd9a81503b0>,\n",
       "          <tenseal.tensors.ckksvector.CKKSVector object at 0x7fd9a8151d60>,\n",
       "          <tenseal.tensors.ckksvector.CKKSVector object at 0x7fd9a8150110>,\n",
       "          <tenseal.tensors.ckksvector.CKKSVector object at 0x7fd9a8153b30>,\n",
       "          <tenseal.tensors.ckksvector.CKKSVector object at 0x7fd9a8151970>,\n",
       "          <tenseal.tensors.ckksvector.CKKSVector object at 0x7fd9a8150230>,\n",
       "          <tenseal.tensors.ckksvector.CKKSVector object at 0x7fd9a8152630>,\n",
       "          <tenseal.tensors.ckksvector.CKKSVector object at 0x7fd9a8150140>,\n",
       "          <tenseal.tensors.ckksvector.CKKSVector object at 0x7fd9a8150e60>],\n",
       "         [<tenseal.tensors.ckksvector.CKKSVector object at 0x7fd9a81537d0>,\n",
       "          <tenseal.tensors.ckksvector.CKKSVector object at 0x7fd9a8150620>,\n",
       "          <tenseal.tensors.ckksvector.CKKSVector object at 0x7fda21410680>,\n",
       "          <tenseal.tensors.ckksvector.CKKSVector object at 0x7fda21411400>,\n",
       "          <tenseal.tensors.ckksvector.CKKSVector object at 0x7fda214112b0>,\n",
       "          <tenseal.tensors.ckksvector.CKKSVector object at 0x7fda21412a50>,\n",
       "          <tenseal.tensors.ckksvector.CKKSVector object at 0x7fda214137a0>,\n",
       "          <tenseal.tensors.ckksvector.CKKSVector object at 0x7fda21410e60>,\n",
       "          <tenseal.tensors.ckksvector.CKKSVector object at 0x7fda21410470>,\n",
       "          <tenseal.tensors.ckksvector.CKKSVector object at 0x7fda21413320>],\n",
       "         [<tenseal.tensors.ckksvector.CKKSVector object at 0x7fda21410d40>,\n",
       "          <tenseal.tensors.ckksvector.CKKSVector object at 0x7fda21412f30>,\n",
       "          <tenseal.tensors.ckksvector.CKKSVector object at 0x7fda214101d0>,\n",
       "          <tenseal.tensors.ckksvector.CKKSVector object at 0x7fda21412630>,\n",
       "          <tenseal.tensors.ckksvector.CKKSVector object at 0x7fda214105f0>,\n",
       "          <tenseal.tensors.ckksvector.CKKSVector object at 0x7fda214127e0>,\n",
       "          <tenseal.tensors.ckksvector.CKKSVector object at 0x7fda21410f50>,\n",
       "          <tenseal.tensors.ckksvector.CKKSVector object at 0x7fda21411760>,\n",
       "          <tenseal.tensors.ckksvector.CKKSVector object at 0x7fda214135f0>,\n",
       "          <tenseal.tensors.ckksvector.CKKSVector object at 0x7fda214107d0>],\n",
       "         [<tenseal.tensors.ckksvector.CKKSVector object at 0x7fda21411bb0>,\n",
       "          <tenseal.tensors.ckksvector.CKKSVector object at 0x7fda21411a30>,\n",
       "          <tenseal.tensors.ckksvector.CKKSVector object at 0x7fda21411b80>,\n",
       "          <tenseal.tensors.ckksvector.CKKSVector object at 0x7fda21412330>,\n",
       "          <tenseal.tensors.ckksvector.CKKSVector object at 0x7fda21412180>,\n",
       "          <tenseal.tensors.ckksvector.CKKSVector object at 0x7fda214119a0>,\n",
       "          <tenseal.tensors.ckksvector.CKKSVector object at 0x7fda21410f20>,\n",
       "          <tenseal.tensors.ckksvector.CKKSVector object at 0x7fda21410920>,\n",
       "          <tenseal.tensors.ckksvector.CKKSVector object at 0x7fda21410fb0>,\n",
       "          <tenseal.tensors.ckksvector.CKKSVector object at 0x7fda21412480>],\n",
       "         [<tenseal.tensors.ckksvector.CKKSVector object at 0x7fda21412b10>,\n",
       "          <tenseal.tensors.ckksvector.CKKSVector object at 0x7fda21410ec0>,\n",
       "          <tenseal.tensors.ckksvector.CKKSVector object at 0x7fda21412c30>,\n",
       "          <tenseal.tensors.ckksvector.CKKSVector object at 0x7fda21411850>,\n",
       "          <tenseal.tensors.ckksvector.CKKSVector object at 0x7fda21411ac0>,\n",
       "          <tenseal.tensors.ckksvector.CKKSVector object at 0x7fda214134a0>,\n",
       "          <tenseal.tensors.ckksvector.CKKSVector object at 0x7fda214138f0>,\n",
       "          <tenseal.tensors.ckksvector.CKKSVector object at 0x7fda21413800>,\n",
       "          <tenseal.tensors.ckksvector.CKKSVector object at 0x7fda21412db0>,\n",
       "          <tenseal.tensors.ckksvector.CKKSVector object at 0x7fda21413e30>],\n",
       "         [<tenseal.tensors.ckksvector.CKKSVector object at 0x7fda21413ec0>,\n",
       "          <tenseal.tensors.ckksvector.CKKSVector object at 0x7fda21413ce0>,\n",
       "          <tenseal.tensors.ckksvector.CKKSVector object at 0x7fda21412cc0>,\n",
       "          <tenseal.tensors.ckksvector.CKKSVector object at 0x7fda21412c60>,\n",
       "          <tenseal.tensors.ckksvector.CKKSVector object at 0x7fda21413440>,\n",
       "          <tenseal.tensors.ckksvector.CKKSVector object at 0x7fda21411fd0>,\n",
       "          <tenseal.tensors.ckksvector.CKKSVector object at 0x7fda214100e0>,\n",
       "          <tenseal.tensors.ckksvector.CKKSVector object at 0x7fda214120f0>,\n",
       "          <tenseal.tensors.ckksvector.CKKSVector object at 0x7fda21412210>,\n",
       "          <tenseal.tensors.ckksvector.CKKSVector object at 0x7fda214103e0>],\n",
       "         [<tenseal.tensors.ckksvector.CKKSVector object at 0x7fda21410290>,\n",
       "          <tenseal.tensors.ckksvector.CKKSVector object at 0x7fda21413fe0>,\n",
       "          <tenseal.tensors.ckksvector.CKKSVector object at 0x7fda21410080>,\n",
       "          <tenseal.tensors.ckksvector.CKKSVector object at 0x7fda21412270>,\n",
       "          <tenseal.tensors.ckksvector.CKKSVector object at 0x7fda214107a0>,\n",
       "          <tenseal.tensors.ckksvector.CKKSVector object at 0x7fda214109b0>,\n",
       "          <tenseal.tensors.ckksvector.CKKSVector object at 0x7fda21411790>,\n",
       "          <tenseal.tensors.ckksvector.CKKSVector object at 0x7fda214122a0>,\n",
       "          <tenseal.tensors.ckksvector.CKKSVector object at 0x7fda21410620>,\n",
       "          <tenseal.tensors.ckksvector.CKKSVector object at 0x7fda21413350>],\n",
       "         [<tenseal.tensors.ckksvector.CKKSVector object at 0x7fda21411310>,\n",
       "          <tenseal.tensors.ckksvector.CKKSVector object at 0x7fda21411490>,\n",
       "          <tenseal.tensors.ckksvector.CKKSVector object at 0x7fda21410c50>,\n",
       "          <tenseal.tensors.ckksvector.CKKSVector object at 0x7fda21413050>,\n",
       "          <tenseal.tensors.ckksvector.CKKSVector object at 0x7fda21410e30>,\n",
       "          <tenseal.tensors.ckksvector.CKKSVector object at 0x7fda21412030>,\n",
       "          <tenseal.tensors.ckksvector.CKKSVector object at 0x7fda21412720>,\n",
       "          <tenseal.tensors.ckksvector.CKKSVector object at 0x7fda21412390>,\n",
       "          <tenseal.tensors.ckksvector.CKKSVector object at 0x7fda21410710>,\n",
       "          <tenseal.tensors.ckksvector.CKKSVector object at 0x7fda21413bc0>],\n",
       "         [<tenseal.tensors.ckksvector.CKKSVector object at 0x7fda21411040>,\n",
       "          <tenseal.tensors.ckksvector.CKKSVector object at 0x7fda21410e90>,\n",
       "          <tenseal.tensors.ckksvector.CKKSVector object at 0x7fda21410f80>,\n",
       "          <tenseal.tensors.ckksvector.CKKSVector object at 0x7fda21412870>,\n",
       "          <tenseal.tensors.ckksvector.CKKSVector object at 0x7fda214118b0>,\n",
       "          <tenseal.tensors.ckksvector.CKKSVector object at 0x7fda21411dc0>,\n",
       "          <tenseal.tensors.ckksvector.CKKSVector object at 0x7fda21412de0>,\n",
       "          <tenseal.tensors.ckksvector.CKKSVector object at 0x7fda21412ba0>,\n",
       "          <tenseal.tensors.ckksvector.CKKSVector object at 0x7fda21411f40>,\n",
       "          <tenseal.tensors.ckksvector.CKKSVector object at 0x7fda21410bf0>],\n",
       "         [<tenseal.tensors.ckksvector.CKKSVector object at 0x7fda21413f80>,\n",
       "          <tenseal.tensors.ckksvector.CKKSVector object at 0x7fda214108c0>,\n",
       "          <tenseal.tensors.ckksvector.CKKSVector object at 0x7fda214105c0>,\n",
       "          <tenseal.tensors.ckksvector.CKKSVector object at 0x7fda214115b0>,\n",
       "          <tenseal.tensors.ckksvector.CKKSVector object at 0x7fda21410110>,\n",
       "          <tenseal.tensors.ckksvector.CKKSVector object at 0x7fda214108f0>,\n",
       "          <tenseal.tensors.ckksvector.CKKSVector object at 0x7fda21412fc0>,\n",
       "          <tenseal.tensors.ckksvector.CKKSVector object at 0x7fda21412090>,\n",
       "          <tenseal.tensors.ckksvector.CKKSVector object at 0x7fda21411100>,\n",
       "          <tenseal.tensors.ckksvector.CKKSVector object at 0x7fda21413860>]],\n",
       "        dtype=object)],\n",
       " [array([[<tenseal.tensors.ckksvector.CKKSVector object at 0x7fda214128d0>,\n",
       "          <tenseal.tensors.ckksvector.CKKSVector object at 0x7fda21410410>,\n",
       "          <tenseal.tensors.ckksvector.CKKSVector object at 0x7fda21410bc0>,\n",
       "          <tenseal.tensors.ckksvector.CKKSVector object at 0x7fda21412930>,\n",
       "          <tenseal.tensors.ckksvector.CKKSVector object at 0x7fda21413680>],\n",
       "         [<tenseal.tensors.ckksvector.CKKSVector object at 0x7fda214134d0>,\n",
       "          <tenseal.tensors.ckksvector.CKKSVector object at 0x7fda21412e10>,\n",
       "          <tenseal.tensors.ckksvector.CKKSVector object at 0x7fda21412690>,\n",
       "          <tenseal.tensors.ckksvector.CKKSVector object at 0x7fda21413620>,\n",
       "          <tenseal.tensors.ckksvector.CKKSVector object at 0x7fda21413950>],\n",
       "         [<tenseal.tensors.ckksvector.CKKSVector object at 0x7fda214104a0>,\n",
       "          <tenseal.tensors.ckksvector.CKKSVector object at 0x7fda21412ae0>,\n",
       "          <tenseal.tensors.ckksvector.CKKSVector object at 0x7fda21412540>,\n",
       "          <tenseal.tensors.ckksvector.CKKSVector object at 0x7fda21413560>,\n",
       "          <tenseal.tensors.ckksvector.CKKSVector object at 0x7fda21410fe0>],\n",
       "         [<tenseal.tensors.ckksvector.CKKSVector object at 0x7fda21410170>,\n",
       "          <tenseal.tensors.ckksvector.CKKSVector object at 0x7fda21412ff0>,\n",
       "          <tenseal.tensors.ckksvector.CKKSVector object at 0x7fda21411a00>,\n",
       "          <tenseal.tensors.ckksvector.CKKSVector object at 0x7fda21412450>,\n",
       "          <tenseal.tensors.ckksvector.CKKSVector object at 0x7fda21411e80>],\n",
       "         [<tenseal.tensors.ckksvector.CKKSVector object at 0x7fda21410d70>,\n",
       "          <tenseal.tensors.ckksvector.CKKSVector object at 0x7fda21412600>,\n",
       "          <tenseal.tensors.ckksvector.CKKSVector object at 0x7fda214139b0>,\n",
       "          <tenseal.tensors.ckksvector.CKKSVector object at 0x7fda21413080>,\n",
       "          <tenseal.tensors.ckksvector.CKKSVector object at 0x7fda21412d50>]],\n",
       "        dtype=object),\n",
       "  array([[<tenseal.tensors.ckksvector.CKKSVector object at 0x7fda214111f0>,\n",
       "          <tenseal.tensors.ckksvector.CKKSVector object at 0x7fda21412a80>,\n",
       "          <tenseal.tensors.ckksvector.CKKSVector object at 0x7fda21413e00>,\n",
       "          <tenseal.tensors.ckksvector.CKKSVector object at 0x7fda21413530>,\n",
       "          <tenseal.tensors.ckksvector.CKKSVector object at 0x7fda21412b40>],\n",
       "         [<tenseal.tensors.ckksvector.CKKSVector object at 0x7fda21410ad0>,\n",
       "          <tenseal.tensors.ckksvector.CKKSVector object at 0x7fda214121b0>,\n",
       "          <tenseal.tensors.ckksvector.CKKSVector object at 0x7fda21412d80>,\n",
       "          <tenseal.tensors.ckksvector.CKKSVector object at 0x7fda21410050>,\n",
       "          <tenseal.tensors.ckksvector.CKKSVector object at 0x7fda21412c00>],\n",
       "         [<tenseal.tensors.ckksvector.CKKSVector object at 0x7fda214128a0>,\n",
       "          <tenseal.tensors.ckksvector.CKKSVector object at 0x7fda21413c80>,\n",
       "          <tenseal.tensors.ckksvector.CKKSVector object at 0x7fda21413b30>,\n",
       "          <tenseal.tensors.ckksvector.CKKSVector object at 0x7fda21410890>,\n",
       "          <tenseal.tensors.ckksvector.CKKSVector object at 0x7fda214129c0>],\n",
       "         [<tenseal.tensors.ckksvector.CKKSVector object at 0x7fda21411220>,\n",
       "          <tenseal.tensors.ckksvector.CKKSVector object at 0x7fda214139e0>,\n",
       "          <tenseal.tensors.ckksvector.CKKSVector object at 0x7fda21411b20>,\n",
       "          <tenseal.tensors.ckksvector.CKKSVector object at 0x7fda214111c0>,\n",
       "          <tenseal.tensors.ckksvector.CKKSVector object at 0x7fda21412900>],\n",
       "         [<tenseal.tensors.ckksvector.CKKSVector object at 0x7fda214129f0>,\n",
       "          <tenseal.tensors.ckksvector.CKKSVector object at 0x7fda21412f90>,\n",
       "          <tenseal.tensors.ckksvector.CKKSVector object at 0x7fda21410e00>,\n",
       "          <tenseal.tensors.ckksvector.CKKSVector object at 0x7fda21413f20>,\n",
       "          <tenseal.tensors.ckksvector.CKKSVector object at 0x7fda21413710>]],\n",
       "        dtype=object),\n",
       "  array([[<tenseal.tensors.ckksvector.CKKSVector object at 0x7fda21413fb0>,\n",
       "          <tenseal.tensors.ckksvector.CKKSVector object at 0x7fda21413c50>,\n",
       "          <tenseal.tensors.ckksvector.CKKSVector object at 0x7fda21410530>,\n",
       "          <tenseal.tensors.ckksvector.CKKSVector object at 0x7fda21411eb0>,\n",
       "          <tenseal.tensors.ckksvector.CKKSVector object at 0x7fda21411340>],\n",
       "         [<tenseal.tensors.ckksvector.CKKSVector object at 0x7fda21410a70>,\n",
       "          <tenseal.tensors.ckksvector.CKKSVector object at 0x7fda214131a0>,\n",
       "          <tenseal.tensors.ckksvector.CKKSVector object at 0x7fda214110d0>,\n",
       "          <tenseal.tensors.ckksvector.CKKSVector object at 0x7fda21413500>,\n",
       "          <tenseal.tensors.ckksvector.CKKSVector object at 0x7fda21410a40>],\n",
       "         [<tenseal.tensors.ckksvector.CKKSVector object at 0x7fda21411910>,\n",
       "          <tenseal.tensors.ckksvector.CKKSVector object at 0x7fda21412780>,\n",
       "          <tenseal.tensors.ckksvector.CKKSVector object at 0x7fda21410b30>,\n",
       "          <tenseal.tensors.ckksvector.CKKSVector object at 0x7fda214106b0>,\n",
       "          <tenseal.tensors.ckksvector.CKKSVector object at 0x7fda21410c20>],\n",
       "         [<tenseal.tensors.ckksvector.CKKSVector object at 0x7fda21411070>,\n",
       "          <tenseal.tensors.ckksvector.CKKSVector object at 0x7fda21411250>,\n",
       "          <tenseal.tensors.ckksvector.CKKSVector object at 0x7fda21410560>,\n",
       "          <tenseal.tensors.ckksvector.CKKSVector object at 0x7fda214103b0>,\n",
       "          <tenseal.tensors.ckksvector.CKKSVector object at 0x7fda21410950>],\n",
       "         [<tenseal.tensors.ckksvector.CKKSVector object at 0x7fda21413b60>,\n",
       "          <tenseal.tensors.ckksvector.CKKSVector object at 0x7fda214132c0>,\n",
       "          <tenseal.tensors.ckksvector.CKKSVector object at 0x7fda21410440>,\n",
       "          <tenseal.tensors.ckksvector.CKKSVector object at 0x7fda21413290>,\n",
       "          <tenseal.tensors.ckksvector.CKKSVector object at 0x7fda21413bf0>]],\n",
       "        dtype=object),\n",
       "  array([[<tenseal.tensors.ckksvector.CKKSVector object at 0x7fda21412f60>,\n",
       "          <tenseal.tensors.ckksvector.CKKSVector object at 0x7fda214102f0>,\n",
       "          <tenseal.tensors.ckksvector.CKKSVector object at 0x7fda214110a0>,\n",
       "          <tenseal.tensors.ckksvector.CKKSVector object at 0x7fda21411160>,\n",
       "          <tenseal.tensors.ckksvector.CKKSVector object at 0x7fda214123f0>],\n",
       "         [<tenseal.tensors.ckksvector.CKKSVector object at 0x7fda21410ef0>,\n",
       "          <tenseal.tensors.ckksvector.CKKSVector object at 0x7fda214113a0>,\n",
       "          <tenseal.tensors.ckksvector.CKKSVector object at 0x7fda21410740>,\n",
       "          <tenseal.tensors.ckksvector.CKKSVector object at 0x7fda21413a70>,\n",
       "          <tenseal.tensors.ckksvector.CKKSVector object at 0x7fda21413d70>],\n",
       "         [<tenseal.tensors.ckksvector.CKKSVector object at 0x7fda21413d40>,\n",
       "          <tenseal.tensors.ckksvector.CKKSVector object at 0x7fda21413380>,\n",
       "          <tenseal.tensors.ckksvector.CKKSVector object at 0x7fda21411a90>,\n",
       "          <tenseal.tensors.ckksvector.CKKSVector object at 0x7fda21411ca0>,\n",
       "          <tenseal.tensors.ckksvector.CKKSVector object at 0x7fda21412cf0>],\n",
       "         [<tenseal.tensors.ckksvector.CKKSVector object at 0x7fda214133b0>,\n",
       "          <tenseal.tensors.ckksvector.CKKSVector object at 0x7fda21411be0>,\n",
       "          <tenseal.tensors.ckksvector.CKKSVector object at 0x7fda214106e0>,\n",
       "          <tenseal.tensors.ckksvector.CKKSVector object at 0x7fda21410860>,\n",
       "          <tenseal.tensors.ckksvector.CKKSVector object at 0x7fda21412e70>],\n",
       "         [<tenseal.tensors.ckksvector.CKKSVector object at 0x7fda214116d0>,\n",
       "          <tenseal.tensors.ckksvector.CKKSVector object at 0x7fda214125a0>,\n",
       "          <tenseal.tensors.ckksvector.CKKSVector object at 0x7fda21412570>,\n",
       "          <tenseal.tensors.ckksvector.CKKSVector object at 0x7fda21413410>,\n",
       "          <tenseal.tensors.ckksvector.CKKSVector object at 0x7fda21410200>]],\n",
       "        dtype=object),\n",
       "  array([[<tenseal.tensors.ckksvector.CKKSVector object at 0x7fda21410500>,\n",
       "          <tenseal.tensors.ckksvector.CKKSVector object at 0x7fda21413ad0>,\n",
       "          <tenseal.tensors.ckksvector.CKKSVector object at 0x7fda21410d10>,\n",
       "          <tenseal.tensors.ckksvector.CKKSVector object at 0x7fda21412d20>,\n",
       "          <tenseal.tensors.ckksvector.CKKSVector object at 0x7fda21410b60>],\n",
       "         [<tenseal.tensors.ckksvector.CKKSVector object at 0x7fda21413da0>,\n",
       "          <tenseal.tensors.ckksvector.CKKSVector object at 0x7fda21410230>,\n",
       "          <tenseal.tensors.ckksvector.CKKSVector object at 0x7fda21410b00>,\n",
       "          <tenseal.tensors.ckksvector.CKKSVector object at 0x7fda21412990>,\n",
       "          <tenseal.tensors.ckksvector.CKKSVector object at 0x7fda21413b90>],\n",
       "         [<tenseal.tensors.ckksvector.CKKSVector object at 0x7fda21413e60>,\n",
       "          <tenseal.tensors.ckksvector.CKKSVector object at 0x7fda21413b00>,\n",
       "          <tenseal.tensors.ckksvector.CKKSVector object at 0x7fda214130e0>,\n",
       "          <tenseal.tensors.ckksvector.CKKSVector object at 0x7fda21410320>,\n",
       "          <tenseal.tensors.ckksvector.CKKSVector object at 0x7fda21412810>],\n",
       "         [<tenseal.tensors.ckksvector.CKKSVector object at 0x7fda21413f50>,\n",
       "          <tenseal.tensors.ckksvector.CKKSVector object at 0x7fda21410260>,\n",
       "          <tenseal.tensors.ckksvector.CKKSVector object at 0x7fda21412420>,\n",
       "          <tenseal.tensors.ckksvector.CKKSVector object at 0x7fda21412960>,\n",
       "          <tenseal.tensors.ckksvector.CKKSVector object at 0x7fda21412360>],\n",
       "         [<tenseal.tensors.ckksvector.CKKSVector object at 0x7fda21411640>,\n",
       "          <tenseal.tensors.ckksvector.CKKSVector object at 0x7fda214127b0>,\n",
       "          <tenseal.tensors.ckksvector.CKKSVector object at 0x7fda214115e0>,\n",
       "          <tenseal.tensors.ckksvector.CKKSVector object at 0x7fda214124e0>,\n",
       "          <tenseal.tensors.ckksvector.CKKSVector object at 0x7fda21411670>]],\n",
       "        dtype=object)]]"
      ]
     },
     "execution_count": 38,
     "metadata": {},
     "output_type": "execute_result"
    }
   ],
   "source": [
    "dog_images"
   ]
  },
  {
   "cell_type": "code",
   "execution_count": 39,
   "metadata": {},
   "outputs": [],
   "source": [
    "def refresh(value):\n",
    "    # print(\"Value: \", value)\n",
    "    decrypted_value = value.decrypt(secret_key)[0]\n",
    "    return ts.ckks_vector(context=context, vector=[decrypted_value])"
   ]
  },
  {
   "cell_type": "code",
   "execution_count": 40,
   "metadata": {},
   "outputs": [],
   "source": [
    "# def localizeExtremumViaQuadraticFit(i, j, image_index, octave_index, num_intervals, dog_images_in_octave, sigma, contrast_threshold, image_border_width, eigenvalue_ratio=10, num_attempts_until_convergence=1, cmp = None):\n",
    "#     \"\"\"Iteratively refine pixel positions of scale-space extrema via quadratic fit around each extremum's neighbors\n",
    "#     \"\"\"\n",
    "#     print(\"Num attempts uwu: \", num_attempts_until_convergence)\n",
    "#     extremum_is_outside_image = False\n",
    "#     image_shape = dog_images_in_octave[0].shape\n",
    "#     extremum_update = np.array([1, 1, 1], dtype='float32')  # (di, dj, ds)\n",
    "#         # need to convert from uint8 to float32 to compute derivatives and need to rescale pixel values to [0, 1] to apply Lowe's thresholds\n",
    "#     first_image, second_image, third_image = dog_images_in_octave[image_index-1:image_index+2]\n",
    "#     pixel_cube = np.stack([first_image[i-1:i+2, j-1:j+2],\n",
    "#                         second_image[i-1:i+2, j-1:j+2],\n",
    "#                         third_image[i-1:i+2, j-1:j+2]]) * (1 / 255)\n",
    "#     print(\"Pixel cube shape: \", pixel_cube.shape)\n",
    "#     # print(\"Pixel cube: \", pixel_cube)\n",
    "#     gradient = computeGradientAtCenterPixel(pixel_cube)\n",
    "#     hessian = computeHessianAtCenterPixel(pixel_cube)\n",
    "#     ltsq_val, denominator = secLTSQ(hessian, gradient)\n",
    "#     # ltsq_val = ltsq_val[0]\n",
    "#     print(\"LTSQ val: \", ltsq_val[0].decrypt(secret_key))\n",
    "#     extremum_update = -ltsq_val\n",
    "\n",
    "#     extremum_update = [extremum_update[i].decrypt(secret_key)[0] for i in range(3)]\n",
    "#     extremum_update = [ts.ckks_vector(context=context, vector=[extremum_update[i]]) for i in range(3)]\n",
    "#     extremum_update = np.array(extremum_update, dtype=ts.CKKSVector)\n",
    "\n",
    "#     # cmp = lambda x, a, b: a < x < b\n",
    "#     # condition1 =  abs(extremum_update[0]) < 0.5 * denominator and abs(extremum_update[1]) < 0.5 * denominator and abs(extremum_update[2]) < 0.5 * denominator\n",
    "#     condition1 = (cmp(extremum_update[0], -0.5 * denominator, 0.5 * denominator) \n",
    "#                     * cmp(extremum_update[1], -0.5 * denominator, 0.5 * denominator) \n",
    "#                     * cmp(extremum_update[2], -0.5 * denominator, 0.5 * denominator))\n",
    "#     functionValueAtUpdatedExtremum = pixel_cube[1, 1, 1] * denominator + 0.5 * np.dot(gradient, extremum_update)\n",
    "\n",
    "#     functionValueAtUpdatedExtremum = refresh(functionValueAtUpdatedExtremum)\n",
    "    \n",
    "#     # condition2 = abs(functionValueAtUpdatedExtremum) * num_intervals >= contrast_threshold * denominator\n",
    "#     condition2 = -cmp(functionValueAtUpdatedExtremum * num_intervals, -contrast_threshold * denominator, -contrast_threshold * denominator) + 1\n",
    "    \n",
    "#     xy_hessian = hessian[:2, :2]\n",
    "#     xy_hessian_trace = secTrace(xy_hessian)\n",
    "#     xy_hessian_det = secDet2x2(xy_hessian)\n",
    "#     # condition3 =  xy_hessian_det > 0 and eigenvalue_ratio * (xy_hessian_trace ** 2) < ((eigenvalue_ratio + 1) ** 2) * xy_hessian_det\n",
    "#     condition3 = cmp(xy_hessian_det, 0, 10000) * cmp(eigenvalue_ratio * (xy_hessian_trace ** 2), -10000, ((eigenvalue_ratio + 1) ** 2) * xy_hessian_det)\n",
    "#     # Contrast check passed -- construct and return OpenCV KeyPoint object\n",
    "#     # Ignoring extram_update[2] in size, because it will be of the order 1 - 1.2 which is negligible\n",
    "#     keypoint = EncKeyPoint(\n",
    "#         is_keypoint_present = condition1 * condition2 * condition3,\n",
    "#         size = sigma * (2 ** ((image_index) / (num_intervals))) * (2 ** (octave_index + 1)),\n",
    "#         # response= secAbs(functionValueAtUpdatedExtremum) # check if needed later\n",
    "#         response= (functionValueAtUpdatedExtremum)\n",
    "#     )\n",
    "#     # keypoint.pt = ((j + extremum_update[0]) * (2 ** octave_index), (i + extremum_update[1]) * (2 ** octave_index))\n",
    "#     # keypoint.octave = octave_index + image_index * (2 ** 8) + int(round((extremum_update[2] + 0.5) * 255)) * (2 ** 16)\n",
    "#     # keypoint.size = sigma * (2 ** ((image_index + extremum_update[2]) / np.float32(num_intervals))) * (2 ** (octave_index + 1))  # octave_index + 1 because the input image was doubled\n",
    "#     # keypoint.response = secAbs(functionValueAtUpdatedExtremum)\n",
    "#     return keypoint\n",
    "#     # return None"
   ]
  },
  {
   "cell_type": "code",
   "execution_count": 41,
   "metadata": {},
   "outputs": [],
   "source": [
    "# localizeExtremumViaQuadraticFit(image_border_width,image_border_width,1,0,num_intervals,dog_images[0],sigma,0.03,image_border_width, cmp=cmp)"
   ]
  },
  {
   "cell_type": "code",
   "execution_count": 42,
   "metadata": {},
   "outputs": [
    {
     "name": "stdout",
     "output_type": "stream",
     "text": [
      "Num attempts:  1\n",
      "Num attempts:  1\n",
      "Num attempts:  1\n",
      "Num attempts:  1\n",
      "Num attempts:  1\n",
      "Num attempts:  1\n",
      "Num attempts:  1\n",
      "Num attempts:  1\n",
      "Num attempts:  1\n",
      "Num attempts:  1\n",
      "Num attempts:  1\n",
      "Num attempts:  1\n",
      "Num attempts:  1\n",
      "Num attempts:  1\n",
      "Num attempts:  1\n",
      "Num attempts:  1\n",
      "Num attempts:  1\n",
      "Num attempts:  1\n",
      "Num attempts:  1\n",
      "Num attempts:  1\n",
      "Num attempts:  1\n",
      "Num attempts:  1\n",
      "Num attempts:  1\n",
      "Num attempts:  1\n",
      "Num attempts:  1\n",
      "Num attempts:  1\n",
      "Num attempts:  1\n",
      "Num attempts:  1\n",
      "Num attempts:  1\n",
      "Num attempts:  1\n",
      "Num attempts:  1\n",
      "Num attempts:  1\n",
      "Num attempts:  1\n",
      "Num attempts:  1\n",
      "Num attempts:  1\n",
      "Num attempts:  1\n",
      "Num attempts:  1\n",
      "Num attempts:  1\n",
      "Num attempts:  1\n",
      "Num attempts:  1\n",
      "Num attempts:  1\n",
      "Num attempts:  1\n",
      "Num attempts:  1\n",
      "Num attempts:  1\n",
      "Num attempts:  1\n",
      "Num attempts:  1\n",
      "Num attempts:  1\n",
      "Num attempts:  1\n",
      "Num attempts:  1\n",
      "Num attempts:  1\n",
      "Num attempts:  1\n",
      "Num attempts:  1\n",
      "Num attempts:  1\n",
      "Num attempts:  1\n",
      "Num attempts:  1\n",
      "Num attempts:  1\n",
      "Num attempts:  1\n",
      "Num attempts:  1\n",
      "Num attempts:  1\n",
      "Num attempts:  1\n",
      "Num attempts:  1\n",
      "Num attempts:  1\n",
      "Num attempts:  1\n",
      "Num attempts:  1\n",
      "Num attempts:  1\n",
      "Num attempts:  1\n",
      "Num attempts:  1\n",
      "Num attempts:  1\n",
      "Num attempts:  1\n",
      "Num attempts:  1\n",
      "Num attempts:  1\n",
      "Num attempts:  1\n",
      "Num attempts:  1\n",
      "Num attempts:  1\n",
      "Num attempts:  1\n",
      "Num attempts:  1\n",
      "Num attempts:  1\n",
      "Num attempts:  1\n",
      "Num attempts:  1\n",
      "Num attempts:  1\n",
      "Num attempts:  1\n",
      "Num attempts:  1\n",
      "Num attempts:  1\n",
      "Num attempts:  1\n",
      "Num attempts:  1\n",
      "Num attempts:  1\n",
      "Num attempts:  1\n",
      "Num attempts:  1\n",
      "Num attempts:  1\n",
      "Num attempts:  1\n",
      "Num attempts:  1\n",
      "Num attempts:  1\n",
      "Num attempts:  1\n",
      "Num attempts:  1\n",
      "Num attempts:  1\n",
      "Num attempts:  1\n",
      "Num attempts:  1\n",
      "Num attempts:  1\n",
      "Num attempts:  1\n",
      "Num attempts:  1\n",
      "Num attempts:  1\n",
      "Num attempts:  1\n",
      "Num attempts:  1\n",
      "Num attempts:  1\n",
      "Num attempts:  1\n",
      "Num attempts:  1\n",
      "Num attempts:  1\n",
      "Num attempts:  1\n",
      "Num attempts:  1\n",
      "Num attempts:  1\n",
      "Num attempts:  1\n",
      "Num attempts:  1\n",
      "Num attempts:  1\n",
      "Num attempts:  1\n",
      "Num attempts:  1\n",
      "Num attempts:  1\n",
      "Num attempts:  1\n",
      "Num attempts:  1\n",
      "Num attempts:  1\n",
      "Num attempts:  1\n",
      "Num attempts:  1\n",
      "Num attempts:  1\n",
      "Num attempts:  1\n",
      "Num attempts:  1\n",
      "Num attempts:  1\n",
      "Num attempts:  1\n",
      "Num attempts:  1\n",
      "Num attempts:  1\n",
      "Num attempts:  1\n",
      "Num attempts:  1\n",
      "Num attempts:  1\n",
      "Num attempts:  1\n",
      "Num attempts:  1\n",
      "Num attempts:  1\n",
      "Num attempts:  1\n",
      "Num attempts:  1\n",
      "Num attempts:  1\n",
      "Num attempts:  1\n",
      "Num attempts:  1\n",
      "Num attempts:  1\n",
      "Num attempts:  1\n",
      "Num attempts:  1\n",
      "Num attempts:  1\n",
      "Num attempts:  1\n",
      "Num attempts:  1\n",
      "Num attempts:  1\n",
      "Num attempts:  1\n",
      "Num attempts:  1\n",
      "Num attempts:  1\n",
      "Num attempts:  1\n",
      "Num attempts:  1\n",
      "Num attempts:  1\n",
      "Num attempts:  1\n",
      "Num attempts:  1\n",
      "Num attempts:  1\n",
      "Num attempts:  1\n",
      "Num attempts:  1\n",
      "Num attempts:  1\n",
      "Num attempts:  1\n",
      "Num attempts:  1\n",
      "Num attempts:  1\n",
      "Num attempts:  1\n",
      "Num attempts:  1\n",
      "Num attempts:  1\n",
      "Num attempts:  1\n",
      "Num attempts:  1\n",
      "Num attempts:  1\n",
      "Num attempts:  1\n",
      "Num attempts:  1\n",
      "Num attempts:  1\n",
      "Num attempts:  1\n",
      "Num attempts:  1\n",
      "Num attempts:  1\n",
      "Num attempts:  1\n",
      "Num attempts:  1\n",
      "Num attempts:  1\n",
      "Num attempts:  1\n",
      "Num attempts:  1\n",
      "Num attempts:  1\n",
      "Num attempts:  1\n",
      "Num attempts:  1\n",
      "Num attempts:  1\n",
      "Num attempts:  1\n",
      "Num attempts:  1\n",
      "Num attempts:  1\n",
      "Num attempts:  1\n",
      "Num attempts:  1\n",
      "Num attempts:  1\n",
      "Num attempts:  1\n",
      "Num attempts:  1\n",
      "Num attempts:  1\n",
      "Num attempts:  1\n",
      "Num attempts:  1\n",
      "Num attempts:  1\n",
      "Num attempts:  1\n",
      "Num attempts:  1\n",
      "Num attempts:  1\n",
      "Num attempts:  1\n",
      "Num attempts:  1\n",
      "Num attempts:  1\n",
      "Num attempts:  1\n",
      "Num attempts:  1\n",
      "Num attempts:  1\n",
      "Num attempts:  1\n",
      "Num attempts:  1\n",
      "Num attempts:  1\n",
      "Num attempts:  1\n",
      "Num attempts:  1\n",
      "Num attempts:  1\n",
      "Num attempts:  1\n",
      "Num attempts:  1\n",
      "Num attempts:  1\n",
      "Num attempts:  1\n",
      "Num attempts:  1\n",
      "Num attempts:  1\n",
      "Num attempts:  1\n",
      "Num attempts:  1\n",
      "Num attempts:  1\n",
      "Num attempts:  1\n",
      "Num attempts:  1\n",
      "Num attempts:  1\n",
      "Num attempts:  1\n",
      "Num attempts:  1\n",
      "Num attempts:  1\n",
      "Num attempts:  1\n",
      "Num attempts:  1\n",
      "Num attempts:  1\n",
      "Num attempts:  1\n",
      "Num attempts:  1\n",
      "Num attempts:  1\n",
      "Num attempts:  1\n",
      "Num attempts:  1\n",
      "Num attempts:  1\n",
      "Num attempts:  1\n",
      "Num attempts:  1\n",
      "Num attempts:  1\n",
      "Num attempts:  1\n",
      "Num attempts:  1\n",
      "Num attempts:  1\n",
      "Num attempts:  1\n",
      "Num attempts:  1\n",
      "Num attempts:  1\n",
      "Num attempts:  1\n",
      "Num attempts:  1\n",
      "Num attempts:  1\n",
      "Num attempts:  1\n",
      "Num attempts:  1\n",
      "Num attempts:  1\n",
      "Num attempts:  1\n",
      "Num attempts:  1\n",
      "Num attempts:  1\n",
      "Num attempts:  1\n",
      "Num attempts:  1\n",
      "Num attempts:  1\n",
      "Num attempts:  1\n",
      "Num attempts:  1\n",
      "Num attempts:  1\n",
      "Num attempts:  1\n",
      "Num attempts:  1\n",
      "Num attempts:  1\n",
      "Num attempts:  1\n",
      "Num attempts:  1\n",
      "Num attempts:  1\n",
      "Num attempts:  1\n",
      "Num attempts:  1\n",
      "Num attempts:  1\n",
      "Num attempts:  1\n",
      "Num attempts:  1\n",
      "Num attempts:  1\n",
      "Num attempts:  1\n",
      "Num attempts:  1\n",
      "Num attempts:  1\n",
      "Num attempts:  1\n",
      "Num attempts:  1\n",
      "Num attempts:  1\n",
      "Num attempts:  1\n",
      "Num attempts:  1\n",
      "Num attempts:  1\n",
      "Num attempts:  1\n",
      "Num attempts:  1\n",
      "Num attempts:  1\n",
      "Num attempts:  1\n",
      "Num attempts:  1\n",
      "Num attempts:  1\n",
      "Num attempts:  1\n",
      "Num attempts:  1\n",
      "Num attempts:  1\n",
      "Num attempts:  1\n",
      "Num attempts:  1\n",
      "Num attempts:  1\n",
      "Num attempts:  1\n",
      "Num attempts:  1\n",
      "Num attempts:  1\n",
      "Num attempts:  1\n",
      "Num attempts:  1\n",
      "Num attempts:  1\n",
      "Num attempts:  1\n",
      "Num attempts:  1\n",
      "Num attempts:  1\n",
      "Num attempts:  1\n"
     ]
    }
   ],
   "source": [
    "keypoints, flat_list = secFindScaleSpaceExtrema(gaussian_images, dog_images, num_intervals, sigma, image_border_width, cmp=cmp, refresh=np.vectorize(refresh))"
   ]
  },
  {
   "cell_type": "code",
   "execution_count": 43,
   "metadata": {},
   "outputs": [],
   "source": [
    "x = keypoints[0][0][0][0][0]"
   ]
  },
  {
   "cell_type": "code",
   "execution_count": 44,
   "metadata": {},
   "outputs": [
    {
     "data": {
      "text/plain": [
       "6.4308887918247875e-06"
      ]
     },
     "execution_count": 44,
     "metadata": {},
     "output_type": "execute_result"
    }
   ],
   "source": [
    "x.is_keypoint_present.decrypt(secret_key)[0]"
   ]
  },
  {
   "cell_type": "code",
   "execution_count": 45,
   "metadata": {},
   "outputs": [],
   "source": [
    "error_margin = 0.0001\n"
   ]
  },
  {
   "cell_type": "code",
   "execution_count": 46,
   "metadata": {},
   "outputs": [],
   "source": [
    "def iterimg(imgs):\n",
    "    for octave in range(num_octaves):\n",
    "        for i in range(len(imgs[octave])):\n",
    "            yield np.array(imgs[octave][i])"
   ]
  },
  {
   "cell_type": "code",
   "execution_count": 47,
   "metadata": {},
   "outputs": [
    {
     "data": {
      "image/png": "[encoded data removed]",
      "text/plain": [
       "<Figure size 640x480 with 1 Axes>"
      ]
     },
     "metadata": {},
     "output_type": "display_data"
    },
    {
     "data": {
      "text/plain": [
       "<Figure size 1000x1000 with 0 Axes>"
      ]
     },
     "metadata": {},
     "output_type": "display_data"
    },
    {
     "data": {
      "image/png": "[encoded data removed]",
      "text/plain": [
       "<Figure size 640x480 with 1 Axes>"
      ]
     },
     "metadata": {},
     "output_type": "display_data"
    },
    {
     "data": {
      "text/plain": [
       "<Figure size 1000x1000 with 0 Axes>"
      ]
     },
     "metadata": {},
     "output_type": "display_data"
    },
    {
     "data": {
      "image/png": "[encoded data removed]",
      "text/plain": [
       "<Figure size 640x480 with 1 Axes>"
      ]
     },
     "metadata": {},
     "output_type": "display_data"
    },
    {
     "data": {
      "text/plain": [
       "<Figure size 1000x1000 with 0 Axes>"
      ]
     },
     "metadata": {},
     "output_type": "display_data"
    },
    {
     "data": {
      "image/png": "[encoded data removed]",
      "text/plain": [
       "<Figure size 640x480 with 1 Axes>"
      ]
     },
     "metadata": {},
     "output_type": "display_data"
    },
    {
     "data": {
      "text/plain": [
       "<Figure size 1000x1000 with 0 Axes>"
      ]
     },
     "metadata": {},
     "output_type": "display_data"
    },
    {
     "data": {
      "image/png": "[encoded data removed]",
      "text/plain": [
       "<Figure size 640x480 with 1 Axes>"
      ]
     },
     "metadata": {},
     "output_type": "display_data"
    },
    {
     "data": {
      "text/plain": [
       "<Figure size 1000x1000 with 0 Axes>"
      ]
     },
     "metadata": {},
     "output_type": "display_data"
    },
    {
     "data": {
      "image/png": "[encoded data removed]",
      "text/plain": [
       "<Figure size 640x480 with 1 Axes>"
      ]
     },
     "metadata": {},
     "output_type": "display_data"
    },
    {
     "data": {
      "text/plain": [
       "<Figure size 1000x1000 with 0 Axes>"
      ]
     },
     "metadata": {},
     "output_type": "display_data"
    },
    {
     "data": {
      "image/png": "[encoded data removed]",
      "text/plain": [
       "<Figure size 640x480 with 1 Axes>"
      ]
     },
     "metadata": {},
     "output_type": "display_data"
    },
    {
     "data": {
      "text/plain": [
       "<Figure size 1000x1000 with 0 Axes>"
      ]
     },
     "metadata": {},
     "output_type": "display_data"
    },
    {
     "data": {
      "image/png": "[encoded data removed]",
      "text/plain": [
       "<Figure size 640x480 with 1 Axes>"
      ]
     },
     "metadata": {},
     "output_type": "display_data"
    },
    {
     "data": {
      "text/plain": [
       "<Figure size 1000x1000 with 0 Axes>"
      ]
     },
     "metadata": {},
     "output_type": "display_data"
    },
    {
     "data": {
      "image/png": "[encoded data removed]",
      "text/plain": [
       "<Figure size 640x480 with 1 Axes>"
      ]
     },
     "metadata": {},
     "output_type": "display_data"
    },
    {
     "data": {
      "text/plain": [
       "<Figure size 1000x1000 with 0 Axes>"
      ]
     },
     "metadata": {},
     "output_type": "display_data"
    }
   ],
   "source": [
    "for kp, img in zip(iterimg(keypoints), iterimg(gaussian_images)):\n",
    "    # print(kp.shape, (img).shape)\n",
    "    dec_img = dec(img)\n",
    "    for k in kp.flatten():\n",
    "        dec_img[k.i][k.j] *= 0 if k.is_keypoint_present.decrypt(secret_key)[0] > 0.5 else 1\n",
    "    plot_image(dec_img)\n"
   ]
  },
  {
   "cell_type": "code",
   "execution_count": null,
   "metadata": {},
   "outputs": [],
   "source": []
  }
 ],
 "metadata": {
  "kernelspec": {
   "display_name": "3.9.7",
   "language": "python",
   "name": "python3"
  },
  "language_info": {
   "codemirror_mode": {
    "name": "ipython",
    "version": 3
   },
   "file_extension": ".py",
   "mimetype": "text/x-python",
   "name": "python",
   "nbconvert_exporter": "python",
   "pygments_lexer": "ipython3",
   "version": "3.12.7"
  }
 },
 "nbformat": 4,
 "nbformat_minor": 2
}
