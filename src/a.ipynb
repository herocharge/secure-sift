{
 "cells": [
  {
   "cell_type": "code",
   "execution_count": null,
   "metadata": {},
   "outputs": [],
   "source": [
    "import tenseal as ts\n",
    "import numpy as np\n",
    "from time import time\n",
    "\n",
    "\n",
    "## Encryption Parameters\n",
    "\n",
    "# controls precision of the fractional part\n",
    "bits_scale = 26\n",
    "\n",
    "# Create TenSEAL context\n",
    "context = ts.context(\n",
    "    ts.SCHEME_TYPE.CKKS,\n",
    "    poly_modulus_degree=8192 * 2 ,\n",
    "    coeff_mod_bit_sizes=[31, bits_scale, bits_scale, bits_scale, bits_scale, bits_scale, bits_scale, 31]\n",
    ")\n",
    "\n",
    "# set the scale\n",
    "context.global_scale = pow(2, bits_scale)\n",
    "\n",
    "# galois keys are required to do ciphertext rotations\n",
    "context.generate_galois_keys()\n",
    "\n",
    "secret_key = context.secret_key()\n",
    "context.make_context_public()\n",
    "\n",
    "enc_vec = (ts.ckks_vector(context=context, vector=[10, 20, 30]))\n",
    "enc_vec2 = (ts.ckks_vector(context=context, vector=[0.2, 1.2, 0.004]))\n"
   ]
  },
  {
   "cell_type": "code",
   "execution_count": 6,
   "metadata": {},
   "outputs": [],
   "source": [
    "import cv2"
   ]
  },
  {
   "cell_type": "code",
   "execution_count": 5,
   "metadata": {},
   "outputs": [],
   "source": [
    "img = [[ts.ckks_vector(context=context, vector=[i+j]) for i in range(10)] for j in range(10)]\n",
    "img = np.array(img, dtype=ts.CKKSVector)\n"
   ]
  },
  {
   "cell_type": "code",
   "execution_count": 9,
   "metadata": {},
   "outputs": [
    {
     "ename": "error",
     "evalue": "OpenCV(4.10.0) :-1: error: (-5:Bad argument) in function 'GaussianBlur'\n> Overload resolution failed:\n>  - src data type = object is not supported\n>  - Expected Ptr<cv::UMat> for argument 'src'\n",
     "output_type": "error",
     "traceback": [
      "\u001b[0;31m---------------------------------------------------------------------------\u001b[0m",
      "\u001b[0;31merror\u001b[0m                                     Traceback (most recent call last)",
      "Cell \u001b[0;32mIn[9], line 1\u001b[0m\n\u001b[0;32m----> 1\u001b[0m \u001b[43mcv2\u001b[49m\u001b[38;5;241;43m.\u001b[39;49m\u001b[43mGaussianBlur\u001b[49m\u001b[43m(\u001b[49m\u001b[43mimg\u001b[49m\u001b[43m,\u001b[49m\u001b[43m \u001b[49m\u001b[38;5;241;43m3\u001b[39;49m\u001b[43m,\u001b[49m\u001b[43m \u001b[49m\u001b[38;5;241;43m3\u001b[39;49m\u001b[43m)\u001b[49m\n",
      "\u001b[0;31merror\u001b[0m: OpenCV(4.10.0) :-1: error: (-5:Bad argument) in function 'GaussianBlur'\n> Overload resolution failed:\n>  - src data type = object is not supported\n>  - Expected Ptr<cv::UMat> for argument 'src'\n"
     ]
    }
   ],
   "source": [
    "cv2.GaussianBlur(img, 3, 3)"
   ]
  },
  {
   "cell_type": "code",
   "execution_count": 4,
   "metadata": {},
   "outputs": [],
   "source": [
    "import math"
   ]
  },
  {
   "cell_type": "code",
   "execution_count": 2,
   "metadata": {},
   "outputs": [],
   "source": [
    "def f(x, n=10):\n",
    "    result = 0\n",
    "    sigma = 0.1\n",
    "    sub = 2\n",
    "    for k in range(n):\n",
    "        sign = (-1) ** k\n",
    "        coefficient = 1 / (math.factorial(k) * (sigma ** (k - sub)))\n",
    "        # coefficient = 1\n",
    "        term = ( (x)) ** (2 * k)\n",
    "        if isinstance(term, ts.CKKSVector):\n",
    "            print(k, sign, coefficient, term.decrypt(secret_key))\n",
    "        else:\n",
    "            print(k, sign, coefficient, term)\n",
    "        result += (sign * term) * coefficient\n",
    "    if isinstance(term, ts.CKKSVector):\n",
    "        print(result.decrypt(secret_key), 1/ (sigma ** sub))\n",
    "    else:\n",
    "        print(result, 1/ (sigma ** sub))\n",
    "    kk = 1/ (sigma ** sub)\n",
    "    return result * kk\n",
    "    "
   ]
  },
  {
   "cell_type": "code",
   "execution_count": 32,
   "metadata": {},
   "outputs": [],
   "source": [
    "def g(x, r, c = 0.01, depth=1):\n",
    "    k = (1/r)**2\n",
    "    k2 = 4 * k\n",
    "    a = (-(k * (x*x))) + 1\n",
    "    b = (-(k2 * (x*x))) + 1\n",
    "    for _ in range(depth):\n",
    "        a = (a + c)*(a + c)\n",
    "        b = (b + c)*(b + c)\n",
    "    return (a * b)"
   ]
  },
  {
   "cell_type": "code",
   "execution_count": 58,
   "metadata": {},
   "outputs": [
    {
     "data": {
      "text/plain": [
       "[0.8352059326714916]"
      ]
     },
     "execution_count": 58,
     "metadata": {},
     "output_type": "execute_result"
    }
   ],
   "source": [
    "e = (ts.ckks_vector(context=context, vector=[0.03]))\n",
    "d = g(e, 0.20000000000000007)\n",
    "d.decrypt(secret_key)"
   ]
  },
  {
   "cell_type": "code",
   "execution_count": null,
   "metadata": {},
   "outputs": [
    {
     "data": {
      "text/plain": [
       "0.9409"
      ]
     },
     "execution_count": 40,
     "metadata": {},
     "output_type": "execute_result"
    }
   ],
   "source": []
  },
  {
   "cell_type": "code",
   "execution_count": 76,
   "metadata": {},
   "outputs": [
    {
     "data": {
      "text/plain": [
       "<tenseal.tensors.ckksvector.CKKSVector at 0x7fd8b003f940>"
      ]
     },
     "execution_count": 76,
     "metadata": {},
     "output_type": "execute_result"
    }
   ],
   "source": [
    "e"
   ]
  },
  {
   "cell_type": "code",
   "execution_count": null,
   "metadata": {},
   "outputs": [],
   "source": [
    "e = (ts.ckks_vector(context=context, vector=[0.3]))\n",
    "\n"
   ]
  },
  {
   "cell_type": "code",
   "execution_count": 5,
   "metadata": {},
   "outputs": [
    {
     "name": "stdout",
     "output_type": "stream",
     "text": [
      "0 1 0.010000000000000002 1.0\n",
      "1 -1 0.1 0.16000000000000003\n",
      "2 1 0.5 0.025600000000000005\n",
      "3 -1 1.6666666666666665 0.0040960000000000015\n",
      "4 1 4.166666666666666 0.0006553600000000003\n",
      "5 -1 8.333333333333332 0.00010485760000000006\n",
      "0.001830186666666666 99.99999999999999\n"
     ]
    },
    {
     "data": {
      "text/plain": [
       "0.18301866666666658"
      ]
     },
     "execution_count": 5,
     "metadata": {},
     "output_type": "execute_result"
    }
   ],
   "source": [
    "f(0.4, 6)"
   ]
  },
  {
   "cell_type": "code",
   "execution_count": 9,
   "metadata": {},
   "outputs": [
    {
     "name": "stdout",
     "output_type": "stream",
     "text": [
      "0 1 0.010000000000000002 [1.0000000176730248]\n",
      "1 -1 0.1 [0.16000240515323563]\n",
      "2 1 0.5 [0.025602415989406237]\n",
      "3 -1 1.6666666666666665 [0.004096799775067086]\n",
      "4 1 4.166666666666666 [0.0006555575657043001]\n",
      "5 -1 8.333333333333332 [0.00010485320432664413]\n"
     ]
    },
    {
     "ename": "ValueError",
     "evalue": "scale out of bounds",
     "output_type": "error",
     "traceback": [
      "\u001b[0;31m---------------------------------------------------------------------------\u001b[0m",
      "\u001b[0;31mValueError\u001b[0m                                Traceback (most recent call last)",
      "Cell \u001b[0;32mIn[9], line 2\u001b[0m\n\u001b[1;32m      1\u001b[0m e \u001b[38;5;241m=\u001b[39m (ts\u001b[38;5;241m.\u001b[39mckks_vector(context\u001b[38;5;241m=\u001b[39mcontext, vector\u001b[38;5;241m=\u001b[39m[\u001b[38;5;241m0.4\u001b[39m]))\n\u001b[0;32m----> 2\u001b[0m d \u001b[38;5;241m=\u001b[39m \u001b[43mf\u001b[49m\u001b[43m(\u001b[49m\u001b[43me\u001b[49m\u001b[43m,\u001b[49m\u001b[43m \u001b[49m\u001b[38;5;241;43m6\u001b[39;49m\u001b[43m)\u001b[49m\n\u001b[1;32m      3\u001b[0m d\u001b[38;5;241m.\u001b[39mdecrypt(secret_key)\n",
      "Cell \u001b[0;32mIn[2], line 14\u001b[0m, in \u001b[0;36mf\u001b[0;34m(x, n)\u001b[0m\n\u001b[1;32m     12\u001b[0m     \u001b[38;5;28;01melse\u001b[39;00m:\n\u001b[1;32m     13\u001b[0m         \u001b[38;5;28mprint\u001b[39m(k, sign, coefficient, term)\n\u001b[0;32m---> 14\u001b[0m     result \u001b[38;5;241m+\u001b[39m\u001b[38;5;241m=\u001b[39m \u001b[43m(\u001b[49m\u001b[43msign\u001b[49m\u001b[43m \u001b[49m\u001b[38;5;241;43m*\u001b[39;49m\u001b[43m \u001b[49m\u001b[43mterm\u001b[49m\u001b[43m)\u001b[49m\u001b[43m \u001b[49m\u001b[38;5;241;43m*\u001b[39;49m\u001b[43m \u001b[49m\u001b[43mcoefficient\u001b[49m\n\u001b[1;32m     15\u001b[0m \u001b[38;5;28;01mif\u001b[39;00m \u001b[38;5;28misinstance\u001b[39m(term, ts\u001b[38;5;241m.\u001b[39mCKKSVector):\n\u001b[1;32m     16\u001b[0m     \u001b[38;5;28mprint\u001b[39m(result\u001b[38;5;241m.\u001b[39mdecrypt(secret_key), \u001b[38;5;241m1\u001b[39m\u001b[38;5;241m/\u001b[39m (sigma \u001b[38;5;241m*\u001b[39m\u001b[38;5;241m*\u001b[39m sub))\n",
      "File \u001b[0;32m~/.pyenv/versions/3.9.7/lib/python3.9/site-packages/tenseal/tensors/abstract_tensor.py:116\u001b[0m, in \u001b[0;36mAbstractTensor.__mul__\u001b[0;34m(self, other)\u001b[0m\n\u001b[1;32m    115\u001b[0m \u001b[38;5;28;01mdef\u001b[39;00m \u001b[38;5;21m__mul__\u001b[39m(\u001b[38;5;28mself\u001b[39m, other) \u001b[38;5;241m-\u001b[39m\u001b[38;5;241m>\u001b[39m \u001b[38;5;124m\"\u001b[39m\u001b[38;5;124mAbstractTensor\u001b[39m\u001b[38;5;124m\"\u001b[39m:\n\u001b[0;32m--> 116\u001b[0m     \u001b[38;5;28;01mreturn\u001b[39;00m \u001b[38;5;28;43mself\u001b[39;49m\u001b[38;5;241;43m.\u001b[39;49m\u001b[43mmul\u001b[49m\u001b[43m(\u001b[49m\u001b[43mother\u001b[49m\u001b[43m)\u001b[49m\n",
      "File \u001b[0;32m~/.pyenv/versions/3.9.7/lib/python3.9/site-packages/tenseal/tensors/ckksvector.py:102\u001b[0m, in \u001b[0;36mCKKSVector.mul\u001b[0;34m(self, other)\u001b[0m\n\u001b[1;32m    100\u001b[0m \u001b[38;5;28;01mdef\u001b[39;00m \u001b[38;5;21mmul\u001b[39m(\u001b[38;5;28mself\u001b[39m, other) \u001b[38;5;241m-\u001b[39m\u001b[38;5;241m>\u001b[39m \u001b[38;5;124m\"\u001b[39m\u001b[38;5;124mCKKSVector\u001b[39m\u001b[38;5;124m\"\u001b[39m:\n\u001b[1;32m    101\u001b[0m     other \u001b[38;5;241m=\u001b[39m \u001b[38;5;28mself\u001b[39m\u001b[38;5;241m.\u001b[39m_get_operand(other, dtype\u001b[38;5;241m=\u001b[39m\u001b[38;5;124m\"\u001b[39m\u001b[38;5;124mfloat\u001b[39m\u001b[38;5;124m\"\u001b[39m)\n\u001b[0;32m--> 102\u001b[0m     result \u001b[38;5;241m=\u001b[39m \u001b[38;5;28;43mself\u001b[39;49m\u001b[38;5;241;43m.\u001b[39;49m\u001b[43mdata\u001b[49m\u001b[43m \u001b[49m\u001b[38;5;241;43m*\u001b[39;49m\u001b[43m \u001b[49m\u001b[43mother\u001b[49m\n\u001b[1;32m    103\u001b[0m     \u001b[38;5;28;01mreturn\u001b[39;00m \u001b[38;5;28mself\u001b[39m\u001b[38;5;241m.\u001b[39m_wrap(result)\n",
      "\u001b[0;31mValueError\u001b[0m: scale out of bounds"
     ]
    }
   ],
   "source": [
    "e = (ts.ckks_vector(context=context, vector=[0.4]))\n",
    "d = f(e, 6)\n",
    "d.decrypt(secret_key)"
   ]
  },
  {
   "cell_type": "code",
   "execution_count": null,
   "metadata": {},
   "outputs": [
    {
     "data": {
      "text/plain": [
       "[0.3217318177658062]"
      ]
     },
     "execution_count": 12,
     "metadata": {},
     "output_type": "execute_result"
    }
   ],
   "source": []
  },
  {
   "cell_type": "code",
   "execution_count": 143,
   "metadata": {},
   "outputs": [
    {
     "data": {
      "text/plain": [
       "([-2.0067984285871137], [-0.020048525713246515], [99.99897943745498])"
      ]
     },
     "execution_count": 143,
     "metadata": {},
     "output_type": "execute_result"
    }
   ],
   "source": [
    "e1 = (ts.ckks_vector(context=context, vector=[-0.02]))\n",
    "e2 = (ts.ckks_vector(context=context, vector=[99.999]))\n",
    "e = e1 * e2\n",
    "e.decrypt(secret_key), e1.decrypt(secret_key), e2.decrypt(secret_key)"
   ]
  },
  {
   "cell_type": "code",
   "execution_count": 4,
   "metadata": {},
   "outputs": [
    {
     "data": {
      "text/plain": [
       "[<matplotlib.lines.Line2D at 0x7ff5dc6b8250>]"
      ]
     },
     "execution_count": 4,
     "metadata": {},
     "output_type": "execute_result"
    },
    {
     "data": {
      "image/png": "[encoded data removed]",
      "text/plain": [
       "<Figure size 640x480 with 1 Axes>"
      ]
     },
     "metadata": {},
     "output_type": "display_data"
    }
   ],
   "source": [
    "import matplotlib.pyplot as plt\n",
    "ls = [g(i, 1) for i in np.linspace(-1, 1, 100)]\n",
    "plt.plot(ls)"
   ]
  },
  {
   "cell_type": "code",
   "execution_count": 35,
   "metadata": {},
   "outputs": [
    {
     "data": {
      "text/plain": [
       "[<matplotlib.lines.Line2D at 0x7ff5e1a94850>]"
      ]
     },
     "execution_count": 35,
     "metadata": {},
     "output_type": "execute_result"
    },
    {
     "data": {
      "image/png": "[encoded data removed]",
      "text/plain": [
       "<Figure size 640x480 with 1 Axes>"
      ]
     },
     "metadata": {},
     "output_type": "display_data"
    }
   ],
   "source": [
    "import matplotlib.pyplot as plt\n",
    "ls = [g(ts.ckks_vector(context=context, vector=[i]), 1).decrypt(secret_key) for i in np.linspace(-1, 1, 100)]\n",
    "plt.plot(ls)\n"
   ]
  },
  {
   "cell_type": "code",
   "execution_count": 8,
   "metadata": {},
   "outputs": [
    {
     "name": "stdout",
     "output_type": "stream",
     "text": [
      "Collecting matplotlib\n",
      "  Downloading matplotlib-3.9.2-cp39-cp39-manylinux_2_17_x86_64.manylinux2014_x86_64.whl.metadata (11 kB)\n",
      "Collecting contourpy>=1.0.1 (from matplotlib)\n",
      "  Downloading contourpy-1.3.0-cp39-cp39-manylinux_2_17_x86_64.manylinux2014_x86_64.whl.metadata (5.4 kB)\n",
      "Collecting cycler>=0.10 (from matplotlib)\n",
      "  Downloading cycler-0.12.1-py3-none-any.whl.metadata (3.8 kB)\n",
      "Collecting fonttools>=4.22.0 (from matplotlib)\n",
      "  Downloading fonttools-4.55.0-cp39-cp39-manylinux_2_17_x86_64.manylinux2014_x86_64.whl.metadata (164 kB)\n",
      "Collecting kiwisolver>=1.3.1 (from matplotlib)\n",
      "  Downloading kiwisolver-1.4.7-cp39-cp39-manylinux_2_12_x86_64.manylinux2010_x86_64.whl.metadata (6.3 kB)\n",
      "Requirement already satisfied: numpy>=1.23 in /home/bhargav/.pyenv/versions/3.9.7/lib/python3.9/site-packages (from matplotlib) (2.0.2)\n",
      "Requirement already satisfied: packaging>=20.0 in /home/bhargav/.pyenv/versions/3.9.7/lib/python3.9/site-packages (from matplotlib) (24.1)\n",
      "Collecting pillow>=8 (from matplotlib)\n",
      "  Downloading pillow-11.0.0-cp39-cp39-manylinux_2_28_x86_64.whl.metadata (9.1 kB)\n",
      "Requirement already satisfied: pyparsing>=2.3.1 in /home/bhargav/.pyenv/versions/3.9.7/lib/python3.9/site-packages (from matplotlib) (3.1.4)\n",
      "Requirement already satisfied: python-dateutil>=2.7 in /home/bhargav/.pyenv/versions/3.9.7/lib/python3.9/site-packages (from matplotlib) (2.9.0.post0)\n",
      "Collecting importlib-resources>=3.2.0 (from matplotlib)\n",
      "  Using cached importlib_resources-6.4.5-py3-none-any.whl.metadata (4.0 kB)\n",
      "Requirement already satisfied: zipp>=3.1.0 in /home/bhargav/.pyenv/versions/3.9.7/lib/python3.9/site-packages (from importlib-resources>=3.2.0->matplotlib) (3.20.2)\n",
      "Requirement already satisfied: six>=1.5 in /home/bhargav/.pyenv/versions/3.9.7/lib/python3.9/site-packages (from python-dateutil>=2.7->matplotlib) (1.16.0)\n",
      "Downloading matplotlib-3.9.2-cp39-cp39-manylinux_2_17_x86_64.manylinux2014_x86_64.whl (8.3 MB)\n",
      "\u001b[2K   \u001b[38;2;114;156;31m━━━━━━━━━━━━━━━━━━━━━━━━━━━━━━━━━━━━━━━━\u001b[0m \u001b[32m8.3/8.3 MB\u001b[0m \u001b[31m5.9 MB/s\u001b[0m eta \u001b[36m0:00:00\u001b[0m[36m0:00:01\u001b[0m[36m0:00:01\u001b[0m:01\u001b[0m\n",
      "\u001b[?25hDownloading contourpy-1.3.0-cp39-cp39-manylinux_2_17_x86_64.manylinux2014_x86_64.whl (321 kB)\n",
      "Downloading cycler-0.12.1-py3-none-any.whl (8.3 kB)\n",
      "Downloading fonttools-4.55.0-cp39-cp39-manylinux_2_17_x86_64.manylinux2014_x86_64.whl (4.6 MB)\n",
      "\u001b[2K   \u001b[38;2;114;156;31m━━━━━━━━━━━━━━━━━━━━━━━━━━━━━━━━━━━━━━━━\u001b[0m \u001b[32m4.6/4.6 MB\u001b[0m \u001b[31m5.8 MB/s\u001b[0m eta \u001b[36m0:00:00\u001b[0m MB/s\u001b[0m eta \u001b[36m0:00:01\u001b[0m\n",
      "\u001b[?25hUsing cached importlib_resources-6.4.5-py3-none-any.whl (36 kB)\n",
      "Downloading kiwisolver-1.4.7-cp39-cp39-manylinux_2_12_x86_64.manylinux2010_x86_64.whl (1.6 MB)\n",
      "\u001b[2K   \u001b[38;2;114;156;31m━━━━━━━━━━━━━━━━━━━━━━━━━━━━━━━━━━━━━━━━\u001b[0m \u001b[32m1.6/1.6 MB\u001b[0m \u001b[31m5.7 MB/s\u001b[0m eta \u001b[36m0:00:00\u001b[0m MB/s\u001b[0m eta \u001b[36m0:00:01\u001b[0m\n",
      "\u001b[?25hDownloading pillow-11.0.0-cp39-cp39-manylinux_2_28_x86_64.whl (4.4 MB)\n",
      "\u001b[2K   \u001b[38;2;114;156;31m━━━━━━━━━━━━━━━━━━━━━━━━━━━━━━━━━━━━━━━━\u001b[0m \u001b[32m4.4/4.4 MB\u001b[0m \u001b[31m5.8 MB/s\u001b[0m eta \u001b[36m0:00:00\u001b[0m MB/s\u001b[0m eta \u001b[36m0:00:01\u001b[0m:01\u001b[0m\n",
      "\u001b[?25hInstalling collected packages: pillow, kiwisolver, importlib-resources, fonttools, cycler, contourpy, matplotlib\n",
      "Successfully installed contourpy-1.3.0 cycler-0.12.1 fonttools-4.55.0 importlib-resources-6.4.5 kiwisolver-1.4.7 matplotlib-3.9.2 pillow-11.0.0\n",
      "\n",
      "\u001b[1m[\u001b[0m\u001b[34;49mnotice\u001b[0m\u001b[1;39;49m]\u001b[0m\u001b[39;49m A new release of pip is available: \u001b[0m\u001b[31;49m24.2\u001b[0m\u001b[39;49m -> \u001b[0m\u001b[32;49m24.3.1\u001b[0m\n",
      "\u001b[1m[\u001b[0m\u001b[34;49mnotice\u001b[0m\u001b[1;39;49m]\u001b[0m\u001b[39;49m To update, run: \u001b[0m\u001b[32;49mpip install --upgrade pip\u001b[0m\n"
     ]
    }
   ],
   "source": [
    "!pip install matplotlib"
   ]
  },
  {
   "cell_type": "code",
   "execution_count": 66,
   "metadata": {},
   "outputs": [],
   "source": [
    "def binni(x, a, b, n):\n",
    "    hist = [0] * n\n",
    "    samples = np.linspace(a, b, n+1)\n",
    "    for i, (ai, bi) in enumerate(zip(samples[:-1], samples[1:])):\n",
    "        print(ai, bi, bi-ai)\n",
    "        mid = (ai + bi)/2\n",
    "        print((x-mid).decrypt(secret_key))\n",
    "        hist[i] = g(x - mid, b - a, c=0.00001, depth=3)\n",
    "    return hist"
   ]
  },
  {
   "cell_type": "code",
   "execution_count": null,
   "metadata": {},
   "outputs": [
    {
     "name": "stdout",
     "output_type": "stream",
     "text": [
      "0.0 10.0 10.0\n",
      "[120.00003721242163]\n",
      "10.0 20.0 10.0\n",
      "[110.00003721242163]\n",
      "20.0 30.0 10.0\n",
      "[100.00003721242163]\n",
      "30.0 40.0 10.0\n",
      "[90.00003721242163]\n",
      "40.0 50.0 10.0\n",
      "[80.00003721242163]\n",
      "50.0 60.0 10.0\n",
      "[70.00003721242163]\n",
      "60.0 70.0 10.0\n",
      "[60.00003721242162]\n",
      "70.0 80.0 10.0\n",
      "[50.00003721242162]\n",
      "80.0 90.0 10.0\n",
      "[40.00003721242162]\n",
      "90.0 100.0 10.0\n",
      "[30.000037212421617]\n",
      "100.0 110.0 10.0\n",
      "[20.000037212421617]\n",
      "110.0 120.0 10.0\n",
      "[10.000037212421619]\n",
      "120.0 130.0 10.0\n",
      "[3.721242161869377e-05]\n",
      "130.0 140.0 10.0\n",
      "[-9.999962787578381]\n",
      "140.0 150.0 10.0\n",
      "[-19.999962787578383]\n",
      "150.0 160.0 10.0\n",
      "[-29.999962787578383]\n",
      "160.0 170.0 10.0\n",
      "[-39.99996278757838]\n",
      "170.0 180.0 10.0\n",
      "[-49.99996278757838]\n",
      "180.0 190.0 10.0\n",
      "[-59.99996278757838]\n",
      "190.0 200.0 10.0\n",
      "[-69.99996278757837]\n",
      "200.0 210.0 10.0\n",
      "[-79.99996278757837]\n",
      "210.0 220.0 10.0\n",
      "[-89.99996278757837]\n",
      "220.0 230.0 10.0\n",
      "[-99.99996278757837]\n",
      "230.0 240.0 10.0\n",
      "[-109.99996278757837]\n",
      "240.0 250.0 10.0\n",
      "[-119.99996278757837]\n",
      "250.0 260.0 10.0\n",
      "[-129.9999627875784]\n",
      "260.0 270.0 10.0\n",
      "[-139.9999627875784]\n",
      "270.0 280.0 10.0\n",
      "[-149.9999627875784]\n",
      "280.0 290.0 10.0\n",
      "[-159.9999627875784]\n",
      "290.0 300.0 10.0\n",
      "[-169.9999627875784]\n",
      "300.0 310.0 10.0\n",
      "[-179.9999627875784]\n",
      "310.0 320.0 10.0\n",
      "[-189.9999627875784]\n",
      "320.0 330.0 10.0\n",
      "[-199.9999627875784]\n",
      "330.0 340.0 10.0\n",
      "[-209.9999627875784]\n",
      "340.0 350.0 10.0\n",
      "[-219.9999627875784]\n",
      "350.0 360.0 10.0\n",
      "[-229.9999627875784]\n"
     ]
    },
    {
     "data": {
      "text/plain": [
       "[[0.004079018122937242],\n",
       " [0.01262939032266846],\n",
       " [0.031886838918805664],\n",
       " [0.06978397803224866],\n",
       " [0.13461840052603063],\n",
       " [0.23297318512025142],\n",
       " [0.36720488114195377],\n",
       " [0.5327462790944363],\n",
       " [0.7153551003322535],\n",
       " [0.8943687574680328],\n",
       " [1.047626237783564],\n",
       " [1.1505893248179335],\n",
       " [1.1898021020162148],\n",
       " [1.1505982503550995],\n",
       " [1.047377700771095],\n",
       " [0.8966216197389651],\n",
       " [0.7149102839517728],\n",
       " [0.5322583886098339],\n",
       " [0.3672566520690302],\n",
       " [0.2327980450041415],\n",
       " [0.13461731530269064],\n",
       " [0.06984950127933579],\n",
       " [0.03189662566844878],\n",
       " [0.012522895254895238],\n",
       " [0.003986736471846859],\n",
       " [0.0009832614743579145],\n",
       " [0.00012745284345481552],\n",
       " [2.7263636721812197e-05],\n",
       " [-0.00011857330784686972],\n",
       " [-1.754659024677017e-05],\n",
       " [-0.00011321893611438962],\n",
       " [3.328536895470616e-05],\n",
       " [-3.2219532796893624e-05],\n",
       " [6.854351619425536e-05],\n",
       " [0.00010979874614339556],\n",
       " [0.00045620240611495954]]"
      ]
     },
     "execution_count": 67,
     "metadata": {},
     "output_type": "execute_result"
    }
   ],
   "source": [
    "hist = binni(ts.ckks_vector(context=context, vector=[125]), 0, 360, 36)\n",
    "[h.decrypt(secret_key) for h in hist]\n",
    "# hist"
   ]
  }
 ],
 "metadata": {
  "kernelspec": {
   "display_name": "Python 3",
   "language": "python",
   "name": "python3"
  },
  "language_info": {
   "codemirror_mode": {
    "name": "ipython",
    "version": 3
   },
   "file_extension": ".py",
   "mimetype": "text/x-python",
   "name": "python",
   "nbconvert_exporter": "python",
   "pygments_lexer": "ipython3",
   "version": "3.9.7"
  }
 },
 "nbformat": 4,
 "nbformat_minor": 2
}
